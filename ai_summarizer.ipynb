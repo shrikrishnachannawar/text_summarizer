{
  "nbformat": 4,
  "nbformat_minor": 0,
  "metadata": {
    "colab": {
      "provenance": [],
      "gpuType": "T4",
      "authorship_tag": "ABX9TyMTkzt4Ve22G6mxP3eTL+Ew",
      "include_colab_link": true
    },
    "kernelspec": {
      "name": "python3",
      "display_name": "Python 3"
    },
    "language_info": {
      "name": "python"
    },
    "accelerator": "GPU",
    "widgets": {
      "application/vnd.jupyter.widget-state+json": {
        "49adef1d617b4577ae3c1b4fda9ae97f": {
          "model_module": "@jupyter-widgets/controls",
          "model_name": "HBoxModel",
          "model_module_version": "1.5.0",
          "state": {
            "_dom_classes": [],
            "_model_module": "@jupyter-widgets/controls",
            "_model_module_version": "1.5.0",
            "_model_name": "HBoxModel",
            "_view_count": null,
            "_view_module": "@jupyter-widgets/controls",
            "_view_module_version": "1.5.0",
            "_view_name": "HBoxView",
            "box_style": "",
            "children": [
              "IPY_MODEL_1fe0c6d75b394ad285294f25f88d6d11",
              "IPY_MODEL_551530ff164049688ada8e3c88cf5243",
              "IPY_MODEL_884aec910f0446ed9b98e565322b1234"
            ],
            "layout": "IPY_MODEL_658b597213614092ac23d25d6fb3ff1e"
          }
        },
        "1fe0c6d75b394ad285294f25f88d6d11": {
          "model_module": "@jupyter-widgets/controls",
          "model_name": "HTMLModel",
          "model_module_version": "1.5.0",
          "state": {
            "_dom_classes": [],
            "_model_module": "@jupyter-widgets/controls",
            "_model_module_version": "1.5.0",
            "_model_name": "HTMLModel",
            "_view_count": null,
            "_view_module": "@jupyter-widgets/controls",
            "_view_module_version": "1.5.0",
            "_view_name": "HTMLView",
            "description": "",
            "description_tooltip": null,
            "layout": "IPY_MODEL_876d4a636ea54864a73d1d6140bee13b",
            "placeholder": "​",
            "style": "IPY_MODEL_8d49433b5402439e962ad49d55e5795d",
            "value": "config.json: 100%"
          }
        },
        "551530ff164049688ada8e3c88cf5243": {
          "model_module": "@jupyter-widgets/controls",
          "model_name": "FloatProgressModel",
          "model_module_version": "1.5.0",
          "state": {
            "_dom_classes": [],
            "_model_module": "@jupyter-widgets/controls",
            "_model_module_version": "1.5.0",
            "_model_name": "FloatProgressModel",
            "_view_count": null,
            "_view_module": "@jupyter-widgets/controls",
            "_view_module_version": "1.5.0",
            "_view_name": "ProgressView",
            "bar_style": "success",
            "description": "",
            "description_tooltip": null,
            "layout": "IPY_MODEL_6b37bb1c9a304a62bcb58806f767f371",
            "max": 1802,
            "min": 0,
            "orientation": "horizontal",
            "style": "IPY_MODEL_da3a95e10717426380d552650db3018f",
            "value": 1802
          }
        },
        "884aec910f0446ed9b98e565322b1234": {
          "model_module": "@jupyter-widgets/controls",
          "model_name": "HTMLModel",
          "model_module_version": "1.5.0",
          "state": {
            "_dom_classes": [],
            "_model_module": "@jupyter-widgets/controls",
            "_model_module_version": "1.5.0",
            "_model_name": "HTMLModel",
            "_view_count": null,
            "_view_module": "@jupyter-widgets/controls",
            "_view_module_version": "1.5.0",
            "_view_name": "HTMLView",
            "description": "",
            "description_tooltip": null,
            "layout": "IPY_MODEL_ad63c22d2f8d4147b74ab1f376edf22d",
            "placeholder": "​",
            "style": "IPY_MODEL_cfaf178cad374b939dd38699a3c268ab",
            "value": " 1.80k/1.80k [00:00&lt;00:00, 110kB/s]"
          }
        },
        "658b597213614092ac23d25d6fb3ff1e": {
          "model_module": "@jupyter-widgets/base",
          "model_name": "LayoutModel",
          "model_module_version": "1.2.0",
          "state": {
            "_model_module": "@jupyter-widgets/base",
            "_model_module_version": "1.2.0",
            "_model_name": "LayoutModel",
            "_view_count": null,
            "_view_module": "@jupyter-widgets/base",
            "_view_module_version": "1.2.0",
            "_view_name": "LayoutView",
            "align_content": null,
            "align_items": null,
            "align_self": null,
            "border": null,
            "bottom": null,
            "display": null,
            "flex": null,
            "flex_flow": null,
            "grid_area": null,
            "grid_auto_columns": null,
            "grid_auto_flow": null,
            "grid_auto_rows": null,
            "grid_column": null,
            "grid_gap": null,
            "grid_row": null,
            "grid_template_areas": null,
            "grid_template_columns": null,
            "grid_template_rows": null,
            "height": null,
            "justify_content": null,
            "justify_items": null,
            "left": null,
            "margin": null,
            "max_height": null,
            "max_width": null,
            "min_height": null,
            "min_width": null,
            "object_fit": null,
            "object_position": null,
            "order": null,
            "overflow": null,
            "overflow_x": null,
            "overflow_y": null,
            "padding": null,
            "right": null,
            "top": null,
            "visibility": null,
            "width": null
          }
        },
        "876d4a636ea54864a73d1d6140bee13b": {
          "model_module": "@jupyter-widgets/base",
          "model_name": "LayoutModel",
          "model_module_version": "1.2.0",
          "state": {
            "_model_module": "@jupyter-widgets/base",
            "_model_module_version": "1.2.0",
            "_model_name": "LayoutModel",
            "_view_count": null,
            "_view_module": "@jupyter-widgets/base",
            "_view_module_version": "1.2.0",
            "_view_name": "LayoutView",
            "align_content": null,
            "align_items": null,
            "align_self": null,
            "border": null,
            "bottom": null,
            "display": null,
            "flex": null,
            "flex_flow": null,
            "grid_area": null,
            "grid_auto_columns": null,
            "grid_auto_flow": null,
            "grid_auto_rows": null,
            "grid_column": null,
            "grid_gap": null,
            "grid_row": null,
            "grid_template_areas": null,
            "grid_template_columns": null,
            "grid_template_rows": null,
            "height": null,
            "justify_content": null,
            "justify_items": null,
            "left": null,
            "margin": null,
            "max_height": null,
            "max_width": null,
            "min_height": null,
            "min_width": null,
            "object_fit": null,
            "object_position": null,
            "order": null,
            "overflow": null,
            "overflow_x": null,
            "overflow_y": null,
            "padding": null,
            "right": null,
            "top": null,
            "visibility": null,
            "width": null
          }
        },
        "8d49433b5402439e962ad49d55e5795d": {
          "model_module": "@jupyter-widgets/controls",
          "model_name": "DescriptionStyleModel",
          "model_module_version": "1.5.0",
          "state": {
            "_model_module": "@jupyter-widgets/controls",
            "_model_module_version": "1.5.0",
            "_model_name": "DescriptionStyleModel",
            "_view_count": null,
            "_view_module": "@jupyter-widgets/base",
            "_view_module_version": "1.2.0",
            "_view_name": "StyleView",
            "description_width": ""
          }
        },
        "6b37bb1c9a304a62bcb58806f767f371": {
          "model_module": "@jupyter-widgets/base",
          "model_name": "LayoutModel",
          "model_module_version": "1.2.0",
          "state": {
            "_model_module": "@jupyter-widgets/base",
            "_model_module_version": "1.2.0",
            "_model_name": "LayoutModel",
            "_view_count": null,
            "_view_module": "@jupyter-widgets/base",
            "_view_module_version": "1.2.0",
            "_view_name": "LayoutView",
            "align_content": null,
            "align_items": null,
            "align_self": null,
            "border": null,
            "bottom": null,
            "display": null,
            "flex": null,
            "flex_flow": null,
            "grid_area": null,
            "grid_auto_columns": null,
            "grid_auto_flow": null,
            "grid_auto_rows": null,
            "grid_column": null,
            "grid_gap": null,
            "grid_row": null,
            "grid_template_areas": null,
            "grid_template_columns": null,
            "grid_template_rows": null,
            "height": null,
            "justify_content": null,
            "justify_items": null,
            "left": null,
            "margin": null,
            "max_height": null,
            "max_width": null,
            "min_height": null,
            "min_width": null,
            "object_fit": null,
            "object_position": null,
            "order": null,
            "overflow": null,
            "overflow_x": null,
            "overflow_y": null,
            "padding": null,
            "right": null,
            "top": null,
            "visibility": null,
            "width": null
          }
        },
        "da3a95e10717426380d552650db3018f": {
          "model_module": "@jupyter-widgets/controls",
          "model_name": "ProgressStyleModel",
          "model_module_version": "1.5.0",
          "state": {
            "_model_module": "@jupyter-widgets/controls",
            "_model_module_version": "1.5.0",
            "_model_name": "ProgressStyleModel",
            "_view_count": null,
            "_view_module": "@jupyter-widgets/base",
            "_view_module_version": "1.2.0",
            "_view_name": "StyleView",
            "bar_color": null,
            "description_width": ""
          }
        },
        "ad63c22d2f8d4147b74ab1f376edf22d": {
          "model_module": "@jupyter-widgets/base",
          "model_name": "LayoutModel",
          "model_module_version": "1.2.0",
          "state": {
            "_model_module": "@jupyter-widgets/base",
            "_model_module_version": "1.2.0",
            "_model_name": "LayoutModel",
            "_view_count": null,
            "_view_module": "@jupyter-widgets/base",
            "_view_module_version": "1.2.0",
            "_view_name": "LayoutView",
            "align_content": null,
            "align_items": null,
            "align_self": null,
            "border": null,
            "bottom": null,
            "display": null,
            "flex": null,
            "flex_flow": null,
            "grid_area": null,
            "grid_auto_columns": null,
            "grid_auto_flow": null,
            "grid_auto_rows": null,
            "grid_column": null,
            "grid_gap": null,
            "grid_row": null,
            "grid_template_areas": null,
            "grid_template_columns": null,
            "grid_template_rows": null,
            "height": null,
            "justify_content": null,
            "justify_items": null,
            "left": null,
            "margin": null,
            "max_height": null,
            "max_width": null,
            "min_height": null,
            "min_width": null,
            "object_fit": null,
            "object_position": null,
            "order": null,
            "overflow": null,
            "overflow_x": null,
            "overflow_y": null,
            "padding": null,
            "right": null,
            "top": null,
            "visibility": null,
            "width": null
          }
        },
        "cfaf178cad374b939dd38699a3c268ab": {
          "model_module": "@jupyter-widgets/controls",
          "model_name": "DescriptionStyleModel",
          "model_module_version": "1.5.0",
          "state": {
            "_model_module": "@jupyter-widgets/controls",
            "_model_module_version": "1.5.0",
            "_model_name": "DescriptionStyleModel",
            "_view_count": null,
            "_view_module": "@jupyter-widgets/base",
            "_view_module_version": "1.2.0",
            "_view_name": "StyleView",
            "description_width": ""
          }
        },
        "d9f10c0f9cf3458483b2112470c5f17c": {
          "model_module": "@jupyter-widgets/controls",
          "model_name": "HBoxModel",
          "model_module_version": "1.5.0",
          "state": {
            "_dom_classes": [],
            "_model_module": "@jupyter-widgets/controls",
            "_model_module_version": "1.5.0",
            "_model_name": "HBoxModel",
            "_view_count": null,
            "_view_module": "@jupyter-widgets/controls",
            "_view_module_version": "1.5.0",
            "_view_name": "HBoxView",
            "box_style": "",
            "children": [
              "IPY_MODEL_8e19f07d1e8d4e70a7fbf1561b7c2804",
              "IPY_MODEL_11b93abf29ec4f22955b3dd6a61f6d4e",
              "IPY_MODEL_a80b5b4730f44fc4b48bc580024412e7"
            ],
            "layout": "IPY_MODEL_f0ad7f51c6dc4cc1b7864d7a0800f5c4"
          }
        },
        "8e19f07d1e8d4e70a7fbf1561b7c2804": {
          "model_module": "@jupyter-widgets/controls",
          "model_name": "HTMLModel",
          "model_module_version": "1.5.0",
          "state": {
            "_dom_classes": [],
            "_model_module": "@jupyter-widgets/controls",
            "_model_module_version": "1.5.0",
            "_model_name": "HTMLModel",
            "_view_count": null,
            "_view_module": "@jupyter-widgets/controls",
            "_view_module_version": "1.5.0",
            "_view_name": "HTMLView",
            "description": "",
            "description_tooltip": null,
            "layout": "IPY_MODEL_93e239b9a5144d88bb17e1ba4c63f4fb",
            "placeholder": "​",
            "style": "IPY_MODEL_34cb45ff628b487b8126c7ca47a4df7e",
            "value": "pytorch_model.bin: 100%"
          }
        },
        "11b93abf29ec4f22955b3dd6a61f6d4e": {
          "model_module": "@jupyter-widgets/controls",
          "model_name": "FloatProgressModel",
          "model_module_version": "1.5.0",
          "state": {
            "_dom_classes": [],
            "_model_module": "@jupyter-widgets/controls",
            "_model_module_version": "1.5.0",
            "_model_name": "FloatProgressModel",
            "_view_count": null,
            "_view_module": "@jupyter-widgets/controls",
            "_view_module_version": "1.5.0",
            "_view_name": "ProgressView",
            "bar_style": "success",
            "description": "",
            "description_tooltip": null,
            "layout": "IPY_MODEL_292b3d7e8e4c4b5f854ac4065c1d7a62",
            "max": 1222317369,
            "min": 0,
            "orientation": "horizontal",
            "style": "IPY_MODEL_69d75b520e464d4fae92596d3ddca1ee",
            "value": 1222317369
          }
        },
        "a80b5b4730f44fc4b48bc580024412e7": {
          "model_module": "@jupyter-widgets/controls",
          "model_name": "HTMLModel",
          "model_module_version": "1.5.0",
          "state": {
            "_dom_classes": [],
            "_model_module": "@jupyter-widgets/controls",
            "_model_module_version": "1.5.0",
            "_model_name": "HTMLModel",
            "_view_count": null,
            "_view_module": "@jupyter-widgets/controls",
            "_view_module_version": "1.5.0",
            "_view_name": "HTMLView",
            "description": "",
            "description_tooltip": null,
            "layout": "IPY_MODEL_32afe4f9e9fe4fa1ac65cce234a84d6c",
            "placeholder": "​",
            "style": "IPY_MODEL_5fdf5b12ffc2423883b88858e1eb3c25",
            "value": " 1.22G/1.22G [00:07&lt;00:00, 268MB/s]"
          }
        },
        "f0ad7f51c6dc4cc1b7864d7a0800f5c4": {
          "model_module": "@jupyter-widgets/base",
          "model_name": "LayoutModel",
          "model_module_version": "1.2.0",
          "state": {
            "_model_module": "@jupyter-widgets/base",
            "_model_module_version": "1.2.0",
            "_model_name": "LayoutModel",
            "_view_count": null,
            "_view_module": "@jupyter-widgets/base",
            "_view_module_version": "1.2.0",
            "_view_name": "LayoutView",
            "align_content": null,
            "align_items": null,
            "align_self": null,
            "border": null,
            "bottom": null,
            "display": null,
            "flex": null,
            "flex_flow": null,
            "grid_area": null,
            "grid_auto_columns": null,
            "grid_auto_flow": null,
            "grid_auto_rows": null,
            "grid_column": null,
            "grid_gap": null,
            "grid_row": null,
            "grid_template_areas": null,
            "grid_template_columns": null,
            "grid_template_rows": null,
            "height": null,
            "justify_content": null,
            "justify_items": null,
            "left": null,
            "margin": null,
            "max_height": null,
            "max_width": null,
            "min_height": null,
            "min_width": null,
            "object_fit": null,
            "object_position": null,
            "order": null,
            "overflow": null,
            "overflow_x": null,
            "overflow_y": null,
            "padding": null,
            "right": null,
            "top": null,
            "visibility": null,
            "width": null
          }
        },
        "93e239b9a5144d88bb17e1ba4c63f4fb": {
          "model_module": "@jupyter-widgets/base",
          "model_name": "LayoutModel",
          "model_module_version": "1.2.0",
          "state": {
            "_model_module": "@jupyter-widgets/base",
            "_model_module_version": "1.2.0",
            "_model_name": "LayoutModel",
            "_view_count": null,
            "_view_module": "@jupyter-widgets/base",
            "_view_module_version": "1.2.0",
            "_view_name": "LayoutView",
            "align_content": null,
            "align_items": null,
            "align_self": null,
            "border": null,
            "bottom": null,
            "display": null,
            "flex": null,
            "flex_flow": null,
            "grid_area": null,
            "grid_auto_columns": null,
            "grid_auto_flow": null,
            "grid_auto_rows": null,
            "grid_column": null,
            "grid_gap": null,
            "grid_row": null,
            "grid_template_areas": null,
            "grid_template_columns": null,
            "grid_template_rows": null,
            "height": null,
            "justify_content": null,
            "justify_items": null,
            "left": null,
            "margin": null,
            "max_height": null,
            "max_width": null,
            "min_height": null,
            "min_width": null,
            "object_fit": null,
            "object_position": null,
            "order": null,
            "overflow": null,
            "overflow_x": null,
            "overflow_y": null,
            "padding": null,
            "right": null,
            "top": null,
            "visibility": null,
            "width": null
          }
        },
        "34cb45ff628b487b8126c7ca47a4df7e": {
          "model_module": "@jupyter-widgets/controls",
          "model_name": "DescriptionStyleModel",
          "model_module_version": "1.5.0",
          "state": {
            "_model_module": "@jupyter-widgets/controls",
            "_model_module_version": "1.5.0",
            "_model_name": "DescriptionStyleModel",
            "_view_count": null,
            "_view_module": "@jupyter-widgets/base",
            "_view_module_version": "1.2.0",
            "_view_name": "StyleView",
            "description_width": ""
          }
        },
        "292b3d7e8e4c4b5f854ac4065c1d7a62": {
          "model_module": "@jupyter-widgets/base",
          "model_name": "LayoutModel",
          "model_module_version": "1.2.0",
          "state": {
            "_model_module": "@jupyter-widgets/base",
            "_model_module_version": "1.2.0",
            "_model_name": "LayoutModel",
            "_view_count": null,
            "_view_module": "@jupyter-widgets/base",
            "_view_module_version": "1.2.0",
            "_view_name": "LayoutView",
            "align_content": null,
            "align_items": null,
            "align_self": null,
            "border": null,
            "bottom": null,
            "display": null,
            "flex": null,
            "flex_flow": null,
            "grid_area": null,
            "grid_auto_columns": null,
            "grid_auto_flow": null,
            "grid_auto_rows": null,
            "grid_column": null,
            "grid_gap": null,
            "grid_row": null,
            "grid_template_areas": null,
            "grid_template_columns": null,
            "grid_template_rows": null,
            "height": null,
            "justify_content": null,
            "justify_items": null,
            "left": null,
            "margin": null,
            "max_height": null,
            "max_width": null,
            "min_height": null,
            "min_width": null,
            "object_fit": null,
            "object_position": null,
            "order": null,
            "overflow": null,
            "overflow_x": null,
            "overflow_y": null,
            "padding": null,
            "right": null,
            "top": null,
            "visibility": null,
            "width": null
          }
        },
        "69d75b520e464d4fae92596d3ddca1ee": {
          "model_module": "@jupyter-widgets/controls",
          "model_name": "ProgressStyleModel",
          "model_module_version": "1.5.0",
          "state": {
            "_model_module": "@jupyter-widgets/controls",
            "_model_module_version": "1.5.0",
            "_model_name": "ProgressStyleModel",
            "_view_count": null,
            "_view_module": "@jupyter-widgets/base",
            "_view_module_version": "1.2.0",
            "_view_name": "StyleView",
            "bar_color": null,
            "description_width": ""
          }
        },
        "32afe4f9e9fe4fa1ac65cce234a84d6c": {
          "model_module": "@jupyter-widgets/base",
          "model_name": "LayoutModel",
          "model_module_version": "1.2.0",
          "state": {
            "_model_module": "@jupyter-widgets/base",
            "_model_module_version": "1.2.0",
            "_model_name": "LayoutModel",
            "_view_count": null,
            "_view_module": "@jupyter-widgets/base",
            "_view_module_version": "1.2.0",
            "_view_name": "LayoutView",
            "align_content": null,
            "align_items": null,
            "align_self": null,
            "border": null,
            "bottom": null,
            "display": null,
            "flex": null,
            "flex_flow": null,
            "grid_area": null,
            "grid_auto_columns": null,
            "grid_auto_flow": null,
            "grid_auto_rows": null,
            "grid_column": null,
            "grid_gap": null,
            "grid_row": null,
            "grid_template_areas": null,
            "grid_template_columns": null,
            "grid_template_rows": null,
            "height": null,
            "justify_content": null,
            "justify_items": null,
            "left": null,
            "margin": null,
            "max_height": null,
            "max_width": null,
            "min_height": null,
            "min_width": null,
            "object_fit": null,
            "object_position": null,
            "order": null,
            "overflow": null,
            "overflow_x": null,
            "overflow_y": null,
            "padding": null,
            "right": null,
            "top": null,
            "visibility": null,
            "width": null
          }
        },
        "5fdf5b12ffc2423883b88858e1eb3c25": {
          "model_module": "@jupyter-widgets/controls",
          "model_name": "DescriptionStyleModel",
          "model_module_version": "1.5.0",
          "state": {
            "_model_module": "@jupyter-widgets/controls",
            "_model_module_version": "1.5.0",
            "_model_name": "DescriptionStyleModel",
            "_view_count": null,
            "_view_module": "@jupyter-widgets/base",
            "_view_module_version": "1.2.0",
            "_view_name": "StyleView",
            "description_width": ""
          }
        },
        "b015d239f0144458847e6fe6c32b0b23": {
          "model_module": "@jupyter-widgets/controls",
          "model_name": "HBoxModel",
          "model_module_version": "1.5.0",
          "state": {
            "_dom_classes": [],
            "_model_module": "@jupyter-widgets/controls",
            "_model_module_version": "1.5.0",
            "_model_name": "HBoxModel",
            "_view_count": null,
            "_view_module": "@jupyter-widgets/controls",
            "_view_module_version": "1.5.0",
            "_view_name": "HBoxView",
            "box_style": "",
            "children": [
              "IPY_MODEL_372c2e32514e4a9887b07bd01caeb9bd",
              "IPY_MODEL_ac075d8389b7423eb9927a0c81c20af1",
              "IPY_MODEL_ace807e92c2740dba352374ccff33f32"
            ],
            "layout": "IPY_MODEL_f4680be1cd4d4bd18c884afa41dde97b"
          }
        },
        "372c2e32514e4a9887b07bd01caeb9bd": {
          "model_module": "@jupyter-widgets/controls",
          "model_name": "HTMLModel",
          "model_module_version": "1.5.0",
          "state": {
            "_dom_classes": [],
            "_model_module": "@jupyter-widgets/controls",
            "_model_module_version": "1.5.0",
            "_model_name": "HTMLModel",
            "_view_count": null,
            "_view_module": "@jupyter-widgets/controls",
            "_view_module_version": "1.5.0",
            "_view_name": "HTMLView",
            "description": "",
            "description_tooltip": null,
            "layout": "IPY_MODEL_309a848aa35c476ca6fe1dabb160db88",
            "placeholder": "​",
            "style": "IPY_MODEL_6fc36428923e4b80a5abacb1ad0dd457",
            "value": "tokenizer_config.json: 100%"
          }
        },
        "ac075d8389b7423eb9927a0c81c20af1": {
          "model_module": "@jupyter-widgets/controls",
          "model_name": "FloatProgressModel",
          "model_module_version": "1.5.0",
          "state": {
            "_dom_classes": [],
            "_model_module": "@jupyter-widgets/controls",
            "_model_module_version": "1.5.0",
            "_model_name": "FloatProgressModel",
            "_view_count": null,
            "_view_module": "@jupyter-widgets/controls",
            "_view_module_version": "1.5.0",
            "_view_name": "ProgressView",
            "bar_style": "success",
            "description": "",
            "description_tooltip": null,
            "layout": "IPY_MODEL_e06e997ad35540b9af8f910ddb78b9de",
            "max": 26,
            "min": 0,
            "orientation": "horizontal",
            "style": "IPY_MODEL_b50972c5dab54cd4b122a196a79d7f23",
            "value": 26
          }
        },
        "ace807e92c2740dba352374ccff33f32": {
          "model_module": "@jupyter-widgets/controls",
          "model_name": "HTMLModel",
          "model_module_version": "1.5.0",
          "state": {
            "_dom_classes": [],
            "_model_module": "@jupyter-widgets/controls",
            "_model_module_version": "1.5.0",
            "_model_name": "HTMLModel",
            "_view_count": null,
            "_view_module": "@jupyter-widgets/controls",
            "_view_module_version": "1.5.0",
            "_view_name": "HTMLView",
            "description": "",
            "description_tooltip": null,
            "layout": "IPY_MODEL_b37f172eb83449cf8230fb48194447db",
            "placeholder": "​",
            "style": "IPY_MODEL_6a3bbe7d6cda45f4980a6dfc6a6d1caa",
            "value": " 26.0/26.0 [00:00&lt;00:00, 626B/s]"
          }
        },
        "f4680be1cd4d4bd18c884afa41dde97b": {
          "model_module": "@jupyter-widgets/base",
          "model_name": "LayoutModel",
          "model_module_version": "1.2.0",
          "state": {
            "_model_module": "@jupyter-widgets/base",
            "_model_module_version": "1.2.0",
            "_model_name": "LayoutModel",
            "_view_count": null,
            "_view_module": "@jupyter-widgets/base",
            "_view_module_version": "1.2.0",
            "_view_name": "LayoutView",
            "align_content": null,
            "align_items": null,
            "align_self": null,
            "border": null,
            "bottom": null,
            "display": null,
            "flex": null,
            "flex_flow": null,
            "grid_area": null,
            "grid_auto_columns": null,
            "grid_auto_flow": null,
            "grid_auto_rows": null,
            "grid_column": null,
            "grid_gap": null,
            "grid_row": null,
            "grid_template_areas": null,
            "grid_template_columns": null,
            "grid_template_rows": null,
            "height": null,
            "justify_content": null,
            "justify_items": null,
            "left": null,
            "margin": null,
            "max_height": null,
            "max_width": null,
            "min_height": null,
            "min_width": null,
            "object_fit": null,
            "object_position": null,
            "order": null,
            "overflow": null,
            "overflow_x": null,
            "overflow_y": null,
            "padding": null,
            "right": null,
            "top": null,
            "visibility": null,
            "width": null
          }
        },
        "309a848aa35c476ca6fe1dabb160db88": {
          "model_module": "@jupyter-widgets/base",
          "model_name": "LayoutModel",
          "model_module_version": "1.2.0",
          "state": {
            "_model_module": "@jupyter-widgets/base",
            "_model_module_version": "1.2.0",
            "_model_name": "LayoutModel",
            "_view_count": null,
            "_view_module": "@jupyter-widgets/base",
            "_view_module_version": "1.2.0",
            "_view_name": "LayoutView",
            "align_content": null,
            "align_items": null,
            "align_self": null,
            "border": null,
            "bottom": null,
            "display": null,
            "flex": null,
            "flex_flow": null,
            "grid_area": null,
            "grid_auto_columns": null,
            "grid_auto_flow": null,
            "grid_auto_rows": null,
            "grid_column": null,
            "grid_gap": null,
            "grid_row": null,
            "grid_template_areas": null,
            "grid_template_columns": null,
            "grid_template_rows": null,
            "height": null,
            "justify_content": null,
            "justify_items": null,
            "left": null,
            "margin": null,
            "max_height": null,
            "max_width": null,
            "min_height": null,
            "min_width": null,
            "object_fit": null,
            "object_position": null,
            "order": null,
            "overflow": null,
            "overflow_x": null,
            "overflow_y": null,
            "padding": null,
            "right": null,
            "top": null,
            "visibility": null,
            "width": null
          }
        },
        "6fc36428923e4b80a5abacb1ad0dd457": {
          "model_module": "@jupyter-widgets/controls",
          "model_name": "DescriptionStyleModel",
          "model_module_version": "1.5.0",
          "state": {
            "_model_module": "@jupyter-widgets/controls",
            "_model_module_version": "1.5.0",
            "_model_name": "DescriptionStyleModel",
            "_view_count": null,
            "_view_module": "@jupyter-widgets/base",
            "_view_module_version": "1.2.0",
            "_view_name": "StyleView",
            "description_width": ""
          }
        },
        "e06e997ad35540b9af8f910ddb78b9de": {
          "model_module": "@jupyter-widgets/base",
          "model_name": "LayoutModel",
          "model_module_version": "1.2.0",
          "state": {
            "_model_module": "@jupyter-widgets/base",
            "_model_module_version": "1.2.0",
            "_model_name": "LayoutModel",
            "_view_count": null,
            "_view_module": "@jupyter-widgets/base",
            "_view_module_version": "1.2.0",
            "_view_name": "LayoutView",
            "align_content": null,
            "align_items": null,
            "align_self": null,
            "border": null,
            "bottom": null,
            "display": null,
            "flex": null,
            "flex_flow": null,
            "grid_area": null,
            "grid_auto_columns": null,
            "grid_auto_flow": null,
            "grid_auto_rows": null,
            "grid_column": null,
            "grid_gap": null,
            "grid_row": null,
            "grid_template_areas": null,
            "grid_template_columns": null,
            "grid_template_rows": null,
            "height": null,
            "justify_content": null,
            "justify_items": null,
            "left": null,
            "margin": null,
            "max_height": null,
            "max_width": null,
            "min_height": null,
            "min_width": null,
            "object_fit": null,
            "object_position": null,
            "order": null,
            "overflow": null,
            "overflow_x": null,
            "overflow_y": null,
            "padding": null,
            "right": null,
            "top": null,
            "visibility": null,
            "width": null
          }
        },
        "b50972c5dab54cd4b122a196a79d7f23": {
          "model_module": "@jupyter-widgets/controls",
          "model_name": "ProgressStyleModel",
          "model_module_version": "1.5.0",
          "state": {
            "_model_module": "@jupyter-widgets/controls",
            "_model_module_version": "1.5.0",
            "_model_name": "ProgressStyleModel",
            "_view_count": null,
            "_view_module": "@jupyter-widgets/base",
            "_view_module_version": "1.2.0",
            "_view_name": "StyleView",
            "bar_color": null,
            "description_width": ""
          }
        },
        "b37f172eb83449cf8230fb48194447db": {
          "model_module": "@jupyter-widgets/base",
          "model_name": "LayoutModel",
          "model_module_version": "1.2.0",
          "state": {
            "_model_module": "@jupyter-widgets/base",
            "_model_module_version": "1.2.0",
            "_model_name": "LayoutModel",
            "_view_count": null,
            "_view_module": "@jupyter-widgets/base",
            "_view_module_version": "1.2.0",
            "_view_name": "LayoutView",
            "align_content": null,
            "align_items": null,
            "align_self": null,
            "border": null,
            "bottom": null,
            "display": null,
            "flex": null,
            "flex_flow": null,
            "grid_area": null,
            "grid_auto_columns": null,
            "grid_auto_flow": null,
            "grid_auto_rows": null,
            "grid_column": null,
            "grid_gap": null,
            "grid_row": null,
            "grid_template_areas": null,
            "grid_template_columns": null,
            "grid_template_rows": null,
            "height": null,
            "justify_content": null,
            "justify_items": null,
            "left": null,
            "margin": null,
            "max_height": null,
            "max_width": null,
            "min_height": null,
            "min_width": null,
            "object_fit": null,
            "object_position": null,
            "order": null,
            "overflow": null,
            "overflow_x": null,
            "overflow_y": null,
            "padding": null,
            "right": null,
            "top": null,
            "visibility": null,
            "width": null
          }
        },
        "6a3bbe7d6cda45f4980a6dfc6a6d1caa": {
          "model_module": "@jupyter-widgets/controls",
          "model_name": "DescriptionStyleModel",
          "model_module_version": "1.5.0",
          "state": {
            "_model_module": "@jupyter-widgets/controls",
            "_model_module_version": "1.5.0",
            "_model_name": "DescriptionStyleModel",
            "_view_count": null,
            "_view_module": "@jupyter-widgets/base",
            "_view_module_version": "1.2.0",
            "_view_name": "StyleView",
            "description_width": ""
          }
        },
        "c9052bafff9f4fe981623ecd972afd5c": {
          "model_module": "@jupyter-widgets/controls",
          "model_name": "HBoxModel",
          "model_module_version": "1.5.0",
          "state": {
            "_dom_classes": [],
            "_model_module": "@jupyter-widgets/controls",
            "_model_module_version": "1.5.0",
            "_model_name": "HBoxModel",
            "_view_count": null,
            "_view_module": "@jupyter-widgets/controls",
            "_view_module_version": "1.5.0",
            "_view_name": "HBoxView",
            "box_style": "",
            "children": [
              "IPY_MODEL_3b86f6dd523549e3a02f07b1957f1579",
              "IPY_MODEL_712bde4c61084ba895400d156b613924",
              "IPY_MODEL_543158cffb9d4658b4d7c0dbd9868303"
            ],
            "layout": "IPY_MODEL_8f98dbb221b74d24aea2b385a90cd4eb"
          }
        },
        "3b86f6dd523549e3a02f07b1957f1579": {
          "model_module": "@jupyter-widgets/controls",
          "model_name": "HTMLModel",
          "model_module_version": "1.5.0",
          "state": {
            "_dom_classes": [],
            "_model_module": "@jupyter-widgets/controls",
            "_model_module_version": "1.5.0",
            "_model_name": "HTMLModel",
            "_view_count": null,
            "_view_module": "@jupyter-widgets/controls",
            "_view_module_version": "1.5.0",
            "_view_name": "HTMLView",
            "description": "",
            "description_tooltip": null,
            "layout": "IPY_MODEL_0f14d05c10a94e3482243eb9102aa26b",
            "placeholder": "​",
            "style": "IPY_MODEL_66948468b05e4658b27a72ac5511dfac",
            "value": "vocab.json: 100%"
          }
        },
        "712bde4c61084ba895400d156b613924": {
          "model_module": "@jupyter-widgets/controls",
          "model_name": "FloatProgressModel",
          "model_module_version": "1.5.0",
          "state": {
            "_dom_classes": [],
            "_model_module": "@jupyter-widgets/controls",
            "_model_module_version": "1.5.0",
            "_model_name": "FloatProgressModel",
            "_view_count": null,
            "_view_module": "@jupyter-widgets/controls",
            "_view_module_version": "1.5.0",
            "_view_name": "ProgressView",
            "bar_style": "success",
            "description": "",
            "description_tooltip": null,
            "layout": "IPY_MODEL_71718342bdb042ab9cf3a3491532f773",
            "max": 898822,
            "min": 0,
            "orientation": "horizontal",
            "style": "IPY_MODEL_a0c6d73fdb544d259ef133857f3626a4",
            "value": 898822
          }
        },
        "543158cffb9d4658b4d7c0dbd9868303": {
          "model_module": "@jupyter-widgets/controls",
          "model_name": "HTMLModel",
          "model_module_version": "1.5.0",
          "state": {
            "_dom_classes": [],
            "_model_module": "@jupyter-widgets/controls",
            "_model_module_version": "1.5.0",
            "_model_name": "HTMLModel",
            "_view_count": null,
            "_view_module": "@jupyter-widgets/controls",
            "_view_module_version": "1.5.0",
            "_view_name": "HTMLView",
            "description": "",
            "description_tooltip": null,
            "layout": "IPY_MODEL_6c3e6f389a3d47ed9f5d99cc41ea61bb",
            "placeholder": "​",
            "style": "IPY_MODEL_2cc1af96652e42f08d9d6e6b278628bb",
            "value": " 899k/899k [00:00&lt;00:00, 15.3MB/s]"
          }
        },
        "8f98dbb221b74d24aea2b385a90cd4eb": {
          "model_module": "@jupyter-widgets/base",
          "model_name": "LayoutModel",
          "model_module_version": "1.2.0",
          "state": {
            "_model_module": "@jupyter-widgets/base",
            "_model_module_version": "1.2.0",
            "_model_name": "LayoutModel",
            "_view_count": null,
            "_view_module": "@jupyter-widgets/base",
            "_view_module_version": "1.2.0",
            "_view_name": "LayoutView",
            "align_content": null,
            "align_items": null,
            "align_self": null,
            "border": null,
            "bottom": null,
            "display": null,
            "flex": null,
            "flex_flow": null,
            "grid_area": null,
            "grid_auto_columns": null,
            "grid_auto_flow": null,
            "grid_auto_rows": null,
            "grid_column": null,
            "grid_gap": null,
            "grid_row": null,
            "grid_template_areas": null,
            "grid_template_columns": null,
            "grid_template_rows": null,
            "height": null,
            "justify_content": null,
            "justify_items": null,
            "left": null,
            "margin": null,
            "max_height": null,
            "max_width": null,
            "min_height": null,
            "min_width": null,
            "object_fit": null,
            "object_position": null,
            "order": null,
            "overflow": null,
            "overflow_x": null,
            "overflow_y": null,
            "padding": null,
            "right": null,
            "top": null,
            "visibility": null,
            "width": null
          }
        },
        "0f14d05c10a94e3482243eb9102aa26b": {
          "model_module": "@jupyter-widgets/base",
          "model_name": "LayoutModel",
          "model_module_version": "1.2.0",
          "state": {
            "_model_module": "@jupyter-widgets/base",
            "_model_module_version": "1.2.0",
            "_model_name": "LayoutModel",
            "_view_count": null,
            "_view_module": "@jupyter-widgets/base",
            "_view_module_version": "1.2.0",
            "_view_name": "LayoutView",
            "align_content": null,
            "align_items": null,
            "align_self": null,
            "border": null,
            "bottom": null,
            "display": null,
            "flex": null,
            "flex_flow": null,
            "grid_area": null,
            "grid_auto_columns": null,
            "grid_auto_flow": null,
            "grid_auto_rows": null,
            "grid_column": null,
            "grid_gap": null,
            "grid_row": null,
            "grid_template_areas": null,
            "grid_template_columns": null,
            "grid_template_rows": null,
            "height": null,
            "justify_content": null,
            "justify_items": null,
            "left": null,
            "margin": null,
            "max_height": null,
            "max_width": null,
            "min_height": null,
            "min_width": null,
            "object_fit": null,
            "object_position": null,
            "order": null,
            "overflow": null,
            "overflow_x": null,
            "overflow_y": null,
            "padding": null,
            "right": null,
            "top": null,
            "visibility": null,
            "width": null
          }
        },
        "66948468b05e4658b27a72ac5511dfac": {
          "model_module": "@jupyter-widgets/controls",
          "model_name": "DescriptionStyleModel",
          "model_module_version": "1.5.0",
          "state": {
            "_model_module": "@jupyter-widgets/controls",
            "_model_module_version": "1.5.0",
            "_model_name": "DescriptionStyleModel",
            "_view_count": null,
            "_view_module": "@jupyter-widgets/base",
            "_view_module_version": "1.2.0",
            "_view_name": "StyleView",
            "description_width": ""
          }
        },
        "71718342bdb042ab9cf3a3491532f773": {
          "model_module": "@jupyter-widgets/base",
          "model_name": "LayoutModel",
          "model_module_version": "1.2.0",
          "state": {
            "_model_module": "@jupyter-widgets/base",
            "_model_module_version": "1.2.0",
            "_model_name": "LayoutModel",
            "_view_count": null,
            "_view_module": "@jupyter-widgets/base",
            "_view_module_version": "1.2.0",
            "_view_name": "LayoutView",
            "align_content": null,
            "align_items": null,
            "align_self": null,
            "border": null,
            "bottom": null,
            "display": null,
            "flex": null,
            "flex_flow": null,
            "grid_area": null,
            "grid_auto_columns": null,
            "grid_auto_flow": null,
            "grid_auto_rows": null,
            "grid_column": null,
            "grid_gap": null,
            "grid_row": null,
            "grid_template_areas": null,
            "grid_template_columns": null,
            "grid_template_rows": null,
            "height": null,
            "justify_content": null,
            "justify_items": null,
            "left": null,
            "margin": null,
            "max_height": null,
            "max_width": null,
            "min_height": null,
            "min_width": null,
            "object_fit": null,
            "object_position": null,
            "order": null,
            "overflow": null,
            "overflow_x": null,
            "overflow_y": null,
            "padding": null,
            "right": null,
            "top": null,
            "visibility": null,
            "width": null
          }
        },
        "a0c6d73fdb544d259ef133857f3626a4": {
          "model_module": "@jupyter-widgets/controls",
          "model_name": "ProgressStyleModel",
          "model_module_version": "1.5.0",
          "state": {
            "_model_module": "@jupyter-widgets/controls",
            "_model_module_version": "1.5.0",
            "_model_name": "ProgressStyleModel",
            "_view_count": null,
            "_view_module": "@jupyter-widgets/base",
            "_view_module_version": "1.2.0",
            "_view_name": "StyleView",
            "bar_color": null,
            "description_width": ""
          }
        },
        "6c3e6f389a3d47ed9f5d99cc41ea61bb": {
          "model_module": "@jupyter-widgets/base",
          "model_name": "LayoutModel",
          "model_module_version": "1.2.0",
          "state": {
            "_model_module": "@jupyter-widgets/base",
            "_model_module_version": "1.2.0",
            "_model_name": "LayoutModel",
            "_view_count": null,
            "_view_module": "@jupyter-widgets/base",
            "_view_module_version": "1.2.0",
            "_view_name": "LayoutView",
            "align_content": null,
            "align_items": null,
            "align_self": null,
            "border": null,
            "bottom": null,
            "display": null,
            "flex": null,
            "flex_flow": null,
            "grid_area": null,
            "grid_auto_columns": null,
            "grid_auto_flow": null,
            "grid_auto_rows": null,
            "grid_column": null,
            "grid_gap": null,
            "grid_row": null,
            "grid_template_areas": null,
            "grid_template_columns": null,
            "grid_template_rows": null,
            "height": null,
            "justify_content": null,
            "justify_items": null,
            "left": null,
            "margin": null,
            "max_height": null,
            "max_width": null,
            "min_height": null,
            "min_width": null,
            "object_fit": null,
            "object_position": null,
            "order": null,
            "overflow": null,
            "overflow_x": null,
            "overflow_y": null,
            "padding": null,
            "right": null,
            "top": null,
            "visibility": null,
            "width": null
          }
        },
        "2cc1af96652e42f08d9d6e6b278628bb": {
          "model_module": "@jupyter-widgets/controls",
          "model_name": "DescriptionStyleModel",
          "model_module_version": "1.5.0",
          "state": {
            "_model_module": "@jupyter-widgets/controls",
            "_model_module_version": "1.5.0",
            "_model_name": "DescriptionStyleModel",
            "_view_count": null,
            "_view_module": "@jupyter-widgets/base",
            "_view_module_version": "1.2.0",
            "_view_name": "StyleView",
            "description_width": ""
          }
        },
        "d0b4939bfa03449fbb859037bab5a811": {
          "model_module": "@jupyter-widgets/controls",
          "model_name": "HBoxModel",
          "model_module_version": "1.5.0",
          "state": {
            "_dom_classes": [],
            "_model_module": "@jupyter-widgets/controls",
            "_model_module_version": "1.5.0",
            "_model_name": "HBoxModel",
            "_view_count": null,
            "_view_module": "@jupyter-widgets/controls",
            "_view_module_version": "1.5.0",
            "_view_name": "HBoxView",
            "box_style": "",
            "children": [
              "IPY_MODEL_ae9c79badd6f49679d5398f2c9b36fea",
              "IPY_MODEL_3f9356e5f5ad460bac3e6743885583a8",
              "IPY_MODEL_796b2f4dfaaa448c9d6a7d8abd4390b3"
            ],
            "layout": "IPY_MODEL_a42c046bc50244b4aefed37489bf3ab1"
          }
        },
        "ae9c79badd6f49679d5398f2c9b36fea": {
          "model_module": "@jupyter-widgets/controls",
          "model_name": "HTMLModel",
          "model_module_version": "1.5.0",
          "state": {
            "_dom_classes": [],
            "_model_module": "@jupyter-widgets/controls",
            "_model_module_version": "1.5.0",
            "_model_name": "HTMLModel",
            "_view_count": null,
            "_view_module": "@jupyter-widgets/controls",
            "_view_module_version": "1.5.0",
            "_view_name": "HTMLView",
            "description": "",
            "description_tooltip": null,
            "layout": "IPY_MODEL_f684dc5f05af42d7b7a53c04d39b51e0",
            "placeholder": "​",
            "style": "IPY_MODEL_18584db1cd16491ebde96a5c453cf316",
            "value": "merges.txt: 100%"
          }
        },
        "3f9356e5f5ad460bac3e6743885583a8": {
          "model_module": "@jupyter-widgets/controls",
          "model_name": "FloatProgressModel",
          "model_module_version": "1.5.0",
          "state": {
            "_dom_classes": [],
            "_model_module": "@jupyter-widgets/controls",
            "_model_module_version": "1.5.0",
            "_model_name": "FloatProgressModel",
            "_view_count": null,
            "_view_module": "@jupyter-widgets/controls",
            "_view_module_version": "1.5.0",
            "_view_name": "ProgressView",
            "bar_style": "success",
            "description": "",
            "description_tooltip": null,
            "layout": "IPY_MODEL_f2c5e702a9954c1ba1ce46aae90c32d5",
            "max": 456318,
            "min": 0,
            "orientation": "horizontal",
            "style": "IPY_MODEL_a317fe140b54446dbc5615f6ea2a4e75",
            "value": 456318
          }
        },
        "796b2f4dfaaa448c9d6a7d8abd4390b3": {
          "model_module": "@jupyter-widgets/controls",
          "model_name": "HTMLModel",
          "model_module_version": "1.5.0",
          "state": {
            "_dom_classes": [],
            "_model_module": "@jupyter-widgets/controls",
            "_model_module_version": "1.5.0",
            "_model_name": "HTMLModel",
            "_view_count": null,
            "_view_module": "@jupyter-widgets/controls",
            "_view_module_version": "1.5.0",
            "_view_name": "HTMLView",
            "description": "",
            "description_tooltip": null,
            "layout": "IPY_MODEL_7953826a566645d88e283a936e532be4",
            "placeholder": "​",
            "style": "IPY_MODEL_6de8ed3e9c1c4ed9a759fe09c563531c",
            "value": " 456k/456k [00:00&lt;00:00, 2.32MB/s]"
          }
        },
        "a42c046bc50244b4aefed37489bf3ab1": {
          "model_module": "@jupyter-widgets/base",
          "model_name": "LayoutModel",
          "model_module_version": "1.2.0",
          "state": {
            "_model_module": "@jupyter-widgets/base",
            "_model_module_version": "1.2.0",
            "_model_name": "LayoutModel",
            "_view_count": null,
            "_view_module": "@jupyter-widgets/base",
            "_view_module_version": "1.2.0",
            "_view_name": "LayoutView",
            "align_content": null,
            "align_items": null,
            "align_self": null,
            "border": null,
            "bottom": null,
            "display": null,
            "flex": null,
            "flex_flow": null,
            "grid_area": null,
            "grid_auto_columns": null,
            "grid_auto_flow": null,
            "grid_auto_rows": null,
            "grid_column": null,
            "grid_gap": null,
            "grid_row": null,
            "grid_template_areas": null,
            "grid_template_columns": null,
            "grid_template_rows": null,
            "height": null,
            "justify_content": null,
            "justify_items": null,
            "left": null,
            "margin": null,
            "max_height": null,
            "max_width": null,
            "min_height": null,
            "min_width": null,
            "object_fit": null,
            "object_position": null,
            "order": null,
            "overflow": null,
            "overflow_x": null,
            "overflow_y": null,
            "padding": null,
            "right": null,
            "top": null,
            "visibility": null,
            "width": null
          }
        },
        "f684dc5f05af42d7b7a53c04d39b51e0": {
          "model_module": "@jupyter-widgets/base",
          "model_name": "LayoutModel",
          "model_module_version": "1.2.0",
          "state": {
            "_model_module": "@jupyter-widgets/base",
            "_model_module_version": "1.2.0",
            "_model_name": "LayoutModel",
            "_view_count": null,
            "_view_module": "@jupyter-widgets/base",
            "_view_module_version": "1.2.0",
            "_view_name": "LayoutView",
            "align_content": null,
            "align_items": null,
            "align_self": null,
            "border": null,
            "bottom": null,
            "display": null,
            "flex": null,
            "flex_flow": null,
            "grid_area": null,
            "grid_auto_columns": null,
            "grid_auto_flow": null,
            "grid_auto_rows": null,
            "grid_column": null,
            "grid_gap": null,
            "grid_row": null,
            "grid_template_areas": null,
            "grid_template_columns": null,
            "grid_template_rows": null,
            "height": null,
            "justify_content": null,
            "justify_items": null,
            "left": null,
            "margin": null,
            "max_height": null,
            "max_width": null,
            "min_height": null,
            "min_width": null,
            "object_fit": null,
            "object_position": null,
            "order": null,
            "overflow": null,
            "overflow_x": null,
            "overflow_y": null,
            "padding": null,
            "right": null,
            "top": null,
            "visibility": null,
            "width": null
          }
        },
        "18584db1cd16491ebde96a5c453cf316": {
          "model_module": "@jupyter-widgets/controls",
          "model_name": "DescriptionStyleModel",
          "model_module_version": "1.5.0",
          "state": {
            "_model_module": "@jupyter-widgets/controls",
            "_model_module_version": "1.5.0",
            "_model_name": "DescriptionStyleModel",
            "_view_count": null,
            "_view_module": "@jupyter-widgets/base",
            "_view_module_version": "1.2.0",
            "_view_name": "StyleView",
            "description_width": ""
          }
        },
        "f2c5e702a9954c1ba1ce46aae90c32d5": {
          "model_module": "@jupyter-widgets/base",
          "model_name": "LayoutModel",
          "model_module_version": "1.2.0",
          "state": {
            "_model_module": "@jupyter-widgets/base",
            "_model_module_version": "1.2.0",
            "_model_name": "LayoutModel",
            "_view_count": null,
            "_view_module": "@jupyter-widgets/base",
            "_view_module_version": "1.2.0",
            "_view_name": "LayoutView",
            "align_content": null,
            "align_items": null,
            "align_self": null,
            "border": null,
            "bottom": null,
            "display": null,
            "flex": null,
            "flex_flow": null,
            "grid_area": null,
            "grid_auto_columns": null,
            "grid_auto_flow": null,
            "grid_auto_rows": null,
            "grid_column": null,
            "grid_gap": null,
            "grid_row": null,
            "grid_template_areas": null,
            "grid_template_columns": null,
            "grid_template_rows": null,
            "height": null,
            "justify_content": null,
            "justify_items": null,
            "left": null,
            "margin": null,
            "max_height": null,
            "max_width": null,
            "min_height": null,
            "min_width": null,
            "object_fit": null,
            "object_position": null,
            "order": null,
            "overflow": null,
            "overflow_x": null,
            "overflow_y": null,
            "padding": null,
            "right": null,
            "top": null,
            "visibility": null,
            "width": null
          }
        },
        "a317fe140b54446dbc5615f6ea2a4e75": {
          "model_module": "@jupyter-widgets/controls",
          "model_name": "ProgressStyleModel",
          "model_module_version": "1.5.0",
          "state": {
            "_model_module": "@jupyter-widgets/controls",
            "_model_module_version": "1.5.0",
            "_model_name": "ProgressStyleModel",
            "_view_count": null,
            "_view_module": "@jupyter-widgets/base",
            "_view_module_version": "1.2.0",
            "_view_name": "StyleView",
            "bar_color": null,
            "description_width": ""
          }
        },
        "7953826a566645d88e283a936e532be4": {
          "model_module": "@jupyter-widgets/base",
          "model_name": "LayoutModel",
          "model_module_version": "1.2.0",
          "state": {
            "_model_module": "@jupyter-widgets/base",
            "_model_module_version": "1.2.0",
            "_model_name": "LayoutModel",
            "_view_count": null,
            "_view_module": "@jupyter-widgets/base",
            "_view_module_version": "1.2.0",
            "_view_name": "LayoutView",
            "align_content": null,
            "align_items": null,
            "align_self": null,
            "border": null,
            "bottom": null,
            "display": null,
            "flex": null,
            "flex_flow": null,
            "grid_area": null,
            "grid_auto_columns": null,
            "grid_auto_flow": null,
            "grid_auto_rows": null,
            "grid_column": null,
            "grid_gap": null,
            "grid_row": null,
            "grid_template_areas": null,
            "grid_template_columns": null,
            "grid_template_rows": null,
            "height": null,
            "justify_content": null,
            "justify_items": null,
            "left": null,
            "margin": null,
            "max_height": null,
            "max_width": null,
            "min_height": null,
            "min_width": null,
            "object_fit": null,
            "object_position": null,
            "order": null,
            "overflow": null,
            "overflow_x": null,
            "overflow_y": null,
            "padding": null,
            "right": null,
            "top": null,
            "visibility": null,
            "width": null
          }
        },
        "6de8ed3e9c1c4ed9a759fe09c563531c": {
          "model_module": "@jupyter-widgets/controls",
          "model_name": "DescriptionStyleModel",
          "model_module_version": "1.5.0",
          "state": {
            "_model_module": "@jupyter-widgets/controls",
            "_model_module_version": "1.5.0",
            "_model_name": "DescriptionStyleModel",
            "_view_count": null,
            "_view_module": "@jupyter-widgets/base",
            "_view_module_version": "1.2.0",
            "_view_name": "StyleView",
            "description_width": ""
          }
        }
      }
    }
  },
  "cells": [
    {
      "cell_type": "markdown",
      "metadata": {
        "id": "view-in-github",
        "colab_type": "text"
      },
      "source": [
        "<a href=\"https://colab.research.google.com/github/shrikrishnachannawar/text_summarizer/blob/main/ai_summarizer.ipynb\" target=\"_parent\"><img src=\"https://colab.research.google.com/assets/colab-badge.svg\" alt=\"Open In Colab\"/></a>"
      ]
    },
    {
      "cell_type": "code",
      "execution_count": null,
      "metadata": {
        "id": "a4gsixLBKCsI"
      },
      "outputs": [],
      "source": [
        "#!pip install transformers"
      ]
    },
    {
      "cell_type": "markdown",
      "source": [
        "## 0. Installing transformers and dependancies"
      ],
      "metadata": {
        "id": "NQZp4r5kOj31"
      }
    },
    {
      "cell_type": "code",
      "source": [
        "from transformers import pipeline\n",
        "from bs4 import BeautifulSoup\n",
        "import requests"
      ],
      "metadata": {
        "id": "KSoDW10YOWBz"
      },
      "execution_count": null,
      "outputs": []
    },
    {
      "cell_type": "markdown",
      "source": [
        "## 1. Loding summarize pipeline"
      ],
      "metadata": {
        "id": "NTO2y4gUQsNa"
      }
    },
    {
      "cell_type": "code",
      "source": [
        "summurizer =pipeline(\"summarization\")"
      ],
      "metadata": {
        "colab": {
          "base_uri": "https://localhost:8080/",
          "height": 336,
          "referenced_widgets": [
            "49adef1d617b4577ae3c1b4fda9ae97f",
            "1fe0c6d75b394ad285294f25f88d6d11",
            "551530ff164049688ada8e3c88cf5243",
            "884aec910f0446ed9b98e565322b1234",
            "658b597213614092ac23d25d6fb3ff1e",
            "876d4a636ea54864a73d1d6140bee13b",
            "8d49433b5402439e962ad49d55e5795d",
            "6b37bb1c9a304a62bcb58806f767f371",
            "da3a95e10717426380d552650db3018f",
            "ad63c22d2f8d4147b74ab1f376edf22d",
            "cfaf178cad374b939dd38699a3c268ab",
            "d9f10c0f9cf3458483b2112470c5f17c",
            "8e19f07d1e8d4e70a7fbf1561b7c2804",
            "11b93abf29ec4f22955b3dd6a61f6d4e",
            "a80b5b4730f44fc4b48bc580024412e7",
            "f0ad7f51c6dc4cc1b7864d7a0800f5c4",
            "93e239b9a5144d88bb17e1ba4c63f4fb",
            "34cb45ff628b487b8126c7ca47a4df7e",
            "292b3d7e8e4c4b5f854ac4065c1d7a62",
            "69d75b520e464d4fae92596d3ddca1ee",
            "32afe4f9e9fe4fa1ac65cce234a84d6c",
            "5fdf5b12ffc2423883b88858e1eb3c25",
            "b015d239f0144458847e6fe6c32b0b23",
            "372c2e32514e4a9887b07bd01caeb9bd",
            "ac075d8389b7423eb9927a0c81c20af1",
            "ace807e92c2740dba352374ccff33f32",
            "f4680be1cd4d4bd18c884afa41dde97b",
            "309a848aa35c476ca6fe1dabb160db88",
            "6fc36428923e4b80a5abacb1ad0dd457",
            "e06e997ad35540b9af8f910ddb78b9de",
            "b50972c5dab54cd4b122a196a79d7f23",
            "b37f172eb83449cf8230fb48194447db",
            "6a3bbe7d6cda45f4980a6dfc6a6d1caa",
            "c9052bafff9f4fe981623ecd972afd5c",
            "3b86f6dd523549e3a02f07b1957f1579",
            "712bde4c61084ba895400d156b613924",
            "543158cffb9d4658b4d7c0dbd9868303",
            "8f98dbb221b74d24aea2b385a90cd4eb",
            "0f14d05c10a94e3482243eb9102aa26b",
            "66948468b05e4658b27a72ac5511dfac",
            "71718342bdb042ab9cf3a3491532f773",
            "a0c6d73fdb544d259ef133857f3626a4",
            "6c3e6f389a3d47ed9f5d99cc41ea61bb",
            "2cc1af96652e42f08d9d6e6b278628bb",
            "d0b4939bfa03449fbb859037bab5a811",
            "ae9c79badd6f49679d5398f2c9b36fea",
            "3f9356e5f5ad460bac3e6743885583a8",
            "796b2f4dfaaa448c9d6a7d8abd4390b3",
            "a42c046bc50244b4aefed37489bf3ab1",
            "f684dc5f05af42d7b7a53c04d39b51e0",
            "18584db1cd16491ebde96a5c453cf316",
            "f2c5e702a9954c1ba1ce46aae90c32d5",
            "a317fe140b54446dbc5615f6ea2a4e75",
            "7953826a566645d88e283a936e532be4",
            "6de8ed3e9c1c4ed9a759fe09c563531c"
          ]
        },
        "id": "NVUEMdj9PNW-",
        "outputId": "f660d1cb-784f-494d-8b6f-f9bfe885fa02"
      },
      "execution_count": null,
      "outputs": [
        {
          "output_type": "stream",
          "name": "stderr",
          "text": [
            "No model was supplied, defaulted to sshleifer/distilbart-cnn-12-6 and revision a4f8f3e (https://huggingface.co/sshleifer/distilbart-cnn-12-6).\n",
            "Using a pipeline without specifying a model name and revision in production is not recommended.\n",
            "/usr/local/lib/python3.10/dist-packages/huggingface_hub/utils/_token.py:72: UserWarning: \n",
            "The secret `HF_TOKEN` does not exist in your Colab secrets.\n",
            "To authenticate with the Hugging Face Hub, create a token in your settings tab (https://huggingface.co/settings/tokens), set it as secret in your Google Colab and restart your session.\n",
            "You will be able to reuse this secret in all of your notebooks.\n",
            "Please note that authentication is recommended but still optional to access public models or datasets.\n",
            "  warnings.warn(\n"
          ]
        },
        {
          "output_type": "display_data",
          "data": {
            "text/plain": [
              "config.json:   0%|          | 0.00/1.80k [00:00<?, ?B/s]"
            ],
            "application/vnd.jupyter.widget-view+json": {
              "version_major": 2,
              "version_minor": 0,
              "model_id": "49adef1d617b4577ae3c1b4fda9ae97f"
            }
          },
          "metadata": {}
        },
        {
          "output_type": "display_data",
          "data": {
            "text/plain": [
              "pytorch_model.bin:   0%|          | 0.00/1.22G [00:00<?, ?B/s]"
            ],
            "application/vnd.jupyter.widget-view+json": {
              "version_major": 2,
              "version_minor": 0,
              "model_id": "d9f10c0f9cf3458483b2112470c5f17c"
            }
          },
          "metadata": {}
        },
        {
          "output_type": "display_data",
          "data": {
            "text/plain": [
              "tokenizer_config.json:   0%|          | 0.00/26.0 [00:00<?, ?B/s]"
            ],
            "application/vnd.jupyter.widget-view+json": {
              "version_major": 2,
              "version_minor": 0,
              "model_id": "b015d239f0144458847e6fe6c32b0b23"
            }
          },
          "metadata": {}
        },
        {
          "output_type": "display_data",
          "data": {
            "text/plain": [
              "vocab.json:   0%|          | 0.00/899k [00:00<?, ?B/s]"
            ],
            "application/vnd.jupyter.widget-view+json": {
              "version_major": 2,
              "version_minor": 0,
              "model_id": "c9052bafff9f4fe981623ecd972afd5c"
            }
          },
          "metadata": {}
        },
        {
          "output_type": "display_data",
          "data": {
            "text/plain": [
              "merges.txt:   0%|          | 0.00/456k [00:00<?, ?B/s]"
            ],
            "application/vnd.jupyter.widget-view+json": {
              "version_major": 2,
              "version_minor": 0,
              "model_id": "d0b4939bfa03449fbb859037bab5a811"
            }
          },
          "metadata": {}
        }
      ]
    },
    {
      "cell_type": "markdown",
      "source": [
        "##2.Getting blog post from the web"
      ],
      "metadata": {
        "id": "FaMm_wcfRhwo"
      }
    },
    {
      "cell_type": "code",
      "source": [
        "#here you can add the url of any document or blog post you want to summarize\n",
        "URL=\"https://science.nasa.gov/astrophysics/focus-areas/black-holes/\""
      ],
      "metadata": {
        "id": "lrlVS8sZQCPt"
      },
      "execution_count": null,
      "outputs": []
    },
    {
      "cell_type": "code",
      "source": [
        "r=requests.get(URL)"
      ],
      "metadata": {
        "id": "Ziis49y7RfrH"
      },
      "execution_count": null,
      "outputs": []
    },
    {
      "cell_type": "code",
      "source": [
        "r.text"
      ],
      "metadata": {
        "colab": {
          "base_uri": "https://localhost:8080/",
          "height": 209
        },
        "id": "J_jzeCg3SKSB",
        "outputId": "bf9f96d6-e852-4820-814f-fa3d176c7853"
      },
      "execution_count": null,
      "outputs": [
        {
          "output_type": "execute_result",
          "data": {
            "text/plain": [
              "'<!DOCTYPE html>\\n<html  lang=\"en\">\\n<head><meta charset=\"utf-8\">\\n<meta name=\"viewport\" content=\"width=device-width, initial-scale=1.0, maximum-scale=1.0, user-scalable=no\">\\n<title>Black Holes - NASA Science</title>\\n<link rel=\"apple-touch-icon\" sizes=\"180x180\" href=\"https://science.nasa.gov/apple-touch-icon.png\">\\n<link rel=\"preload\" href=\"https://science.nasa.gov/font-face.css\" as=\"style\">\\n<link rel=\"preload\" href=\"https://smd-cms.nasa.gov/wp-content/client-mu-plugins/uswds-framework/uswds/fonts/public-sans/PublicSans-Regular.woff2\" as=\"font\" type=\"font/woff2\" crossorigin=\"anonymous\">\\n<link rel=\"preload\" href=\"https://smd-cms.nasa.gov/wp-content/client-mu-plugins/uswds-framework/uswds/fonts-split/inter/UcC73FwrK3iLTeHuS_fvQtMwCp50KnMa1ZL7.woff2\" as=\"font\" type=\"font/woff2\" crossorigin=\"anonymous\">\\n<link rel=\"preload\" href=\"https://smd-cms.nasa.gov/wp-content/client-mu-plugins/uswds-framework/uswds/fonts-split/db-mono/aFTU7PB1QTsUX8KYthqQBA.woff2\" as=\"font\" type=\"font/woff2\" crossorigin=\"anonymous\">\\n<meta property=\"og:title\" content=\"Black Holes - NASA Science\">\\n<meta property=\"og:url\" content=\"https://science.nasa.gov/astrophysics/focus-areas/black-holes/\">\\n<meta name=\"description\" content=\"Don’t let the name fool you: a black hole is anything but empty space. Rather, it is a great amount of matter packed into a very small area – think of a star ten times more massive than the Sun squeezed into a sphere approximately the diameter of New York City. The result is a […]\">\\n<meta property=\"og:description\" content=\"Don’t let the name fool you: a black hole is anything but empty space. Rather, it is a great amount of matter packed into a very small area – think of a star ten times more massive than the Sun squeezed into a sphere approximately the diameter of New York City. The result is a […]\">\\n<meta property=\"og:image\" content=\"https://smd-cms.nasa.gov/wp-content/uploads/2023/04/pia18842-harrison-2-1-jpg.webp\">\\n<meta name=\"twitter:title\" content=\"Black Holes - NASA Science\">\\n<meta name=\"twitter:description\" content=\"Don’t let the name fool you: a black hole is anything but empty space. Rather, it is a great amount of matter packed into a very small area – think of a star ten times more massive than the Sun squeezed into a sphere approximately the diameter of New York City. The result is a […]\">\\n<meta name=\"twitter:image\" content=\"https://smd-cms.nasa.gov/wp-content/uploads/2023/04/pia18842-harrison-2-1-jpg.webp\">\\n<meta name=\"twitter:card\" content=\"summary_large_image\">\\n<meta property=\"og:image:alt\" content=\"Observed Mass Ranges of Compact Objects\">\\n<meta name=\"twitter:image:alt\" content=\"Observed Mass Ranges of Compact Objects\">\\n<meta property=\"og:image:width\" content=\"4000\">\\n<meta name=\"twitter:image:width\" content=\"4000\">\\n<meta property=\"og:image:height\" content=\"2250\">\\n<meta name=\"twitter:image:height\" content=\"2250\">\\n<link rel=\"canonical\" href=\"https://science.nasa.gov/astrophysics/focus-areas/black-holes/\">\\n<meta name=\"keywords\" content=\"astrophysics\">\\n<meta name=\"searchgov_custom3\" content=\"topic\">\\n<meta name=\"parsely-title\" content=\"Black Holes - NASA Science\">\\n<meta name=\"parsely-link\" content=\"https://science.nasa.gov/astrophysics/focus-areas/black-holes/\">\\n<meta name=\"parsely-type\" content=\"post\">\\n<meta name=\"parsely-image-url\" content=\"https://smd-cms.nasa.gov/wp-content/uploads/2023/04/pia18842-harrison-2-1-jpg.webp\">\\n<meta name=\"parsely-pub-date\" content=\"2007-06-10T16:05:00\">\\n<meta name=\"parsely-section\" content=\"astrophysics\">\\n<meta name=\"parsely-tags\" content=\"Astrophysics\">\\n<style>.page-enter-active,.page-leave-active{transition:all .16s}.page-enter-from,.page-leave-to{opacity:0;filter:blur(.3rem)}.page-enter,.page-leave-active{opacity:0}</style>\\n<style>html{--wp-admin--admin-bar--height:32px;scroll-padding-top:var(--wp-admin--admin-bar--height)}#wpadminbar *{opacity:0;text-shadow:none;text-transform:none;letter-spacing:normal;box-sizing:content-box;-webkit-font-smoothing:subpixel-antialiased;-moz-osx-font-smoothing:auto;border-radius:0;width:auto;height:auto;font-family:-apple-system,BlinkMacSystemFont,Segoe UI,Roboto,Oxygen-Sans,Ubuntu,Cantarell,Helvetica Neue,sans-serif;font-size:13px;font-style:normal;font-weight:400;line-height:2.46154;transition:none;animation:.1s ease-in forwards fadeIn;position:static}#wpadminbar .hds-admin-bar-logo{width:30px;height:30px;margin-top:2px}#wpadminbar .ab-empty-item{cursor:default}#wpadminbar #wp-admin-bar-site-name a.ab-item,#wpadminbar #wp-admin-bar-my-sites a.ab-item{white-space:nowrap}#wpadminbar ul li:before,#wpadminbar ul li:after{content:normal}#wpadminbar a,#wpadminbar a:hover,#wpadminbar a img,#wpadminbar a img:hover{box-shadow:none;background:0 0;border:none;text-decoration:none}#wpadminbar a:focus,#wpadminbar a:active,#wpadminbar input[type=text],#wpadminbar input[type=number],#wpadminbar input[type=search],#wpadminbar input[type=email],#wpadminbar input[type=url],#wpadminbar div{box-shadow:none}#wpadminbar a:focus{outline-offset:-1px}#wpadminbar{direction:ltr;color:#c3c4c7;z-index:100000;background:#1d2327;min-width:600px;height:32px;font-family:-apple-system,BlinkMacSystemFont,Segoe UI,Roboto,Oxygen-Sans,Ubuntu,Cantarell,Helvetica Neue,sans-serif;font-size:13px;font-weight:400;line-height:2.46154}@keyframes fadeIn{0%{opacity:0;transform:translateY(-20%)}to{opacity:1;transform:translate(0,0)}}#wpadminbar .ab-sub-wrapper,#wpadminbar ul,#wpadminbar ul li{clear:none;text-indent:0;z-index:99999;background:0 0;margin:0;padding:0;list-style:none;position:relative}#wpadminbar ul#wp-admin-bar-root-default>li{margin-right:0}#wpadminbar .quicklinks ul{text-align:left}#wpadminbar li{float:left}#wpadminbar .ab-empty-item{outline:none}#wpadminbar .quicklinks .ab-top-secondary>li{float:right}#wpadminbar .quicklinks a,#wpadminbar .quicklinks .ab-empty-item{height:32px;margin:0;padding:0 10px;display:block}#wpadminbar .quicklinks>ul>li>a{padding:0 8px 0 7px}#wpadminbar .menupop .ab-sub-wrapper{float:none;background:#2c3338;margin:0;padding:0;display:none;position:absolute;box-shadow:0 3px 5px #0003}#wpadminbar .ab-top-menu>.menupop>.ab-sub-wrapper{min-width:100%}#wpadminbar .ab-top-secondary .menupop .ab-sub-wrapper{left:auto;right:0}#wpadminbar .ab-submenu{padding:6px 0}#wpadminbar .quicklinks .menupop ul li{float:none}#wpadminbar .quicklinks .menupop ul li a strong{font-weight:600}#wpadminbar .quicklinks .menupop ul li .ab-item,#wpadminbar .quicklinks .menupop ul li a strong,#wpadminbar .quicklinks .menupop.hover ul li .ab-item{white-space:nowrap;min-width:140px;height:26px;line-height:2}#wpadminbar li.hover>.ab-sub-wrapper{display:block}#wpadminbar .menupop li:hover>.ab-sub-wrapper,#wpadminbar .menupop li.hover>.ab-sub-wrapper{margin-top:-32px;margin-left:100%}#wpadminbar .ab-top-secondary .menupop li:hover>.ab-sub-wrapper,#wpadminbar .ab-top-secondary .menupop li.hover>.ab-sub-wrapper{left:inherit;margin-left:0;right:100%}#wpadminbar:not(.mobile) .ab-top-menu>li>.ab-item:focus,#wpadminbar.nojq .quicklinks .ab-top-menu>li>.ab-item:focus,#wpadminbar:not(.mobile) .ab-top-menu>li:hover>.ab-item,#wpadminbar .ab-top-menu>li.hover>.ab-item{color:#72aee6;background:#2c3338}#wpadminbar .ab-item:before,.wp-admin-bar-arrow{float:left;speak:never;-webkit-font-smoothing:antialiased;-moz-osx-font-smoothing:grayscale;margin-right:6px;padding:4px 0;font:20px/1 dashicons;position:relative;background-image:none!important}#wpadminbar .ab-item:before{color:#f0f6fc99;transition:color .1s ease-in-out;position:relative}#wpadminbar .ab-submenu .ab-item,#wpadminbar .quicklinks .menupop ul li a,#wpadminbar .quicklinks .menupop ul li a strong,#wpadminbar .quicklinks .menupop.hover ul li a{color:#f0f6fcb3}#wpadminbar .quicklinks .menupop ul li a:hover,#wpadminbar .quicklinks .menupop ul li a:focus,#wpadminbar .quicklinks .menupop ul li a:hover strong,#wpadminbar .quicklinks .menupop ul li a:focus strong,#wpadminbar .quicklinks .ab-sub-wrapper .menupop.hover>a,#wpadminbar .quicklinks .menupop.hover ul li a:hover,#wpadminbar .quicklinks .menupop.hover ul li a:focus,#wpadminbar .quicklinks .menupop.hover ul li div[tabindex]:hover,#wpadminbar .quicklinks .menupop.hover ul li div[tabindex]:focus,#wpadminbar li:hover .ab-item:before,#wpadminbar li .ab-item:focus:before,#wpadminbar li.hover .ab-item:before{color:#72aee6}#wpadminbar.mobile .quicklinks .ab-item:before{color:#c3c4c7}#wpadminbar.mobile .quicklinks .hover .ab-item:before{color:#72aee6}#wpadminbar .menupop .menupop>.ab-item .wp-admin-bar-arrow:before,#wpadminbar .ab-top-secondary .menupop .menupop>.ab-item:before{speak:never;-webkit-font-smoothing:antialiased;-moz-osx-font-smoothing:grayscale;font:17px/1 dashicons;position:absolute}#wpadminbar .menupop .menupop>.ab-item{padding-right:2em;display:block}#wpadminbar .menupop .menupop>.ab-item.meatball-menu{padding-right:.25em}#wpadminbar .menupop .menupop>.ab-item .wp-admin-bar-arrow:before{content:\"\\uf139\";color:inherit;padding:4px 0;top:1px;right:10px}#wpadminbar .ab-top-secondary .menupop .menupop>.ab-item{padding-left:2em;padding-right:1em}#wpadminbar .ab-top-secondary .menupop .menupop>.ab-item .wp-admin-bar-arrow:before{content:\"\\uf141\";top:1px;left:6px}#wpadminbar .quicklinks .menupop ul.ab-sub-secondary{box-shadow:none;margin:0;display:block;position:relative;right:auto}#wpadminbar .quicklinks .menupop ul.ab-sub-secondary,#wpadminbar .quicklinks .menupop ul.ab-sub-secondary .ab-submenu{background:#3c434a}#wpadminbar .quicklinks .menupop .ab-sub-secondary>li>a:hover,#wpadminbar .quicklinks .menupop .ab-sub-secondary>li .ab-item:focus a{color:#72aee6}#wpadminbar .ab-top-secondary{float:right}#wpadminbar ul li:last-child,#wpadminbar ul li:last-child .ab-item{box-shadow:none}#wpadminbar #wp-admin-bar-recovery-mode,#wpadminbar .ab-top-menu>#wp-admin-bar-recovery-mode.hover>.ab-item,#wpadminbar.nojq .quicklinks .ab-top-menu>#wp-admin-bar-recovery-mode>.ab-item:focus,#wpadminbar:not(.mobile) .ab-top-menu>#wp-admin-bar-recovery-mode:hover>.ab-item,#wpadminbar:not(.mobile) .ab-top-menu>#wp-admin-bar-recovery-mode>.ab-item:focus{color:#fff;background-color:#d63638}#wp-admin-bar-my-account>ul{min-width:198px}#wp-admin-bar-my-account:not(.with-avatar)>.ab-item{display:inline-block}#wp-admin-bar-my-account>.ab-item:before{content:\"\\uf110\";float:right;margin-left:6px;margin-right:0;top:2px}#wp-admin-bar-my-account.with-avatar>.ab-item:before{content:none;display:none}#wp-admin-bar-my-account.with-avatar>ul{min-width:270px}#wpadminbar #wp-admin-bar-user-actions>li{margin-left:16px;margin-right:16px}#wpadminbar #wp-admin-bar-user-actions.ab-submenu{padding:6px 0 12px}#wpadminbar #wp-admin-bar-my-account.with-avatar #wp-admin-bar-user-actions>li{margin-left:88px}#wpadminbar #wp-admin-bar-user-info{background:0 0;height:auto;margin-top:6px;margin-bottom:15px}#wp-admin-bar-user-info .avatar{width:64px;height:64px;position:absolute;top:4px;left:-72px}#wpadminbar #wp-admin-bar-user-info a{background:0 0;height:auto}#wpadminbar #wp-admin-bar-user-info span{background:0 0;height:18px;padding:0}#wpadminbar #wp-admin-bar-user-info .display-name,#wpadminbar #wp-admin-bar-user-info .username{display:block}#wpadminbar #wp-admin-bar-user-info .username{color:#a7aaad;font-size:11px}#wpadminbar #wp-admin-bar-my-account.with-avatar>.ab-empty-item img,#wpadminbar #wp-admin-bar-my-account.with-avatar>a img{vertical-align:middle;float:none;background:#f0f0f1;border:1px solid #8c8f94;width:auto;height:16px;margin:-4px 0 0 6px;padding:0;line-height:1.84615;display:inline}#wpadminbar #wp-admin-bar-wp-logo>.ab-item{padding:0 7px}#wpadminbar #wp-admin-bar-appearance{margin-top:-12px}#wpadminbar #wp-admin-bar-my-sites>.ab-item:before,#wpadminbar #wp-admin-bar-site-name>.ab-item:before{content:\"\\uf541\";top:2px}#wpadminbar #wp-admin-bar-site-editor>.ab-item:before{content:\"\\uf100\";top:2px}#wpadminbar #wp-admin-bar-customize>.ab-item:before{content:\"\\uf540\";top:2px}#wpadminbar #wp-admin-bar-edit>.ab-item:before{content:\"\\uf464\";top:2px}#wpadminbar #wp-admin-bar-site-name>.ab-item:before{content:\"\\uf226\"}.wp-admin #wpadminbar #wp-admin-bar-site-name>.ab-item:before{content:\"\\uf102\"}#wpadminbar #wp-admin-bar-search .ab-item{background:0 0;padding:0}#wpadminbar .screen-reader-text,#wpadminbar .screen-reader-text span{clip:rect(1px,1px,1px,1px);clip-path:inset(50%);border:0;width:1px;height:1px;margin:-1px;padding:0;position:absolute;overflow:hidden;word-wrap:normal!important}@media screen and (max-width:782px){html{--wp-admin--admin-bar--height:46px}html #wpadminbar{min-width:240px;height:46px}#wpadminbar *{font-family:-apple-system,BlinkMacSystemFont,Segoe UI,Roboto,Oxygen-Sans,Ubuntu,Cantarell,Helvetica Neue,sans-serif;font-size:14px;font-weight:400;line-height:2.28571}#wpadminbar .quicklinks>ul>li>a,#wpadminbar .quicklinks .ab-empty-item{width:auto;height:46px;padding:0;line-height:3.28571}#wpadminbar .ab-submenu{padding:0}#wpadminbar #wp-admin-bar-site-name a.ab-item,#wpadminbar #wp-admin-bar-my-sites a.ab-item,#wpadminbar #wp-admin-bar-my-account a.ab-item{text-overflow:clip}#wpadminbar .quicklinks .menupop ul li .ab-item,#wpadminbar .quicklinks .menupop ul li a strong,#wpadminbar .quicklinks .menupop.hover ul li .ab-item{line-height:1.6}#wpadminbar .menupop li:hover>.ab-sub-wrapper,#wpadminbar .menupop li.hover>.ab-sub-wrapper{margin-top:-46px}#wpadminbar .ab-top-menu .menupop .ab-sub-wrapper .menupop>.ab-item{padding-right:30px}#wpadminbar .menupop .menupop>.ab-item:before{top:10px;right:6px}#wpadminbar .ab-top-menu>.menupop>.ab-sub-wrapper .ab-item{padding:8px 16px;font-size:16px}#wpadminbar .ab-top-menu>.menupop>.ab-sub-wrapper a:empty{display:none}#wpadminbar #wp-admin-bar-wp-logo>.ab-item,#wpadminbar .ab-item:before{padding:0}#wpadminbar #wp-admin-bar-my-sites>.ab-item,#wpadminbar #wp-admin-bar-site-name>.ab-item,#wpadminbar #wp-admin-bar-site-editor>.ab-item,#wpadminbar #wp-admin-bar-customize>.ab-item,#wpadminbar #wp-admin-bar-edit>.ab-item,#wpadminbar #wp-admin-bar-my-account>.ab-item{text-indent:100%;white-space:nowrap;color:#a7aaad;width:52px;padding:0;position:relative;overflow:hidden}#wpadminbar .ab-item:before{margin-right:0;padding:0}#wpadminbar #wp-admin-bar-edit>.ab-item:before,#wpadminbar #wp-admin-bar-my-sites>.ab-item:before,#wpadminbar #wp-admin-bar-site-name>.ab-item:before,#wpadminbar #wp-admin-bar-site-editor>.ab-item:before,#wpadminbar #wp-admin-bar-customize>.ab-item:before,#wpadminbar #wp-admin-bar-my-account>.ab-item:before{text-indent:0;speak:never;text-align:center;-webkit-font-smoothing:antialiased;-moz-osx-font-smoothing:grayscale;width:52px;font:32px/1 dashicons;display:block;top:7px}#wpadminbar #wp-admin-bar-appearance{margin-top:0}#wpadminbar #wp-admin-bar-search{display:none}#wpadminbar #wp-admin-bar-updates{text-align:center}#wpadminbar #wp-admin-bar-my-account>a{white-space:nowrap;text-indent:150%;width:28px;padding:0 10px;position:relative;overflow:hidden}#wpadminbar .quicklinks li#wp-admin-bar-my-account.with-avatar>a img{width:26px;height:26px;position:absolute;top:13px;right:10px}#wpadminbar #wp-admin-bar-user-actions.ab-submenu{padding:0}#wpadminbar #wp-admin-bar-user-actions.ab-submenu img.avatar{display:none}#wpadminbar #wp-admin-bar-my-account.with-avatar #wp-admin-bar-user-actions>li{margin:0}#wpadminbar #wp-admin-bar-user-info .display-name{color:#f0f0f1;height:auto;font-size:16px;line-height:1.5}#wpadminbar #wp-admin-bar-user-info a{padding-top:4px}#wpadminbar #wp-admin-bar-user-info .username{margin-bottom:-2px;line-height:.8!important}#wp-toolbar>ul>li{display:none}#wpadminbar li#wp-admin-bar-menu-toggle,#wpadminbar li#wp-admin-bar-wp-logo,#wpadminbar li#wp-admin-bar-my-sites,#wpadminbar li#wp-admin-bar-updates,#wpadminbar li#wp-admin-bar-site-name,#wpadminbar li#wp-admin-bar-site-editor,#wpadminbar li#wp-admin-bar-customize,#wpadminbar li#wp-admin-bar-new-content,#wpadminbar li#wp-admin-bar-edit,#wpadminbar li#wp-admin-bar-comments,#wpadminbar li#wp-admin-bar-my-account{display:block}#wpadminbar li:hover ul li,#wpadminbar li.hover ul li,#wpadminbar li:hover ul li:hover ul li{display:list-item}#wpadminbar .ab-top-menu>.menupop>.ab-sub-wrapper{min-width:-moz-fit-content;min-width:fit-content}#wpadminbar ul#wp-admin-bar-root-default>li{margin-right:0}#wpadminbar .ab-top-menu,#wpadminbar .ab-top-secondary,#wpadminbar #wp-admin-bar-wp-logo,#wpadminbar #wp-admin-bar-my-sites,#wpadminbar #wp-admin-bar-site-name,#wpadminbar #wp-admin-bar-updates,#wpadminbar #wp-admin-bar-comments,#wpadminbar #wp-admin-bar-new-content,#wpadminbar #wp-admin-bar-edit,#wpadminbar #wp-admin-bar-my-account{position:static}#wpadminbar #wp-admin-bar-my-account{float:right}#wpadminbar .ab-top-secondary .menupop .menupop>.ab-item:before{top:10px;left:0}}@media screen and (max-width:600px){#wpadminbar{position:absolute}#wpadminbar .ab-top-menu>.menupop>.ab-sub-wrapper{width:100%;left:0}#wpadminbar .menupop .menupop>.ab-item:before{display:none}#wpadminbar #wp-admin-bar-wp-logo.menupop .ab-sub-wrapper{margin-left:0}#wpadminbar .ab-top-menu>.menupop li>.ab-sub-wrapper{width:100%;margin:0;position:relative;top:auto;left:auto}#wpadminbar .ab-top-menu>.menupop li>.ab-sub-wrapper .ab-item{padding:6px 15px 19px 30px;font-size:16px}#wpadminbar li:hover ul li ul li{display:list-item}#wpadminbar li#wp-admin-bar-wp-logo,#wpadminbar li#wp-admin-bar-updates{display:none}#wpadminbar .ab-top-menu>.menupop li>.ab-sub-wrapper{box-shadow:none;position:static}}@media screen and (max-width:400px){#wpadminbar li#wp-admin-bar-comments{display:none}}.dashicons-move:before{content:\"\\uf545\"}#wpadminbar .toolbar-node-skeleton-wrapper{--toolbar-node-skeleton-gradient--dark:#f0f6fc1a;--toolbar-node-skeleton-gradient--light:#f0f6fc4d;box-sizing:border-box;height:var(--wp-admin--admin-bar--height);cursor:progress;min-width:100px;padding:7px}#wpadminbar .toolbar-node-skeleton{background:linear-gradient(-90deg,var(--toolbar-node-skeleton-gradient--dark)0%,var(--toolbar-node-skeleton-gradient--light)50%,var(--toolbar-node-skeleton-gradient--dark)100%);background-size:400% 400%;border-radius:3px;width:100%;height:100%;animation:1.2s ease-in-out infinite pulse}@media (prefers-reduced-motion){#wpadminbar .toolbar-node-skeleton{animation:none}}@keyframes pulse{0%{background-position:0 0}to{background-position:-135% 0}}body.admin-bar{margin-top:var(--wp-admin--admin-bar--height)}#wpadminbar .ab-empty-item,#wpadminbar a.ab-item{color:#f0f0f1}</style>\\n<style>.NasaFooter[data-v-13800a90]{z-index:10001;position:relative}.NasaFooter .usa-header-primary button span[data-v-13800a90]{font-size:1.1rem}.NasaFooter .usa-list a[data-v-13800a90],.NasaFooter .usa-list span[data-v-13800a90],.NasaFooter .usa-nav__link a[data-v-13800a90],.NasaFooter .usa-nav__link span[data-v-13800a90]{font-family:inter,sans-serif}.NasaFooter.usa-footer .usa-header.usa-header-primary a[data-v-13800a90],.NasaFooter.usa-footer .usa-header.usa-header-primary span[data-v-13800a90]{font-size:1.1rem;font-weight:600}.NasaFooter .usa-header input[type=search][data-v-13800a90]{max-width:200px}.NasaFooter .usa-header .usa-nav__primary .usa-nav__primary-item[data-v-13800a90]:hover{cursor:pointer}.NasaFooter .usa-header.text-white .usa-nav__primary-item>.usa-current[data-v-13800a90]:after{background-color:#fff}.NasaFooter .usa-header-primary .usa-logo[data-v-13800a90]{flex:unset}.NasaFooter .usa-list a[data-v-13800a90],.NasaFooter .usa-list span[data-v-13800a90]{font-size:.95rem;line-height:1em;display:block}.NasaFooter .grid-container-block[data-v-13800a90]{max-width:85rem}.NasaFooter .grid-container-extrawide[data-v-13800a90]{max-width:110rem}.NasaFooter .grid-container-block-lg[data-v-13800a90]{max-width:100rem}.NasaFooter.usa-footer>.grid-container[data-v-13800a90],.NasaFooter.usa-footer__primary-section>.grid-container[data-v-13800a90]{max-width:1400px;padding-left:0!important;padding-right:0!important}.NasaFooter .social-icons a[data-v-13800a90]{background-color:#2e2e32;border-radius:50%;justify-content:center;align-items:center;width:32px;height:32px;margin:0 10px 0 0;display:flex}.NasaFooter .hds-footer-details[data-v-13800a90]{max-width:22rem}.NasaFooter .hds-footer-menu[data-v-13800a90]{margin:0;padding:0;list-style:none}.NasaFooter .hds-menu-col-3[data-v-13800a90]{-moz-columns:3;columns:3}@media (max-width:768px){.NasaFooter .hds-menu-col-3[data-v-13800a90]{-moz-columns:2;columns:2}}.NasaFooter .hds-footer-menu [data-v-13800a90],.NasaFooter .hds-footer-menu>li>a[data-v-13800a90]{font-size:.9rem;font-weight:400;line-height:1.2em}.NasaFooter .hds-footer-menu>li>a[data-v-13800a90]{padding:.5rem 0;display:block}.NasaFooter .hds-footer-menu>li>a:hover>span[data-v-13800a90]{text-underline-offset:.3em;text-decoration:underline}.NasaFooter .hds-footer-menu.hds-footer-menu-horizontal>li[data-v-13800a90]{display:inline-block}.NasaFooter .hds-footer-menu.hds-footer-menu-horizontal>li>a[data-v-13800a90]{padding:.5rem .75rem}.NasaFooter .hds-footer-menu.hds-footer-menu-horizontal>li.hds-footer-meta[data-v-13800a90]{margin-right:2rem;display:inline-flex}@media screen and (max-width:1200px){.NasaFooter .hds-footer-menu.hds-footer-menu-horizontal>li[data-v-13800a90]{width:100%;padding:0;display:block}.NasaFooter .hds-footer-menu.hds-footer-menu-horizontal>li>a[data-v-13800a90]{padding:.35rem 0}.NasaFooter .hds-footer-menu.hds-footer-menu-horizontal[data-v-13800a90]{-moz-columns:3;columns:3}}@media screen and (max-width:800px){.NasaFooter .hds-footer-menu.hds-footer-menu-horizontal[data-v-13800a90]{-moz-columns:2;columns:2}.NasaFooter .hds-footer-menu.hds-footer-menu-horizontal.hds-menu-meta[data-v-13800a90]{-moz-columns:1;columns:1}}.NasaFooter .hds-footer-meta .hds-footer-meta-label[data-v-13800a90]{padding-right:.5rem}.NasaFooter .hds-footer-meta .hds-footer-meta-value[data-v-13800a90]{font-weight:600}.NasaFooter .hds-footer-secondary[data-v-13800a90]{border-color:#58585b}@media screen and (min-width:1024px){.NasaFooter .hds-footer-secondary[data-v-13800a90]{margin-top:1.5rem}}@media screen and (min-width:1199px){.NasaFooter .hds-footer-menu.hds-footer-menu-horizontal>li:first-child>a[data-v-13800a90]{padding-left:0}}</style>\\n<style>.BaseButton.button-primary span span,.BaseButton.button-secondary span span,.BaseButton.hds-button-download span span,.BaseButton.hds-button-share span span{margin-right:0}.BaseButton.hds-button-download.color-nasa-blue-important svg path,.BaseButton.hds-button-share.color-nasa-blue-important svg path{fill:#1c67e3}.BaseButton.hds-button-download.color-spacesuit-white-important svg path,.BaseButton.hds-button-share.color-spacesuit-white-important svg path{fill:#fff}</style>\\n<style>#primary.site-main{z-index:99;min-height:50vh;position:relative}</style>\\n<style>#headlessui-portal-root{z-index:1000}</style>\\n<style>#headlessui-portal-root{z-index:1000;position:relative}#headlessui-portal-root .global-navigation .hds-global-menu-item a{align-items:center;display:flex}#headlessui-portal-root .global-navigation .hds-global-menu-item a span{margin-right:.5rem;font-weight:400}@media screen and (min-width:639px){#headlessui-portal-root .global-navigation .hds-global-menu-item a span{white-space:nowrap}}@media screen and (min-width:1024px){#headlessui-portal-root .global-navigation .hds-global-menu-item a span{margin-left:.8rem;font-size:.8rem}}@media screen and (min-width:1240px){#headlessui-portal-root .global-navigation .hds-global-menu-item a span{margin-top:.35rem;font-size:1rem}}@media screen and (min-width:1760px){#headlessui-portal-root .global-navigation .hds-global-menu-item a span{margin-left:0}}#headlessui-portal-root .global-navigation .global-nav__primary-list.usa-nav__submenu-list .usa-nav__submenu-item{border-top:0;margin-top:0}#headlessui-portal-root .global-navigation .global-nav__primary-list.usa-nav__submenu-list .usa-nav__submenu-item a{align-items:center;width:100%;font-weight:400;line-height:1em;display:flex}#headlessui-portal-root .global-navigation .global-nav__primary-list.usa-nav__submenu-list .usa-nav__submenu-item a:hover{text-decoration:none}#headlessui-portal-root .global-navigation .global-nav__primary-list.usa-nav__submenu-list .usa-nav__submenu-item a .global-nav__primary-list.usa-nav__submenu-list{overflow-y:auto}#headlessui-portal-root .global-navigation .global-nav__primary-list.usa-nav__submenu-list .usa-nav__submenu-item a .global-nav__primary-list.usa-nav__submenu-list li.usa-nav__submenu-item a span{border-bottom:1px solid #0000;padding-bottom:4px}.dialog-backdrop{background:#000;position:fixed;top:0;bottom:0;left:0;right:0}@media (min-width:768px){.dialog-backdrop{opacity:.8}}div#headlessui-portal-root{position:relative}.global-nav__primary-list.usa-nav__submenu-list{flex-direction:column;width:100%;display:flex}.global-nav__primary-list.usa-nav__submenu-list .usa-nav__submenu-item{border-top:0;flex-direction:row;width:100%;margin-top:0;display:flex}.NasaHeader{transition:all .12s ease-in-out;position:relative;top:0}.NasaHeader.usa-header.usa-header-primary a.usa-logo{width:unset}.NasaHeader .hds-search-panel-mobile-trigger{color:#d1d1d1}.NasaHeader .hds-nav-primary{margin:0;padding:0;list-style:none}.NasaHeader .usa-header.usa-header-primary a,.NasaHeader .usa-header.usa-header-primary span{font-weight:400}.NasaHeader .usa-header.usa-header-primary a{flex-direction:row;justify-content:flex-start;align-items:center;display:flex;cursor:pointer!important}.NasaHeader .usa-header.usa-header-primary a span{white-space:nowrap;font-weight:600}.NasaHeader .usa-header.usa-header-primary a svg{width:1.5rem;height:1.5rem}.NasaHeader input[type=search]{box-sizing:border-box;-webkit-appearance:none;-moz-appearance:none;appearance:none}.NasaHeader [type=search]{box-sizing:border-box;float:left;border-top-right-radius:0;border-bottom-right-radius:0;height:2rem;margin:0;padding-top:0;padding-bottom:0;font-size:.94rem}.NasaHeader .usa-search:after{clear:both;content:\"\";display:block}.NasaHeader .usa-search [role=search],.NasaHeader .usa-search[role=search],.NasaHeader .usa-search[role=search]>div{display:flex}.NasaHeader .usa-search [type=submit]{border-top-left-radius:0;border-bottom-left-radius:0;width:3rem;height:2rem;margin:0;padding:0}.NasaHeader .usa-search--small [type=submit]{min-width:3rem;padding-left:.75rem;padding-right:.75rem}@media (min-width:30em){.usa-search [type=submit]{width:auto;padding-left:1rem;padding-right:1rem}}@media (forced-colors:active) and (min-width:30em){.usa-search [type=submit]:before{content:none}.usa-search--small [type=submit]:before{content:\"\"}}button#global-navigation-trigger svg{transition:all .2s}button#global-navigation-trigger:after,button#global-navigation-trigger:hover:after,button#global-navigation-trigger>span:after,button#global-navigation-trigger:hover>span:after{display:none!important}button#global-navigation-trigger,button#global-navigation-trigger:hover{cursor:pointer;background-image:none}button[aria-expanded=true]#global-navigation-trigger{background-color:#0000}button[aria-expanded=true]#global-navigation-trigger svg{transform:rotate(-180deg)}.hds-explore-nav-trigger svg{shape-rendering:geometricprecision;max-width:12px;transition:all .2s}@media screen and (min-width:1138px){.hds-explore-nav-trigger svg{max-width:16px}}.hds-explore-nav-trigger button[aria-expanded=true] svg{transform:rotate(-180deg)}.mobile-search-popover{-ms-overflow-style:none;scrollbar-width:none;position:fixed;top:0;left:0}.mobile-search-popover::-webkit-scrollbar{display:none}a.hds-nav__link-nasa-live.usa-nav__link-nasa-live{align-items:center}a.hds-nav__link-nasa-live.usa-nav__link-nasa-live>span{margin-right:.7rem}.hds-global-menu-item.hds-nav__link-nasa-live a>span{margin-right:.5rem}.hds-global-menu-item.hds-nav__link-nasa-live>a{align-items:center;display:flex}.usa-nav__link-nasa-live span:after{content:\"Live\";letter-spacing:.1em;text-transform:uppercase;vertical-align:middle;border:1px solid #f64137;border-radius:2px;margin-block-start:-.1em;margin-inline-start:.5em;padding:.2em .3em;font-family:DM Mono,monospace;font-size:.65em;font-weight:500;line-height:.9;display:inline-block!important}.usa-nav__primary-item:hover .usa-nav__link-nasa-live span:after{background-color:#b60109}.is-live .usa-nav__link-nasa-live span:after{color:#fff;background-color:#f64137;animation:3s infinite live_pulse}</style>\\n<style>.hds-nav-has-submenu{white-space:nowrap;justify-content:center;align-items:center;display:flex;position:relative}.hds-nav-has-submenu svg{color:#fff;fill:#fff;margin-left:.5rem;transition:all .2s}.hds-nav-has-submenu span:after{display:none!important}.mobile-nav .hds-global-menu-primary.global-nav__primary-list li a{-webkit-user-select:none;user-select:none;margin-bottom:.34em}.mobile-nav .hds-global-menu-primary.global-nav__primary-list li a:focus{outline:none!important}.hds-nav__submenu{z-index:-999;background:#000;min-width:18rem;padding:1rem 0;list-style:none;position:absolute;top:100%;right:0;overflow:hidden;outline-color:#0000!important}.hds-nav-has-submenu:hover .usa-nav__link:hover:after{display:none!important}.usa-nav__primary .hds-nav-has-submenu button[aria-expanded=true]{background:0 0}.hds-submenu-item,.hds-submenu-item>a{list-style:none;display:block}.usa-header.usa-header-primary a,.usa-header.usa-header-primary span{font-size:.88rem;line-height:1}@media screen and (min-width:1138px){.usa-header.usa-header-primary a,.usa-header.usa-header-primary span{font-size:1.1rem;line-height:1}}.hds-nav__submenu>li.hds-submenu-item>a{color:#fff;width:100%;padding:.7rem 1.5rem;font-size:1rem;font-weight:400;line-height:1em;display:block}.hds-nav__submenu>li.hds-submenu-item>a>span{color:#fff;font-size:1rem;font-weight:400}.hds-nav__submenu>li.hds-submenu-item .button-primary{align-items:center;margin-bottom:.5rem;padding:.7rem 1.5rem;display:flex}.hds-nav__submenu .button-primary svg{min-width:1.5rem;min-height:1.5rem}.hds-nav__submenu .hds-submenu-item a>span{border-bottom:1px solid #0000;padding-bottom:4px}.hds-nav__submenu .hds-submenu-item:hover a>span,.hds-nav__submenu .hds-submenu-item.usa-current a>span{border-bottom:1px dashed #fff}.usa-nav__primary .hds-nav-has-submenu button[aria-expanded=true] svg{transform:rotate(-180deg)}</style>\\n<style>.TemplateGeneric .smd-plain-title+.GutenbergBlocks>.BlockLayout:first-child{margin-top:0}</style>\\n<style>.NasaBlocksSecondaryNavigationDesktopBlock{z-index:1000;position:relative}.NasaBlocksSecondaryNavigationDesktopBlock.hds-secondary-navigation{text-align:left}@media screen and (min-width:1601px){.NasaBlocksSecondaryNavigationDesktopBlock.hds-secondary-navigation .hds-secondary-navigation-has-breadcrumbs .hds-secondary-navigation-menu-items{flex:0 auto;width:50%}.NasaBlocksSecondaryNavigationDesktopBlock.hds-secondary-navigation .hds-secondary-navigation-has-breadcrumbs .hds-secondary-navigation-menu-items .usa-nav__primary-item>a,.NasaBlocksSecondaryNavigationDesktopBlock.hds-secondary-navigation .hds-secondary-navigation-has-breadcrumbs .hds-secondary-navigation-menu-items .usa-nav__primary-item>button{white-space:nowrap}}@media screen and (min-width:1024px){.NasaBlocksSecondaryNavigationDesktopBlock.hds-secondary-navigation{display:block!important}}</style>\\n<style>.NavSecondaryMobileBlock{font-size:1rem!important;line-height:1.25rem!important}.NavSecondaryMobileBlock nav{width:100%}.NavSecondaryMobileBlock nav button{padding:.625rem 1.25rem}.NavSecondaryMobileBlock nav .mobile-nav-toggle-icon{transition:transform .3s;transform:rotate(0)}.NavSecondaryMobileBlock nav .mobile-nav-toggle-icon.open{transform:rotate(-180deg)}.NavSecondaryMobileBlock .nav-secondary-border{border-style:solid;border-width:0 0 1px}.NavSecondaryMobileBlock .nav-secondary-dark{background-color:#17171b;border-color:#2e2e32;color:#fff!important}.NavSecondaryMobileBlock .nav-secondary-light{background-color:#fff;border-color:#d1d1d1;color:#17171b!important}.NavSecondaryMobileBlock .dark-mode-nav-link{color:#17171b!important}</style>\\n<style>.hds-media .nasa-block-align-inline{max-width:840px}.hds-media .nasa-block-align-full{max-width:100%}.hds-media .nasa-block-align-full figcaption{padding-left:40px;padding-right:40px}@media screen and (max-width:800px){.hds-media .nasa-block-align-full figcaption{padding-left:20px;padding-right:20px}}.hds-media .nasa-block-align-wide{max-width:1100px}.hds-media .hds-media-inner{width:100%;height:100%;display:flex;overflow:hidden}</style>\\n<style>.CoreHeadingBlock h2,.CoreHeadingBlock h3,.CoreHeadingBlock h4{margin:0}</style>\\n<style>.Breadcrumbs.hds-secondary-navigation-breadcrumbs,.Breadcrumbs.hds-secondary-navigation-breadcrumbs .usa-breadcrumb{padding-top:0;padding-bottom:0}.Breadcrumbs.hds-secondary-navigation-breadcrumbs li.usa-breadcrumb__list-item a{text-decoration:none}.Breadcrumbs.hds-secondary-navigation-breadcrumbs li.usa-breadcrumb__list-item.usa-current{text-overflow:ellipsis;font-size:inherit;display:inline;overflow:hidden}.Breadcrumbs.hds-secondary-navigation-breadcrumbs li.usa-breadcrumb__list-item.usa-current>span{font-size:.8rem}</style>\\n<style>.NavSecondaryMobile .nav-link{padding:.625rem 1.25rem;display:block}</style>\\n<style>.NavSecondaryDesktopDropdownDesktop .usa-nav__submenu ul.nested-menu{margin:0;padding:0;list-style-type:none}.NavSecondaryDesktopDropdownDesktop .usa-nav__submenu ul.nested-menu li>a{padding-left:2rem;display:block}.NavSecondaryDesktopDropdownDesktop .usa-nav__submenu ul.nested-menu li>a:hover{padding-left:2rem}</style>\\n<style>.NavSecondaryMobileDropdown button{border:0}.NavSecondaryMobileDropdown .dropdown-panel .dropdown-sublink{padding:.625rem 2.5rem;display:block}</style>\\n<style>:where(.wp-block-button__link){box-shadow:none;border-radius:9999px;padding:calc(.667em + 2px) calc(1.333em + 2px);text-decoration:none}:where(.wp-block-calendar table:not(.has-background) th){background:#ddd}:where(.wp-block-columns){margin-bottom:1.75em}:where(.wp-block-columns.has-background){padding:1.25em 2.375em}:where(.wp-block-post-comments input[type=submit]){border:none}:where(.wp-block-cover:not(.has-text-color)){color:#fff}:where(.wp-block-cover-image:not(.has-text-color)){color:#fff}:where(.wp-block-cover.is-light:not(.has-text-color)){color:#000}:where(.wp-block-cover-image.is-light:not(.has-text-color)){color:#000}.wp-block-embed{overflow-wrap:break-word}.wp-block-embed figcaption{margin-top:.5em;margin-bottom:1em}.wp-block-embed iframe{max-width:100%}.wp-block-embed__wrapper{position:relative}:where(.wp-block-file){margin-bottom:1.5em}:where(.wp-block-file__button){border-radius:2em;padding:.5em 1em;display:inline-block}:where(.wp-block-file__button):-webkit-any(a):hover{box-shadow:none;color:#fff;opacity:.85;text-decoration:none}:where(.wp-block-file__button):-moz-any(a):hover{box-shadow:none;color:#fff;opacity:.85;text-decoration:none}:where(.wp-block-file__button):is(a):hover{box-shadow:none;color:#fff;opacity:.85;text-decoration:none}:where(.wp-block-file__button):-webkit-any(a):visited{box-shadow:none;color:#fff;opacity:.85;text-decoration:none}:where(.wp-block-file__button):-moz-any(a):visited{box-shadow:none;color:#fff;opacity:.85;text-decoration:none}:where(.wp-block-file__button):is(a):visited{box-shadow:none;color:#fff;opacity:.85;text-decoration:none}:where(.wp-block-file__button):-webkit-any(a):focus{box-shadow:none;color:#fff;opacity:.85;text-decoration:none}:where(.wp-block-file__button):-moz-any(a):focus{box-shadow:none;color:#fff;opacity:.85;text-decoration:none}:where(.wp-block-file__button):is(a):focus{box-shadow:none;color:#fff;opacity:.85;text-decoration:none}:where(.wp-block-file__button):-webkit-any(a):active{box-shadow:none;color:#fff;opacity:.85;text-decoration:none}:where(.wp-block-file__button):-moz-any(a):active{box-shadow:none;color:#fff;opacity:.85;text-decoration:none}:where(.wp-block-file__button):is(a):active{box-shadow:none;color:#fff;opacity:.85;text-decoration:none}.wp-block-image img{vertical-align:bottom;box-sizing:border-box;max-width:100%;height:auto}.wp-block-image figcaption{margin-top:.5em;margin-bottom:1em}.wp-block-image :where(.has-border-color){border-style:solid}.wp-block-image :where([style*=border-top-color]){border-top-style:solid}.wp-block-image :where([style*=border-right-color]){border-right-style:solid}.wp-block-image :where([style*=border-bottom-color]){border-bottom-style:solid}.wp-block-image :where([style*=border-left-color]){border-left-style:solid}.wp-block-image :where([style*=border-width]){border-style:solid}.wp-block-image :where([style*=border-top-width]){border-top-style:solid}.wp-block-image :where([style*=border-right-width]){border-right-style:solid}.wp-block-image :where([style*=border-bottom-width]){border-bottom-style:solid}.wp-block-image :where([style*=border-left-width]){border-left-style:solid}.wp-block-image figure{margin:0}@keyframes turn-off-visibility{0%{opacity:1;visibility:visible}99%{opacity:0;visibility:visible}to{opacity:0;visibility:hidden}}@keyframes lightbox-zoom-out{0%{visibility:visible;transform:translate(-50%,-50%)scale(1)}99%{visibility:visible}to{visibility:hidden;transform:translate(calc((-100vw + var(--wp--lightbox-scrollbar-width))/2 + var(--wp--lightbox-initial-left-position)),calc(-50vh + var(--wp--lightbox-initial-top-position)))scale(var(--wp--lightbox-scale))}}:where(.wp-block-latest-comments:not([style*=line-height] .wp-block-latest-comments__comment)){line-height:1.1}:where(.wp-block-latest-comments:not([style*=line-height] .wp-block-latest-comments__comment-excerpt p)){line-height:1.8}ol,ul{box-sizing:border-box}:where(.wp-block-navigation.has-background .wp-block-navigation-item a:not(.wp-element-button)){padding:.5em 1em}:where(.wp-block-navigation.has-background .wp-block-navigation-submenu a:not(.wp-element-button)){padding:.5em 1em}:where(.wp-block-navigation .wp-block-navigation__submenu-container .wp-block-navigation-item a:not(.wp-element-button)){padding:.5em 1em}:where(.wp-block-navigation .wp-block-navigation__submenu-container .wp-block-navigation-submenu a:not(.wp-element-button)){padding:.5em 1em}:where(.wp-block-navigation .wp-block-navigation__submenu-container .wp-block-navigation-submenu button.wp-block-navigation-item__content){padding:.5em 1em}:where(.wp-block-navigation .wp-block-navigation__submenu-container .wp-block-pages-list__item button.wp-block-navigation-item__content){padding:.5em 1em}:where(p.has-text-color:not(.has-link-color)) a{color:inherit}:where(.wp-block-post-excerpt){margin-top:var(--wp--style--block-gap);margin-bottom:var(--wp--style--block-gap)}:where(.wp-block-preformatted.has-background){padding:1.25em 2.375em}:where(.wp-block-pullquote){margin:0 0 1em}@media (max-width:600px){.wp-block-post-template-is-layout-grid.wp-block-post-template-is-layout-grid.wp-block-post-template-is-layout-grid.wp-block-post-template-is-layout-grid{grid-template-columns:1fr}}:where(.wp-block-search__button){border:1px solid #ccc;padding:6px 10px}:where(.wp-block-search__button-inside .wp-block-search__inside-wrapper){box-sizing:border-box;border:1px solid #949494;padding:4px}:where(.wp-block-search__button-inside .wp-block-search__inside-wrapper) :where(.wp-block-search__button){padding:4px 8px}.wp-block-table{overflow-x:auto}.wp-block-table table{border-collapse:collapse;width:100%}.wp-block-table thead{border-bottom:3px solid}.wp-block-table td,.wp-block-table th{border:1px solid;padding:.5em}.wp-block-table .has-fixed-layout{table-layout:fixed;width:100%}.wp-block-table .has-fixed-layout td,.wp-block-table .has-fixed-layout th{word-break:break-word}:where(.wp-block-term-description){margin-top:var(--wp--style--block-gap);margin-bottom:var(--wp--style--block-gap)}:where(pre.wp-block-verse){font-family:inherit}.entry-content{counter-reset:footnotes}.screen-reader-text{clip:rect(1px,1px,1px,1px);clip-path:inset(50%);border:0;width:1px;height:1px;margin:-1px;padding:0;position:absolute;overflow:hidden;word-wrap:normal!important}.screen-reader-text:focus{clip-path:none;color:#444;z-index:100000;background-color:#ddd;width:auto;height:auto;padding:15px 23px 14px;font-size:1em;line-height:normal;text-decoration:none;display:block;top:5px;left:5px;clip:auto!important}html :where(.has-border-color){border-style:solid}html :where([style*=border-top-color]){border-top-style:solid}html :where([style*=border-right-color]){border-right-style:solid}html :where([style*=border-bottom-color]){border-bottom-style:solid}html :where([style*=border-left-color]){border-left-style:solid}html :where([style*=border-width]){border-style:solid}html :where([style*=border-top-width]){border-top-style:solid}html :where([style*=border-right-width]){border-right-style:solid}html :where([style*=border-bottom-width]){border-bottom-style:solid}html :where([style*=border-left-width]){border-left-style:solid}html :where(img[class*=wp-image-]){max-width:100%;height:auto}:where(figure){margin:0 0 1em}.bg-carbon-black{background-color:#000}.bg-spacesuit-white{background-color:#fff}.bg-nasa-red{background-color:#f64137}.bg-carbon-90{background-color:#17171b}.bg-carbon-80{background-color:#2e2e32}.bg-carbon-30{background-color:#b9b9bb}.bg-carbon-10{background-color:#e3e3e3}.bg-carbon-05{background-color:#f6f6f6}.bg-nasa-red-shade{background-color:#b60109}.bg-nasa-blue-tint{background-color:#288bff}.bg-nasa-blue-shade{background-color:#0b3d91}.bg-active-green{background-color:#47da84}.bg-carbon-black-important{background-color:#000!important}.color-carbon-black,.color-carbon-black a,.color-carbon-black div,.color-carbon-black p,.color-carbon-black span,.color-carbon-black svg,div.color-carbon-black,p.color-carbon-black{color:#000;fill:#000}.color-spacesuit-white,.color-spacesuit-white a,.color-spacesuit-white div,.color-spacesuit-white p,.color-spacesuit-white span,.color-spacesuit-white svg,div.color-spacesuit-white,p.color-spacesuit-white{color:#fff;fill:#fff}.color-nasa-red,.color-nasa-red a,.color-nasa-red div,.color-nasa-red p,.color-nasa-red span,.color-nasa-red svg,div.color-nasa-red,p.color-nasa-red{color:#f64137;fill:#f64137}.color-nasa-blue,.color-nasa-blue a,.color-nasa-blue div,.color-nasa-blue p,.color-nasa-blue span,.color-nasa-blue svg,div.color-nasa-blue,p.color-nasa-blue{color:#1c67e3;fill:#1c67e3}.color-carbon-90,.color-carbon-90 a,.color-carbon-90 div,.color-carbon-90 p,.color-carbon-90 span,.color-carbon-90 svg,div.color-carbon-90,p.color-carbon-90{color:#17171b;fill:#17171b}.color-carbon-80,.color-carbon-80 a,.color-carbon-80 div,.color-carbon-80 p,.color-carbon-80 span,.color-carbon-80 svg,div.color-carbon-80,p.color-carbon-80{color:#2e2e32;fill:#2e2e32}.color-carbon-60,.color-carbon-60 a,.color-carbon-60 div,.color-carbon-60 p,.color-carbon-60 span,.color-carbon-60 svg,div.color-carbon-60,p.color-carbon-60{color:#58585b;fill:#58585b}.color-carbon-50,.color-carbon-50 a,.color-carbon-50 div,.color-carbon-50 p,.color-carbon-50 span,.color-carbon-50 svg,div.color-carbon-50,p.color-carbon-50{color:#77777a;fill:#77777a}.color-carbon-40,.color-carbon-40 a,.color-carbon-40 div,.color-carbon-40 p,.color-carbon-40 span,.color-carbon-40 svg,div.color-carbon-40,p.color-carbon-40{color:#959599;fill:#959599}.color-carbon-30,.color-carbon-30 a,.color-carbon-30 div,.color-carbon-30 p,.color-carbon-30 span,.color-carbon-30 svg,div.color-carbon-30,p.color-carbon-30{color:#b9b9bb;fill:#b9b9bb}.color-carbon-20,.color-carbon-20 a,.color-carbon-20 div,.color-carbon-20 p,.color-carbon-20 span,.color-carbon-20 svg,div.color-carbon-20,p.color-carbon-20{color:#d1d1d1;fill:#d1d1d1}.color-carbon-05,.color-carbon-05 a,.color-carbon-05 div,.color-carbon-05 p,.color-carbon-05 span,.color-carbon-05 svg,div.color-carbon-05,p.color-carbon-05{color:#f6f6f6;fill:#f6f6f6}.color-nasa-blue-tint,.color-nasa-blue-tint a,.color-nasa-blue-tint div,.color-nasa-blue-tint p,.color-nasa-blue-tint span,.color-nasa-blue-tint svg,div.color-nasa-blue-tint,p.color-nasa-blue-tint{color:#288bff;fill:#288bff}.color-international-orange,.color-international-orange a,.color-international-orange div,.color-international-orange p,.color-international-orange span,.color-international-orange svg,div.color-international-orange,p.color-international-orange{color:#ea6f24;fill:#ea6f24}.color-spacesuit-white-important,.color-spacesuit-white-important a,.color-spacesuit-white-important div,.color-spacesuit-white-important p,.color-spacesuit-white-important span,.color-spacesuit-white-important svg,div.color-spacesuit-white-important,p.color-spacesuit-white-important{color:#fff!important;fill:#fff!important}.color-nasa-blue-important,.color-nasa-blue-important a,.color-nasa-blue-important div,.color-nasa-blue-important p,.color-nasa-blue-important span,.color-nasa-blue-important svg,div.color-nasa-blue-important,p.color-nasa-blue-important{color:#1c67e3!important;fill:#1c67e3!important}.color-carbon-60-important,.color-carbon-60-important a,.color-carbon-60-important div,.color-carbon-60-important p,.color-carbon-60-important span,.color-carbon-60-important svg,div.color-carbon-60-important,p.color-carbon-60-important{color:#58585b!important;fill:#58585b!important}.color-carbon-40-important,.color-carbon-40-important a,.color-carbon-40-important div,.color-carbon-40-important p,.color-carbon-40-important span,.color-carbon-40-important svg,div.color-carbon-40-important,p.color-carbon-40-important{color:#959599!important;fill:#959599!important}.color-carbon-30-important,.color-carbon-30-important a,.color-carbon-30-important div,.color-carbon-30-important p,.color-carbon-30-important span,.color-carbon-30-important svg,div.color-carbon-30-important,p.color-carbon-30-important{color:#b9b9bb!important;fill:#b9b9bb!important}.color-carbon-20-important,.color-carbon-20-important a,.color-carbon-20-important div,.color-carbon-20-important p,.color-carbon-20-important span,.color-carbon-20-important svg,div.color-carbon-20-important,p.color-carbon-20-important{color:#d1d1d1!important;fill:#d1d1d1!important}.border-color-carbon-black{border-color:#000}.border-color-carbon-80{border-color:#2e2e32}.border-color-carbon-20{border-color:#d1d1d1}.border-color-carbon-05{border-color:#f6f6f6}.border-color-carbon-black-important{border-color:#000!important}.border-color-carbon-80-important{border-color:#2e2e32!important}.border-color-carbon-60-important{border-color:#58585b!important}.border-color-carbon-30-important{border-color:#b9b9bb!important}.border-color-carbon-20-important{border-color:#d1d1d1!important}.usa-list{margin-top:1em;margin-bottom:1em;padding-left:3ch;line-height:1.8}.usa-list:last-child{margin-bottom:0}.usa-list ol,.usa-list ul{margin-top:.25em}.usa-list li{max-width:68ex;margin-bottom:.25em}.usa-list li:last-child{margin-bottom:0}.usa-table,.usa-table caption{text-align:left;font-family:Public Sans Web,-apple-system,BlinkMacSystemFont,Segoe UI,Roboto,Helvetica,Arial,sans-serif,Apple Color Emoji,Segoe UI Emoji,Segoe UI Symbol}.usa-table{border-collapse:collapse;border-spacing:0;color:#1b1b1b;margin:1.25rem 0;font-size:1.38rem;line-height:1.8}.usa-table thead th{background-clip:padding-box;font-weight:700;line-height:1.4}.usa-table thead td,.usa-table thead th{color:#1b1b1b;background-color:#dfe1e2}.usa-table tbody th{text-align:left}.usa-table td,.usa-table th{background-color:#fff;border:1px solid #1b1b1b;padding:.5rem 1rem;font-weight:400}.usa-table caption{margin-bottom:.75rem;font-size:.94rem;font-weight:700}.usa-table--borderless thead th{color:#1b1b1b;background-color:#0000;border-top:0}.usa-table--borderless td,.usa-table--borderless th{border-left:0;border-right:0}html{-webkit-text-size-adjust:100%;box-sizing:border-box;font-feature-settings:\"kern\" 1;font-kerning:normal;font-family:Public Sans Web,-apple-system,BlinkMacSystemFont,Segoe UI,Roboto,Helvetica,Arial,sans-serif,Apple Color Emoji,Segoe UI Emoji,Segoe UI Symbol;font-size:100%;line-height:1.15}body{margin:0}details,main{display:block}h1{margin:.67em 0;font-size:2em}hr{box-sizing:content-box;height:0;overflow:visible}code{font-family:monospace;font-size:1em}a{background-color:#0000}b,strong{font-weight:bolder}img{border-style:none}button,input{margin:0;font-family:inherit;font-size:100%;line-height:1.15;overflow:visible}button{text-transform:none}[type=button],[type=reset],[type=submit],button{-webkit-appearance:button}[type=button]::-moz-focus-inner{border-style:none;padding:0}[type=reset]::-moz-focus-inner{border-style:none;padding:0}[type=submit]::-moz-focus-inner{border-style:none;padding:0}button::-moz-focus-inner{border-style:none;padding:0}[type=button]:-moz-focusring{outline:1px dotted ButtonText}[type=reset]:-moz-focusring{outline:1px dotted ButtonText}[type=submit]:-moz-focusring{outline:1px dotted ButtonText}button:-moz-focusring{outline:1px dotted ButtonText}[type=checkbox]{box-sizing:border-box;padding:0}[type=number]::-webkit-inner-spin-button{height:auto}[type=number]::-webkit-outer-spin-button{height:auto}[type=search]{-webkit-appearance:textfield;outline-offset:-2px}[type=search]::-webkit-search-decoration{-webkit-appearance:none}::-webkit-file-upload-button{-webkit-appearance:button;font:inherit}[hidden],template{display:none}@font-face{font-family:Public Sans Web;font-style:normal;font-weight:200;font-display:fallback;src:url(/_nuxt/PublicSans-ExtraLight.eadd2113.woff2)format(\"woff2\"),url(/_nuxt/PublicSans-ExtraLight.c6ab6253.woff)format(\"woff\"),url(/_nuxt/PublicSans-ExtraLight.223d605c.ttf)format(\"truetype\")}@font-face{font-family:Public Sans Web;font-style:normal;font-weight:300;font-display:fallback;src:url(/_nuxt/PublicSans-Light.cbe1f708.woff2)format(\"woff2\"),url(/_nuxt/PublicSans-Light.8e355958.woff)format(\"woff\"),url(/_nuxt/PublicSans-Light.ddcd6d3f.ttf)format(\"truetype\")}@font-face{font-family:Public Sans Web;font-style:normal;font-weight:400;font-display:fallback;src:url(/_nuxt/PublicSans-Regular.bea988ee.woff2)format(\"woff2\"),url(/_nuxt/PublicSans-Regular.5a6a6198.woff)format(\"woff\"),url(/_nuxt/PublicSans-Regular.ba2376b6.ttf)format(\"truetype\")}@font-face{font-family:Public Sans Web;font-style:normal;font-weight:700;font-display:fallback;src:url(/_nuxt/PublicSans-Bold.970fbaae.woff2)format(\"woff2\"),url(/_nuxt/PublicSans-Bold.d74b9670.woff)format(\"woff\"),url(/_nuxt/PublicSans-Bold.133c72e5.ttf)format(\"truetype\")}@font-face{font-family:Public Sans Web;font-style:italic;font-weight:200;font-display:fallback;src:url(/_nuxt/PublicSans-ExtraLightItalic.fb66c8b9.woff2)format(\"woff2\"),url(/_nuxt/PublicSans-ExtraLightItalic.0b3d57a6.woff)format(\"woff\"),url(/_nuxt/PublicSans-ExtraLightItalic.1bcd79f2.ttf)format(\"truetype\")}@font-face{font-family:Public Sans Web;font-style:italic;font-weight:300;font-display:fallback;src:url(/_nuxt/PublicSans-LightItalic.cbb417e6.woff2)format(\"woff2\"),url(/_nuxt/PublicSans-LightItalic.691e42ce.woff)format(\"woff\"),url(/_nuxt/PublicSans-LightItalic.8e6d219b.ttf)format(\"truetype\")}@font-face{font-family:Public Sans Web;font-style:italic;font-weight:400;font-display:fallback;src:url(/_nuxt/PublicSans-Italic.e71bfa91.woff2)format(\"woff2\"),url(/_nuxt/PublicSans-Italic.13dba306.woff)format(\"woff\"),url(/_nuxt/PublicSans-Italic.b0feaf84.ttf)format(\"truetype\")}@font-face{font-family:Public Sans Web;font-style:italic;font-weight:700;font-display:fallback;src:url(/_nuxt/PublicSans-BoldItalic.088626f1.woff2)format(\"woff2\"),url(/_nuxt/PublicSans-BoldItalic.bc984e5f.woff)format(\"woff\"),url(/_nuxt/PublicSans-BoldItalic.f229b620.ttf)format(\"truetype\")}button:not([disabled]):focus,input:not([disabled]):focus,[href]:focus,[tabindex]:focus,iframe:focus{outline-offset:0;outline:.25rem solid #2491ff}*,:after,:before{box-sizing:inherit}var{font-style:normal}body{color:#1b1b1b;background-color:#fff;overflow-x:hidden}.usa-sr-only{position:absolute;left:-999em;right:auto}.usa-button{color:#fff;-webkit-appearance:none;-moz-appearance:none;appearance:none;cursor:pointer;text-align:center;background-color:#005ea2;border:0;border-radius:.25rem;width:100%;margin-right:.5rem;padding:.75rem 1.25rem;font-family:Public Sans Web,-apple-system,BlinkMacSystemFont,Segoe UI,Roboto,Helvetica,Arial,sans-serif,Apple Color Emoji,Segoe UI Emoji,Segoe UI Symbol;font-size:1.38rem;font-weight:700;line-height:1;text-decoration:none;display:inline-block}@media (min-width:30em){.usa-button{width:auto}}.usa-button:visited{color:#fff}.usa-button:hover{color:#fff;background-color:#1a4480;border-bottom:0;text-decoration:none}.usa-button:active{color:#fff;background-color:#162e51}.usa-button:not([disabled]):focus{outline-offset:.25rem}.usa-button:disabled{-moz-osx-font-smoothing:grayscale;-webkit-font-smoothing:antialiased;color:#fff;background-color:#c9c9c9}.usa-button:disabled:active,.usa-button:disabled:focus,.usa-button:disabled:hover{box-shadow:none;background-color:#c9c9c9;border:0}.usa-button--secondary{color:#fff;background-color:#d83933}.usa-button--secondary:hover{color:#fff;background-color:#b50909}.usa-button--secondary:active{color:#fff;background-color:#8b0a03}img{max-width:100%}.usa-input,.usa-input-group{-webkit-appearance:none;-moz-appearance:none;appearance:none;color:#1b1b1b;border:1px solid #565c65;border-radius:0;width:100%;max-width:30rem;height:2.5rem;margin-top:.5rem;padding:.5rem;font-family:Public Sans Web,-apple-system,BlinkMacSystemFont,Segoe UI,Roboto,Helvetica,Arial,sans-serif,Apple Color Emoji,Segoe UI Emoji,Segoe UI Symbol;font-size:1.38rem;line-height:1.4;display:block}.usa-label{max-width:30rem;margin-top:1.5rem;font-family:Public Sans Web,-apple-system,BlinkMacSystemFont,Segoe UI,Roboto,Helvetica,Arial,sans-serif,Apple Color Emoji,Segoe UI Emoji,Segoe UI Symbol;font-size:1.38rem;font-weight:400;line-height:1.4;display:block}[type=file]{border:0;margin-top:.5rem;padding-top:.2rem;padding-left:0}.usa-input-group input:focus{outline:0}.usa-input-group{background-color:#fff;align-items:center;padding:0;display:flex}.usa-input-group input{border:0;width:100%;min-width:0;height:100%;margin-top:0}.usa-input-prefix{color:#71767a;-webkit-user-select:none;user-select:none;white-space:nowrap;padding:0 .5rem;line-height:0}.usa-input-prefix .usa-icon{width:1.5rem;height:1.5rem}.grid-container{max-width:64rem;margin-left:auto;margin-right:auto;padding-left:1rem;padding-right:1rem}@media (min-width:64em){.grid-container{padding-left:2rem;padding-right:2rem}}.grid-container-widescreen{max-width:87.5rem;margin-left:auto;margin-right:auto;padding-left:1rem;padding-right:1rem}@media (min-width:64em){.grid-container-widescreen{padding-left:2rem;padding-right:2rem}}.grid-row{flex-wrap:wrap;display:flex}.grid-row.grid-gap-2{margin-left:-.5rem;margin-right:-.5rem}.grid-row.grid-gap-2>*{padding-left:.5rem;padding-right:.5rem}.grid-row.grid-gap-lg{margin-left:-.75rem;margin-right:-.75rem}.grid-row.grid-gap-lg>*{padding-left:.75rem;padding-right:.75rem}[class*=grid-col]{box-sizing:border-box;width:100%;position:relative}.grid-col{flex:1;width:auto;min-width:1px;max-width:100%}.grid-col-auto{flex:0 auto;width:auto;max-width:100%}.grid-col-1,.grid-col-2{flex:0 auto;width:8.33333%}.grid-col-2{width:16.6667%}.grid-col-3,.grid-col-4{flex:0 auto;width:25%}.grid-col-4{width:33.3333%}.grid-col-5,.grid-col-6{flex:0 auto;width:41.6667%}.grid-col-6{width:50%}.grid-col-7,.grid-col-8{flex:0 auto;width:58.3333%}.grid-col-8{width:66.6667%}.grid-col-9{flex:0 auto;width:75%}.grid-col-11,.grid-col-12{flex:0 auto;width:91.6667%}.grid-col-12{width:100%}@media (min-width:40em){.tablet\\\\:grid-col{flex:1;width:auto;min-width:1px;max-width:100%}.tablet\\\\:grid-col-2{flex:0 auto;width:16.6667%}.tablet\\\\:grid-col-3{flex:0 auto;width:25%}.tablet\\\\:grid-col-4{flex:0 auto;width:33.3333%}.tablet\\\\:grid-col-6{flex:0 auto;width:50%}.tablet\\\\:grid-col-8{flex:0 auto;width:66.6667%}.tablet\\\\:grid-col-10{flex:0 auto;width:83.3333%}.tablet\\\\:grid-col-12{flex:0 auto;width:100%}}@media (min-width:64em){.desktop\\\\:grid-col{flex:1;width:auto;min-width:1px;max-width:100%}.desktop\\\\:grid-col-1{flex:0 auto;width:8.33333%}.desktop\\\\:grid-col-2{flex:0 auto;width:16.6667%}.desktop\\\\:grid-col-3{flex:0 auto;width:25%}.desktop\\\\:grid-col-4{flex:0 auto;width:33.3333%}.desktop\\\\:grid-col-5{flex:0 auto;width:41.6667%}.desktop\\\\:grid-col-6{flex:0 auto;width:50%}.desktop\\\\:grid-col-7{flex:0 auto;width:58.3333%}.desktop\\\\:grid-col-8{flex:0 auto;width:66.6667%}.desktop\\\\:grid-col-9{flex:0 auto;width:75%}.desktop\\\\:grid-col-10{flex:0 auto;width:83.3333%}.desktop\\\\:grid-col-11{flex:0 auto;width:91.6667%}.desktop\\\\:grid-col-12{flex:0 auto;width:100%}.desktop\\\\:grid-offset-1{margin-left:8.33333%}.desktop\\\\:grid-offset-2{margin-left:16.6667%}.desktop\\\\:grid-offset-3{margin-left:25%}.desktop\\\\:grid-offset-4{margin-left:33.3333%}}.usa-footer__return-to-top a{color:#005ea2;text-decoration:underline}.usa-list--unstyled{margin-top:0;margin-bottom:0;padding-left:0;list-style-type:none}.usa-accordion>li,.usa-breadcrumb__list>li,.usa-list--unstyled>li{max-width:unset;margin-bottom:0}.usa-accordion{color:#1b1b1b;width:100%;margin:0;padding:0;font-family:Public Sans Web,-apple-system,BlinkMacSystemFont,Segoe UI,Roboto,Helvetica,Arial,sans-serif,Apple Color Emoji,Segoe UI Emoji,Segoe UI Symbol;font-size:1.38rem;line-height:1.8;list-style-type:none}.usa-accordion>ul li ul{list-style:disc}.usa-accordion>ul li ul>li>ul{list-style:circle}.usa-accordion>ul li ul>li>ul>li>ul{list-style:square}.usa-accordion+.usa-accordion{margin-top:.5rem}.usa-accordion__button{-moz-osx-font-smoothing:inherit;-webkit-font-smoothing:inherit;box-shadow:none;text-align:left;color:#1b1b1b;cursor:pointer;background-color:#f0f0f0;background-image:url(/_nuxt/remove.ddb31b1d.svg),linear-gradient(#0000,#0000);background-position:right 1.25rem center;background-repeat:no-repeat;background-size:1.5rem;border:0;border-radius:0;width:100%;margin:0;padding:1rem 3.5rem 1rem 1.25rem;font-weight:700;text-decoration:none;display:inline-block}.usa-accordion__button:visited{color:#54278f}.usa-accordion__button:active{color:#162e51}.usa-accordion__button:focus{outline-offset:0;outline:.25rem solid #2491ff}.usa-accordion__button:active,.usa-accordion__button:disabled,.usa-accordion__button:disabled:active,.usa-accordion__button:disabled:focus,.usa-accordion__button:disabled:hover,.usa-accordion__button:hover{-moz-osx-font-smoothing:inherit;-webkit-font-smoothing:inherit;box-shadow:none;background-color:#0000;text-decoration:underline}.usa-accordion__button:disabled{color:#c9c9c9}.usa-accordion__button:hover{color:#1b1b1b;background-color:#dfe1e2;text-decoration:none}@media (forced-colors:active){.usa-accordion__button{forced-color-adjust:none}}.usa-accordion__button[aria-expanded=false]{background-image:url(/_nuxt/add.475c2975.svg),linear-gradient(#0000,#0000);background-repeat:no-repeat;background-size:1.5rem}.usa-breadcrumb{color:#1b1b1b;background-color:#fff;padding-left:0;padding-right:0;font-family:Public Sans Web,-apple-system,BlinkMacSystemFont,Segoe UI,Roboto,Helvetica,Arial,sans-serif,Apple Color Emoji,Segoe UI Emoji,Segoe UI Symbol;font-size:1rem;line-height:1.4}@media (min-width:30em){.usa-breadcrumb{padding-top:1rem;padding-bottom:1rem}.usa-breadcrumb:not(.usa-breadcrumb--wrap) .usa-breadcrumb__list{white-space:nowrap;text-overflow:ellipsis;overflow:hidden}}.usa-breadcrumb__list{margin:0 -.25rem;padding:.25rem;list-style-type:none;display:block}.usa-breadcrumb__list-item{white-space:nowrap;display:inline;position:absolute;left:-999em;right:auto}@media (max-width:29.99em){.usa-breadcrumb__list-item{white-space:normal}.usa-breadcrumb__list-item:nth-last-child(2){position:static}.usa-breadcrumb__list-item:nth-last-child(2) .usa-breadcrumb__link{-moz-osx-font-smoothing:inherit;-webkit-font-smoothing:inherit;box-shadow:none;text-align:left;text-indent:-2ex;color:#005ea2;background-color:#0000;border:0;border-radius:0;margin:0;padding:1rem 0 1rem 2ex;font-weight:400;display:inline-block}.usa-breadcrumb__list-item:nth-last-child(2) .usa-breadcrumb__link:focus{outline-offset:0;outline:.25rem solid #2491ff}.usa-breadcrumb__list-item:nth-last-child(2) .usa-breadcrumb__link:active,.usa-breadcrumb__list-item:nth-last-child(2) .usa-breadcrumb__link:disabled,.usa-breadcrumb__list-item:nth-last-child(2) .usa-breadcrumb__link:disabled:active,.usa-breadcrumb__list-item:nth-last-child(2) .usa-breadcrumb__link:disabled:focus,.usa-breadcrumb__list-item:nth-last-child(2) .usa-breadcrumb__link:disabled:hover,.usa-breadcrumb__list-item:nth-last-child(2) .usa-breadcrumb__link:hover{-moz-osx-font-smoothing:inherit;-webkit-font-smoothing:inherit;box-shadow:none;background-color:#0000;text-decoration:underline}.usa-breadcrumb__list-item:nth-last-child(2) .usa-breadcrumb__link:disabled{color:#c9c9c9}.usa-breadcrumb__list-item:nth-last-child(2) .usa-breadcrumb__link:before{content:\"\";vertical-align:baseline;background:url(/_nuxt/arrow_back.e1590e05.svg) 50%/contain no-repeat;width:2ex;height:2ex;display:inline-block}@supports ((-webkit-mask:url())) or ((-webkit-mask:url()) or (mask:url())){.usa-breadcrumb__list-item:nth-last-child(2) .usa-breadcrumb__link:before{-webkit-mask:url(/_nuxt/arrow_back.e1590e05.svg) 50%/contain no-repeat;background:#71767a;-webkit-mask:url(/_nuxt/arrow_back.e1590e05.svg) 50%/contain no-repeat;mask:url(/_nuxt/arrow_back.e1590e05.svg) 50%/contain no-repeat}}.usa-breadcrumb__list-item:nth-last-child(2) .usa-breadcrumb__link:visited{color:#54278f}.usa-breadcrumb__list-item:nth-last-child(2) .usa-breadcrumb__link:active,.usa-breadcrumb__list-item:nth-last-child(2) .usa-breadcrumb__link:hover{color:#1a4480}.usa-breadcrumb__list-item:nth-last-child(2) .usa-breadcrumb__link:before{height:2ex;position:relative;bottom:-.2em}.usa-breadcrumb__list-item:nth-last-child(2) .usa-breadcrumb__link,.usa-breadcrumb__list-item:nth-last-child(2) .usa-breadcrumb__link:active,.usa-breadcrumb__list-item:nth-last-child(2) .usa-breadcrumb__link:hover{text-decoration:none}.usa-breadcrumb__list-item:nth-last-child(2) .usa-breadcrumb__link span{text-decoration:underline}.usa-breadcrumb__list-item:nth-last-child(2) .usa-breadcrumb__link:before{margin-right:0}}@media (min-width:30em){.usa-breadcrumb__list-item{position:static}.usa-breadcrumb__list-item:not(:last-child):after{content:\"\";vertical-align:baseline;background:url(/_nuxt/navigate_next.927f3948.svg) 50%/contain no-repeat;width:2ex;display:inline-block}@supports ((-webkit-mask:url())) or ((-webkit-mask:url()) or (mask:url())){.usa-breadcrumb__list-item:not(:last-child):after{-webkit-mask:url(/_nuxt/navigate_next.927f3948.svg) 50%/contain no-repeat;background:#71767a;-webkit-mask:url(/_nuxt/navigate_next.927f3948.svg) 50%/contain no-repeat;mask:url(/_nuxt/navigate_next.927f3948.svg) 50%/contain no-repeat}}.usa-breadcrumb__list-item:not(:last-child):after{height:2ex;margin-left:0;margin-right:0;position:relative;bottom:-.2em}}.usa-breadcrumb__link{color:#005ea2;text-decoration:none;display:inline}.usa-breadcrumb__link:visited,.usa-footer__return-to-top a:visited{color:#54278f}.usa-breadcrumb__link:active,.usa-breadcrumb__link:hover,.usa-footer__return-to-top a:hover{color:#1a4480}.usa-breadcrumb__link span{text-decoration:underline}.usa-footer{font-family:Public Sans Web,-apple-system,BlinkMacSystemFont,Segoe UI,Roboto,Helvetica,Arial,sans-serif,Apple Color Emoji,Segoe UI Emoji,Segoe UI Symbol;font-size:1.38rem;line-height:1.8;overflow:hidden}.usa-footer>.grid-container{max-width:64rem;margin-left:auto;margin-right:auto;padding-left:1rem;padding-right:1rem}@media (min-width:64em){.usa-footer>.grid-container{padding-left:2rem;padding-right:2rem}}.usa-footer__return-to-top{padding-top:1.25rem;padding-bottom:1.25rem;line-height:1}.usa-footer__return-to-top a:active{color:#162e51}.usa-footer__return-to-top a:focus{outline-offset:0;outline:.25rem solid #2491ff}.usa-footer__primary-section{background-color:#f0f0f0}.usa-footer__primary-section>.grid-container{max-width:64rem;margin-left:auto;margin-right:auto;padding-left:1rem;padding-right:1rem}@media (min-width:64em){.usa-footer__primary-section>.grid-container{padding-left:2rem;padding-right:2rem}}.usa-header{z-index:300;font-family:Public Sans Web,-apple-system,BlinkMacSystemFont,Segoe UI,Roboto,Helvetica,Arial,sans-serif,Apple Color Emoji,Segoe UI Emoji,Segoe UI Symbol;font-size:1.38rem;line-height:1.8}.usa-header:after{clear:both;content:\"\";display:block}.usa-header a{border-bottom:none}@media (min-width:64em){.usa-header .usa-search{float:right}.usa-header [role=search]{float:right;width:100%;max-width:calc(27ch + 3rem)}}.usa-header [type=search]{min-width:0}@media (min-width:64em){.usa-header+main{border-top:1px solid #dfe1e2}}@media (max-width:63.99em){.usa-logo{flex:1;margin-left:1rem;font-size:.88rem;line-height:1}}@media (min-width:64em){.usa-logo{margin-top:2rem;margin-bottom:1rem;font-size:1.38rem;line-height:1.2}}.usa-logo a{color:#1b1b1b;text-decoration:none}.usa-nav__primary button:visited{color:#54278f}@media (min-width:64em){.usa-header--basic .usa-nav-container{justify-content:space-between;align-items:flex-end;display:flex}.usa-header--basic .usa-nav__link:hover,.usa-header--basic .usa-nav__primary-item>.usa-current{position:relative}.usa-header--basic .usa-nav__link:hover:after,.usa-header--basic .usa-nav__primary-item>.usa-current:after{content:\"\";background-color:#005ea2;border-radius:0;height:.25rem;display:block;position:absolute;bottom:-.25rem;left:1rem;right:1rem}}@media (min-width:64em) and (forced-colors:active){.usa-header--basic .usa-nav__link:hover:after,.usa-header--basic .usa-nav__primary-item>.usa-current:after{background-color:ButtonText}}@media (min-width:64em){.usa-header--basic .usa-nav__link[aria-expanded=true]:after,.usa-header--basic .usa-nav__link[aria-expanded=true]:hover:after{display:none}.usa-header--basic .usa-nav__primary{width:auto}.usa-header--basic .usa-nav__primary-item:last-of-type{position:relative}.usa-header--basic .usa-nav__primary-item:last-of-type .usa-nav__submenu{position:absolute;right:0}.usa-header--basic .usa-search{top:0}}.usa-icon{fill:currentColor;width:1em;height:1em;display:inline-block;position:relative}.usa-nav__primary button:active{color:#162e51}.usa-megamenu .usa-col{flex:auto}@media (min-width:64em){.usa-megamenu .usa-col{flex:4}.usa-megamenu.usa-nav__submenu{width:auto;padding:2rem 0;left:-33%;right:0}.usa-megamenu.usa-nav__submenu:after,.usa-megamenu.usa-nav__submenu:before{content:\"\";background-color:#162e51;width:100%;display:block;position:absolute;top:0;bottom:0}.usa-megamenu.usa-nav__submenu:before{right:100%}.usa-megamenu.usa-nav__submenu:after{left:100%}.usa-nav-container{max-width:64rem;margin-left:auto;margin-right:auto;padding-left:2rem;padding-right:2rem}.usa-nav-container:after{clear:both;content:\"\";display:block}}@media (min-width:64em) and (min-width:64em){.usa-nav-container{padding-left:2rem;padding-right:2rem}}@media (max-width:63.99em){.usa-nav__primary{order:2;margin-top:1.5rem;margin-bottom:0;padding-left:0;list-style-type:none}.usa-nav__primary>li{max-width:unset;margin-bottom:0}.usa-nav__primary-item{border-top:1px solid #dfe1e2}.usa-nav__primary a:not(.usa-button){padding:.5rem 1rem;text-decoration:none;display:block}.usa-nav__primary a:not(.usa-button):hover{background-color:#f0f0f0;text-decoration:none}.usa-nav__primary a:not(.usa-button):not(.usa-current){color:#565c65}.usa-nav__primary a:not(.usa-button):not(.usa-current):hover{color:#005ea2}.usa-nav__primary a:not(.usa-button):not(.usa-current):focus{outline-offset:0}.usa-nav__primary .usa-current{color:#005ea2;font-weight:700;position:relative}.usa-nav__primary .usa-current:after{content:\"\";background-color:#005ea2;border-radius:99rem;width:.25rem;display:block;position:absolute;top:.25rem;bottom:.25rem;left:.25rem}}@media (max-width:63.99em) and (forced-colors:active){.usa-nav__primary .usa-current:after{background-color:ButtonText}}@media (max-width:63.99em) and (min-width:40em){.usa-nav__primary .usa-current{position:relative}.usa-nav__primary .usa-current:after{content:\"\";background-color:#005ea2;border-radius:99rem;width:.25rem;display:block;position:absolute;top:.25rem;bottom:.25rem;left:0}}@media (max-width:63.99em) and (min-width:40em) and (forced-colors:active){.usa-nav__primary .usa-current:after{background-color:ButtonText}}@media (max-width:63.99em){.usa-nav__primary a{padding-top:.75rem;padding-bottom:.75rem}}@media (min-width:64em){.usa-nav__primary{display:flex}}.usa-nav__primary .usa-nav__primary-item a{text-decoration:none}.usa-nav__primary>.usa-nav__primary-item{line-height:1.2}@media (min-width:64em){.usa-nav__primary>.usa-nav__primary-item{font-size:.88rem;line-height:1}.usa-nav__primary>.usa-nav__primary-item>a{color:#565c65;padding:1rem;font-weight:700;line-height:1;display:block}.usa-nav__primary>.usa-nav__primary-item>a:hover{color:#005ea2}.usa-nav__primary a{padding-top:.5rem;padding-bottom:.5rem}}.usa-nav__primary button{-moz-osx-font-smoothing:inherit;-webkit-font-smoothing:inherit;box-shadow:none;text-align:left;color:#565c65;background-color:#0000;border:0;border-radius:0;margin:0;padding:.75rem 1rem;font-weight:400;line-height:1.2;text-decoration:none;position:relative}.usa-nav__primary button:focus{outline-offset:0;outline:.25rem solid #2491ff}.usa-nav__primary button:active,.usa-nav__primary button:disabled,.usa-nav__primary button:disabled:active,.usa-nav__primary button:disabled:focus,.usa-nav__primary button:disabled:hover,.usa-nav__primary button:hover{-moz-osx-font-smoothing:inherit;-webkit-font-smoothing:inherit;box-shadow:none;background-color:#0000;text-decoration:underline}.usa-nav__primary button:disabled{color:#c9c9c9}@media (min-width:64em){.usa-nav__primary button{padding:1rem;font-size:.88rem;font-weight:700;line-height:1}}@media (forced-colors:active){.usa-nav__primary button{forced-color-adjust:auto}}.usa-nav__primary button:hover{color:#005ea2;background-color:#f0f0f0;text-decoration:none}@media (min-width:64em){.usa-nav__primary button:hover{background-color:#0000}}.usa-nav__primary button[aria-expanded=false],.usa-nav__primary button[aria-expanded=true]{background-image:none}.usa-nav__primary button[aria-expanded=false] span:after{content:\"\";vertical-align:middle;background:url(/_nuxt/add.475c2975.svg) 50%/contain no-repeat;width:1.25rem;height:1.25rem;margin-left:auto;display:inline-block}@supports ((-webkit-mask:url())) or ((-webkit-mask:url()) or (mask:url())){.usa-nav__primary button[aria-expanded=false] span:after{background:0 0;background-color:ButtonText;-webkit-mask:url(/_nuxt/add.475c2975.svg) 50%/contain no-repeat;-webkit-mask:url(/_nuxt/add.475c2975.svg) 50%/contain no-repeat;mask:url(/_nuxt/add.475c2975.svg) 50%/contain no-repeat}}.usa-nav__primary button[aria-expanded=false] span:after{position:absolute;right:0}.usa-nav__primary button[aria-expanded=false] span:after:hover{background-color:buttonText}@media (min-width:64em){.usa-nav__primary button[aria-expanded=false] span:after{content:\"\";vertical-align:middle;background:url(/_nuxt/expand_more.fe0ef658.svg) 50%/contain no-repeat;width:1rem;height:1rem;margin-left:auto;display:inline-block}@supports ((-webkit-mask:url())) or ((-webkit-mask:url()) or (mask:url())){.usa-nav__primary button[aria-expanded=false] span:after{background:0 0;background-color:ButtonText;-webkit-mask:url(/_nuxt/expand_more.fe0ef658.svg) 50%/contain no-repeat;-webkit-mask:url(/_nuxt/expand_more.fe0ef658.svg) 50%/contain no-repeat;mask:url(/_nuxt/expand_more.fe0ef658.svg) 50%/contain no-repeat}}.usa-nav__primary button[aria-expanded=false] span:after{right:.75rem}.usa-nav__primary button[aria-expanded=false]:hover span:after{background-color:#1a4480}}@media (min-width:64em) and (forced-colors:active){.usa-nav__primary button[aria-expanded=false]:hover span:after{background-color:ButtonText}}.usa-nav__primary button[aria-expanded=true] span:after{content:\"\";vertical-align:middle;background:url(/_nuxt/remove.ddb31b1d.svg) 50%/contain no-repeat;width:1.25rem;height:1.25rem;margin-left:auto;display:inline-block}@supports ((-webkit-mask:url())) or ((-webkit-mask:url()) or (mask:url())){.usa-nav__primary button[aria-expanded=true] span:after{background:0 0;background-color:ButtonText;-webkit-mask:url(/_nuxt/remove.ddb31b1d.svg) 50%/contain no-repeat;-webkit-mask:url(/_nuxt/remove.ddb31b1d.svg) 50%/contain no-repeat;mask:url(/_nuxt/remove.ddb31b1d.svg) 50%/contain no-repeat}}.usa-nav__primary button[aria-expanded=true] span:after{position:absolute;right:0}@media (forced-colors:active){.usa-nav__primary button[aria-expanded=true] span:after{background-color:ButtonText}}@media (min-width:64em){.usa-nav__primary button[aria-expanded=true]{color:#fff;background-color:#162e51;background-image:none}}@media (min-width:64em) and (min-width:64em){.usa-nav__primary button[aria-expanded=true] span:after{content:\"\";vertical-align:middle;background:url(/_nuxt/expand_less.efb91e27.svg) 50%/contain no-repeat;width:1rem;height:1rem;margin-left:auto;display:inline-block}@supports ((-webkit-mask:url())) or ((-webkit-mask:url()) or (mask:url())){.usa-nav__primary button[aria-expanded=true] span:after{background:0 0;background-color:ButtonText;-webkit-mask:url(/_nuxt/expand_less.efb91e27.svg) 50%/contain no-repeat;-webkit-mask:url(/_nuxt/expand_less.efb91e27.svg) 50%/contain no-repeat;mask:url(/_nuxt/expand_less.efb91e27.svg) 50%/contain no-repeat}}.usa-nav__primary button[aria-expanded=true] span:after{background-color:#fff;right:.75rem}}@media (min-width:64em) and (min-width:64em) and (forced-colors:active){.usa-nav__primary button[aria-expanded=true] span:after{background-color:ButtonText}}@media (min-width:64em){.usa-nav__primary .usa-accordion__button span{margin-right:0;padding-right:1rem}}@media (max-width:63.99em){.usa-nav__submenu{margin:0;padding-left:0;list-style-type:none}.usa-nav__submenu>li{max-width:unset;margin-bottom:0}.usa-nav__submenu-item{border-top:1px solid #dfe1e2;font-size:.88rem}.usa-nav__submenu .usa-current:after{display:none}}@media (max-width:63.99em) and (min-width:40em){.usa-nav__submenu .usa-current:after{display:none}}@media (max-width:63.99em){.usa-nav__submenu a:not(.usa-button){padding-left:2rem}.usa-nav__submenu .usa-nav__submenu a:not(.usa-button){padding-left:3rem}.usa-nav__submenu .usa-nav__submenu .usa-nav__submenu a:not(.usa-button){padding-left:4rem}}@media (min-width:64em){.usa-nav__submenu{z-index:400;background-color:#162e51;width:15rem;margin-top:0;margin-bottom:0;padding:1rem;list-style-type:none;position:absolute}}.usa-nav__submenu[aria-hidden=true]{display:none}@media (min-width:64em){.usa-nav__submenu .usa-nav__submenu-item+*{margin-top:.75rem}.usa-nav__submenu .usa-nav__submenu-item a{color:#fff;padding:0;line-height:1.4}.usa-nav__submenu .usa-nav__submenu-item a:hover{color:#fff;background-color:#0000;padding:0;text-decoration:underline}}.usa-nav__submenu-list{margin-top:0;margin-bottom:0;padding-left:0;list-style-type:none}.usa-nav__submenu-list>li{max-width:unset;margin-bottom:0}.usa-search{font-family:Public Sans Web,-apple-system,BlinkMacSystemFont,Segoe UI,Roboto,Helvetica,Arial,sans-serif,Apple Color Emoji,Segoe UI Emoji,Segoe UI Symbol;font-size:1.38rem;line-height:1.8;position:relative}.usa-search:after{clear:both;content:\"\";display:block}.usa-search [role=search],.usa-search[role=search],.usa-search[role=search]>div{display:flex}.usa-search [type=submit]{border-top-left-radius:0;border-bottom-left-radius:0;width:3rem;height:2rem;margin:0;padding:0}@media (min-width:30em){.usa-search [type=submit]{width:auto;padding-left:1rem;padding-right:1rem}}@media (forced-colors:active){.usa-search [type=submit]{border:2px solid #0000}.usa-search [type=submit]:before{content:\"\";vertical-align:middle;background:url(/_nuxt/search.c25d4cdc.svg) 50%/contain no-repeat;width:1.5rem;height:1.5rem;margin-right:auto;display:inline-block}@supports ((-webkit-mask:url())) or ((-webkit-mask:url()) or (mask:url())){.usa-search [type=submit]:before{background:0 0;background-color:ButtonText;-webkit-mask:url(/_nuxt/search.c25d4cdc.svg) 50%/contain no-repeat;-webkit-mask:url(/_nuxt/search.c25d4cdc.svg) 50%/contain no-repeat;mask:url(/_nuxt/search.c25d4cdc.svg) 50%/contain no-repeat}}}@media (forced-colors:active) and (min-width:30em){.usa-search [type=submit]:before{content:none}.usa-search--small [type=submit]:before{content:\"\"}}.usa-search--small [type=submit]{min-width:3rem;padding-left:.75rem;padding-right:.75rem}input[type=search]{box-sizing:border-box;-webkit-appearance:none;-moz-appearance:none;appearance:none}[type=search]{box-sizing:border-box;float:left;border-right:none;border-top-right-radius:0;border-bottom-right-radius:0;height:2rem;margin:0;padding-top:0;padding-bottom:0;font-size:.94rem}[class*=font-mono-]{font-family:DM Mono,Bitstream Vera Sans Mono,Consolas,Courier,monospace}[class*=font-sans-]{font-family:Public Sans Web,-apple-system,BlinkMacSystemFont,Segoe UI,Roboto,Helvetica,Arial,sans-serif,Apple Color Emoji,Segoe UI Emoji,Segoe UI Symbol}.flex-align-start{align-items:flex-start}.flex-align-end{align-items:flex-end}.flex-align-center{align-items:center}.bg-transparent{background-color:#0000}.bg-white{background-color:#fff}.bg-base-lightest{background-color:#f0f0f0}.border-top-1px{border-top:1px solid}.border-bottom-1px{border-bottom:1px solid}.border-left-1px{border-left:1px solid}.border-top-2px{border-top:2px solid}.border-0{border:0 solid}.border-top-0{border-top:0 solid}.border{border:1px solid}.border-top{border-top:1px solid}.border-bottom{border-bottom:1px solid}.border-white{border-color:#fff}.border-base-lightest{border-color:#f0f0f0}.border-base-lighter{border-color:#dfe1e2}.radius-pill{border-radius:99rem}.bottom-0{bottom:0}.shadow-4{box-shadow:0 .75rem 1.5rem #0000001a}.circle-4{border-radius:50%;width:2rem;height:2rem}.circle-6{border-radius:50%;width:3rem;height:3rem}.circle-10{border-radius:50%;width:5rem;height:5rem}.circle-card{border-radius:50%;width:10rem;height:10rem}.text-white{color:#fff}.cursor-pointer{cursor:pointer}.display-block{display:block}.display-flex{display:flex}.display-none{display:none}.display-inline{display:inline}.display-inline-block{display:inline-block}.display-inline-flex{display:inline-flex}.flex-1{flex:1}.flex-11{flex:11}.flex-row{flex-direction:row}.flex-column{flex-direction:column}.float-none{float:none}.font-mono-2xl{font-size:4.97rem}.font-sans-xs{font-size:.94rem}.text-bold{font-weight:700}.height-9{height:4.5rem}.height-0{height:0}.height-full{height:100%}.height-viewport{height:100vh}.flex-justify-center{justify-content:center}.flex-justify-start{justify-content:flex-start}.flex-justify-end{justify-content:flex-end}.left-0{left:0}.line-height-heading-1,.line-height-alt-1{line-height:1}.margin-0{margin:0}.margin-y-1{margin-bottom:.5rem}.margin-top-1,.margin-y-1{margin-top:.5rem}.margin-bottom-1{margin-bottom:.5rem}.margin-top-2{margin-top:1rem}.margin-bottom-2{margin-bottom:1rem}.margin-y-3{margin-bottom:1.5rem}.margin-top-3,.margin-y-3{margin-top:1.5rem}.margin-bottom-3{margin-bottom:1.5rem}.margin-y-4{margin-bottom:2rem}.margin-top-4,.margin-y-4{margin-top:2rem}.margin-bottom-4{margin-bottom:2rem}.margin-y-5{margin-bottom:2.5rem}.margin-top-5,.margin-y-5{margin-top:2.5rem}.margin-bottom-5{margin-bottom:2.5rem}.margin-top-6{margin-top:3rem}.margin-bottom-6{margin-bottom:3rem}.margin-bottom-7{margin-bottom:3.5rem}.margin-bottom-10{margin-bottom:5rem}.margin-y-0{margin-bottom:0}.margin-top-0,.margin-y-0{margin-top:0}.margin-bottom-0{margin-bottom:0}.margin-top-auto{margin-top:auto}.margin-bottom-auto{margin-bottom:auto}.margin-right-1{margin-right:.5rem}.margin-left-1{margin-left:.5rem}.margin-x-2{margin-left:1rem}.margin-right-2,.margin-x-2{margin-right:1rem}.margin-left-2{margin-left:1rem}.margin-right-3{margin-right:1.5rem}.margin-right-neg-5{margin-right:-2.5rem}.margin-x-0{margin-left:0}.margin-right-0,.margin-x-0{margin-right:0}.margin-left-0{margin-left:0}.margin-x-auto{margin-left:auto}.margin-right-auto,.margin-x-auto{margin-right:auto}.margin-left-auto{margin-left:auto}.maxh-10{max-height:5rem}.maxh-tablet{max-height:40rem}.maxw-6{max-width:3rem}.maxw-card{max-width:10rem}.maxw-mobile{max-width:20rem}.maxw-mobile-lg{max-width:30rem}.maxw-tablet{max-width:40rem}.maxw-desktop-lg{max-width:75rem}.maxw-widescreen{max-width:87.5rem}.maxw-full{max-width:100%}.minh-4{min-height:2rem}.minh-10{min-height:5rem}.minh-15{min-height:7.5rem}.minh-mobile{min-height:20rem}.minh-tablet{min-height:40rem}.minh-tablet-lg{min-height:55rem}.minw-4{min-width:2rem}.minw-10{min-width:5rem}.opacity-0{opacity:0}.opacity-20{opacity:.2}.opacity-100{opacity:1}.outline-0{outline:0 solid}.outline-05{outline:.25rem solid}.outline-transparent{outline-color:#0000}.outline-blue{outline-color:#0076d6}.overflow-hidden{overflow:hidden}.padding-top-1px{padding-top:1px}.padding-bottom-1px{padding-bottom:1px}.padding-x-05{padding-left:.25rem;padding-right:.25rem}.padding-top-05{padding-top:.25rem}.padding-bottom-05{padding-bottom:.25rem}.padding-1{padding:.5rem}.padding-y-1{padding-top:.5rem;padding-bottom:.5rem}.padding-top-1{padding-top:.5rem}.padding-right-1{padding-right:.5rem}.padding-bottom-1{padding-bottom:.5rem}.padding-left-1{padding-left:.5rem}.padding-right-105{padding-right:.75rem}.padding-left-105{padding-left:.75rem}.padding-2{padding:1rem}.padding-y-2{padding-top:1rem;padding-bottom:1rem}.padding-x-2{padding-left:1rem;padding-right:1rem}.padding-top-2{padding-top:1rem}.padding-right-2{padding-right:1rem}.padding-bottom-2{padding-bottom:1rem}.padding-left-2{padding-left:1rem}.padding-3{padding:1.5rem}.padding-y-3{padding-top:1.5rem;padding-bottom:1.5rem}.padding-x-3{padding-left:1.5rem;padding-right:1.5rem}.padding-top-3{padding-top:1.5rem}.padding-right-3{padding-right:1.5rem}.padding-bottom-3{padding-bottom:1.5rem}.padding-left-3{padding-left:1.5rem}.padding-4{padding:2rem}.padding-y-4{padding-top:2rem;padding-bottom:2rem}.padding-x-4{padding-left:2rem;padding-right:2rem}.padding-top-4{padding-top:2rem}.padding-right-4{padding-right:2rem}.padding-bottom-4{padding-bottom:2rem}.padding-left-4{padding-left:2rem}.padding-y-5{padding-top:2.5rem;padding-bottom:2.5rem}.padding-top-5{padding-top:2.5rem}.padding-right-5{padding-right:2.5rem}.padding-bottom-5{padding-bottom:2.5rem}.padding-left-5{padding-left:2.5rem}.padding-y-6{padding-top:3rem;padding-bottom:3rem}.padding-top-6{padding-top:3rem}.padding-right-6{padding-right:3rem}.padding-y-7{padding-top:3.5rem;padding-bottom:3.5rem}.padding-left-7{padding-left:3.5rem}.padding-y-8{padding-top:4rem;padding-bottom:4rem}.padding-top-8{padding-top:4rem}.padding-bottom-8{padding-bottom:4rem}.padding-y-9{padding-top:4.5rem;padding-bottom:4.5rem}.padding-top-9{padding-top:4.5rem}.padding-bottom-9{padding-bottom:4.5rem}.padding-y-10{padding-top:5rem;padding-bottom:5rem}.padding-top-10{padding-top:5rem}.padding-right-10{padding-right:5rem}.padding-0{padding:0}.padding-y-0{padding-top:0;padding-bottom:0}.padding-x-0{padding-left:0;padding-right:0}.padding-top-0{padding-top:0}.padding-right-0{padding-right:0}.padding-bottom-0{padding-bottom:0}.padding-left-0{padding-left:0}.position-absolute{position:absolute}.position-fixed{position:fixed}.position-relative{position:relative}.right-0{right:0}.square-2{width:1rem;height:1rem}.square-3{width:1.5rem;height:1.5rem}.square-4{width:2rem;height:2rem}.square-10{width:5rem;height:5rem}.text-center{text-align:center}.text-left{text-align:left}.text-no-underline{text-decoration:none}.text-uppercase{text-transform:uppercase}.top-0{top:0}.width-8{width:4rem}.width-10{width:5rem}.width-card-lg{width:15rem}.width-mobile{width:20rem}.width-full{width:100%}.width-auto{width:auto}.z-top{z-index:99999}.z-100{z-index:100}.z-200{z-index:200}.z-300{z-index:300}.z-400{z-index:400}@media (min-width:30em){.mobile-lg\\\\:margin-top-0{margin-top:0}}@media (min-width:40em){.tablet\\\\:display-block{display:block}.tablet\\\\:display-flex{display:flex}.tablet\\\\:display-none{display:none}.tablet\\\\:margin-bottom-2{margin-bottom:1rem}.tablet\\\\:margin-bottom-0{margin-bottom:0}.tablet\\\\:margin-right-neg-5{margin-right:-2.5rem}.tablet\\\\:margin-right-0{margin-right:0}.tablet\\\\:padding-x-05{padding-left:.25rem;padding-right:.25rem}.tablet\\\\:padding-right-2{padding-right:1rem}.tablet\\\\:padding-x-3{padding-left:1.5rem;padding-right:1.5rem}.tablet\\\\:padding-right-3{padding-right:1.5rem}.tablet\\\\:padding-left-3{padding-left:1.5rem}.tablet\\\\:padding-left-7{padding-left:3.5rem}.tablet\\\\:padding-right-0{padding-right:0}.tablet\\\\:width-card{width:10rem}}@media (min-width:64em){.desktop\\\\:border-right-1px{border-right:1px solid}.desktop\\\\:display-block{display:block}.desktop\\\\:display-flex{display:flex}.desktop\\\\:display-none{display:none}.desktop\\\\:flex-justify-end{justify-content:flex-end}.desktop\\\\:margin-bottom-2{margin-bottom:1rem}.desktop\\\\:margin-bottom-3{margin-bottom:1.5rem}.desktop\\\\:margin-top-neg-6{margin-top:-3rem}.desktop\\\\:margin-bottom-5{margin-bottom:2.5rem}.desktop\\\\:margin-y-6{margin-top:3rem;margin-bottom:3rem}.desktop\\\\:margin-bottom-6{margin-bottom:3rem}.desktop\\\\:margin-bottom-10{margin-bottom:5rem}.desktop\\\\:margin-top-0{margin-top:0}.desktop\\\\:margin-bottom-0{margin-bottom:0}.desktop\\\\:margin-right-1{margin-right:.5rem}.desktop\\\\:margin-left-1{margin-left:.5rem}.desktop\\\\:margin-left-2{margin-left:1rem}.desktop\\\\:margin-right-neg-5{margin-right:-2.5rem}.desktop\\\\:margin-right-5{margin-right:2.5rem}.desktop\\\\:margin-left-5{margin-left:2.5rem}.desktop\\\\:margin-right-0{margin-right:0}.desktop\\\\:margin-left-0{margin-left:0}.desktop\\\\:margin-left-auto{margin-left:auto}.desktop\\\\:padding-top-1{padding-top:.5rem}.desktop\\\\:padding-left-105{padding-left:.75rem}.desktop\\\\:padding-x-2{padding-left:1rem;padding-right:1rem}.desktop\\\\:padding-right-2{padding-right:1rem}.desktop\\\\:padding-left-2{padding-left:1rem}.desktop\\\\:padding-3{padding:1.5rem}.desktop\\\\:padding-right-3{padding-right:1.5rem}.desktop\\\\:padding-left-3{padding-left:1.5rem}.desktop\\\\:padding-y-4{padding-top:2rem;padding-bottom:2rem}.desktop\\\\:padding-x-4{padding-left:2rem;padding-right:2rem}.desktop\\\\:padding-right-4{padding-right:2rem}.desktop\\\\:padding-bottom-4{padding-bottom:2rem}.desktop\\\\:padding-left-4{padding-left:2rem}.desktop\\\\:padding-top-5{padding-top:2.5rem}.desktop\\\\:padding-right-5{padding-right:2.5rem}.desktop\\\\:padding-bottom-5{padding-bottom:2.5rem}.desktop\\\\:padding-left-5{padding-left:2.5rem}.desktop\\\\:padding-y-6{padding-top:3rem;padding-bottom:3rem}.desktop\\\\:padding-right-6{padding-right:3rem}.desktop\\\\:padding-left-6{padding-left:3rem}.desktop\\\\:padding-y-7{padding-top:3.5rem;padding-bottom:3.5rem}.desktop\\\\:padding-top-7{padding-top:3.5rem}.desktop\\\\:padding-bottom-7{padding-bottom:3.5rem}.desktop\\\\:padding-y-8{padding-top:4rem;padding-bottom:4rem}.desktop\\\\:padding-top-8{padding-top:4rem}.desktop\\\\:padding-y-9{padding-top:4.5rem;padding-bottom:4.5rem}.desktop\\\\:padding-right-9{padding-right:4.5rem}.desktop\\\\:padding-bottom-9{padding-bottom:4.5rem}.desktop\\\\:padding-left-9{padding-left:4.5rem}.desktop\\\\:padding-top-10{padding-top:5rem}.desktop\\\\:padding-right-10{padding-right:5rem}.desktop\\\\:padding-left-10{padding-left:5rem}.desktop\\\\:padding-bottom-15{padding-bottom:7.5rem}.desktop\\\\:padding-0{padding:0}.desktop\\\\:padding-top-0{padding-top:0}.desktop\\\\:padding-right-0{padding-right:0}.desktop\\\\:padding-bottom-0{padding-bottom:0}.desktop\\\\:padding-left-0{padding-left:0}.desktop\\\\:width-card-lg{width:15rem}}@media (min-width:75em){.desktop-lg\\\\:display-flex{display:flex}.desktop-lg\\\\:margin-left-10{margin-left:5rem}.desktop-lg\\\\:padding-left-10{padding-left:5rem}}@font-face{font-family:Inter;font-style:normal;font-weight:200;font-display:swap;src:url(/_nuxt/UcC73FwrK3iLTeHuS_fvQtMwCp50KnMa2JL7SUc.848492d3.woff2)format(\"woff2\");unicode-range:U+460-52F,U+1C80-1C88,U+20B4,U+2DE0-2DFF,U+A640-A69F,U+FE2E-FE2F}@font-face{font-family:Inter;font-style:normal;font-weight:200;font-display:swap;src:url(/_nuxt/UcC73FwrK3iLTeHuS_fvQtMwCp50KnMa0ZL7SUc.262a1054.woff2)format(\"woff2\");unicode-range:U+301,U+400-45F,U+490-491,U+4B0-4B1,U+2116}@font-face{font-family:Inter;font-style:normal;font-weight:200;font-display:swap;src:url(/_nuxt/UcC73FwrK3iLTeHuS_fvQtMwCp50KnMa2ZL7SUc.fe977ddb.woff2)format(\"woff2\");unicode-range:U+1F??}@font-face{font-family:Inter;font-style:normal;font-weight:200;font-display:swap;src:url(/_nuxt/UcC73FwrK3iLTeHuS_fvQtMwCp50KnMa1pL7SUc.89b4a3fe.woff2)format(\"woff2\");unicode-range:U+370-3FF}@font-face{font-family:Inter;font-style:normal;font-weight:200;font-display:swap;src:url(/_nuxt/UcC73FwrK3iLTeHuS_fvQtMwCp50KnMa2pL7SUc.ac4e131c.woff2)format(\"woff2\");unicode-range:U+102-103,U+110-111,U+128-129,U+168-169,U+1A0-1A1,U+1AF-1B0,U+1EA0-1EF9,U+20AB}@font-face{font-family:Inter;font-style:normal;font-weight:200;font-display:swap;src:url(/_nuxt/UcC73FwrK3iLTeHuS_fvQtMwCp50KnMa25L7SUc.45606f83.woff2)format(\"woff2\");unicode-range:U+100-24F,U+259,U+1E??,U+2020,U+20A0-20AB,U+20AD-20CF,U+2113,U+2C60-2C7F,U+A720-A7FF}@font-face{font-family:Inter;font-style:normal;font-weight:200;font-display:swap;src:url(/_nuxt/UcC73FwrK3iLTeHuS_fvQtMwCp50KnMa1ZL7.450f3ba4.woff2)format(\"woff2\");unicode-range:U+??,U+131,U+152-153,U+2BB-2BC,U+2C6,U+2DA,U+2DC,U+2000-206F,U+2074,U+20AC,U+2122,U+2191,U+2193,U+2212,U+2215,U+FEFF,U+FFFD}@font-face{font-family:Inter;font-style:normal;font-weight:400;font-display:swap;src:url(/_nuxt/UcCO3FwrK3iLTeHuS_fvQtMwCp50KnMw2boKoduKmMEVuLyfAZJhiI2B.f7666a51.woff2)format(\"woff2\");unicode-range:U+460-52F,U+1C80-1C88,U+20B4,U+2DE0-2DFF,U+A640-A69F,U+FE2E-FE2F}@font-face{font-family:Inter;font-style:normal;font-weight:400;font-display:swap;src:url(/_nuxt/UcCO3FwrK3iLTeHuS_fvQtMwCp50KnMw2boKoduKmMEVuLyfAZthiI2B.e9493683.woff2)format(\"woff2\");unicode-range:U+301,U+400-45F,U+490-491,U+4B0-4B1,U+2116}@font-face{font-family:Inter;font-style:normal;font-weight:400;font-display:swap;src:url(/_nuxt/UcCO3FwrK3iLTeHuS_fvQtMwCp50KnMw2boKoduKmMEVuLyfAZNhiI2B.d3e30cde.woff2)format(\"woff2\");unicode-range:U+1F??}@font-face{font-family:Inter;font-style:normal;font-weight:400;font-display:swap;src:url(/_nuxt/UcCO3FwrK3iLTeHuS_fvQtMwCp50KnMw2boKoduKmMEVuLyfAZxhiI2B.2f2d421a.woff2)format(\"woff2\");unicode-range:U+370-3FF}@font-face{font-family:Inter;font-style:normal;font-weight:400;font-display:swap;src:url(data:font/woff2;base64,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)format(\"woff2\");unicode-range:U+102-103,U+110-111,U+128-129,U+168-169,U+1A0-1A1,U+1AF-1B0,U+1EA0-1EF9,U+20AB}@font-face{font-family:Inter;font-style:normal;font-weight:400;font-display:swap;src:url(/_nuxt/UcCO3FwrK3iLTeHuS_fvQtMwCp50KnMw2boKoduKmMEVuLyfAZFhiI2B.64a98f58.woff2)format(\"woff2\");unicode-range:U+100-24F,U+259,U+1E??,U+2020,U+20A0-20AB,U+20AD-20CF,U+2113,U+2C60-2C7F,U+A720-A7FF}@font-face{font-family:Inter;font-style:normal;font-weight:400;font-display:swap;src:url(/_nuxt/UcCO3FwrK3iLTeHuS_fvQtMwCp50KnMw2boKoduKmMEVuLyfAZ9hiA.0364d368.woff2)format(\"woff2\");unicode-range:U+??,U+131,U+152-153,U+2BB-2BC,U+2C6,U+2DA,U+2DC,U+2000-206F,U+2074,U+20AC,U+2122,U+2191,U+2193,U+2212,U+2215,U+FEFF,U+FFFD}@font-face{font-family:Inter;font-style:normal;font-weight:700;font-display:swap;src:url(/_nuxt/UcC73FwrK3iLTeHuS_fvQtMwCp50KnMa2JL7SUc.848492d3.woff2)format(\"woff2\");unicode-range:U+460-52F,U+1C80-1C88,U+20B4,U+2DE0-2DFF,U+A640-A69F,U+FE2E-FE2F}@font-face{font-family:Inter;font-style:normal;font-weight:700;font-display:swap;src:url(/_nuxt/UcC73FwrK3iLTeHuS_fvQtMwCp50KnMa0ZL7SUc.262a1054.woff2)format(\"woff2\");unicode-range:U+301,U+400-45F,U+490-491,U+4B0-4B1,U+2116}@font-face{font-family:Inter;font-style:normal;font-weight:700;font-display:swap;src:url(/_nuxt/UcC73FwrK3iLTeHuS_fvQtMwCp50KnMa2ZL7SUc.fe977ddb.woff2)format(\"woff2\");unicode-range:U+1F??}@font-face{font-family:Inter;font-style:normal;font-weight:700;font-display:swap;src:url(/_nuxt/UcC73FwrK3iLTeHuS_fvQtMwCp50KnMa1pL7SUc.89b4a3fe.woff2)format(\"woff2\");unicode-range:U+370-3FF}@font-face{font-family:Inter;font-style:normal;font-weight:700;font-display:swap;src:url(/_nuxt/UcC73FwrK3iLTeHuS_fvQtMwCp50KnMa2pL7SUc.ac4e131c.woff2)format(\"woff2\");unicode-range:U+102-103,U+110-111,U+128-129,U+168-169,U+1A0-1A1,U+1AF-1B0,U+1EA0-1EF9,U+20AB}@font-face{font-family:Inter;font-style:normal;font-weight:700;font-display:swap;src:url(/_nuxt/UcC73FwrK3iLTeHuS_fvQtMwCp50KnMa25L7SUc.45606f83.woff2)format(\"woff2\");unicode-range:U+100-24F,U+259,U+1E??,U+2020,U+20A0-20AB,U+20AD-20CF,U+2113,U+2C60-2C7F,U+A720-A7FF}@font-face{font-family:Inter;font-style:normal;font-weight:700;font-display:swap;src:url(/_nuxt/UcC73FwrK3iLTeHuS_fvQtMwCp50KnMa1ZL7.450f3ba4.woff2)format(\"woff2\");unicode-range:U+??,U+131,U+152-153,U+2BB-2BC,U+2C6,U+2DA,U+2DC,U+2000-206F,U+2074,U+20AC,U+2122,U+2191,U+2193,U+2212,U+2215,U+FEFF,U+FFFD}@font-face{font-family:dm-mono;font-style:normal;font-weight:400;font-display:swap;src:url(/_nuxt/aFTU7PB1QTsUX8KYthSQBLyM.e18063bb.woff2)format(\"woff2\");unicode-range:U+100-24F,U+259,U+1E??,U+2020,U+20A0-20AB,U+20AD-20CF,U+2113,U+2C60-2C7F,U+A720-A7FF}@font-face{font-family:dm-mono;font-style:normal;font-weight:400;font-display:swap;src:url(/_nuxt/aFTU7PB1QTsUX8KYthqQBA.8b22f1d6.woff2)format(\"woff2\");unicode-range:U+??,U+131,U+152-153,U+2BB-2BC,U+2C6,U+2DA,U+2DC,U+2000-206F,U+2074,U+20AC,U+2122,U+2191,U+2193,U+2212,U+2215,U+FEFF,U+FFFD}@keyframes live_pulse{0%,to{opacity:1}50%{opacity:.75}}html{-webkit-text-size-adjust:100%;scroll-behavior:smooth;line-height:1.15;background-color:#000!important}a{text-decoration:none}p{padding:0;font-size:1rem}img{height:auto}.usa-logo{font-family:inter,sans-serif;font-weight:700}button.usa-accordion__button.usa-nav__link{font-weight:400}.button-primary,.font-weight-bold,.hds-tab-nav-item,.usa-button--secondary,a{font-family:inter}.entry-content>h1,.entry-content>h2,.entry-content>h3,.entry-content>h4{margin:0 auto .25em}.entry-content>p{margin:0 auto .5em}.entry-content>:first-child:not(.hds-module){margin-top:3.5rem}.entry-content>:last-child:not(.hds-module){margin-bottom:3.5rem}.entry-content>.hds-module+:not(.hds-module),.entry-content>:not(.hds-module)+.hds-module{margin-top:2rem}body,p{font-family:Public Sans Web,sans-serif}h1,h2,h3,h4{font-family:inter,sans-serif;line-height:.95em}.page-heading-lg,h1.page-heading-lg{font-size:6.25rem}.page-heading-md,h1.page-heading-md{font-size:5rem}@media (max-width:576px){.page-heading-lg,h1.page-heading-lg{font-size:3.75rem}.page-heading-md,h1.page-heading-md{font-size:3rem}}.section-heading-md,h2,h2.section-heading-md{font-size:3rem}.section-heading-sm,h2.section-heading-sm{font-size:2.5rem}@media (max-width:576px){.section-heading-md,h2.section-heading-md{font-size:2.1rem}.section-heading-sm,h2.section-heading-sm{font-size:1.5rem}}.subtitle-lg,h3.subtitle-lg{font-size:1.8rem}.subtitle,.subtitle-md,h3.subtitle-md{font-size:1.2rem}.subtitle-sm,h3.subtitle-sm{font-size:1rem}@media (max-width:576px){.subtitle-lg,h3.subtitle-lg{font-size:1.5rem}.subtitle,.subtitle-md,h3.subtitle-md{font-size:1.2rem}.subtitle-sm,h3.subtitle-sm{font-size:.9rem}}.p-lg,p.p-lg{font-size:1.1rem;line-height:1.65em}.p-md,.p-sm,body p,p.p-md,p.p-sm{font-size:1rem;line-height:1.65em}.p-sm,p.p-sm{font-size:.875rem}@media (max-width:576px){.p-lg,p.p-lg{font-size:1rem}.p-md,body p,p.p-md{font-size:.9rem}.p-sm,p.p-sm{font-size:.875rem;line-height:1.65em}}body .label,body h1.label,body h2.label,body h3.label,body h4.label{letter-spacing:3.5px;text-transform:uppercase;font-family:dm-mono;font-size:.7rem;font-style:normal;font-weight:500;line-height:1em}.label-inter{color:#58585b;letter-spacing:.25px;text-transform:uppercase;font-family:inter,sans-serif;font-size:11px;font-style:normal;font-weight:700;line-height:19px}.font-weight-extrabold,.font-weight-extrabold *,.font-weight-extrabold div,.font-weight-extrabold h1,.font-weight-extrabold h2,.font-weight-extrabold h3,.font-weight-extrabold h4,.font-weight-extrabold p,h1.font-weight-extrabold,h2.font-weight-extrabold,h3.font-weight-extrabold,h4.font-weight-extrabold,p.font-weight-extrabold{font-weight:800}.font-weight-bold,.font-weight-bold *,.font-weight-bold div,.font-weight-bold h1,.font-weight-bold h2,.font-weight-bold h3,.font-weight-bold h4,.font-weight-bold p,h1.font-weight-bold,h2.font-weight-bold,h3.font-weight-bold,h4.font-weight-bold,p.font-weight-bold{font-weight:700}.font-weight-regular,.font-weight-regular *,.font-weight-regular div,.font-weight-regular h1,.font-weight-regular h2,.font-weight-regular h3,.font-weight-regular h4,.font-weight-regular p,h1.font-weight-regular,h2.font-weight-regular,h3.font-weight-regular,h4.font-weight-regular,p.font-weight-regular{font-weight:400}.font-weight-light,.font-weight-light *,.font-weight-light div,.font-weight-light h1,.font-weight-light h2,.font-weight-light h3,.font-weight-light h4,.font-weight-light p,h1.font-weight-light,h2.font-weight-light,h3.font-weight-light,h4.font-weight-light,p.font-weight-light{font-weight:300}.font-weight-extralight,.font-weight-extralight *,.font-weight-extralight div,.font-weight-extralight h1,.font-weight-extralight h2,.font-weight-extralight h3,.font-weight-extralight h4,.font-weight-extralight p,h1.font-weight-extralight,h2.font-weight-extralight,h3.font-weight-extralight,h4.font-weight-extralight,p.font-weight-extralight{font-weight:200}.line-height-sm,.line-height-sm *,.line-height-sm div,.line-height-sm h1,.line-height-sm h2,.line-height-sm h3,.line-height-sm h4,.line-height-sm p,h1.line-height-sm,h2.line-height-sm,h3.line-height-sm,h4.line-height-sm,p.line-height-sm{line-height:1}.line-height-md,.line-height-md *,.line-height-md div,.line-height-md h1,.line-height-md h2,.line-height-md h3,.line-height-md h4,.line-height-md p,h1.line-height-md,h2.line-height-md,h3.line-height-md,h4.line-height-md,p.line-height-md{line-height:1.25}.line-height-lg,.line-height-lg *,.line-height-lg div,.line-height-lg h1,.line-height-lg h2,.line-height-lg h3,.line-height-lg h4,.line-height-lg p,h1.line-height-lg,h2.line-height-lg,h3.line-height-lg,h4.line-height-lg,p.line-height-lg{line-height:1.5em}.font-dm-mono{font-family:dm-mono}.skrim-overlay-dark .label,.skrim-overlay-dark label{color:#fff}.usa-nav__link{background:0 0;border:0}#primary .button-primary{border:0;align-items:center;line-height:1em;display:inline-flex;background:0 0!important;padding-left:0!important;padding-right:0!important}.button-primary a,.button-primary span{line-height:1em}#primary .button-primary:hover{background:0 0;border:0}.button-primary,.button-primary .button-primary-circle,.button-primary span{transition:all .2s}.button-primary span{width:calc(100% - 1.2rem)}.button-primary svg{width:1.2rem;height:1.2rem}.button-primary.button-primary-lg,.button-primary.button-primary-lg span{font-size:1.75rem}.button-primary.button-primary-lg span{margin-right:.5em}.button-primary,.button-primary span,.button-primary.button-primary-md,.button-primary.button-primary-md span{font-size:1.4rem;font-weight:700}.button-primary span,.button-primary.button-primary-md span{margin-right:.4em}.button-primary.button-primary-sm,.button-primary.button-primary-sm span{font-size:1rem;font-weight:600;text-decoration:none}.button-primary.button-primary-sm span{margin-right:.3em}.button-primary,.button-primary.button-light span{color:#fff}.button-primary span{color:#000}.button-primary .button-primary-circle{fill:#f64137}.button-primary:hover .button-primary-circle{fill:#b60109}@media only screen and (max-width:767px){.usa-button{font-size:1.18rem}}.usa-button.button-link{background:0 0;border-bottom:1px dashed #b9b9bb;border-radius:0;padding-left:0;padding-right:0;font-size:1rem;font-weight:400}.usa-nav__link-nasa-live>span,.width-fit-content{width:-moz-fit-content;width:fit-content}.stat-number{font-size:4.5rem;font-style:normal;font-weight:200}@media (max-width:576px){.stat-number{font-size:2.25rem}.stat-value{font-size:.9rem}}.subheading,h1.subheading,h2.subheading,h3.subheading,h4.subheading{letter-spacing:3.5px;text-transform:uppercase;font-size:12px;font-style:normal;font-weight:500;line-height:180%}.background-cover,.skrim-overlay{background-position:50%;background-repeat:no-repeat;background-size:cover}.skrim-overlay{background-repeat:repeat;width:100%;height:100%;position:absolute;top:0;left:0}.color-mode-dark .skrim-overlay,.color-mode-dark>.skrim-overlay,.skrim-overlay{filter:progid:DXImageTransform.Microsoft.gradient(startColorstr=\"#d4000000\",endColorstr=\"#00000000\",GradientType=1);background:linear-gradient(65.99deg,#000 0,#0000 99.04%)}.color-mode-light .skrim-overlay,.color-mode-light>.skrim-overlay{filter:progid:DXImageTransform.Microsoft.gradient(startColorstr=\"#ffffff\",endColorstr=\"#00ffffff\",GradientType=1);background:linear-gradient(45deg,#fff 25%,#fffffffa 26%,#ffffff0f 75%,#fff0 78%)}.usa-nav__link-nasa-live>span{margin-right:.5rem}.hds-footer-menu li>a.usa-nav__link-nasa-live,.usa-nav__link-nasa-live,li>.usa-nav__link-nasa-live{align-items:center;display:flex}.usa-nav__link.usa-nav__link-nasa-live:hover:after{display:none}.usa-header-primary button span{font-size:1.1rem}.usa-list a,.usa-list span,.usa-nav__link a,.usa-nav__link span{font-family:inter,sans-serif}.usa-header.usa-header-primary a,.usa-header.usa-header-primary span{width:calc(100% - 12px);font-size:1.1rem;font-weight:600}.usa-header.text-white .usa-nav__link span,.usa-header.text-white .usa-nav__primary button,.usa-header.text-white .usa-nav__primary button[aria-expanded=false]:hover{color:#fff;background-image:none}.usa-header input[type=search]{max-width:200px}.usa-header .usa-nav__primary .usa-nav__primary-item:hover{cursor:pointer}.usa-header.text-white .usa-nav__link:hover:after,.usa-header.text-white .usa-nav__primary-item>.usa-current:after{background-color:#fff}.usa-header-primary .usa-logo{flex:unset}.usa-list a,.usa-list span{font-size:.95rem;line-height:1em;display:block}.grid-container-extrawide{max-width:110rem}.grid-container-block-lg{max-width:100rem}.usa-footer>.grid-container,.usa-footer__primary-section>.grid-container{max-width:1400px;padding-left:0!important;padding-right:0!important}.social-icons a{background-color:#2e2e32;border-radius:50%;justify-content:center;align-items:center;width:32px;height:32px;margin:0 10px 0 0;display:flex}.social-icons a svg{fill:#fff;width:16px;height:16px}.social-icons .social-icon.social-icon-rss a svg{width:24px;height:24px}body .menu-toggle{cursor:pointer;align-items:center;width:18px;height:18px;display:flex}.menu-toggle-icon{flex-direction:column;display:flex;position:relative}.menu-toggle-icon-top{margin-bottom:5px}.menu-toggle-icon-bottom{margin-top:5px}.menu-toggle-icon-bottom,.menu-toggle-icon-center,.menu-toggle-icon-top{content:\"\";background:#fff;width:20px;height:2px;transition:all .3s;display:inline-block;position:relative}.menu-toggle-active .menu-toggle-icon-center{opacity:0}.menu-toggle-active .menu-toggle-icon-top{margin-bottom:-2px;transform:rotate(135deg)}.menu-toggle-active .menu-toggle-icon-bottom{margin-top:-2px;transform:rotate(-135deg)}.search-mobile{justify-content:center;align-items:center;display:flex;width:22px!important;height:22px!important}.search-mobile img,.search-mobile svg{width:100%;height:auto}body .thumbnail{z-index:2;background-position:50%;background-repeat:no-repeat;background-size:cover;width:100%;position:relative;overflow:hidden}.usa-article-content .entry-content>h2{margin-bottom:8px;padding-top:2rem;font-size:1.8rem}.usa-article-content h3{margin-top:20px;margin-bottom:8px}.article-header,.usa-article-content .entry-content>:not(.nasa-block-align-wide){max-width:712px;margin-left:auto;margin-right:auto}.usa-article-content p{margin-top:0;margin-bottom:1em;padding:0}.usa-list__article-content li{width:100%}.usa-list__article-content li a{text-overflow:ellipsis;white-space:nowrap;color:#000;padding-top:.5rem;padding-bottom:.5rem;overflow:hidden}.usa-list__article-content li:hover{cursor:pointer;border-left:4px solid #1c67e3!important}.usa-list__article-content li>a:hover{color:#000}.article-color-mode-dark .usa-list__article-content li a,.article-color-mode-dark .usa-list__article-content li>a:hover,.color-mode-dark ul.article-tags .article-tag a{color:#fff}@media screen and (min-width:800px){.usa-article__scroll{height:-moz-fit-content;height:fit-content;position:-webkit-sticky;top:80px;position:sticky!important}}.usa-article-scroll-wrapper{height:calc(100% - 200px)}.social-icons{display:flex}.social-icons.social-icons-round{border-radius:50%}.social-icons .social-icon.social-icon-twitter a,.social-icons .social-icon.social-icon-x a{background-color:#4fb4db}.social-icons .social-icon.social-icon-facebook a{background-color:#5d77ac}.social-icons .social-icon.social-icon-linkedin a{background-color:#318cbc}.social-icons .social-icon.social-icon-share a{background-color:#1c67e3}.social-icons .social-icon.social-icon-rss a{background-color:#f26522}.social-icons.social-icons-monochrome .social-icon a{background-color:#000!important}.color-mode-dark .social-icons.social-icons-monochrome .social-icon a{background-color:#fff!important}.color-mode-dark .social-icons.social-icons-monochrome .social-icon a svg{fill:#000!important}.social-icons,ul.article-tags{margin:0;padding:0;list-style:none}ul.article-tags .article-tag{margin-bottom:7px;margin-right:7px;display:inline-block}ul.article-tags .article-tag a{color:#58585b;border:1px solid #b9b9b9;border-radius:1px;padding:5px 10px;font-size:.9em;line-height:1em;text-decoration:none;display:block}.topic-card-heading{align-items:center;display:flex}.topic-card-heading span{margin-right:.5em}.topic-card-heading svg{width:.9em;min-width:.9em;height:.9em}.hds-carousel-wrapper{position:relative}.nasa-block{width:100%;max-width:100%}.mission-status-icon{border-radius:50%;width:.8em;height:.8em}.tag-mission{align-items:center;display:flex}.mission-status-icon{margin-right:10px}.border-top-light-opaque{border-color:#ffffff4d!important}.article-color-mode-dark #primary{background-color:#17171b}.article-color-mode-dark .article-meta-item,.article-color-mode-dark .article-meta-item h3,.article-color-mode-dark .article-meta-item label,.article-color-mode-dark .article-meta-item span,.article-color-mode-dark .entry-content .section-heading-sm,.article-color-mode-dark .entry-content p,.article-color-mode-dark .entry-content p a,.article-color-mode-dark .usa-article-content h3,.article-color-mode-dark .wp-block-nasa-blocks-blockquote .blockquote-credit-name,.article-color-mode-dark ul.article-tags .article-tag a{color:#fff}body.article-color-mode-dark{background-color:#17171b}.hds-embed-container embed,.hds-embed-container iframe,.hds-embed-container object{width:100%;height:100%;position:absolute;top:0;left:0}svg.hds-video-play-button{pointer-events:none}.hds-media-align-inline{max-width:840px}.hds-media-align-wide{max-width:1100px}.hds-media-align-full{max-width:100%}.hds-media-align-full .hds-media-caption{padding-left:20px;padding-right:20px}.hds-video-play-button{z-index:999;width:70px;height:70px;transition:all .4s;position:absolute;top:calc(50% - 35px);left:calc(50% - 35px)}.hds-video-play-button:hover{cursor:pointer;transform:scale(1.1)}.hds-video-container{cursor:pointer}.hds-embed-container{max-width:100%;height:auto;padding-bottom:56.25%;position:relative;overflow:hidden}.ratio-1x1{position:relative}.ratio-1x1:after{content:\"\";padding-bottom:100%;display:block}.gallery-preview-item{flex:1;overflow:hidden}.gallery-preview-item img{-o-object-fit:cover;object-fit:cover;width:100%;height:100%}@media screen and (max-width:800px){.gallery-preview-item{height:7.5rem}}.gallery-preview-item .nasa-block-cover{position:relative}.gallery-preview-item .hds-video-icon{fill:#fff;z-index:999;width:30px;height:30px;position:absolute;top:20px;left:20px}.hds-topic-thumbnail{min-height:400px}.hds-subscription input[type=email]{color:#fff;background-color:#000000ad;border:1px solid #d1d1d1;border-radius:2px;width:100%;max-width:313px;padding:14px 16px;font-size:14px}.hds-subscription input[type=email]::placeholder{color:#d1d1d1}.link-underline-dashed,body div.link-underline-dashed,body p.link-underline-dashed{color:#000;border-bottom:1px dashed #f6f6f6;line-height:1.3em}.link-underline-dashed-light,body div.link-underline-dashed-light,body p.link-underline-dashed-light{color:#f6f6f6;border-bottom:1px dashed #b9b9bb;line-height:1.3em}.hds-foreground-wrapper{width:100%;height:100%;position:absolute;top:0;left:0}.display-120,.display-48,.display-60,.display-72,.heading-12,.heading-14,.heading-16,.heading-18,.heading-22,.heading-29,.heading-36{font-weight:700;line-height:1.05em}.display-120,h1.display-120,h3.display-120,h4.display-120,p.display-120{font-size:7.5rem}.display-72,h1.display-72,h3.display-72,h4.display-72,p.display-72{font-size:4.5rem}.display-60,h1.display-60,h3.display-60,h4.display-60,p.display-60{font-size:3.75rem}.display-48,h1.display-48,h3.display-48,h4.display-48,p.display-48{font-size:3rem}.display-41,h1.display-41,h3.display-41,h4.display-41,p.display-41{font-size:2.562rem}.heading-36,h1.heading-36,h2.heading-36,h3.heading-36,h4.heading-36,p.heading-36{font-size:2.25rem}.heading-29,h1.heading-29,h2.heading-29,h3.heading-29,h4.heading-29,p.heading-29{font-size:1.813rem}.heading-22,h1.heading-22,h2.heading-22,h3.heading-22,h4.heading-22,p.heading-22{font-size:1.375rem}.heading-18,h1.heading-18,h2.heading-18,h3.heading-18,h4.heading-18,p.heading-18{font-size:1.125rem}.heading-16,h1.heading-16,h2.heading-16,h3.heading-16,h4.heading-16,p.heading-16{font-size:1rem}.heading-14,h1.heading-14,h2.heading-14,h3.heading-14,h4.heading-14,p.heading-14{font-size:.875rem}.heading-12,h1.heading-12,h2.heading-12,h3.heading-12,h4.heading-12,p.heading-12{font-size:.75rem}@media (max-width:992px){.display-120,h1.display-120,h3.display-120,h4.display-120,p.display-120{font-size:5rem}.display-72,h1.display-72,h3.display-72,h4.display-72,p.display-72{font-size:3rem}.display-60,h1.display-60,h3.display-60,h4.display-60,p.display-60{font-size:2.25rem}.display-41,.display-48,h1.display-41,h1.display-48,h3.display-41,h3.display-48,h4.display-41,h4.display-48,p.display-41,p.display-48,.heading-36,h1.heading-36,h2.heading-36,h3.heading-36,h4.heading-36,p.heading-36{font-size:1.813rem}.heading-29,h1.heading-29,h2.heading-29,h3.heading-29,h4.heading-29,p.heading-29{font-size:1.375rem}.heading-22,h1.heading-22,h2.heading-22,h3.heading-22,h4.heading-22,p.heading-22{font-size:1.125rem}.heading-18,h1.heading-18,h2.heading-18,h3.heading-18,h4.heading-18,p.heading-18{font-size:1rem}.heading-16,h1.heading-16,h2.heading-16,h3.heading-16,h4.heading-16,p.heading-16{font-size:.875rem}.heading-12,.heading-14,h1.heading-12,h1.heading-14,h2.heading-12,h2.heading-14,h3.heading-12,h3.heading-14,h4.heading-12,h4.heading-14,p.heading-12,p.heading-14{font-size:.75rem}}@media (max-width:576px){.display-120,h1.display-120,h3.display-120,h4.display-120,p.display-120,.display-72,h1.display-72,h3.display-72,h4.display-72,p.display-72{font-size:3rem}.display-60,h1.display-60,h3.display-60,h4.display-60,p.display-60{font-size:2.25rem}.display-41,.display-48,h1.display-41,h1.display-48,h3.display-41,h3.display-48,h4.display-41,h4.display-48,p.display-41,p.display-48,.heading-36,h1.heading-36,h2.heading-36,h3.heading-36,h4.heading-36,p.heading-36{font-size:1.813rem}.heading-29,h1.heading-29,h2.heading-29,h3.heading-29,h4.heading-29,p.heading-29{font-size:1.375rem}.heading-22,h1.heading-22,h2.heading-22,h3.heading-22,h4.heading-22,p.heading-22{font-size:1.125rem}.heading-18,h1.heading-18,h2.heading-18,h3.heading-18,h4.heading-18,p.heading-18{font-size:1rem}.heading-16,h1.heading-16,h2.heading-16,h3.heading-16,h4.heading-16,p.heading-16{font-size:.875rem}.heading-12,.heading-14,h1.heading-12,h1.heading-14,h2.heading-12,h2.heading-14,h3.heading-12,h3.heading-14,h4.heading-12,h4.heading-14,p.heading-12,p.heading-14{font-size:.75rem}}p:empty{display:none}.hds-meta-heading{color:#000;margin-bottom:4px}.article-color-mode-dark .hds-meta-heading,.hds-color-mode-dark li.usa-breadcrumb__list-item,.single.article-color-mode-dark .hds-meta-heading{color:#fff}a.hds-meta-heading,a>.hds-meta-heading{border-bottom:1px dashed #58585b}body.article-color-mode-dark .label,body.article-color-mode-dark h1:not(.wp-block-post-title),body.article-color-mode-dark h2,body.article-color-mode-dark h3,body.article-color-mode-dark h4{color:#fff}body.article-color-mode-dark .article-meta-item,body.article-color-mode-dark .article-meta-item.border-bottom{border-color:#2e2e32}body.article-color-mode-dark .border-left-1px,body.article-color-mode-dark .border-top-1px{border-color:#58585b}body.article-color-mode-dark .article-meta-item span{color:#959599}body.article-color-mode-dark .article-meta-item svg{fill:#959599}.single-post .article-meta-item .hds-meta-subheading,body.article-color-mode-dark .article-meta-item .hds-meta-subheading{color:#959599!important}.article-color-mode-dark .related-article-label span,.article-color-mode-dark .related-article-label svg{fill:#fff;color:#fff}body.single-post .border-bottom{border-color:#d1d1d1}.single-post .border-top-1px{border-color:#2e2e32}.single-post .article-meta-item span{color:#58585b}.single-post .article-meta-item svg{fill:#58585b}.wp-block-embed.is-type-video{width:100%;max-width:85rem;margin-left:auto;margin-right:auto}.entry-content .wp-block-embed.is-type-video>.wp-block-embed__wrapper{width:100%;max-width:100%;height:auto;padding-bottom:56.25%;position:relative;overflow:hidden}.entry-content .wp-block-embed.is-type-video>.wp-block-embed__wrapper>iframe,.hds-media-wrapper .hds-media-ratio-cover img{width:100%;height:100%;position:absolute;top:0;left:0}.nasa-gb-align-full{z-index:300}.hds-secondary-navigation-breadcrumbs li.usa-breadcrumb__list-item.usa-current{display:inline-flex}.hds-caption,.hds-caption-text{text-align:left;width:100%;font-size:.75rem;line-height:1.25rem;display:block}.hds-caption-text{color:#58585b}.hds-tags li:hover a{color:#000}.color-mode-dark .hds-caption,.color-mode-dark .hds-caption-text,.hds-tags.hds-tags-dark li:hover a{color:#fff}.hds-media-inner{width:100%;margin:0;font-size:0;line-height:1em}.hds-cover-wrapper,.hds-media-wrapper .hds-media-ratio-cover{width:100%;display:block;position:relative;overflow:hidden}.hds-media-wrapper .hds-media-ratio-cover:after{content:\"\";padding-bottom:56.25%;display:block;position:relative}.hds-media-wrapper .hds-media-ratio-cover img{transition:all .4s}.hds-credits{text-align:left;color:#000;font-size:.75rem;line-height:1.25rem}.hds-media-ratio-fit img{-o-object-fit:none;object-fit:none;width:100%;height:auto;position:relative}.hds-media-background,.hds-media-background img,.hds-media-inner.hds-cover-wrapper>video{-o-object-fit:cover;object-fit:cover;width:100%;height:100%;position:absolute;top:0;left:0}.hds-video-background{width:100%}.parallax-default img{position:relative}.parallax-default{-o-object-fit:cover;object-fit:cover;opacity:0;top:0;left:0}.hds-media-background img,.hds-media-background video,.hds-media-inner img,.hds-media-inner video{transition:all .4s}.parallax-default{width:100%;height:100%;position:absolute}img.avatar{background-color:#58585b}.entry-content>:not(.hds-module),.nasa-button-link{max-width:52.5rem;margin-left:auto;margin-right:auto}.entry-content>p{padding:0}@media screen and (max-width:850px){.entry-content>:not(.hds-module){padding-left:1.5rem;padding-right:1.5rem}.entry-content>ul:not(.hds-module),.nasa-button-link{padding-left:3rem;padding-right:3rem}}.simpleParallax{width:100%;height:100%;display:flex;position:absolute}.hds-media .nasa-block-align-inline{max-width:840px}.hds-media .nasa-block-align-full{max-width:100%}.hds-media .nasa-block-align-full figcaption{padding-left:40px;padding-right:40px}@media screen and (max-width:800px){.hds-media .nasa-block-align-full figcaption{padding-left:20px;padding-right:20px}}.hds-media .nasa-block-align-wide{max-width:1100px}.hds-media .hds-media-inner{width:100%;height:100%;display:flex;overflow:hidden}html:not(.wp-toolbar){scrollbar-gutter:stable;overflow-y:unset}.hds-tags{margin:0;padding:0;list-style:none}.hds-tab-nav li,.hds-tags li,.hds-tags li a{font-size:.825rem;display:inline-block}.hds-tags li{color:#b9b9bb;border:1px solid #58585b;border-radius:.25rem;margin:0 .5rem .5rem 0;padding:0;transition:all .2s}.hds-tab-nav li.hds-tab-active span,.hds-tags li:hover{border-color:#000}.hds-tags.hds-tags-dark li:hover{border-color:#fff}.hds-tags li a{color:#b9b9bb;padding:.25rem .5rem;display:block}.hds-gallery-navbar{border-color:#f4f4f4;border-bottom-style:solid;border-bottom-width:2px}.hds-tab-nav{border:0;margin:0 0 -2px;padding:0;list-style:none}.hds-tab-nav li{padding:0 .75rem}.hds-footer-menu.hds-footer-menu-horizontal>li:first-child>a,.hds-tab-nav li:first-child{padding-left:0}.hds-tab-nav li a{color:#1b1b1b}.hds-tab-nav li span{padding:.75rem 0}.hds-filter-selector-title:hover,.hds-tab-nav li:hover{cursor:pointer}.hds-tab-nav svg{fill:#959599;width:1.5rem;height:1.5rem}.hds-tab-nav li.hds-tab-active svg,.hds-tab-nav li:hover svg{fill:#000}.hds-tab-nav.hds-tab-nav-icons li span{padding:.25rem 0}.hds-filter-selector{padding:.75rem}.hds-filter-selector-dropdown-icon{border:1px solid #b9b9bb;border-radius:50%;justify-content:center;align-items:center;width:1.25rem;height:1.25rem;margin-left:.5rem;padding:.25rem;display:flex}.hds-filter-selector-dropdown-icon svg{fill:#959599;width:.75rem}.hds-filter-selector-title{align-items:center;display:flex}.hds-gallery-search input[type=search]{background-position:10px;background-repeat:no-repeat;background-size:1.25rem;padding-left:2.75rem;padding-right:0}.hds-gallery-navbar{grid-template-columns:max-content 1fr max-content max-content;gap:1rem;display:grid}.hds-gallery-navbar .hds-tab-nav.hds-gallery-type-switcher{min-width:27rem}.hds-gallery-search{text-align:center;margin:0 auto}.hds-gallery-filters{grid-template-columns:max-content max-content;display:grid}.hds-gallery-filters>.hds-filter-selector:last-child{padding-right:0}.hds-filter-dropdown-mobile{display:none}.hds-gallery-mobile-search-trigger{width:1.25rem;height:1.25rem;display:none}.hds-gallery-switcher-search{display:flex}@media (max-width:576px){.hds-gallery-mobile-search-trigger{margin-left:auto;margin-right:0;padding-right:0;display:block}.hds-gallery-navbar .hds-tab-nav.hds-gallery-type-switcher{min-width:1px}.hds-gallery-switcher-search{align-items:center;width:100%;display:flex}.hds-gallery-navbar{gap:0;display:flex}.hds-filter-dropdown-mobile{display:block}.hds-filter-selector.hds-filter-dropdown-mobile,.hds-gallery-layout-switcher{width:50%}.hds-filter-selector.hds-filter-dropdown-mobile{justify-content:flex-end;padding-right:0;display:flex}.hds-gallery-navbar .hds-gallery-search{width:100%}.hds-gallery-filters,.hds-gallery-navbar .hds-gallery-search input[type=search] .hds-gallery-navbar div[role=search]{width:100%;display:block}.hds-gallery-navbar .hds-gallery-filters,.hds-gallery-navbar .hds-gallery-search{display:none}}.hds-filter-selection-title{margin-right:.25rem}.hds-filter-selector .hds-filter-selection,.hds-filter-selector .hds-filter-selection span{color:#000}.hds-gallery-items{grid-template-columns:repeat(4,1fr);gap:1rem;width:100%;display:grid}.hds-gallery-item-single{width:100%;min-height:300px;position:relative}.hds-gallery-item-overlay{z-index:100;opacity:0;background:linear-gradient(0deg,#000000c7 0,#0000 27% 100%);flex-direction:column;justify-content:flex-end;align-items:flex-start;width:100%;height:100%;transition:all .3s;display:none;position:absolute;top:0;left:0}.hds-gallery-item-single:hover{cursor:pointer}.hds-gallery-item-single:hover .hds-gallery-item-overlay{opacity:1;display:flex}.hds-content-item-thumbnail>img,.hds-gallery-item-single img,.hds-gallery-item-single video{-o-object-fit:cover;object-fit:cover;width:100%;height:100%;position:absolute;top:0;left:0}.hds-gallery-item-caption{color:#fff;width:100%;padding:1rem;font-size:.825rem;display:block}@media (max-width:768px){.hds-gallery-items{grid-template-columns:repeat(3,1fr)}.hds-gallery-items .hds-gallery-item-single{min-height:160px}}@media (max-width:576px){.hds-gallery-items{grid-template-columns:repeat(2,1fr)}.hds-gallery-items .hds-gallery-item-single{min-height:130px}.hds-gallery-items .hds-gallery-item-single:hover .hds-gallery-item-overlay{opacity:0;display:none}}.hds-attachment-single__buttons{position:relative}.usa-button svg{width:1rem;height:1rem;margin-left:.75rem}.hds-button{border-radius:0;align-items:center;width:-moz-fit-content;width:fit-content;display:inline-flex}.hds-button.hds-button-download{background-color:#1c67e3;border:2px solid #1c67e3}.hds-button,.hds-button span{font-family:Inter,sans-serif;font-size:1rem;font-weight:600}.hds-button.hds-button-share{background-color:#0000;border:2px solid #1c67e3}.hds-button.hds-button-share span,.usa-header .usa-input[type=search]{color:#fff}.hds-attachment-single__metadata{border-top:1px solid #2e2e32}.hds-attachment-single__meta{grid-template-columns:1fr 1fr 1fr;gap:1.5rem;display:grid}.hds-attachment-single__meta-item>span{display:block}.hds-attachment-single__meta-item-key{margin-bottom:.25rem}.hds-attachment-single__meta-item-value{font-size:.85rem}.hds-pagination{margin:3rem 0;padding:0;font-size:0}.hds-pagination>*,.hds-pagination>*>*{font-size:1rem;line-height:1em}.hds-pagination>*{text-align:center;color:#58585b;border:1px solid #959599;min-width:2.25rem;min-height:2.25rem;margin-right:.75rem;padding:10px;display:inline-block}.hds-pagination span{font-size:1rem}.hds-pagination>span.page-numbers.current,.hds-pagination>span.page-numbers.current>span{font-weight:700}.hds-content-items-grid{grid-template-columns:repeat(3,1fr);gap:2rem;display:grid}@media screen and (max-width:1100px){.hds-content-items-grid{grid-template-columns:repeat(2,1fr)}}@media screen and (max-width:800px){.hds-content-items-grid{grid-template-columns:1fr}}.hds-content-items.hds-content-items-list .hds-content-item{grid-template-columns:15rem 1fr;gap:2rem;margin-bottom:2.5rem;display:grid}.hds-content-items.hds-content-items-list .hds-content-item-thumbnail,.hds-secondary-navigation .hds-secondary-navigation-menu-items ul li{margin-bottom:0}@media screen and (max-width:800px){.hds-content-items.hds-content-items-list .hds-content-item{grid-template-columns:1fr;gap:1rem}}.hds-content-item-thumbnail{margin-bottom:1rem;display:block;position:relative}.hds-content-item-thumbnail:after{content:\"\";padding-bottom:56.25%;display:block}.hds-content-item-heading{color:#000;margin-bottom:.5rem;display:block}.hds-content-item-heading h2,.hds-content-item-heading h3,.hds-content-item-heading h4{color:#000}.hds-pagination>a.page-numbers:hover,.hds-pagination>a.page-numbers:hover>span,.hds-pagination>span.page-numbers.current,.hds-pagination>span.page-numbers.current>span{color:#000;border-color:#000}.hds-color-mode-light.hds-secondary-navigation .usa-breadcrumb__list-item.usa-current .usa-breadcrumb__link{color:#000}figure.hds-media-background .hds-video-background{width:100%;height:100%}.hds-footer-details{max-width:22rem}.hds-footer-menu{margin:0;padding:0;list-style:none}.hds-menu-col-3{-moz-columns:3;columns:3}@media (max-width:768px){.hds-menu-col-3{-moz-columns:2;columns:2}}.hds-footer-menu>li{display:block}.hds-footer-menu *,.hds-footer-menu>li>a{font-size:.9rem;font-weight:400;line-height:1.2em}.hds-footer-menu>li>a{padding:.5rem 0;display:block}.hds-footer-menu>li>a:hover>span{text-underline-offset:.3em;text-decoration:underline}.hds-footer-menu.hds-footer-menu-horizontal>li{display:inline-block}.hds-footer-menu.hds-footer-menu-horizontal>li>a{padding:.5rem .75rem}.hds-footer-menu.hds-footer-menu-horizontal>li.hds-footer-meta{margin-right:2rem;display:inline-flex}@media screen and (max-width:1200px){.hds-footer-menu.hds-footer-menu-horizontal>li{width:100%;padding:0;display:block}.hds-footer-menu.hds-footer-menu-horizontal>li>a{padding:.35rem 0}.hds-footer-menu.hds-footer-menu-horizontal{-moz-columns:3;columns:3}}@media screen and (max-width:800px){.hds-footer-menu.hds-footer-menu-horizontal{-moz-columns:2;columns:2}.hds-footer-menu.hds-footer-menu-horizontal.hds-menu-meta{-moz-columns:1;columns:1}}.hds-footer-meta .hds-footer-meta-label{padding-right:.5rem}.hds-footer-meta .hds-footer-meta-value{font-weight:600}.hds-footer-secondary{border-color:#58585b}@media screen and (min-width:1024px){.hds-footer-secondary{margin-top:1.5rem}}.entry-content video{max-width:100%}.entry-content ol li,.entry-content ul li{margin-bottom:.75rem}.hds-secondary-navigation .usa-nav__primary button span:after,.hds-secondary-navigation .usa-nav__primary button[aria-expanded=true] span:after{display:none!important}.link-external-true svg{transform:rotate(-45deg)}.hds-404-callout p a{color:#fff;text-underline-offset:.3em;text-decoration:underline}.hds-button{box-sizing:border-box}.hds-button img,.hds-button svg{width:1.1rem;height:1.1rem}.hds-button.hds-button-primary{color:#fff;background-color:#f64137;border:1px solid #f64137}.hds-button.hds-button-primary>svg{color:#fff;fill:#fff}.hds-secondary-navigation .usa-breadcrumb__list-item:not(:last-child):after{content:\"/\";background-color:#0000;width:-moz-fit-content;width:fit-content;height:-moz-fit-content;height:fit-content;margin:0 10px;padding:0;font-size:1rem;bottom:0;-webkit-mask:none;mask:none}.hds-secondary-navigation .usa-breadcrumb__link span{text-decoration:none}.hds-secondary-navigation .usa-breadcrumb{max-width:inherit;width:100%}.hds-secondary-navigation .hds-secondary-navigation-menu-items ul li ul{margin-top:0}.hds-secondary-navigation *{font-family:inter,sans-serif}.hds-secondary-navigation .usa-nav__link,.hds-secondary-navigation .usa-nav__primary button{font-weight:600}.hds-secondary-navigation .usa-nav__submenu{padding:0;box-shadow:3px 3px 16px #0000001a}.hds-secondary-navigation .usa-breadcrumb__link,.hds-secondary-navigation .usa-breadcrumb__link:visited,.hds-secondary-navigation .usa-breadcrumb__list .usa-breadcrumb__list-item:not(:last-child):after,.usa-breadcrumb__list-item.usa-current{font-size:.8rem}.hds-secondary-navigation .usa-nav__submenu .usa-nav__submenu-item a,.hds-secondary-navigation .usa-nav__submenu .usa-nav__submenu-item a:hover{padding:.5rem 1rem}.hds-secondary-navigation .usa-nav__submenu .usa-nav__submenu-item a{text-align:left;margin:0;font-size:.875rem;display:block}.hds-secondary-navigation .usa-nav__submenu .usa-nav__submenu-item+*{margin-top:0}.hds-secondary-navigation button.usa-accordion__button.usa-nav__link{align-items:center;display:flex}.hds-secondary-navigation button.usa-accordion__button.usa-nav__link svg{width:10px;min-width:10px;height:10px}.hds-color-mode-light.hds-secondary-navigation .usa-nav__primary button[aria-expanded=true],.hds-secondary-navigation .usa-nav__primary button,.hds-secondary-navigation.hds-color-mode-light .usa-nav__primary>.usa-nav__primary-item>a{font-size:.875rem}.hds-secondary-navigation .usa-breadcrumb{background:0 0}.hds-secondary-navigation .usa-nav__primary .usa-accordion__button span{padding-right:.65rem}.hds-secondary-navigation button.usa-nav__link svg{transition:all .2s}.hds-secondary-navigation button.usa-nav__link[aria-expanded=true] svg{transform:rotate(-180deg)}.hds-color-mode-light.hds-secondary-navigation,.hds-color-mode-light.hds-secondary-navigation .usa-nav__primary button[aria-expanded=true],.hds-color-mode-light.hds-secondary-navigation .usa-nav__submenu{background-color:#fff}.hds-color-mode-light.hds-secondary-navigation .usa-breadcrumb__link,.hds-color-mode-light.hds-secondary-navigation .usa-breadcrumb__link:visited{color:#58585b}.hds-color-mode-light.hds-secondary-navigation .usa-nav__primary button[aria-expanded=true],.hds-color-mode-light.hds-secondary-navigation .usa-nav__submenu .usa-nav__submenu-item a,.hds-secondary-navigation .usa-nav__primary>.usa-nav__primary-item>a,.hds-secondary-navigation.hds-color-mode-light .usa-nav__primary button,.hds-secondary-navigation.hds-color-mode-light .usa-nav__primary>.usa-nav__primary-item>a:hover{color:#2e2e32}.hds-secondary-navigation.hds-color-mode-light{border-color:#d1d1d1}.hds-secondary-navigation.hds-color-mode-light button.usa-accordion__button.usa-nav__link svg{fill:#2e2e32}.hds-color-mode-dark.hds-secondary-navigation,.hds-color-mode-dark.hds-secondary-navigation .usa-nav__primary button[aria-expanded=true],.hds-color-mode-dark.hds-secondary-navigation .usa-nav__submenu{background-color:#17171b}.hds-color-mode-dark.hds-secondary-navigation .usa-breadcrumb__link,.hds-color-mode-dark.hds-secondary-navigation .usa-breadcrumb__link:visited,.hds-secondary-navigation.hds-secondary-navigation .usa-breadcrumb__list .usa-breadcrumb__list-item:not(:last-child):after{color:#959599}.hds-color-mode-dark.hds-secondary-navigation .usa-breadcrumb__list-item.usa-current .usa-breadcrumb__link,.hds-color-mode-dark.hds-secondary-navigation .usa-nav__primary button[aria-expanded=true],.hds-color-mode-dark.hds-secondary-navigation .usa-nav__primary>.usa-nav__primary-item,.hds-color-mode-dark.hds-secondary-navigation .usa-nav__submenu .usa-nav__submenu-item a,.hds-secondary-navigation.hds-color-mode-dark .usa-nav__primary button,.hds-secondary-navigation.hds-color-mode-dark .usa-nav__primary>.usa-nav__primary-item>a{color:#fff}.hds-secondary-navigation.hds-color-mode-dark .usa-nav__primary>.usa-nav__primary-item>a:hover{color:#959599}.hds-secondary-navigation.hds-color-mode-dark button.usa-accordion__button.usa-nav__link svg{fill:#fff}.hds-secondary-navigation.hds-color-mode-dark{border-color:#17171b}.usa-breadcrumb__list{justify-content:flex-start;align-items:center;display:flex}.hds-secondary-navigation-menu-items{z-index:1000}.hds-secondary-nav-track{align-items:center;display:flex}.hds-secondary-navigation .hds-secondary-navigation-breadcrumbs,.hds-secondary-navigation .hds-secondary-navigation-menu-spacer{flex:0 auto;width:25%}.hds-secondary-navigation .hds-secondary-navigation-menu-items{flex:auto;width:50%}.usa-nav__primary>.usa-nav__primary-item>a{padding:1rem .75rem}.hds-secondary-navigation .usa-nav__primary a:not(.usa-button):hover,.hds-secondary-navigation .usa-nav__primary button:hover{background-color:#0000}.hds-secondary-nav-track{font-size:0;line-height:1em}@media screen and (max-width:1023px){.hds-secondary-navigation .hds-secondary-nav-track.grid-container{width:100%;max-width:100%}.hds-secondary-nav-track{padding:0;font-size:0;line-height:1em;display:block}.hds-secondary-navigation .hds-secondary-navigation-menu-items{width:100%;display:none}.hds-color-mode-dark.hds-secondary-navigation .usa-nav__submenu .usa-nav__submenu-item a,.hds-secondary-navigation-menu-items li a.usa-nav__link{text-align:left;padding:1rem;font-size:.875rem}.hds-secondary-navigation-menu-items li,.hds-secondary-navigation-menu-items li a.usa-nav__link{border:0}.hds-secondary-navigation .usa-nav__submenu a:not(.usa-button){padding-left:1rem!important}.hds-color-mode-dark.hds-secondary-navigation .usa-nav__submenu{background-color:#2e2e32}.hds-secondary-navigation .usa-nav__submenu{box-shadow:none}.hds-secondary-navigation.hds-color-mode-light .usa-nav__submenu{background-color:#eee}.hds-secondary-navigation .usa-nav__submenu .usa-nav__submenu-item a,.hds-secondary-navigation .usa-nav__submenu .usa-nav__submenu-item a:hover{padding:1rem}.hds-secondary-navigation .usa-nav__primary .usa-accordion__button span,.hds-secondary-navigation-menu-items li,.hds-secondary-navigation-menu-items li a.usa-nav__link{font-weight:400}}@media screen and (min-width:1024px){.hds-secondary-navigation-menu-items{position:relative;display:block!important}}@media screen and (min-width:1025px) and (max-width:1600px){.hds-secondary-nav-track{display:block}.hds-secondary-navigation .hds-secondary-navigation-breadcrumbs,.hds-secondary-navigation .hds-secondary-navigation-menu-items{width:100%;max-width:100%}.hds-secondary-navigation-breadcrumbs{padding:.75rem 2rem .5rem}}.entry-content ol li ol,.entry-content ol li ul,.entry-content ul li ol,.entry-content ul li ul{margin-top:.75rem}.entry-content ol li::marker{color:#1c67e3}.entry-content ul li::marker{color:#1c67e3}.entry-content h1 a:hover,.entry-content h2 a:hover,.entry-content h3 a:hover,.entry-content h4 a:hover,.entry-content li a:hover,.entry-content p a:hover{cursor:pointer;text-decoration-style:solid;text-decoration-color:#1b1b1b}.entry-content h1 a,.entry-content h2 a,.entry-content h3 a,.entry-content h4 a,.entry-content li a,.entry-content p a{color:#1b1b1b;text-underline-offset:.25rem;-webkit-text-decoration:underline dashed #585858;text-decoration:underline dashed #585858;text-decoration-thickness:.05em}.hds-image-download-wrapper{position:relative}.hds-image-download-wrapper .hds-image-download-link{position:absolute;top:1rem;right:1rem}.hds-gallery-preview{margin:0 auto}.hds-gallery-preview-items,.hds-gallery-preview-row{display:flex}.hds-gallery-preview-row.hds-gallery-preview-row-lg{height:20rem;margin-bottom:.85rem}.hds-gallery-preview-row.hds-gallery-preview-row-sm{height:12rem}.hds-gallery-preview-col.hds-gallery-preview-flex-two{flex:2.035}.hds-gallery-preview-col.hds-gallery-preview-flex-three{flex:3}.hds-gallery-preview-grid{flex-direction:column;display:flex}.hds-gallery-preview-grid .hds-gallery-preview-item{flex:unset;width:50%;margin-bottom:.85rem;margin-right:.85rem}.hds-gallery-preview-row-sm .hds-gallery-preview-item{margin-right:.85rem}.hds-gallery-preview-row-sm .hds-gallery-preview-item:last-child{margin-right:0}.hds-gallery-preview-grid .hds-gallery-preview-row{height:50%}@media screen and (min-width:1024px){.hds-gallery-preview-grid .hds-gallery-preview-row:last-child .hds-gallery-preview-item{margin-bottom:0}}.hds-gallery-preview-item{flex:1;overflow:hidden}.hds-gallery-preview-item img{width:100%;height:100%}.hds-gallery-preview-label,.hds-gallery-preview-label span{letter-spacing:.1em}.hds-gallery-preview-label svg{width:1.1rem;height:1.1rem;margin-right:.5rem}@media screen and (max-width:1023px){.hds-gallery-preview-flex-two .hds-gallery-preview-row{grid-gap:.85em;grid-template-columns:auto auto;display:grid}.hds-gallery-preview-flex-two .hds-gallery-preview-row .hds-gallery-preview-item{justify-content:center;align-items:center;width:100%;margin-right:0;display:flex}.hds-gallery-preview-row{height:-moz-fit-content;height:fit-content}.hds-gallery-preview-row-lg{display:block}.hds-gallery-preview-row-2{grid-gap:.85em;grid-template-columns:auto auto;display:grid}.hds-gallery-preview-row-2 .hds-gallery-preview-item{justify-content:center;align-items:center;width:100%;display:flex}.hds-gallery-preview-row.hds-gallery-preview-row-lg,.hds-gallery-preview-row.hds-gallery-preview-row-sm{height:-moz-fit-content;height:fit-content}.hds-gallery-preview-item{height:7.5rem}.hds-gallery-preview-item.hds-gallery-preview-item-featured{height:11rem}}@media screen and (max-width:480px){.hds-gallery-preview-flex-two .hds-gallery-preview-row .hds-gallery-preview-item{justify-content:center;align-items:center;width:100%;min-height:120px;margin-right:0;display:flex}.hds-gallery-preview-row{height:-moz-fit-content;height:fit-content}.hds-gallery-preview-flex-two .hds-gallery-preview-row,.hds-gallery-preview-row-2,.hds-gallery-preview-row-lg{display:block}.hds-gallery-preview-row-2 .hds-gallery-preview-item{justify-content:center;align-items:center;width:100%;margin-bottom:.85rem;display:flex}}.hds-gallery-preview-item .hds-cover-wrapper{display:flex}.hds-gallery-preview-item .hds-video-icon{fill:#fff;z-index:999;width:30px;height:30px;position:absolute;top:20px;left:20px}.hds-gallery-preview-row:last-child{margin-bottom:0}.hds-topic-card{width:100%;height:auto;min-height:27rem;display:block}.hds-topic-card:after{content:\"\";padding-bottom:177.78%;display:block}.hds-topic-card-heading{align-items:center;display:flex}.hds-topic-card-heading span{margin-right:.5em}.hds-topic-card-heading svg{width:.9em;min-width:.9em;height:.9em}.news-item-stack{flex-direction:column;display:flex}.news-item-stack .news-item .hds-cover-wrapper{height:100%;min-height:0}.news-item>.hds-cover-wrapper{min-height:410px}@media screen and (max-width:800px){.news-item-stack .news-item .hds-cover-wrapper{min-height:200px}.news-item>.hds-cover-wrapper{min-height:320px}}.latest-news-item a{display:block}.latest-news-items .hds-cover-wrapper{height:100%!important}.flex-wrap{flex-wrap:wrap}.color-mode-dark .hds-caption-text.color-carbon-30{color:#b9b9bb}html{overflow-y:unset}body{overflow-x:unset}.grid-container-block{max-width:90rem}.hds-grid-container{max-width:87.5rem}.BlockWrapper.hds-media.hds-media-align-inline,.BlockWrapper.hds-media.hds-media-align-wide,.BlockWrapper.hds-media.hds-media-align-full,.BlockWrapper.hds-media .nasa-block-align-inline,.BlockWrapper.hds-media .nasa-block-align-wide,.BlockWrapper.hds-media .nasa-block-align-full{max-width:unset}.entry-content{min-height:unset}.hds-tags li{border:none}.hds-tags li a{border:1px solid #58585b;border-radius:.25rem;transition:all .2s}.hds-tags li a:hover{border-color:#000}.hds-tags.hds-tags-dark li{border-color:#959599}.hds-tags.hds-tags-dark li a{color:#959599}.hds-tags.hds-tags-dark li a:hover{color:#f6f6f6;border-color:#f6f6f6}.single.article-color-mode-dark .button-primary,.single.article-color-mode-dark .button-primary span,.single.article-color-mode-dark .grid-row div,.single.article-color-mode-dark .label,.single.article-color-mode-dark .p-lg,.single.article-color-mode-dark .p-md,.single.article-color-mode-dark .p-sm,.single.article-color-mode-dark .page-heading-lg,.single.article-color-mode-dark .page-heading-md,.single.article-color-mode-dark .section-heading-md,.single.article-color-mode-dark .section-heading-sm,.single.article-color-mode-dark .subheading,.single.article-color-mode-dark a.button-primary,.single.article-color-mode-dark h1,.single.article-color-mode-dark h2,.single.article-color-mode-dark h3,.single.article-color-mode-dark h4,.single.article-color-mode-dark p,.single.article-color-mode-dark p a{color:#f6f6f6!important}.article-color-mode-dark .BlockWrapper .label span{color:#f6f6f6}.article-color-mode-dark .BlockWrapper .label svg path{fill:#f6f6f6}.smd-padding-x-responsive{padding-left:1.5rem;padding-right:1.5rem}@media screen and (min-width:1474px){.smd-padding-x-responsive{padding-left:0;padding-right:0}}.smd-external-link-warning-icon{vertical-align:middle;margin-left:.125rem}@media screen and (min-width:1474px){.smd-external-link-warning-icon{vertical-align:baseline}}.social-icons li.social-icon a{color:#fff}.usa-nav__link-nasa-live span:after{content:\"Live\";letter-spacing:.1em;text-transform:uppercase;vertical-align:middle;border:1px solid #f64137;border-radius:2px;margin-block-start:-.1em;margin-inline-start:.5em;padding:.2em .3em;font-family:DM Mono,monospace;font-size:.65em;font-weight:500;line-height:.9;display:inline-block!important}.usa-nav__link-nasa-live:hover span:after{background-color:#b60109}.is-live .usa-nav__link-nasa-live span:after{color:#fff;background-color:#f64137;animation:3s infinite live_pulse}</style>\\n<style>:root{--swiper-theme-color:#007aff}.swiper{z-index:1;margin-left:auto;margin-right:auto;padding:0;list-style:none;display:block;position:relative;overflow:clip}.swiper-vertical>.swiper-wrapper{flex-direction:column}.swiper-wrapper{z-index:1;transition-property:transform;transition-timing-function:var(--swiper-wrapper-transition-timing-function,initial);box-sizing:content-box;width:100%;height:100%;display:flex;position:relative}.swiper-android .swiper-slide,.swiper-ios .swiper-slide,.swiper-wrapper{transform:translate(0,0)}.swiper-horizontal{touch-action:pan-y}.swiper-vertical{touch-action:pan-x}.swiper-slide{flex-shrink:0;width:100%;height:100%;transition-property:transform;display:block;position:relative}.swiper-slide-invisible-blank{visibility:hidden}.swiper-autoheight,.swiper-autoheight .swiper-slide{height:auto}.swiper-autoheight .swiper-wrapper{align-items:flex-start;transition-property:transform,height}.swiper-backface-hidden .swiper-slide{-webkit-backface-visibility:hidden;backface-visibility:hidden;transform:translateZ(0)}.swiper-3d.swiper-css-mode .swiper-wrapper{perspective:1200px}.swiper-3d .swiper-wrapper{transform-style:preserve-3d}.swiper-3d{perspective:1200px}.swiper-3d .swiper-slide,.swiper-3d .swiper-cube-shadow{transform-style:preserve-3d}.swiper-css-mode>.swiper-wrapper{scrollbar-width:none;-ms-overflow-style:none;overflow:auto}.swiper-css-mode>.swiper-wrapper::-webkit-scrollbar{display:none}.swiper-css-mode>.swiper-wrapper>.swiper-slide{scroll-snap-align:start start}.swiper-css-mode.swiper-horizontal>.swiper-wrapper{scroll-snap-type:x mandatory}.swiper-css-mode.swiper-vertical>.swiper-wrapper{scroll-snap-type:y mandatory}.swiper-css-mode.swiper-free-mode>.swiper-wrapper{scroll-snap-type:none}.swiper-css-mode.swiper-free-mode>.swiper-wrapper>.swiper-slide{scroll-snap-align:none}.swiper-css-mode.swiper-centered>.swiper-wrapper:before{content:\"\";flex-shrink:0;order:9999}.swiper-css-mode.swiper-centered>.swiper-wrapper>.swiper-slide{scroll-snap-align:center center;scroll-snap-stop:always}.swiper-css-mode.swiper-centered.swiper-horizontal>.swiper-wrapper>.swiper-slide:first-child{margin-inline-start:var(--swiper-centered-offset-before)}.swiper-css-mode.swiper-centered.swiper-horizontal>.swiper-wrapper:before{width:var(--swiper-centered-offset-after);height:100%;min-height:1px}.swiper-css-mode.swiper-centered.swiper-vertical>.swiper-wrapper>.swiper-slide:first-child{margin-block-start:var(--swiper-centered-offset-before)}.swiper-css-mode.swiper-centered.swiper-vertical>.swiper-wrapper:before{height:var(--swiper-centered-offset-after);width:100%;min-width:1px}.swiper-3d .swiper-slide-shadow,.swiper-3d .swiper-slide-shadow-left,.swiper-3d .swiper-slide-shadow-right,.swiper-3d .swiper-slide-shadow-top,.swiper-3d .swiper-slide-shadow-bottom,.swiper-3d .swiper-slide-shadow,.swiper-3d .swiper-slide-shadow-left,.swiper-3d .swiper-slide-shadow-right,.swiper-3d .swiper-slide-shadow-top,.swiper-3d .swiper-slide-shadow-bottom{pointer-events:none;z-index:10;width:100%;height:100%;position:absolute;top:0;left:0}.swiper-3d .swiper-slide-shadow{background:#00000026}.swiper-3d .swiper-slide-shadow-left{background-image:linear-gradient(270deg,#00000080,#0000)}.swiper-3d .swiper-slide-shadow-right{background-image:linear-gradient(90deg,#00000080,#0000)}.swiper-3d .swiper-slide-shadow-top{background-image:linear-gradient(#0000,#00000080)}.swiper-3d .swiper-slide-shadow-bottom{background-image:linear-gradient(#00000080,#0000)}.swiper-lazy-preloader{z-index:10;transform-origin:50%;box-sizing:border-box;border:4px solid var(--swiper-preloader-color,var(--swiper-theme-color));border-top-color:#0000;border-radius:50%;width:42px;height:42px;margin-top:-21px;margin-left:-21px;position:absolute;top:50%;left:50%}.swiper:not(.swiper-watch-progress) .swiper-lazy-preloader,.swiper-watch-progress .swiper-slide-visible .swiper-lazy-preloader{animation:1s linear infinite swiper-preloader-spin}.swiper-lazy-preloader-white{--swiper-preloader-color:#fff}.swiper-lazy-preloader-black{--swiper-preloader-color:#000}@keyframes swiper-preloader-spin{0%{transform:rotate(0)}to{transform:rotate(360deg)}}</style>\\n<style>body.admin-bar{margin-top:30px}</style>\\n<style>.hds-search-panel-mobile[data-v-99b3afd4]{width:100vw;height:calc(100vh + 20rem);padding-bottom:10rem;top:0;bottom:0;overflow:hidden auto}.hds-search-panel-mobile .hds-search-panel-bar[data-v-99b3afd4]{grid-template-columns:max-content 1fr max-content;align-items:center;gap:.5rem;display:grid}.hds-search-panel-mobile .hds-search input[type=search][data-v-99b3afd4]{color:#fff;max-width:unset;border:0;height:2.5rem}.hds-search-panel-mobile .hds-search input[type=search][data-v-99b3afd4]::-ms-clear{width:0;height:0;display:none}.hds-search-panel-mobile .hds-search input[type=search][data-v-99b3afd4]::-ms-reveal{width:0;height:0;display:none}.hds-search-panel-mobile .hds-search input[type=search][data-v-99b3afd4]::-webkit-search-decoration{display:none}.hds-search-panel-mobile .hds-search input[type=search][data-v-99b3afd4]::-webkit-search-cancel-button{display:none}.hds-search-panel-mobile .hds-search input[type=search][data-v-99b3afd4]::-webkit-search-results-button{display:none}.hds-search-panel-mobile .hds-search input[type=search][data-v-99b3afd4]::-webkit-search-results-decoration{display:none}.hds-search-panel-mobile ul.hds-search-suggestions[data-v-99b3afd4]{padding-left:0;list-style:none}.hds-search-panel-mobile .hds-search-suggestion>a[data-v-99b3afd4]{border-bottom:1px solid #d1d1d1;grid-template-columns:max-content 1fr max-content;align-items:center;gap:.75rem;width:100%;display:grid}.hds-search-panel-mobile .hds-search-suggestion.hds-search-suggestion-more>a[data-v-99b3afd4]{grid-template-columns:1fr max-content}.hds-search-panel-mobile .hds-search-suggestion-search-icon[data-v-99b3afd4]{width:1rem;height:1rem}.hds-search-panel-mobile .hds-search-suggestion-go-icon[data-v-99b3afd4]{width:1.25rem;height:1.25rem}.hds-search-panel-mobile .hds-suggested-search-item[data-v-99b3afd4]{color:#58585b;fill:#58585b;font-size:1.1rem;font-weight:400}.hds-search-panel-mobile .hds-search-panel-bar-search-icon[data-v-99b3afd4]{width:1rem;height:1rem}.hds-search-panel-mobile .hds-search input[type=search][data-v-99b3afd4]{float:none}body.admin-bar .hds-search-panel-mobile.hds-active[data-v-99b3afd4]{margin-top:32px!important}@media screen and (max-width:782px){body.admin-bar .hds-search-panel-mobile.hds-active[data-v-99b3afd4]{margin-top:46px!important}}.hds-search-panel-mobile-trigger[data-v-99b3afd4]:hover{cursor:pointer}</style>\\n<style>.menu-toggle{align-items:center;width:18px;height:18px;display:flex;cursor:pointer!important}.menu-toggle .menu-toggle-icon{flex-direction:column;display:flex;position:relative;cursor:pointer!important}.menu-toggle .menu-toggle-icon-top{margin-bottom:5px}.menu-toggle .menu-toggle-icon-bottom{margin-top:5px}.menu-toggle .menu-toggle-icon-bottom,.menu-toggle .menu-toggle-icon-center,.menu-toggle .menu-toggle-icon-top{content:\"\";background:#fff;width:20px;height:2px;transition:all .3s;display:inline-block;position:relative}.menu-toggle.menu-toggle-active .menu-toggle-icon-center{opacity:0}.menu-toggle.menu-toggle-active .menu-toggle-icon-top{margin-bottom:-2px;transform:rotate(135deg)}.menu-toggle.menu-toggle-active .menu-toggle-icon-bottom{margin-top:-2px;transform:rotate(-135deg)}</style>\\n<style>.global-nav__secondary-submenu .button-primary{display:flex;padding-left:0!important}.global-nav__secondary-submenu .global-nav__secondary-list.usa-nav__submenu-list{width:100%;max-width:90vw}@media (min-width:439px){.global-nav__secondary-submenu .global-nav__secondary-list.usa-nav__submenu-list{max-width:50rem}}.global-nav__secondary-submenu .global-nav__secondary-list.usa-nav__submenu-list .usa-nav__submenu-item{max-width:30rem}.global-nav__tertiary{position:relative}@media screen and (min-width:639px){.global-nav__tertiary{display:flex}}@media screen and (min-width:1024px){.global-nav__tertiary{-ms-overflow-style:none;scrollbar-width:none;max-height:28rem;padding-right:10px;display:block;right:-25px;overflow-y:auto}.global-nav__tertiary::-webkit-scrollbar{display:none}}@media screen and (min-width:1240px){.global-nav__tertiary{max-height:78rem}}@media screen and (min-width:64em){.global-nav__tertiary .usa-nav__submenu{z-index:400;background-color:#162e51;width:15rem;margin-top:0;margin-bottom:0;padding:1rem;list-style-type:none;position:absolute}}</style>\\n<style>.global-nav__mobile-return button.global-nav__back{box-shadow:none;color:#fff;text-align:left;background:0 0;border:0;width:100%;padding:1.1rem 0;outline:none!important}.global-nav__mobile-return{overflow:hidden}.global-nav__mobile-return button.global-nav__back svg{fill:#fff;width:12px;height:12px;margin-right:2px}.global-nav__primary-list.usa-nav__submenu-list .usa-nav__submenu-item a:hover .usa-nav__submenu-item a:hover,.global-nav__secondary-list.usa-nav__submenu-list .usa-nav__submenu-item a:hover{text-decoration:none}.global-nav__primary-list.usa-nav__submenu-list li.usa-nav__submenu-item>a>span{border-bottom:1px solid #0000;padding-bottom:2px}.global-nav__primary-list.usa-nav__submenu-list li.usa-nav__submenu-item>a>span.dashed-border{padding-bottom:2px;border-bottom:1px dashed #fff!important}.global-nav__secondary-list.usa-nav__submenu-list li.usa-nav__submenu-item>a>span{border-bottom:1px solid #0000;margin-bottom:-2px;padding-bottom:2px}.global-nav__secondary-list.usa-nav__submenu-list>.usa-nav__submenu-item{border-top-color:#0000;border-bottom-color:#2e2e32!important}.global-nav__primary-list.usa-nav__submenu-list li.usa-nav__submenu-item>a:hover>span,.global-nav__primary-list.usa-nav__submenu-list li.usa-nav__submenu-item.usa-current>a{border-bottom:1px dashed #fff}.admin-bar #global-navigation{margin-top:2em}@media (min-width:1024px){.admin-bar #global-navigation{margin-top:6em}}@media (min-width:1600px){.admin-bar #global-navigation{margin-top:3.5em}}#global-navigation{-ms-overflow-style:none;scrollbar-width:none;max-width:100vw;height:100vh;position:absolute;left:0;right:0;overflow:hidden auto}#global-navigation::-webkit-scrollbar{display:none}@media screen and (min-width:1024px){#global-navigation{height:-moz-fit-content;height:fit-content;max-height:calc(80vh - 1px)}}.global-nav__secondary-list.usa-nav__submenu-list li.usa-nav__submenu-item>a:hover>span,.global-nav__secondary-list.usa-nav__submenu-list li.usa-nav__submenu-item.usa-current>a>span{border-bottom:1px dashed #565c65}.global-nav__secondary-list.usa-nav__submenu-list li.usa-nav__submenu-item>a:hover>span:focus,.global-nav__secondary-list.usa-nav__submenu-list li.usa-nav__submenu-item.usa-current>a>span:focus{border-bottom:1px dashed #fff}.global-nav__secondary-list.usa-nav__submenu-list li.usa-nav__submenu-item>a:hover>span:active,.global-nav__secondary-list.usa-nav__submenu-list li.usa-nav__submenu-item.usa-current>a>span:active{border-bottom:1px solid #fff}.global-nav__secondary-list.usa-nav__submenu-list .usa-nav__submenu-item>a{width:100%;display:inline-flex}.global-nav__secondary-list.usa-nav__submenu-list .usa-nav__submenu-item>a>svg{margin-left:auto;margin-right:0}@media screen and (min-width:768px){#headlessui-portal-root .global-navigation .global-nav__primary-list.usa-nav__submenu-list .usa-nav__submenu-item{max-width:300px}}.global-nav__secondary-list.usa-nav__submenu-list>.usa-nav__submenu-item{margin-top:0}.global-nav__primary-list.usa-nav__submenu-list>.usa-nav__submenu-item a,.global-nav__secondary-list.usa-nav__submenu-list>.usa-nav__submenu-item a{color:#fff;width:100%;padding:.8rem 1rem;display:block}@media screen and (min-width:506px){.global-nav__primary-list.usa-nav__submenu-list>.usa-nav__submenu-item a,.global-nav__secondary-list.usa-nav__submenu-list>.usa-nav__submenu-item a{padding:.35rem 1rem}}.global-nav__secondary-list.usa-nav__submenu-list>.usa-nav__submenu-item a{border-bottom:1px solid #2e2e32;align-items:center;max-width:94vw;padding-left:0;padding-right:0;display:flex}.global-nav__primary-wrapper{max-width:97vw;margin-top:2px}@media (max-width:20.8rem){.global-nav__primary-wrapper{max-width:20.8rem}}.global-nav__secondary-list .usa-nav__submenu-item img{width:24px;height:24px;margin-right:12px}hr.global-nav__separator{border-color:#58585b}.hds-global-menu-item.hds-global-menu-item-mobile{display:none}.global-nav__secondary-list .usa-nav__submenu-item svg{width:20px;height:20px}.usa-header+main{border-top:none}#global-navigation.usa-megamenu.usa-nav__submenu:after,#global-navigation.usa-megamenu.usa-nav__submenu:before{display:none}body .usa-megamenu.usa-nav__submenu{padding-top:2 em;margin-top:1em;padding-bottom:1.6em}body.has-banner .usa-megamenu.usa-nav__submenu{margin-top:3.8em;padding-bottom:19em}@media screen and (min-width:406px){body.has-banner .usa-megamenu.usa-nav__submenu{margin-top:2.4em;padding-top:1.8em}}@media screen and (min-width:503px){body.has-banner .usa-megamenu.usa-nav__submenu{margin-top:2.5em}}@media screen and (min-width:577px){body.has-banner .usa-megamenu.usa-nav__submenu{margin-top:0}}@media screen and (min-width:714px){body.has-banner .usa-megamenu.usa-nav__submenu{margin-top:.5em}}@media screen and (min-width:805px){body.has-banner .usa-megamenu.usa-nav__submenu{margin-top:1em}}@media screen and (min-width:1024px){body.has-banner .usa-megamenu.usa-nav__submenu{margin-top:4em;padding-top:.5em;padding-bottom:1.25em}}@media screen and (min-width:1560px){body.has-banner .usa-megamenu.usa-nav__submenu{padding-top:1.5em;padding-bottom:2.5em}}@media screen and (min-width:1600px){body.has-banner .usa-megamenu.usa-nav__submenu{margin-top:1.5em;padding-top:1.5em;padding-bottom:1.5em}}@media only screen and (device-width:375px) and (device-height:812px) and (-webkit-device-pixel-ratio:3){body.has-banner .usa-megamenu.usa-nav__submenu{margin-top:2.6em}}@media only screen and (device-width:375px) and (device-height:667px) and (-webkit-device-pixel-ratio:2){body.has-banner .usa-megamenu.usa-nav__submenu{margin-top:2.8em}}@media only screen and (device-width:414px) and (device-height:736px) and (-webkit-device-pixel-ratio:3){body.has-banner .usa-megamenu.usa-nav__submenu{margin-top:1.8em}}@media only screen and (device-width:390px) and (device-height:844px) and (-webkit-device-pixel-ratio:3){body.has-banner .usa-megamenu.usa-nav__submenu{margin-top:2.75em}}@media only screen and (device-width:428px) and (device-height:926px) and (-webkit-device-pixel-ratio:3){body.has-banner .usa-megamenu.usa-nav__submenu{margin-top:0;padding-top:0;padding-bottom:2em}}.mobile-nav{padding-top:1.25rem}@media screen and (min-width:499px){.mobile-nav{padding-top:.25rem;padding-bottom:14em}}@media screen and (min-width:639px){.mobile-nav{padding-top:.25rem;padding-bottom:5em}}.mobile-nav .global-nav__primary-list.usa-nav__submenu-list .usa-nav__submenu-item svg{fill:#fff;width:10px;height:10px;margin-left:auto;margin-right:0;display:flex}</style>\\n<style>.home-highlights .hds-content-card:first-of-type{display:block}.home-highlights .hds-content-card{display:none}@media (min-width:1024px){.home-highlights .hds-content-card{display:block}}</style>\\n<style>.icon[data-v-1d22e42f]{vertical-align:middle;display:inline-block}</style>\\n<style>.preview-indicator .preview-icon[data-v-540a7300]{color:#a7aaad;margin-top:-3px;padding-left:.3rem;padding-right:.3rem}.preview-indicator .preview-text[data-v-540a7300]{color:#f0f0f1}</style>\\n<style>body.admin-bar{margin-top:30px}.error-404 .BaseButton.hds-button.hds-button-share{border-color:#fff}</style>\\n<link rel=\"stylesheet\" href=\"/_nuxt/entry.51c4f287.css\">\\n<link rel=\"stylesheet\" href=\"/_nuxt/style-index.e3b0c442.css\">\\n<link rel=\"stylesheet\" href=\"/_nuxt/NavSecondaryDesktopBlock.228468a5.css\">\\n<link rel=\"stylesheet\" href=\"/_nuxt/NavSecondaryDesktopDropdown.0df9ff84.css\">\\n<link rel=\"stylesheet\" href=\"/_nuxt/Breadcrumbs.8f67703f.css\">\\n<link rel=\"stylesheet\" href=\"/_nuxt/NavSecondaryMobileBlock.42899eb0.css\">\\n<link rel=\"stylesheet\" href=\"/_nuxt/NavSecondaryMobile.9ffef394.css\">\\n<link rel=\"stylesheet\" href=\"/_nuxt/MobileDropdown.52b8af2f.css\">\\n<link rel=\"stylesheet\" href=\"/_nuxt/style-index.ebfa6878.css\">\\n<link rel=\"stylesheet\" href=\"/_nuxt/BlockLayout.099c0541.css\">\\n<link rel=\"stylesheet\" href=\"/_nuxt/navigation.d08406d0.css\">\\n<link rel=\"modulepreload\" as=\"script\" crossorigin href=\"/_nuxt/entry.173deded.js\">\\n<link rel=\"modulepreload\" as=\"script\" crossorigin href=\"/_nuxt/default.be0814ec.js\">\\n<link rel=\"modulepreload\" as=\"script\" crossorigin href=\"/_nuxt/NasaFooter.3ed3c803.js\">\\n<link rel=\"modulepreload\" as=\"script\" crossorigin href=\"/_nuxt/WordpressToolbar.2e29ec01.js\">\\n<link rel=\"modulepreload\" as=\"script\" crossorigin href=\"/_nuxt/MetaHeader.12375240.js\">\\n<link rel=\"modulepreload\" as=\"script\" crossorigin href=\"/_nuxt/BaseButton.3342a11f.js\">\\n<link rel=\"modulepreload\" as=\"script\" crossorigin href=\"/_nuxt/BaseLink.74fcbb8e.js\">\\n<link rel=\"modulepreload\" as=\"script\" crossorigin href=\"/_nuxt/_...path_.589f4ef6.js\">\\n<link rel=\"modulepreload\" as=\"script\" crossorigin href=\"/_nuxt/LoadingSpinner.b0741c8d.js\">\\n<link rel=\"modulepreload\" as=\"script\" crossorigin href=\"/_nuxt/FetchSecondaryNav.vue.1e1b403c.js\">\\n<link rel=\"modulepreload\" as=\"script\" crossorigin href=\"/_nuxt/style-index.css.bc53b314.js\">\\n<link rel=\"modulepreload\" as=\"script\" crossorigin href=\"/_nuxt/NavSecondaryDesktopBlock.vue.5ef473a7.js\">\\n<link rel=\"modulepreload\" as=\"script\" crossorigin href=\"/_nuxt/BlockWrapper.vue.991e5a89.js\">\\n<link rel=\"modulepreload\" as=\"script\" crossorigin href=\"/_nuxt/NavSecondaryDesktop.vue.b364f386.js\">\\n<link rel=\"modulepreload\" as=\"script\" crossorigin href=\"/_nuxt/NavSecondaryDesktopDropdown.vue.4dc4e59b.js\">\\n<link rel=\"modulepreload\" as=\"script\" crossorigin href=\"/_nuxt/Breadcrumbs.vue.18f7d793.js\">\\n<link rel=\"modulepreload\" as=\"script\" crossorigin href=\"/_nuxt/NavSecondaryMobileBlock.vue.18559e92.js\">\\n<link rel=\"modulepreload\" as=\"script\" crossorigin href=\"/_nuxt/NavSecondaryMobile.vue.cb9a48c9.js\">\\n<link rel=\"modulepreload\" as=\"script\" crossorigin href=\"/_nuxt/MobileDropdown.vue.f8126331.js\">\\n<link rel=\"modulepreload\" as=\"script\" crossorigin href=\"/_nuxt/StaticHeader.efdf240c.js\">\\n<link rel=\"modulepreload\" as=\"script\" crossorigin href=\"/_nuxt/NasaHeader.fc38bc04.js\">\\n<link rel=\"modulepreload\" as=\"script\" crossorigin href=\"/_nuxt/GlobalNavSubmenu.fd10ad8e.js\">\\n<link rel=\"modulepreload\" as=\"script\" crossorigin href=\"/_nuxt/MetaTemplate.fe3b3cb7.js\">\\n<link rel=\"modulepreload\" as=\"script\" crossorigin href=\"/_nuxt/TemplateGeneric.5a0a1dad.js\">\\n<link rel=\"modulepreload\" as=\"script\" crossorigin href=\"/_nuxt/GutenbergBlocks.vue.6a87b96e.js\">\\n<link rel=\"modulepreload\" as=\"script\" crossorigin href=\"/_nuxt/GutenbergBlocksFields.vue.7253a273.js\">\\n<link rel=\"modulepreload\" as=\"script\" crossorigin href=\"/_nuxt/style-index.css.5fd969a7.js\">\\n<link rel=\"modulepreload\" as=\"script\" crossorigin href=\"/_nuxt/RenderBackground.vue.8fe47480.js\">\\n<link rel=\"modulepreload\" as=\"script\" crossorigin href=\"/_nuxt/default-thumbnail.7fbdc071.js\">\\n<link rel=\"modulepreload\" as=\"script\" crossorigin href=\"/_nuxt/RenderMedia.vue.fdd83bc2.js\">\\n<link rel=\"modulepreload\" as=\"script\" crossorigin href=\"/_nuxt/BaseMedia.vue.e7af20d2.js\">\\n<link rel=\"modulepreload\" as=\"script\" crossorigin href=\"/_nuxt/BlockLayout.vue.fbb54393.js\">\\n<link rel=\"modulepreload\" as=\"script\" crossorigin href=\"/_nuxt/BlockLayoutArticleC.vue.d91fd000.js\">\\n<link rel=\"modulepreload\" as=\"script\" crossorigin href=\"/_nuxt/BlockLayoutGeneric.vue.5a673d8c.js\">\\n<link rel=\"modulepreload\" as=\"script\" crossorigin href=\"/_nuxt/BlockLayoutPeople.vue.dda07564.js\">\\n<link rel=\"modulepreload\" as=\"script\" crossorigin href=\"/_nuxt/BlockLayoutPost.vue.037bfb03.js\">\\n<link rel=\"modulepreload\" as=\"script\" crossorigin href=\"/_nuxt/BlockLayoutToc.vue.b2fda4aa.js\">\\n<link rel=\"modulepreload\" as=\"script\" crossorigin href=\"/_nuxt/GutenbergBlocks.02852530.js\">\\n<link rel=\"modulepreload\" as=\"script\" crossorigin href=\"/_nuxt/GutenbergBlocksFields.3e03600f.js\">\\n<link rel=\"modulepreload\" as=\"script\" crossorigin href=\"/_nuxt/GutenbergBlock.261bced9.js\">\\n<link rel=\"modulepreload\" as=\"script\" crossorigin href=\"/_nuxt/RawBlock.vue.4c2f6690.js\">\\n<link rel=\"modulepreload\" as=\"script\" crossorigin href=\"/_nuxt/BlockLayout.0febff2d.js\">\\n<link rel=\"modulepreload\" as=\"script\" crossorigin href=\"/_nuxt/BlockLayoutGeneric.06ccb97e.js\">\\n<link rel=\"modulepreload\" as=\"script\" crossorigin href=\"/_nuxt/NasaBlocksSecondaryNavigationBlock.a9af5925.js\">\\n<link rel=\"modulepreload\" as=\"script\" crossorigin href=\"/_nuxt/RawBlock.38d5599c.js\">\\n<link rel=\"modulepreload\" as=\"script\" crossorigin href=\"/_nuxt/NasaBlocksTopicCardsBlock.3aab423f.js\">\\n<link rel=\"modulepreload\" as=\"script\" crossorigin href=\"/_nuxt/navigation.6fec700e.js\">\\n<link rel=\"modulepreload\" as=\"script\" crossorigin href=\"/_nuxt/TopicCardsCard.vue.d375f001.js\">\\n<link rel=\"modulepreload\" as=\"script\" crossorigin href=\"/_nuxt/NavSecondaryDesktopBlock.d65ec437.js\">\\n<link rel=\"modulepreload\" as=\"script\" crossorigin href=\"/_nuxt/NavSecondaryMobileBlock.f2224906.js\">\\n<link rel=\"modulepreload\" as=\"script\" crossorigin href=\"/_nuxt/CoreParagraphBlock.1e11a893.js\">\\n<link rel=\"modulepreload\" as=\"script\" crossorigin href=\"/_nuxt/CoreImageBlock.324d3b84.js\">\\n<link rel=\"modulepreload\" as=\"script\" crossorigin href=\"/_nuxt/RenderImage.vue.e358f2b5.js\">\\n<link rel=\"modulepreload\" as=\"script\" crossorigin href=\"/_nuxt/CoreHeadingBlock.ab50a384.js\">\\n<link rel=\"modulepreload\" as=\"script\" crossorigin href=\"/_nuxt/CoreTableBlock.e8997293.js\">\\n<link rel=\"modulepreload\" as=\"script\" crossorigin href=\"/_nuxt/BlockWrapper.f190bb41.js\">\\n<link rel=\"modulepreload\" as=\"script\" crossorigin href=\"/_nuxt/Breadcrumbs.c94536e0.js\">\\n<link rel=\"modulepreload\" as=\"script\" crossorigin href=\"/_nuxt/NavSecondaryDesktop.7312eedc.js\">\\n<link rel=\"modulepreload\" as=\"script\" crossorigin href=\"/_nuxt/NavSecondaryMobile.4fb89334.js\">\\n<link rel=\"modulepreload\" as=\"script\" crossorigin href=\"/_nuxt/RenderImage.3985f3a7.js\">\\n<link rel=\"modulepreload\" as=\"script\" crossorigin href=\"/_nuxt/NavSecondaryDesktopDropdown.72b72500.js\">\\n<link rel=\"modulepreload\" as=\"script\" crossorigin href=\"/_nuxt/MobileDropdown.13c239c8.js\">\\n<link rel=\"modulepreload\" as=\"script\" crossorigin href=\"/_nuxt/RenderMedia.45a9abd5.js\">\\n<link rel=\"modulepreload\" as=\"script\" crossorigin href=\"/_nuxt/TopicCardsCard.3b3dbabf.js\">\\n<link rel=\"modulepreload\" as=\"script\" crossorigin href=\"/_nuxt/BaseMedia.ba7fcc90.js\">\\n<link rel=\"modulepreload\" as=\"script\" crossorigin href=\"/_nuxt/RenderBackground.10212ed3.js\">\\n<link rel=\"prefetch\" as=\"image\" type=\"image/jpeg\" href=\"/_nuxt/404-bg.0ee36aad.jpg\">\\n<link rel=\"prefetch\" as=\"image\" type=\"image/svg+xml\" href=\"/_nuxt/nasa-logo.e03e4551.svg\">\\n<link rel=\"prefetch\" as=\"image\" type=\"image/png\" href=\"/_nuxt/nasa-logo_2x.f3de7b1f.png\">\\n<link rel=\"prefetch\" as=\"image\" type=\"image/png\" href=\"/_nuxt/admin-bar-logo-color.6cd96609.png\">\\n<link rel=\"prefetch\" as=\"image\" type=\"image/jpeg\" href=\"/_nuxt/default-thumbnail.43eb500e.jpg\">\\n<script type=\"module\" src=\"/_nuxt/entry.173deded.js\" crossorigin></script></head>\\n<body  class=\"\"><div id=\"__nuxt\"><div><!----><div><!--[--><div class=\"absolute z-top\"><!--[--><!--[--><header class=\"NasaHeader z-top display-block desktop:display-none hds-nasa-header usa-header usa-header-mobile color-spacesuit-white bg-carbon-black padding-x-3 padding-y-2\" data-headlessui-state><div class=\"usa-nav-container grid-row\"><div class=\"grid-col-5 display-flex flex-align-center flex-justify-start\"><button class=\"hds-global-menu-toggle menu-toggle menu-mobile-toggle bg-carbon-black color-spacesuit-white border-0 outline-transparent padding-x-0\" aria-expanded=\"false\" type=\"button\" aria-label=\"Toggle menu\"><span class=\"menu-toggle-icon\"><span class=\"menu-toggle-icon-top\"></span><span class=\"menu-toggle-icon-center\"></span><span class=\"menu-toggle-icon-bottom\"></span></span></button></div><div class=\"grid-col-2 display-flex flex-align-center flex-justify-center\"><a href=\"https://www.nasa.gov\" rel=\"noopener noreferrer\" class=\"usa-logo display-block margin-0 width-fit-content text-center\"><img fetchpriority=\"high\" class=\"margin-y-0 margin-x-auto display-block\" width=\"60\" height=\"50.58\" alt=\"NASA Logo\" src=\"/_nuxt/nasa-logo_2x.f3de7b1f.png\" srcset=\"/_nuxt/nasa-logo.e03e4551.svg\" draggable=\"false\" style=\"-webkit-user-drag:none;\" ondragstart=\"return false;\"></a></div><div class=\"grid-col-5 display-flex flex-align-center flex-justify-end\"><!--[--><div class=\"hds-search-panel-mobile-trigger search-mobile color-carbon-20 menu-toggle\" id=\"headlessui-popover-button-2496154\" aria-expanded=\"false\" data-headlessui-state><svg width=\"12\" height=\"12\" viewBox=\"0 0 12 12\" fill=\"none\" xmlns=\"http://www.w3.org/2000/svg\"><path d=\"M12 10.643L8.804 7.447a4.8 4.8 0 10-1.357 1.357L10.642 12 12 10.643zM1.36 4.8a3.44 3.44 0 116.879 0 3.44 3.44 0 01-6.879 0z\"></path></svg></div><!----><!--]--></div><!----></div></header><!--]--><!----><!--]--></div><div style=\"position:fixed;top:1;left:1;width:1;height:0;padding:0;margin:-1;overflow:hidden;clip:rect(0, 0, 0, 0);white-space:nowrap;border-width:0;display:none;\"></div><!--]--><header class=\"NasaHeader usa-header-primary usa-header usa-header--basic color-spacesuit-white border-top-2px padding-top-1px border-color-carbon-black-important desktop:display-block display-none padding-y-2 padding-x-2 bg-carbon-black hds-nasa-header z-top\"><div class=\"padding-0 grid-container grid-container-extrawide grid-row\"><div class=\"grid-col-5 display-flex flex-align-center\"><ul class=\"usa-nav__primary usa-accordion\"><li tabindex=\"0\" class=\"hds-explore-nav-trigger usa-nav__primary-item margin-right-2\"><button id=\"global-navigation-trigger\" class=\"usa-accordion__button usa-nav__link display-flex flex-align-center\" aria-expanded=\"false\" type=\"button\"><span>Explore</span><svg version=\"1.1\" xmlns=\"http://www.w3.org/2000/svg\" xmlns:xlink=\"http://www.w3.org/1999/xlink\" x=\"0px\" y=\"0px\" width=\"16px\" height=\"17px\" viewbox=\"0 0 16 17\" style=\"enable-background:new 0 0 16 17;\" xml:space=\"preserve\"><g><g><path d=\"M8,16.5c-4.4,0-8-3.6-8-8s3.6-8,8-8s8,3.6,8,8S12.4,16.5,8,16.5z M8,1.5c-3.9,0-7,3.1-7,7c0,3.9,3.1,7,7,7 s7-3.1,7-7C15,4.6,11.9,1.5,8,1.5z\"></path></g><g><path d=\"M8,10l2.6-2.6L11.2,8L8,11.2L4.8,8l0.6-0.6L8,10z\"></path></g></g></svg></button></li></ul><form action=\"https://www.nasa.gov/\" class=\"usa-search usa-search--small float-none\" role=\"search\" style=\"float:none !important;\" tabindex=\"0\"><label class=\"usa-sr-only\" for=\"search-field-en-small\">Search</label><input id=\"search-field-en-small\" class=\"usa-input border bg-carbon-black border-color-carbon-80-important\" type=\"search\" name=\"search\" value=\"\" tabindex=\"-1\" placeholder=\"Search...\"><input type=\"hidden\" name=\"language\" value=\"en\"><button class=\"usa-button display-none\" type=\"submit\"><span class=\"usa-sr-only\">Submit</span></button></form></div><div class=\"grid-col-2 display-flex flex-justify-center flex-align-center\"><a href=\"https://www.nasa.gov\" rel=\"noopener noreferrer\" class=\"usa-logo tablet:display-block margin-0 outline-0\" tabindex=\"0\"><img fetchpriority=\"high\" class=\"margin-y-0 margin-x-auto display-block\" width=\"60\" height=\"50.58\" alt=\"NASA Logo\" src=\"/_nuxt/nasa-logo_2x.f3de7b1f.png\" srcset=\"/_nuxt/nasa-logo.e03e4551.svg\" draggable=\"false\" style=\"-webkit-user-drag:none;\" ondragstart=\"return false;\"></a></div><nav aria-label=\"Secondary navigation\" class=\"grid-col-5 color-spacesuit-white\"><div class=\"usa-nav__inner hds-nav__inner\"><ul class=\"hds-nav-primary color-spacesuit-white usa-nav__primary flex-justify-end\"><li class=\"hds-nav-has-submenu usa-nav__primary-item\"><!--[--><button id=\"headlessui-menu-button-2496150\" type=\"button\" aria-haspopup=\"menu\" aria-expanded=\"false\" data-headlessui-state class=\"usa-nav__link heading-16 color-spacesuit-white padding-y-2 padding-x-2 display-flex flex-align-center\"><span>News &amp; Events</span><svg version=\"1.1\" fill=\"#fff\" xmlns=\"http://www.w3.org/2000/svg\" xmlns:xlink=\"http://www.w3.org/1999/xlink\" x=\"0px\" y=\"0px\" width=\"12px\" height=\"12px\" viewBox=\"0 0 306 306\" style=\"enable-background:new 0 0 306 306;max-width:12px;\" xml:space=\"preserve\"><g><polygon points=\"270.3,58.65 153,175.95 35.7,58.65 0,94.35 153,247.35 306,94.35 \"></polygon></g></svg></button><div style=\"display:none;\"><!----></div><!--]--></li><li class=\"hds-nav-has-submenu usa-nav__primary-item\"><!--[--><button id=\"headlessui-menu-button-2496152\" type=\"button\" aria-haspopup=\"menu\" aria-expanded=\"false\" data-headlessui-state class=\"usa-nav__link heading-16 color-spacesuit-white padding-y-2 padding-x-2 display-flex flex-align-center\"><span>Multimedia</span><svg version=\"1.1\" fill=\"#fff\" xmlns=\"http://www.w3.org/2000/svg\" xmlns:xlink=\"http://www.w3.org/1999/xlink\" x=\"0px\" y=\"0px\" width=\"12px\" height=\"12px\" viewBox=\"0 0 306 306\" style=\"enable-background:new 0 0 306 306;max-width:12px;\" xml:space=\"preserve\"><g><polygon points=\"270.3,58.65 153,175.95 35.7,58.65 0,94.35 153,247.35 306,94.35 \"></polygon></g></svg></button><div style=\"display:none;\"><!----></div><!--]--></li><li class=\"hds-nav-has-submenu usa-nav__primary-item\"><a href=\"https://plus.nasa.gov/\" rel=\"noopener noreferrer\" class=\"button hds-nav__link-nasa-live usa-nav__link-nasa-live usa-nav__link heading-16 color-spacesuit-white display-flex desktop:flex-row flex-align-center\"><span>NASA+</span></a></li></ul></div></nav></div></header><!--[--><!----><div style=\"position:fixed;top:1;left:1;width:1;height:0;padding:0;margin:-1;overflow:hidden;clip:rect(0, 0, 0, 0);white-space:nowrap;border-width:0;display:none;\"></div><!--]--></div><div><!--[--><main id=\"primary\" class=\"site-main\"><!----><!--[--><!----><!--[--><div class=\"TemplateGeneric topic type-topic hentry\"><div class=\"GutenbergBlocks hds-module\"><!--[--><!--[--><div class=\"BlockLayout margin-full-bleed\"><!--[--><!--[--><div><div class=\"display-none desktop:display-block\"><div class=\"BlockWrapper hds-module hds-secondary-navigation width-full border-bottom-1px text-center tablet:display-flex flex-align-center desktop:display-block hds-color-mode-light wp-block-nasa-blocks-hdsnav NasaBlocksSecondaryNavigationDesktopBlock\"><!--[--><div class=\"hds-secondary-navigation-has-breadcrumbs hds-secondary-nav-track grid-container grid-container-extrawide padding-0 tablet:padding-x-3 desktop:padding-x-2\"><div class=\"Breadcrumbs hds-secondary-navigation-breadcrumbs display-none tablet:display-none desktop:display-flex flex-align-center\"><nav class=\"usa-breadcrumb margin-y-1\" aria-label=\"\"><ol class=\"usa-breadcrumb__list\"><!--[--><!--[--><li class=\"usa-breadcrumb__list-item\"><a href=\"/astrophysics/\" class=\"link-external-false usa-breadcrumb__link\" title=\"NASA Astrophysics\" aria-label=\"NASA Astrophysics\"><!--[--><span>&hellip;</span><!--]--></a></li><!--]--><!--[--><li class=\"usa-breadcrumb__list-item\"><a href=\"/astrophysics/focus-areas/\" class=\"link-external-false usa-breadcrumb__link\" title=\"Focus Areas\" aria-label=\"Focus Areas\"><!--[--><span>Focus Areas</span><!--]--></a></li><!--]--><!--[--><li class=\"usa-breadcrumb__list-item usa-current\" aria-current=\"page\"><span>Black Holes</span></li><!--]--><!--]--></ol></nav></div><div class=\"hds-secondary-navigation-menu-items margin-0\"><nav aria-label=\"Secondary\" class=\"NavSecondaryDesktop\"><ul class=\"usa-nav__primary usa-accordion flex-justify-center\"><!--[--><!--[--><li class=\"NavSecondaryDesktopDropdownDesktop usa-nav__primary-item\"><button type=\"button\" class=\"usa-accordion__button usa-nav__link font-weight-bold\" aria-expanded=\"false\" aria-controls=\"dropdown_0-link_id_0\"><span>Overview</span><svg alt=\"\" enable-background=\"new 0 0 400 400\" viewBox=\"0 0 400 400\" xmlns=\"http://www.w3.org/2000/svg\"><path d=\"m4.2 122.2 195.1 195.1 196.5-196.6-37.9-38-157.8 157.8-156.8-156.8z\"></path></svg></button><ul style=\"display:none;\" id=\"dropdown_0-link_id_0\" class=\"usa-nav__submenu\"><!--[--><li class=\"usa-nav__submenu-item\"><a href=\"/astrophysics/science-questions/\" class=\"link-external-false\"><!--[--><span>Big Questions</span><!--]--></a><ul class=\"nested-menu\"><!--[--><!--]--></ul></li><li class=\"usa-nav__submenu-item\"><a href=\"/astrophysics/astrophysics-organization-and-staff/\" class=\"link-external-false\"><!--[--><span>Organization and Staff</span><!--]--></a><ul class=\"nested-menu\"><!--[--><!--]--></ul></li><!--]--></ul></li><!--]--><!--[--><li class=\"NavSecondaryDesktopDropdownDesktop usa-nav__primary-item\"><button type=\"button\" class=\"usa-accordion__button usa-nav__link font-weight-bold\" aria-expanded=\"false\" aria-controls=\"dropdown_1-link_id_0\"><span>Focus Areas</span><svg alt=\"\" enable-background=\"new 0 0 400 400\" viewBox=\"0 0 400 400\" xmlns=\"http://www.w3.org/2000/svg\"><path d=\"m4.2 122.2 195.1 195.1 196.5-196.6-37.9-38-157.8 157.8-156.8-156.8z\"></path></svg></button><ul style=\"display:none;\" id=\"dropdown_1-link_id_0\" class=\"usa-nav__submenu\"><!--[--><li class=\"usa-nav__submenu-item\"><a href=\"/astrophysics/focus-areas/what-is-dark-energy/\" class=\"link-external-false\"><!--[--><span>Dark Energy, Dark Matter</span><!--]--></a><ul class=\"nested-menu\"><!--[--><!--]--></ul></li><li class=\"usa-nav__submenu-item\"><a aria-current=\"page\" href=\"/astrophysics/focus-areas/black-holes/\" class=\"usa-current router-link-exact-active link-external-false\"><!--[--><span>Black Holes</span><!--]--></a><ul class=\"nested-menu\"><!--[--><!--]--></ul></li><li class=\"usa-nav__submenu-item\"><a href=\"/astrophysics/focus-areas/what-powered-the-big-bang/\" class=\"link-external-false\"><!--[--><span>The Big Bang</span><!--]--></a><ul class=\"nested-menu\"><!--[--><!--]--></ul></li><li class=\"usa-nav__submenu-item\"><a href=\"/astrophysics/focus-areas/what-are-galaxies/\" class=\"link-external-false\"><!--[--><span>Galaxies</span><!--]--></a><ul class=\"nested-menu\"><!--[--><!--]--></ul></li><li class=\"usa-nav__submenu-item\"><a href=\"/astrophysics/focus-areas/how-do-stars-form-and-evolve/\" class=\"link-external-false\"><!--[--><span>Stars</span><!--]--></a><ul class=\"nested-menu\"><!--[--><!--]--></ul></li><li class=\"usa-nav__submenu-item\"><a href=\"https://exoplanets.nasa.gov/\" rel=\"noopener noreferrer\" target=\"_self\" class=\"link-external-false\"><!--[--><span>Exoplanets →</span><!--]--></a><ul class=\"nested-menu\"><!--[--><!--]--></ul></li><!--]--></ul></li><!--]--><!--[--><li class=\"NavSecondaryDesktopDropdownDesktop usa-nav__primary-item\"><button type=\"button\" class=\"usa-accordion__button usa-nav__link font-weight-bold\" aria-expanded=\"false\" aria-controls=\"dropdown_2-link_id_0\"><span>Programs</span><svg alt=\"\" enable-background=\"new 0 0 400 400\" viewBox=\"0 0 400 400\" xmlns=\"http://www.w3.org/2000/svg\"><path d=\"m4.2 122.2 195.1 195.1 196.5-196.6-37.9-38-157.8 157.8-156.8-156.8z\"></path></svg></button><ul style=\"display:none;\" id=\"dropdown_2-link_id_0\" class=\"usa-nav__submenu\"><!--[--><li class=\"usa-nav__submenu-item\"><a href=\"/astrophysics/programs/\" class=\"link-external-false\"><!--[--><span>Programs Overview</span><!--]--></a><ul class=\"nested-menu\"><!--[--><!--]--></ul></li><li class=\"usa-nav__submenu-item\"><a href=\"/astrophysics/programs/physics-of-the-cosmos/\" class=\"link-external-false\"><!--[--><span>Physics of the Cosmos</span><!--]--></a><ul class=\"nested-menu\"><!--[--><!--]--></ul></li><li class=\"usa-nav__submenu-item\"><a href=\"/astrophysics/programs/cosmic-origins/\" class=\"link-external-false\"><!--[--><span>Cosmic Origins</span><!--]--></a><ul class=\"nested-menu\"><!--[--><!--]--></ul></li><li class=\"usa-nav__submenu-item\"><a href=\"/astrophysics/programs/exep/\" class=\"link-external-false\"><!--[--><span>Exoplanet Exploration</span><!--]--></a><ul class=\"nested-menu\"><!--[--><!--]--></ul></li><li class=\"usa-nav__submenu-item\"><a href=\"/astrophysics/programs/astrophysics-explorers/\" class=\"link-external-false\"><!--[--><span>Explorers</span><!--]--></a><ul class=\"nested-menu\"><!--[--><!--]--></ul></li><li class=\"usa-nav__submenu-item\"><a href=\"/astrophysics/programs/astrophysics-research/\" class=\"link-external-false\"><!--[--><span>Astrophysics Research</span><!--]--></a><ul class=\"nested-menu\"><!--[--><!--]--></ul></li><li class=\"usa-nav__submenu-item\"><a href=\"/astrophysics/programs/astrophysics-pioneers/\" class=\"link-external-false\"><!--[--><span>Astrophysics Pioneers</span><!--]--></a><ul class=\"nested-menu\"><!--[--><!--]--></ul></li><li class=\"usa-nav__submenu-item\"><a href=\"/astrophysics/programs/astrophysics-division-technology/\" class=\"link-external-false\"><!--[--><span>Astrophysics Division Technology</span><!--]--></a><ul class=\"nested-menu\"><!--[--><!--]--></ul></li><li class=\"usa-nav__submenu-item\"><a href=\"/astrophysics/programs/gomap/\" class=\"link-external-false\"><!--[--><span>Great Observatory Maturation Program</span><!--]--></a><ul class=\"nested-menu\"><!--[--><!--]--></ul></li><li class=\"usa-nav__submenu-item\"><a href=\"/astrophysics/programs/astrophysics-strategic-missions-program-asmp/\" class=\"link-external-false\"><!--[--><span>Astrophysics Strategic Missions Program</span><!--]--></a><ul class=\"nested-menu\"><!--[--><!--]--></ul></li><!--]--></ul></li><!--]--><!--[--><li class=\"usa-nav__primary-item\"><a href=\"/astrophysics/data/\" class=\"link-external-false\"><!--[-->Data<!--]--></a></li><!--]--><!--[--><li class=\"NavSecondaryDesktopDropdownDesktop usa-nav__primary-item\"><button type=\"button\" class=\"usa-accordion__button usa-nav__link font-weight-bold\" aria-expanded=\"false\" aria-controls=\"dropdown_4-link_id_0\"><span>Resources</span><svg alt=\"\" enable-background=\"new 0 0 400 400\" viewBox=\"0 0 400 400\" xmlns=\"http://www.w3.org/2000/svg\"><path d=\"m4.2 122.2 195.1 195.1 196.5-196.6-37.9-38-157.8 157.8-156.8-156.8z\"></path></svg></button><ul style=\"display:none;\" id=\"dropdown_4-link_id_0\" class=\"usa-nav__submenu\"><!--[--><li class=\"usa-nav__submenu-item\"><a href=\"/astrophysics/resources/documents\" class=\"link-external-false\"><!--[--><span>Documents</span><!--]--></a><ul class=\"nested-menu\"><!--[--><!--]--></ul></li><li class=\"usa-nav__submenu-item\"><a href=\"/astrophysics/resources/decadal-survey/2020-decadal-survey/\" class=\"link-external-false\"><!--[--><span>2020 Decadal Survey</span><!--]--></a><ul class=\"nested-menu\"><!--[--><!--]--></ul></li><li class=\"usa-nav__submenu-item\"><a href=\"/astrophysics/resources/decadal-survey/2020-decadal-survey/apd-responses-to-decadal/\" class=\"link-external-false\"><!--[--><span>APD Responses to Decadal</span><!--]--></a><ul class=\"nested-menu\"><!--[--><!--]--></ul></li><li class=\"usa-nav__submenu-item\"><a href=\"/astrophysics/resources/decadal-survey/2020-decadal-survey-planning/\" class=\"link-external-false\"><!--[--><span>Pre 2020 Decadal Reports</span><!--]--></a><ul class=\"nested-menu\"><!--[--><!--]--></ul></li><li class=\"usa-nav__submenu-item\"><a href=\"/astrophysics/astrophysics-fleet-chart/\" class=\"link-external-false\"><!--[--><span>Fleet Chart</span><!--]--></a><ul class=\"nested-menu\"><!--[--><!--]--></ul></li><!--]--></ul></li><!--]--><!--[--><li class=\"usa-nav__primary-item\"><a href=\"/universe\" class=\"link-external-false\"><!--[-->The Universe<!--]--></a></li><!--]--><!--]--></ul></nav></div></div><div class=\"hds-secondary-navigation-menu-spacer grid-col-3 display-none desktop:display-flex\"></div><!--]--></div></div><div class=\"display-block desktop:display-none\"><div class=\"BlockWrapper hds-module wp-block-nasa-blocks-hdsnav NavSecondaryMobileBlock\"><!--[--><nav aria-label=\"secondary\" class=\"nav-secondary-light padding-top-05 padding-bottom-05 nav-secondary-border\"><button aria-expanded=\"false\" aria-controls=\"secondary-nav-astrophysics\" class=\"text-carbon-90 display-flex flex-row flex-align-center width-full bg-transparent border-0\"><div class=\"width-full text-left text-bold\">Explore This Section</div><svg class=\"mobile-nav-toggle-icon\" width=\"20\" height=\"20\" viewBox=\"0 0 20 20\" fill=\"none\" xmlns=\"http://www.w3.org/2000/svg\"><path d=\"M0.5 10C0.5 4.75329 4.75329 0.5 10 0.5C15.2467 0.5 19.5 4.75329 19.5 10C19.5 15.2467 15.2467 19.5 10 19.5C4.75329 19.5 0.5 15.2467 0.5 10Z\" fill=\"none\" stroke=\"#959599\"></path><path fill-rule=\"evenodd\" clip-rule=\"evenodd\" d=\"M10 11.0552L13.2328 7.80005L14 8.57249L10 12.6L6 8.57249L6.76716 7.80005L10 11.0552Z\" fill=\"#17171B\"></path></svg></button><div style=\"display:none;\" id=\"secondary-nav-astrophysics\" class=\"\"><div class=\"NavSecondaryMobile\"><div><!--[--><!--[--><div><div class=\"NavSecondaryMobileDropdown width-full\"><button aria-expanded=\"false\" aria-controls=\"dropdown_0-link_id_0\" class=\"nav-secondary-light display-flex flex-row flex-align-center width-full\"><div class=\"dark-mode-nav-link text-left width-full text-bold\">Overview</div><svg width=\"16\" height=\"16\" viewBox=\"0 0 16 16\" fill=\"none\" xmlns=\"http://www.w3.org/2000/svg\"><circle cx=\"8\" cy=\"8\" r=\"7.5\" fill=\"#0B3D91\" stroke=\"white\"></circle><rect x=\"4\" y=\"7.6001\" width=\"8\" height=\"0.8\" fill=\"white\"></rect><rect x=\"7.59998\" y=\"12\" width=\"8\" height=\"0.8\" transform=\"rotate(-90 7.59998 12)\" fill=\"white\"></rect><!----></svg></button><!----></div></div><!--]--><!--[--><div><div class=\"NavSecondaryMobileDropdown width-full\"><button aria-expanded=\"false\" aria-controls=\"dropdown_1-link_id_0\" class=\"nav-secondary-light display-flex flex-row flex-align-center width-full\"><div class=\"dark-mode-nav-link text-left width-full text-bold\">Focus Areas</div><svg width=\"16\" height=\"16\" viewBox=\"0 0 16 16\" fill=\"none\" xmlns=\"http://www.w3.org/2000/svg\"><circle cx=\"8\" cy=\"8\" r=\"7.5\" fill=\"#0B3D91\" stroke=\"white\"></circle><rect x=\"4\" y=\"7.6001\" width=\"8\" height=\"0.8\" fill=\"white\"></rect><rect x=\"7.59998\" y=\"12\" width=\"8\" height=\"0.8\" transform=\"rotate(-90 7.59998 12)\" fill=\"white\"></rect><!----></svg></button><!----></div></div><!--]--><!--[--><div><div class=\"NavSecondaryMobileDropdown width-full\"><button aria-expanded=\"false\" aria-controls=\"dropdown_2-link_id_0\" class=\"nav-secondary-light display-flex flex-row flex-align-center width-full\"><div class=\"dark-mode-nav-link text-left width-full text-bold\">Programs</div><svg width=\"16\" height=\"16\" viewBox=\"0 0 16 16\" fill=\"none\" xmlns=\"http://www.w3.org/2000/svg\"><circle cx=\"8\" cy=\"8\" r=\"7.5\" fill=\"#0B3D91\" stroke=\"white\"></circle><rect x=\"4\" y=\"7.6001\" width=\"8\" height=\"0.8\" fill=\"white\"></rect><rect x=\"7.59998\" y=\"12\" width=\"8\" height=\"0.8\" transform=\"rotate(-90 7.59998 12)\" fill=\"white\"></rect><!----></svg></button><!----></div></div><!--]--><!--[--><div><a href=\"/astrophysics/data/\" class=\"link-external-false nav-link text-bold dark-mode-nav-link\"><!--[--><span class=\"text-carbon-90\">Data</span><!--]--></a></div><!--]--><!--[--><div><div class=\"NavSecondaryMobileDropdown width-full\"><button aria-expanded=\"false\" aria-controls=\"dropdown_4-link_id_0\" class=\"nav-secondary-light display-flex flex-row flex-align-center width-full\"><div class=\"dark-mode-nav-link text-left width-full text-bold\">Resources</div><svg width=\"16\" height=\"16\" viewBox=\"0 0 16 16\" fill=\"none\" xmlns=\"http://www.w3.org/2000/svg\"><circle cx=\"8\" cy=\"8\" r=\"7.5\" fill=\"#0B3D91\" stroke=\"white\"></circle><rect x=\"4\" y=\"7.6001\" width=\"8\" height=\"0.8\" fill=\"white\"></rect><rect x=\"7.59998\" y=\"12\" width=\"8\" height=\"0.8\" transform=\"rotate(-90 7.59998 12)\" fill=\"white\"></rect><!----></svg></button><!----></div></div><!--]--><!--[--><div><a href=\"/universe\" class=\"link-external-false nav-link text-bold dark-mode-nav-link\"><!--[--><span class=\"text-carbon-90\">The Universe</span><!--]--></a></div><!--]--><!--]--></div></div></div></nav><!--]--></div></div></div><!--]--><!--]--></div><!--]--><!--]--></div><div class=\"smd-plain-title smd-padding-x-responsive grid-row grid-container grid-container-block padding-top-6 padding-bottom-4 desktop:padding-y-8\"><div class=\"display-none desktop:display-block grid-col-1\"></div><h1 class=\"display-48 grid-col-12 desktop:grid-col-11 margin-y-0\">Black Holes</h1></div><div class=\"GutenbergBlocksFields hds-module\"><!----><!----><div class=\"GutenbergBlocks hds-module\"><!--[--><!--[--><div class=\"BlockLayout BlockLayoutGeneric grid-row grid-container grid-container-block smd-padding-x-responsive margin-y-3\"><div class=\"grid-col-12 desktop:grid-col-8 desktop:grid-offset-2\"><!--[--><!--[--><div class=\"BlockWrapper hds-module width-full maxw-full CoreParagraphBlock\"><div class=\"grid-container-block grid-container padding-0\"><!--[--><p class=\"margin-0 padding-0\">Don\\'t let the name fool you: a black hole is anything but empty space. Rather, it is a great amount of matter packed into a very small area - think of a star ten times more massive than the Sun squeezed into a sphere approximately the diameter of New York City. The result is a gravitational field so strong that nothing, not even light, can escape. In recent years, NASA instruments have painted a new picture of these strange objects that are, to many, the most fascinating objects in space.</p><!--]--></div></div><!--]--><!--]--></div></div><!--]--><!--[--><div class=\"BlockLayout BlockLayoutGeneric grid-row grid-container grid-container-block smd-padding-x-responsive margin-y-5 desktop:margin-y-6\"><div class=\"grid-col-12 desktop:grid-col-8 desktop:grid-offset-2\"><!--[--><!--[--><div class=\"BlockWrapper hds-module hds-media wp-block-image CoreImageBlock\"><div class=\"margin-left-auto margin-right-auto nasa-block-align-inline\"><!--[--><div class=\"hds-media-wrapper margin-left-auto margin-right-auto\"><figure class=\"hds-media-inner hds-cover-wrapper hds-media-ratio-fit\"><picture class=\"BaseMedia width-full\"><source type=\"image/webp\" sizes=\"(max-width: 640px) 320px, (max-width: 768px) 640px, (max-width: 1024px) 768px, (max-width: 1280px) 1024px, (max-width: 1536px) 1280px, 2048px\" srcset=\"https://smd-cms.nasa.gov/wp-content/uploads/2023/04/SWIFT_2-jpg.webp?w=320&amp;format=webp 320w, https://smd-cms.nasa.gov/wp-content/uploads/2023/04/SWIFT_2-jpg.webp?w=640&amp;format=webp 640w, https://smd-cms.nasa.gov/wp-content/uploads/2023/04/SWIFT_2-jpg.webp?w=768&amp;format=webp 768w, https://smd-cms.nasa.gov/wp-content/uploads/2023/04/SWIFT_2-jpg.webp?w=1024&amp;format=webp 1024w, https://smd-cms.nasa.gov/wp-content/uploads/2023/04/SWIFT_2-jpg.webp?w=1280&amp;format=webp 1280w, https://smd-cms.nasa.gov/wp-content/uploads/2023/04/SWIFT_2-jpg.webp?w=1536&amp;format=webp 1536w, https://smd-cms.nasa.gov/wp-content/uploads/2023/04/SWIFT_2-jpg.webp?w=2048&amp;format=webp 2048w, https://smd-cms.nasa.gov/wp-content/uploads/2023/04/SWIFT_2-jpg.webp?w=2560&amp;format=webp 2560w, https://smd-cms.nasa.gov/wp-content/uploads/2023/04/SWIFT_2-jpg.webp?w=3072&amp;format=webp 3072w, https://smd-cms.nasa.gov/wp-content/uploads/2023/04/SWIFT_2-jpg.webp?w=4096&amp;format=webp 4096w\"><img width=\"480\" height=\"231\" alt=\"Swift\" loading=\"lazy\" decoding=\"async\" onerror=\"this.setAttribute(&#39;data-error&#39;, 1)\" style=\"transform:scale(1);transform-origin:50% 50%;object-position:50% 50%;object-fit:cover;\" class=\"width-full\" data-nuxt-pic src=\"https://smd-cms.nasa.gov/wp-content/uploads/2023/04/SWIFT_2-jpg.webp?w=4096&amp;format=png\" sizes=\"(max-width: 640px) 320px, (max-width: 768px) 640px, (max-width: 1024px) 768px, (max-width: 1280px) 1024px, (max-width: 1536px) 1280px, 2048px\" srcset=\"https://smd-cms.nasa.gov/wp-content/uploads/2023/04/SWIFT_2-jpg.webp?w=320&amp;format=png 320w, https://smd-cms.nasa.gov/wp-content/uploads/2023/04/SWIFT_2-jpg.webp?w=640&amp;format=png 640w, https://smd-cms.nasa.gov/wp-content/uploads/2023/04/SWIFT_2-jpg.webp?w=768&amp;format=png 768w, https://smd-cms.nasa.gov/wp-content/uploads/2023/04/SWIFT_2-jpg.webp?w=1024&amp;format=png 1024w, https://smd-cms.nasa.gov/wp-content/uploads/2023/04/SWIFT_2-jpg.webp?w=1280&amp;format=png 1280w, https://smd-cms.nasa.gov/wp-content/uploads/2023/04/SWIFT_2-jpg.webp?w=1536&amp;format=png 1536w, https://smd-cms.nasa.gov/wp-content/uploads/2023/04/SWIFT_2-jpg.webp?w=2048&amp;format=png 2048w, https://smd-cms.nasa.gov/wp-content/uploads/2023/04/SWIFT_2-jpg.webp?w=2560&amp;format=png 2560w, https://smd-cms.nasa.gov/wp-content/uploads/2023/04/SWIFT_2-jpg.webp?w=3072&amp;format=png 3072w, https://smd-cms.nasa.gov/wp-content/uploads/2023/04/SWIFT_2-jpg.webp?w=4096&amp;format=png 4096w\"></picture></figure><!----></div><!--]--></div></div><!--]--><!--]--></div></div><!--]--><!--[--><div class=\"BlockLayout BlockLayoutGeneric grid-row grid-container grid-container-block smd-padding-x-responsive margin-y-3\"><div class=\"grid-col-12 desktop:grid-col-8 desktop:grid-offset-2\"><!--[--><!--[--><div class=\"BlockWrapper hds-module width-full maxw-full CoreParagraphBlock\"><div class=\"grid-container-block grid-container padding-0\"><!--[--><p class=\"margin-0 padding-0\">Intense X-ray flares thought to be caused by a black hole devouring a star. (Video)</p><!--]--></div></div><!--]--><!--]--></div></div><!--]--><!--[--><div class=\"BlockLayout BlockLayoutGeneric grid-row grid-container grid-container-block smd-padding-x-responsive margin-y-3\"><div class=\"grid-col-12 desktop:grid-col-8 desktop:grid-offset-2\"><!--[--><!--[--><div class=\"BlockWrapper hds-module width-full maxw-full CoreParagraphBlock\"><div class=\"grid-container-block grid-container padding-0\"><!--[--><p class=\"margin-0 padding-0\"><a href=\"http://www.nasa.gov/mission_pages/swift/bursts/devoured-star.html\">Watch the Video</a></p><!--]--></div></div><!--]--><!--]--></div></div><!--]--><!--[--><div class=\"BlockLayout BlockLayoutGeneric grid-row grid-container grid-container-block smd-padding-x-responsive margin-y-3\"><div class=\"grid-col-12 desktop:grid-col-8 desktop:grid-offset-2\"><!--[--><!--[--><div class=\"BlockWrapper hds-module width-full maxw-full CoreParagraphBlock\"><div class=\"grid-container-block grid-container padding-0\"><!--[--><p class=\"margin-0 padding-0\"><br>The idea of an object in space so massive and dense that light could not escape it has been around for centuries. Most famously, black holes were predicted by Einstein\\'s theory of general relativity, which showed that when a massive star dies, it leaves behind a small, dense remnant core. If the core\\'s mass is more than about three times the mass of the Sun, the equations showed, the force of gravity overwhelms all other forces and produces a black hole.</p><!--]--></div></div><!--]--><!--]--></div></div><!--]--><!--[--><div class=\"BlockLayout BlockLayoutGeneric grid-row grid-container grid-container-block smd-padding-x-responsive margin-y-5 desktop:margin-y-6\"><div class=\"grid-col-12 desktop:grid-col-8 desktop:grid-offset-2\"><!--[--><!--[--><div class=\"BlockWrapper hds-module hds-media wp-block-image CoreImageBlock\"><div class=\"margin-left-auto margin-right-auto nasa-block-align-inline\"><!--[--><div class=\"hds-media-wrapper margin-left-auto margin-right-auto\"><figure class=\"hds-media-inner hds-cover-wrapper hds-media-ratio-fit\"><picture class=\"BaseMedia width-full\"><source type=\"image/webp\" sizes=\"(max-width: 640px) 320px, (max-width: 768px) 640px, (max-width: 1024px) 768px, (max-width: 1280px) 1024px, (max-width: 1536px) 1280px, 2048px\" srcset=\"https://smd-cms.nasa.gov/wp-content/uploads/2023/04/Capture-jpg.webp?w=320&amp;format=webp 320w, https://smd-cms.nasa.gov/wp-content/uploads/2023/04/Capture-jpg.webp?w=640&amp;format=webp 640w, https://smd-cms.nasa.gov/wp-content/uploads/2023/04/Capture-jpg.webp?w=768&amp;format=webp 768w, https://smd-cms.nasa.gov/wp-content/uploads/2023/04/Capture-jpg.webp?w=1024&amp;format=webp 1024w, https://smd-cms.nasa.gov/wp-content/uploads/2023/04/Capture-jpg.webp?w=1280&amp;format=webp 1280w, https://smd-cms.nasa.gov/wp-content/uploads/2023/04/Capture-jpg.webp?w=1536&amp;format=webp 1536w, https://smd-cms.nasa.gov/wp-content/uploads/2023/04/Capture-jpg.webp?w=2048&amp;format=webp 2048w, https://smd-cms.nasa.gov/wp-content/uploads/2023/04/Capture-jpg.webp?w=2560&amp;format=webp 2560w, https://smd-cms.nasa.gov/wp-content/uploads/2023/04/Capture-jpg.webp?w=3072&amp;format=webp 3072w, https://smd-cms.nasa.gov/wp-content/uploads/2023/04/Capture-jpg.webp?w=4096&amp;format=webp 4096w\"><img width=\"480\" height=\"271\" alt=\"Black Holes\" loading=\"lazy\" decoding=\"async\" onerror=\"this.setAttribute(&#39;data-error&#39;, 1)\" style=\"transform:scale(1);transform-origin:50% 50%;object-position:50% 50%;object-fit:cover;\" class=\"width-full\" data-nuxt-pic src=\"https://smd-cms.nasa.gov/wp-content/uploads/2023/04/Capture-jpg.webp?w=4096&amp;format=png\" sizes=\"(max-width: 640px) 320px, (max-width: 768px) 640px, (max-width: 1024px) 768px, (max-width: 1280px) 1024px, (max-width: 1536px) 1280px, 2048px\" srcset=\"https://smd-cms.nasa.gov/wp-content/uploads/2023/04/Capture-jpg.webp?w=320&amp;format=png 320w, https://smd-cms.nasa.gov/wp-content/uploads/2023/04/Capture-jpg.webp?w=640&amp;format=png 640w, https://smd-cms.nasa.gov/wp-content/uploads/2023/04/Capture-jpg.webp?w=768&amp;format=png 768w, https://smd-cms.nasa.gov/wp-content/uploads/2023/04/Capture-jpg.webp?w=1024&amp;format=png 1024w, https://smd-cms.nasa.gov/wp-content/uploads/2023/04/Capture-jpg.webp?w=1280&amp;format=png 1280w, https://smd-cms.nasa.gov/wp-content/uploads/2023/04/Capture-jpg.webp?w=1536&amp;format=png 1536w, https://smd-cms.nasa.gov/wp-content/uploads/2023/04/Capture-jpg.webp?w=2048&amp;format=png 2048w, https://smd-cms.nasa.gov/wp-content/uploads/2023/04/Capture-jpg.webp?w=2560&amp;format=png 2560w, https://smd-cms.nasa.gov/wp-content/uploads/2023/04/Capture-jpg.webp?w=3072&amp;format=png 3072w, https://smd-cms.nasa.gov/wp-content/uploads/2023/04/Capture-jpg.webp?w=4096&amp;format=png 4096w\"></picture></figure><!----></div><!--]--></div></div><!--]--><!--]--></div></div><!--]--><!--[--><div class=\"BlockLayout BlockLayoutGeneric grid-row grid-container grid-container-block smd-padding-x-responsive margin-y-3\"><div class=\"grid-col-12 desktop:grid-col-8 desktop:grid-offset-2\"><!--[--><!--[--><div class=\"BlockWrapper hds-module width-full maxw-full CoreParagraphBlock\"><div class=\"grid-container-block grid-container padding-0\"><!--[--><p class=\"margin-0 padding-0\">A video about black holes.</p><!--]--></div></div><!--]--><!--]--></div></div><!--]--><!--[--><div class=\"BlockLayout BlockLayoutGeneric grid-row grid-container grid-container-block smd-padding-x-responsive margin-y-3\"><div class=\"grid-col-12 desktop:grid-col-8 desktop:grid-offset-2\"><!--[--><!--[--><div class=\"BlockWrapper hds-module width-full maxw-full CoreParagraphBlock\"><div class=\"grid-container-block grid-container padding-0\"><!--[--><p class=\"margin-0 padding-0\"><a href=\"http://chandra.harvard.edu/learn_bh.html\">Watch the video</a></p><!--]--></div></div><!--]--><!--]--></div></div><!--]--><!--[--><div class=\"BlockLayout BlockLayoutGeneric grid-row grid-container grid-container-block smd-padding-x-responsive margin-y-3\"><div class=\"grid-col-12 desktop:grid-col-8 desktop:grid-offset-2\"><!--[--><!--[--><div class=\"BlockWrapper hds-module width-full maxw-full CoreParagraphBlock\"><div class=\"grid-container-block grid-container padding-0\"><!--[--><p class=\"margin-0 padding-0\"><br>Scientists can\\'t directly observe black holes with telescopes that detect x-rays, light, or other forms of electromagnetic radiation. We can, however, infer the presence of black holes and study them by detecting their effect on other matter nearby. If a black hole passes through a cloud of interstellar matter, for example, it will draw matter inward in a process known as accretion. A similar process can occur if a normal star passes close to a black hole. In this case, the black hole can tear the star apart as it pulls it toward itself. As the attracted matter accelerates and heats up, it emits x-rays that radiate into space. Recent discoveries offer some tantalizing evidence that black holes have a dramatic influence on the neighborhoods around them - emitting powerful gamma ray bursts, devouring nearby stars, and spurring the growth of new stars in some areas while stalling it in others.</p><!--]--></div></div><!--]--><!--]--></div></div><!--]--><!--[--><div class=\"BlockLayout BlockLayoutGeneric grid-row grid-container grid-container-block smd-padding-x-responsive margin-y-3\"><div class=\"grid-col-12 desktop:grid-col-8 desktop:grid-offset-2\"><!--[--><!--[--><div class=\"BlockWrapper hds-module width-full maxw-full CoreParagraphBlock\"><div class=\"grid-container-block grid-container padding-0\"><!--[--><p class=\"margin-0 padding-0\"><strong>One Star\\'s End is a Black Hole\\'s Beginning</strong></p><!--]--></div></div><!--]--><!--]--></div></div><!--]--><!--[--><div class=\"BlockLayout BlockLayoutGeneric grid-row grid-container grid-container-block smd-padding-x-responsive margin-y-3\"><div class=\"grid-col-12 desktop:grid-col-8 desktop:grid-offset-2\"><!--[--><!--[--><div class=\"BlockWrapper hds-module width-full maxw-full CoreParagraphBlock\"><div class=\"grid-container-block grid-container padding-0\"><!--[--><p class=\"margin-0 padding-0\">Most black holes form from the remnants of a large star that dies in a supernova explosion. (Smaller stars become dense neutron stars, which are not massive enough to trap light.) If the total mass of the star is large enough (about three times the mass of the Sun), it can be proven theoretically that no force can keep the star from collapsing under the influence of gravity. However, as the star collapses, a strange thing occurs. As the surface of the star nears an imaginary surface called the \"event horizon,\" time on the star slows relative to the time kept by observers far away. When the surface reaches the event horizon, time stands still, and the star can collapse no more - it is a frozen collapsing object.</p><!--]--></div></div><!--]--><!--]--></div></div><!--]--><!--[--><div class=\"BlockLayout BlockLayoutGeneric grid-row grid-container grid-container-block smd-padding-x-responsive margin-y-5 desktop:margin-y-6\"><div class=\"grid-col-12 desktop:grid-col-8 desktop:grid-offset-2\"><!--[--><!--[--><div class=\"BlockWrapper hds-module hds-media wp-block-image CoreImageBlock\"><div class=\"margin-left-auto margin-right-auto nasa-block-align-inline\"><!--[--><div class=\"hds-media-wrapper margin-left-auto margin-right-auto\"><figure class=\"hds-media-inner hds-cover-wrapper hds-media-ratio-fit\"><picture class=\"BaseMedia width-full\"><source type=\"image/webp\" sizes=\"(max-width: 640px) 320px, (max-width: 768px) 640px, (max-width: 1024px) 768px, (max-width: 1280px) 1024px, (max-width: 1536px) 1280px, 2048px\" srcset=\"https://smd-cms.nasa.gov/wp-content/uploads/2023/04/RXTE_Heartbeat-jpg.webp?w=320&amp;format=webp 320w, https://smd-cms.nasa.gov/wp-content/uploads/2023/04/RXTE_Heartbeat-jpg.webp?w=640&amp;format=webp 640w, https://smd-cms.nasa.gov/wp-content/uploads/2023/04/RXTE_Heartbeat-jpg.webp?w=768&amp;format=webp 768w, https://smd-cms.nasa.gov/wp-content/uploads/2023/04/RXTE_Heartbeat-jpg.webp?w=1024&amp;format=webp 1024w, https://smd-cms.nasa.gov/wp-content/uploads/2023/04/RXTE_Heartbeat-jpg.webp?w=1280&amp;format=webp 1280w, https://smd-cms.nasa.gov/wp-content/uploads/2023/04/RXTE_Heartbeat-jpg.webp?w=1536&amp;format=webp 1536w, https://smd-cms.nasa.gov/wp-content/uploads/2023/04/RXTE_Heartbeat-jpg.webp?w=2048&amp;format=webp 2048w, https://smd-cms.nasa.gov/wp-content/uploads/2023/04/RXTE_Heartbeat-jpg.webp?w=2560&amp;format=webp 2560w, https://smd-cms.nasa.gov/wp-content/uploads/2023/04/RXTE_Heartbeat-jpg.webp?w=3072&amp;format=webp 3072w, https://smd-cms.nasa.gov/wp-content/uploads/2023/04/RXTE_Heartbeat-jpg.webp?w=4096&amp;format=webp 4096w\"><img width=\"480\" height=\"229\" alt=\"Black Hole Jets\" loading=\"lazy\" decoding=\"async\" onerror=\"this.setAttribute(&#39;data-error&#39;, 1)\" style=\"transform:scale(1);transform-origin:50% 50%;object-position:50% 50%;object-fit:cover;\" class=\"width-full\" data-nuxt-pic src=\"https://smd-cms.nasa.gov/wp-content/uploads/2023/04/RXTE_Heartbeat-jpg.webp?w=4096&amp;format=png\" sizes=\"(max-width: 640px) 320px, (max-width: 768px) 640px, (max-width: 1024px) 768px, (max-width: 1280px) 1024px, (max-width: 1536px) 1280px, 2048px\" srcset=\"https://smd-cms.nasa.gov/wp-content/uploads/2023/04/RXTE_Heartbeat-jpg.webp?w=320&amp;format=png 320w, https://smd-cms.nasa.gov/wp-content/uploads/2023/04/RXTE_Heartbeat-jpg.webp?w=640&amp;format=png 640w, https://smd-cms.nasa.gov/wp-content/uploads/2023/04/RXTE_Heartbeat-jpg.webp?w=768&amp;format=png 768w, https://smd-cms.nasa.gov/wp-content/uploads/2023/04/RXTE_Heartbeat-jpg.webp?w=1024&amp;format=png 1024w, https://smd-cms.nasa.gov/wp-content/uploads/2023/04/RXTE_Heartbeat-jpg.webp?w=1280&amp;format=png 1280w, https://smd-cms.nasa.gov/wp-content/uploads/2023/04/RXTE_Heartbeat-jpg.webp?w=1536&amp;format=png 1536w, https://smd-cms.nasa.gov/wp-content/uploads/2023/04/RXTE_Heartbeat-jpg.webp?w=2048&amp;format=png 2048w, https://smd-cms.nasa.gov/wp-content/uploads/2023/04/RXTE_Heartbeat-jpg.webp?w=2560&amp;format=png 2560w, https://smd-cms.nasa.gov/wp-content/uploads/2023/04/RXTE_Heartbeat-jpg.webp?w=3072&amp;format=png 3072w, https://smd-cms.nasa.gov/wp-content/uploads/2023/04/RXTE_Heartbeat-jpg.webp?w=4096&amp;format=png 4096w\"></picture></figure><!----></div><!--]--></div></div><!--]--><!--]--></div></div><!--]--><!--[--><div class=\"BlockLayout BlockLayoutGeneric grid-row grid-container grid-container-block smd-padding-x-responsive margin-y-3\"><div class=\"grid-col-12 desktop:grid-col-8 desktop:grid-offset-2\"><!--[--><!--[--><div class=\"BlockWrapper hds-module width-full maxw-full CoreParagraphBlock\"><div class=\"grid-container-block grid-container padding-0\"><!--[--><p class=\"margin-0 padding-0\">Astronomers have identified a candidate for the smallest-known black hole. (Video)</p><!--]--></div></div><!--]--><!--]--></div></div><!--]--><!--[--><div class=\"BlockLayout BlockLayoutGeneric grid-row grid-container grid-container-block smd-padding-x-responsive margin-y-3\"><div class=\"grid-col-12 desktop:grid-col-8 desktop:grid-offset-2\"><!--[--><!--[--><div class=\"BlockWrapper hds-module width-full maxw-full CoreParagraphBlock\"><div class=\"grid-container-block grid-container padding-0\"><!--[--><p class=\"margin-0 padding-0\"><a href=\"http://www.nasa.gov/topics/universe/features/black-hole-heartbeat.html\">Watch the Video</a></p><!--]--></div></div><!--]--><!--]--></div></div><!--]--><!--[--><div class=\"BlockLayout BlockLayoutGeneric grid-row grid-container grid-container-block smd-padding-x-responsive margin-y-3\"><div class=\"grid-col-12 desktop:grid-col-8 desktop:grid-offset-2\"><!--[--><!--[--><div class=\"BlockWrapper hds-module width-full maxw-full CoreParagraphBlock\"><div class=\"grid-container-block grid-container padding-0\"><!--[--><p class=\"margin-0 padding-0\"><br>Even bigger black holes can result from stellar collisions. Soon after its launch in December 2004, NASA\\'s Swift telescope observed the powerful, fleeting flashes of light known as gamma ray bursts. Chandra and NASA\\'s Hubble Space Telescope later collected data from the event\\'s \"afterglow,\" and together the observations led astronomers to conclude that the powerful explosions can result when a black hole and a neutron star collide, producing another black hole.</p><!--]--></div></div><!--]--><!--]--></div></div><!--]--><!--[--><div class=\"BlockLayout BlockLayoutGeneric grid-row grid-container grid-container-block smd-padding-x-responsive margin-y-3\"><div class=\"grid-col-12 desktop:grid-col-8 desktop:grid-offset-2\"><!--[--><!--[--><div class=\"BlockWrapper hds-module width-full maxw-full CoreParagraphBlock\"><div class=\"grid-container-block grid-container padding-0\"><!--[--><p class=\"margin-0 padding-0\"><strong>Babies and Giants</strong></p><!--]--></div></div><!--]--><!--]--></div></div><!--]--><!--[--><div class=\"BlockLayout BlockLayoutGeneric grid-row grid-container grid-container-block smd-padding-x-responsive margin-y-3\"><div class=\"grid-col-12 desktop:grid-col-8 desktop:grid-offset-2\"><!--[--><!--[--><div class=\"BlockWrapper hds-module width-full maxw-full CoreParagraphBlock\"><div class=\"grid-container-block grid-container padding-0\"><!--[--><p class=\"margin-0 padding-0\">Although the basic formation process is understood, one perennial mystery in the science of black holes is that they appear to exist on two radically different size scales. On the one end, there are the countless black holes that are the remnants of massive stars. Peppered throughout the Universe, these \"stellar mass\" black holes are generally 10 to 24 times as massive as the Sun. Astronomers spot them when another star draws near enough for some of the matter surrounding it to be snared by the black hole\\'s gravity, churning out x-rays in the process. Most stellar black holes, however, are very difficult to detect. Judging from the number of stars large enough to produce such black holes, however, scientists estimate that there are as many as ten million to a billion such black holes in the Milky Way alone.</p><!--]--></div></div><!--]--><!--]--></div></div><!--]--><!--[--><div class=\"BlockLayout BlockLayoutGeneric grid-row grid-container grid-container-block smd-padding-x-responsive margin-y-3\"><div class=\"grid-col-12 desktop:grid-col-8 desktop:grid-offset-2\"><!--[--><!--[--><div class=\"BlockWrapper hds-module width-full maxw-full CoreParagraphBlock\"><div class=\"grid-container-block grid-container padding-0\"><!--[--><p class=\"margin-0 padding-0\">On the other end of the size spectrum are the giants known as \"supermassive\" black holes, which are millions, if not billions, of times as massive as the Sun. Astronomers believe that supermassive black holes lie at the center of virtually all large galaxies, even our own Milky Way. Astronomers can detect them by watching for their effects on nearby stars and gas.</p><!--]--></div></div><!--]--><!--]--></div></div><!--]--><!--[--><div class=\"BlockLayout BlockLayoutGeneric grid-row grid-container grid-container-block smd-padding-x-responsive margin-y-5 desktop:margin-y-6\"><div class=\"grid-col-12 desktop:grid-col-8 desktop:grid-offset-2\"><!--[--><!--[--><div class=\"BlockWrapper hds-module hds-media wp-block-image CoreImageBlock\"><div class=\"margin-left-auto margin-right-auto nasa-block-align-inline\"><!--[--><div class=\"hds-media-wrapper margin-left-auto margin-right-auto\"><figure class=\"hds-media-inner hds-cover-wrapper hds-media-ratio-fit\"><picture class=\"BaseMedia width-full\"><source type=\"image/webp\" sizes=\"(max-width: 640px) 320px, (max-width: 768px) 640px, (max-width: 1024px) 768px, (max-width: 1280px) 1024px, (max-width: 1536px) 1280px, 2048px\" srcset=\"https://smd-cms.nasa.gov/wp-content/uploads/2023/04/pia18842-harrison-2-jpg.webp?w=320&amp;format=webp 320w, https://smd-cms.nasa.gov/wp-content/uploads/2023/04/pia18842-harrison-2-jpg.webp?w=640&amp;format=webp 640w, https://smd-cms.nasa.gov/wp-content/uploads/2023/04/pia18842-harrison-2-jpg.webp?w=768&amp;format=webp 768w, https://smd-cms.nasa.gov/wp-content/uploads/2023/04/pia18842-harrison-2-jpg.webp?w=1024&amp;format=webp 1024w, https://smd-cms.nasa.gov/wp-content/uploads/2023/04/pia18842-harrison-2-jpg.webp?w=1280&amp;format=webp 1280w, https://smd-cms.nasa.gov/wp-content/uploads/2023/04/pia18842-harrison-2-jpg.webp?w=1536&amp;format=webp 1536w, https://smd-cms.nasa.gov/wp-content/uploads/2023/04/pia18842-harrison-2-jpg.webp?w=2048&amp;format=webp 2048w, https://smd-cms.nasa.gov/wp-content/uploads/2023/04/pia18842-harrison-2-jpg.webp?w=2560&amp;format=webp 2560w, https://smd-cms.nasa.gov/wp-content/uploads/2023/04/pia18842-harrison-2-jpg.webp?w=3072&amp;format=webp 3072w, https://smd-cms.nasa.gov/wp-content/uploads/2023/04/pia18842-harrison-2-jpg.webp?w=4096&amp;format=webp 4096w\"><img width=\"480\" height=\"270\" alt=\"Observed Mass Ranges of Compact Objects\" loading=\"lazy\" decoding=\"async\" onerror=\"this.setAttribute(&#39;data-error&#39;, 1)\" style=\"transform:scale(1);transform-origin:50% 50%;object-position:50% 50%;object-fit:cover;\" class=\"width-full\" data-nuxt-pic src=\"https://smd-cms.nasa.gov/wp-content/uploads/2023/04/pia18842-harrison-2-jpg.webp?w=4096&amp;format=png\" sizes=\"(max-width: 640px) 320px, (max-width: 768px) 640px, (max-width: 1024px) 768px, (max-width: 1280px) 1024px, (max-width: 1536px) 1280px, 2048px\" srcset=\"https://smd-cms.nasa.gov/wp-content/uploads/2023/04/pia18842-harrison-2-jpg.webp?w=320&amp;format=png 320w, https://smd-cms.nasa.gov/wp-content/uploads/2023/04/pia18842-harrison-2-jpg.webp?w=640&amp;format=png 640w, https://smd-cms.nasa.gov/wp-content/uploads/2023/04/pia18842-harrison-2-jpg.webp?w=768&amp;format=png 768w, https://smd-cms.nasa.gov/wp-content/uploads/2023/04/pia18842-harrison-2-jpg.webp?w=1024&amp;format=png 1024w, https://smd-cms.nasa.gov/wp-content/uploads/2023/04/pia18842-harrison-2-jpg.webp?w=1280&amp;format=png 1280w, https://smd-cms.nasa.gov/wp-content/uploads/2023/04/pia18842-harrison-2-jpg.webp?w=1536&amp;format=png 1536w, https://smd-cms.nasa.gov/wp-content/uploads/2023/04/pia18842-harrison-2-jpg.webp?w=2048&amp;format=png 2048w, https://smd-cms.nasa.gov/wp-content/uploads/2023/04/pia18842-harrison-2-jpg.webp?w=2560&amp;format=png 2560w, https://smd-cms.nasa.gov/wp-content/uploads/2023/04/pia18842-harrison-2-jpg.webp?w=3072&amp;format=png 3072w, https://smd-cms.nasa.gov/wp-content/uploads/2023/04/pia18842-harrison-2-jpg.webp?w=4096&amp;format=png 4096w\"></picture></figure><!----></div><!--]--></div></div><!--]--><!--]--></div></div><!--]--><!--[--><div class=\"BlockLayout BlockLayoutGeneric grid-row grid-container grid-container-block smd-padding-x-responsive margin-y-3\"><div class=\"grid-col-12 desktop:grid-col-8 desktop:grid-offset-2\"><!--[--><!--[--><div class=\"BlockWrapper hds-module width-full maxw-full CoreParagraphBlock\"><div class=\"grid-container-block grid-container padding-0\"><!--[--><p class=\"margin-0 padding-0\">This chart shows the relative masses of super-dense cosmic objects.</p><!--]--></div></div><!--]--><!--]--></div></div><!--]--><!--[--><div class=\"BlockLayout BlockLayoutGeneric grid-row grid-container grid-container-block smd-padding-x-responsive margin-y-3\"><div class=\"grid-col-12 desktop:grid-col-8 desktop:grid-offset-2\"><!--[--><!--[--><div class=\"BlockWrapper hds-module width-full maxw-full CoreParagraphBlock\"><div class=\"grid-container-block grid-container padding-0\"><!--[--><p class=\"margin-0 padding-0\"><a href=\"http://www.nasa.gov/jpl/nustar/pia18842/#.VZpygEimAqM\">Read the full article</a></p><!--]--></div></div><!--]--><!--]--></div></div><!--]--><!--[--><div class=\"BlockLayout BlockLayoutGeneric grid-row grid-container grid-container-block smd-padding-x-responsive margin-y-3\"><div class=\"grid-col-12 desktop:grid-col-8 desktop:grid-offset-2\"><!--[--><!--[--><div class=\"BlockWrapper hds-module width-full maxw-full CoreParagraphBlock\"><div class=\"grid-container-block grid-container padding-0\"><!--[--><p class=\"margin-0 padding-0\"><br>Historically, astronomers have long believed that no mid-sized black holes exist.  However, recent evidence from Chandra, XMM-Newton and Hubble strengthens the case that mid-size black holes do exist. One possible mechanism for the formation of supermassive black holes involves a chain reaction of collisions of stars in compact star clusters that results in the buildup of extremely massive stars, which then collapse to form intermediate-mass black holes. The star clusters then sink to the center of the galaxy, where the intermediate-mass black holes merge to form a supermassive black hole.</p><!--]--></div></div><!--]--><!--]--></div></div><!--]--><!--[--><div class=\"BlockLayout BlockLayoutGeneric grid-row grid-container grid-container-block smd-padding-x-responsive margin-top-5 margin-bottom-2\"><div class=\"grid-col-12 desktop:grid-col-8 desktop:grid-offset-2\"><!--[--><!--[--><div class=\"BlockWrapper hds-module width-full maxw-full CoreHeadingBlock\"><div class=\"grid-container-block grid-container padding-0\"><!--[--><h4><span>Recent Discoveries</span></h4><!--]--></div></div><!--]--><!--]--></div></div><!--]--><!--[--><div class=\"BlockLayout BlockLayoutGeneric grid-row grid-container grid-container-block smd-padding-x-responsive margin-y-3\"><div class=\"grid-col-12 desktop:grid-col-8 desktop:grid-offset-2\"><!--[--><!--[--><div class=\"BlockWrapper hds-module wp-core-table-block CoreTableBlock\"><div class=\"nasa-block-align-\"><!--[--><figure class=\"wp-block-table margin-bottom-0\"><table class=\"\"><thead><!--[--><!--]--></thead><tbody><!--[--><tr><!--[--><th align colspan rowspan><div>Date</div></th><th align colspan rowspan><div>Discovery</div></th><!--]--></tr><tr><!--[--><td align colspan rowspan><div>December 20, 2022</div></td><td align colspan rowspan><div><a href=\"https://www.nustar.caltech.edu/news/nustar221220\">NASA Gets Unusual Close Glimpse of Black Hole Snacking on Star</a></div></td><!--]--></tr><tr><!--[--><td align colspan rowspan><div>November 23, 2022</div></td><td align colspan rowspan><div><a href=\"https://www.nasa.gov/feature/nasa-s-ixpe-helps-solve-black-hole-jet-mystery\">IXPE Helps Solve Black Hole Jet Mystery</a></div></td><!--]--></tr><tr><!--[--><td align colspan rowspan><div>November 21, 2022</div></td><td align colspan rowspan><div><a href=\"https://chandra.harvard.edu/photo/2022/sonify6/\">\\'Listen\\' to the Light Echoes From a Black Hole</a></div></td><!--]--></tr><tr><!--[--><td align colspan rowspan><div>November 10, 2022</div></td><td align colspan rowspan><div><a href=\"https://blogs.nasa.gov/sofia/2022/11/10/magnetic-fields-help-black-holes-reach-deeper-into-galaxies/\">Magnetic Fields Help Black Holes Reach Deeper Into Galaxies</a></div></td><!--]--></tr><tr><!--[--><td align colspan rowspan><div>November 3, 2022</div></td><td align colspan rowspan><div><a href=\"https://www.nasa.gov/mission_pages/ixpe/news/2022/nasa-s-ixpe-reveals-shape-orientation-of-hot-matter-around-black-hole.html\">IXPE Reveals Shape, Orientation of Hot Matter Around Black Hole</a></div></td><!--]--></tr><tr><!--[--><td align colspan rowspan><div>October 13, 2022</div></td><td align colspan rowspan><div><a href=\"https://www.nasa.gov/feature/goddard/2022/nasa-s-swift-fermi-missions-detect-exceptional-cosmic-blast\">Swift, Fermi Missions Detect Exceptional Cosmic Blast</a></div></td><!--]--></tr><tr><!--[--><td align colspan rowspan><div>August 18, 2022</div></td><td align colspan rowspan><div><a href=\"https://chandra.harvard.edu/photo/2022/ngc4424/\">NASA Telescopes Capture Stellar Delivery Service for Black Hole (NGC 4424)</a></div></td><!--]--></tr><tr><!--[--><td align colspan rowspan><div>June 30, 2022</div></td><td align colspan rowspan><div><a href=\"https://chandra.harvard.edu/photo/2022/h1821/\">Chandra Shows Giant Black Hole Spins Slower Than Its Peers (H1821+243)</a></div></td><!--]--></tr><tr><!--[--><td align colspan rowspan><div>June 10, 2022</div></td><td align colspan rowspan><div><a href=\"https://hubblesite.org/contents/news-releases/2022/news-2022-001\">Hubble Determines Mass of Isolated Black Hole Roaming Our Milky Way Galaxy</a></div></td><!--]--></tr><tr><!--[--><td align colspan rowspan><div>May 12, 2022</div></td><td align colspan rowspan><div><a href=\"https://chandra.harvard.edu/photo/2022/sgra/\">NASA Telescopes Support Event Horizon Telescope in Studying Milky Way\\'s Black Hole (Sagittarius A*)</a></div></td><!--]--></tr><tr><!--[--><td align colspan rowspan><div>May 5, 2022</div></td><td align colspan rowspan><div><a href=\"https://www.nasa.gov/feature/goddard/2022/nasa-s-swift-tracks-potential-magnetic-flip-of-monster-black-hole/\">Swift Tracks Potential Magnetic Flip of Monster Black Hole</a></div></td><!--]--></tr><tr><!--[--><td align colspan rowspan><div>May 4, 2022</div></td><td align colspan rowspan><div><a href=\"https://chandra.harvard.edu/photo/2022/sonify5/\">New NASA Black Hole Sonifications with a Remix</a></div></td><!--]--></tr><tr><!--[--><td align colspan rowspan><div>April 20, 2022</div></td><td align colspan rowspan><div><a href=\"https://chandra.harvard.edu/photo/2022/imbhs/\">Black Holes Raze Thousands of Stars to Fuel Growth</a></div></td><!--]--></tr><tr><!--[--><td align colspan rowspan><div>April 13, 2022</div></td><td align colspan rowspan><div><a href=\"https://hubblesite.org/contents/news-releases/2022/news-2022-019\">Hubble Sheds Light on Origins of Supermassive Black Holes</a></div></td><!--]--></tr><tr><!--[--><td align colspan rowspan><div>April 7, 2022</div></td><td align colspan rowspan><div><a href=\"https://www.nasa.gov/feature/goddard/2022/nasa-s-fermi-hunts-for-gravitational-waves-from-monster-black-holes/\">Fermi Hunts for Gravitational Waves From Monster Black Holes</a></div></td><!--]--></tr><tr><!--[--><td align colspan rowspan><div>March 31, 2022</div></td><td align colspan rowspan><div><a href=\"https://chandra.harvard.edu/photo/2022/spiderweb/\">Feasting Black Holes Caught in Galactic Spiderweb (Spiderweb Galaxy Field)</a></div></td><!--]--></tr><tr><!--[--><td align colspan rowspan><div>February 22, 2022</div></td><td align colspan rowspan><div><a href=\"https://blogs.nasa.gov/sofia/2022/02/22/how-magnetic-fields-help-feed-a-supermassive-black-hole/\">How Magnetic Fields Help Feed a Supermassive Black Hole</a></div></td><!--]--></tr><tr><!--[--><td align colspan rowspan><div>January 19, 2022</div></td><td align colspan rowspan><div><a href=\"https://hubblesite.org/contents/news-releases/2022/news-2022-002\">Hubble Finds a Black Hole Igniting Star Formation in a Dwarf Galaxy</a></div></td><!--]--></tr><tr><!--[--><td align colspan rowspan><div>January 10, 2022</div></td><td align colspan rowspan><div><a href=\"https://chandra.harvard.edu/photo/2022/mrk462/\">\"Mini\" Monster Black Hole Could Hold Clues to Giant\\'s Growth (Mrk 462)</a></div></td><!--]--></tr><tr><!--[--><td align colspan rowspan><div>December 16, 2021</div></td><td align colspan rowspan><div><a href=\"https://chandra.harvard.edu/photo/2021/rbs797/\">Astronomers Spy Quartet of Cavities From Giant Black Holes: RBS 797</a></div></td><!--]--></tr><tr><!--[--><td align colspan rowspan><div>December 9, 2021</div></td><td align colspan rowspan><div><a href=\"https://hubblesite.org/contents/news-releases/2021/news-2021-062\">Mini-Jet Found Near Milky Way\\'s Supermassive Black Hole</a></div></td><!--]--></tr><tr><!--[--><td align colspan rowspan><div>November 10, 2021</div></td><td align colspan rowspan><div><a href=\"https://www.nustar.caltech.edu/news/132\">Black Holes Can Tell Us the Expansion Rate of the Universe</a></div></td><!--]--></tr><tr><!--[--><td align colspan rowspan><div>September 16, 2021</div></td><td align colspan rowspan><div><a href=\"https://chandra.harvard.edu/photo/2021/sonify4/\">Jingle, Pluck, and Hum: Sounds from Space</a></div></td><!--]--></tr><tr><!--[--><td align colspan rowspan><div>August 5, 2021</div></td><td align colspan rowspan><div><a href=\"https://chandra.harvard.edu/photo/2021/v404cyg/\">Huge Rings Around a Black Hole (V404 Cygni)</a></div></td><!--]--></tr><!--]--></tbody><tbody><!--[--><!--]--></tbody></table><!----></figure><!--]--></div></div><!--]--><!--]--></div></div><!--]--><!--[--><div class=\"BlockLayout BlockLayoutGeneric grid-row grid-container grid-container-block smd-padding-x-responsive margin-y-3\"><div class=\"grid-col-12 desktop:grid-col-8 desktop:grid-offset-2\"><!--[--><!--[--><!----><!--]--><!--]--></div></div><!--]--><!--]--></div><!----></div><div class=\"GutenbergBlocks hds-module\"><!--[--><!--[--><div class=\"BlockLayout margin-full-bleed\"><!--[--><!--[--><div class=\"BlockWrapper hds-module nasa-gb-align-full maxw-full width-full padding-y-6 padding-x-3 color-mode-dark wp-block-nasa-blocks-topic-cards NasaBlocksTopicCardsBlock\"><!--[--><div class=\"grid-container grid-container-block-lg padding-x-0\"><div class=\"grid-row flex-align-center margin-bottom-3\"><div class=\"desktop:grid-col-8 margin-bottom-2 desktop:margin-bottom-0\"><div class=\"label color-carbon-60 margin-bottom-2\">Keep Exploring</div><h2 class=\"heading-36 line-height-sm margin-0\">Discover More Topics From NASA</h2></div></div><div class=\"swiper grid-row grid-gap-2\"><!--[--><!--]--><div class=\"swiper-wrapper\"><!--[--><!--]--><!--[--><div class=\"swiper-slide topic-card-slide mobile:grid-col-12 tablet:grid-col-6 desktop:grid-col-3 topic-card margin-bottom-4 desktop:margin-bottom-0\"><!--[--><a href=\"/james-webb-space-telescope/\" class=\"link-external-false\"><!--[--><div class=\"hds-topic-card hds-cover-wrapper cover-hover-zoom bg-carbon-black\"><div class=\"skrim-overlay skrim-overlay-dark skrim-left mobile-skrim-top padding-3 display-flex flex-align-end flex-justify-start z-200\"><div><p class=\"hds-topic-card-heading heading-29 color-spacesuit-white line-height-sm margin-top-0 margin-bottom-1\"><span>James Webb Space Telescope</span><svg viewBox=\"0 0 32 32\" fill=\"none\" xmlns=\"http://www.w3.org/2000/svg\"><circle class=\"color-nasa-red\" cx=\"16\" cy=\"16\" r=\"16\"></circle><path d=\"M8 16.956h12.604l-3.844 4.106 1.252 1.338L24 16l-5.988-6.4-1.252 1.338 3.844 4.106H8v1.912z\" class=\"color-spacesuit-white\"></path></svg></p></div></div><figure class=\"hds-media-background\"><picture class=\"BaseMedia width-full\"><source type=\"image/webp\" sizes=\"(max-width: 640px) 320px, (max-width: 768px) 640px, (max-width: 1024px) 768px, (max-width: 1280px) 1024px, (max-width: 1536px) 1280px, 2048px\" srcset=\"https://smd-cms.nasa.gov/wp-content/uploads/2023/03/main-image-star-forming-region-carina-nircam-final-5mb-1-jpeg.webp?w=320&amp;format=webp 320w, https://smd-cms.nasa.gov/wp-content/uploads/2023/03/main-image-star-forming-region-carina-nircam-final-5mb-1-jpeg.webp?w=640&amp;format=webp 640w, https://smd-cms.nasa.gov/wp-content/uploads/2023/03/main-image-star-forming-region-carina-nircam-final-5mb-1-jpeg.webp?w=768&amp;format=webp 768w, https://smd-cms.nasa.gov/wp-content/uploads/2023/03/main-image-star-forming-region-carina-nircam-final-5mb-1-jpeg.webp?w=1024&amp;format=webp 1024w, https://smd-cms.nasa.gov/wp-content/uploads/2023/03/main-image-star-forming-region-carina-nircam-final-5mb-1-jpeg.webp?w=1280&amp;format=webp 1280w, https://smd-cms.nasa.gov/wp-content/uploads/2023/03/main-image-star-forming-region-carina-nircam-final-5mb-1-jpeg.webp?w=1536&amp;format=webp 1536w, https://smd-cms.nasa.gov/wp-content/uploads/2023/03/main-image-star-forming-region-carina-nircam-final-5mb-1-jpeg.webp?w=2048&amp;format=webp 2048w, https://smd-cms.nasa.gov/wp-content/uploads/2023/03/main-image-star-forming-region-carina-nircam-final-5mb-1-jpeg.webp?w=2560&amp;format=webp 2560w, https://smd-cms.nasa.gov/wp-content/uploads/2023/03/main-image-star-forming-region-carina-nircam-final-5mb-1-jpeg.webp?w=3072&amp;format=webp 3072w, https://smd-cms.nasa.gov/wp-content/uploads/2023/03/main-image-star-forming-region-carina-nircam-final-5mb-1-jpeg.webp?w=4096&amp;format=webp 4096w\"><img width=\"640\" height=\"371\" alt loading=\"lazy\" decoding=\"async\" onerror=\"this.setAttribute(&#39;data-error&#39;, 1)\" style=\"transform:scale(1);transform-origin:50% 50%;object-position:50% 50%;object-fit:cover;\" class=\"width-full\" data-nuxt-pic src=\"https://smd-cms.nasa.gov/wp-content/uploads/2023/03/main-image-star-forming-region-carina-nircam-final-5mb-1-jpeg.webp?w=4096&amp;format=png\" sizes=\"(max-width: 640px) 320px, (max-width: 768px) 640px, (max-width: 1024px) 768px, (max-width: 1280px) 1024px, (max-width: 1536px) 1280px, 2048px\" srcset=\"https://smd-cms.nasa.gov/wp-content/uploads/2023/03/main-image-star-forming-region-carina-nircam-final-5mb-1-jpeg.webp?w=320&amp;format=png 320w, https://smd-cms.nasa.gov/wp-content/uploads/2023/03/main-image-star-forming-region-carina-nircam-final-5mb-1-jpeg.webp?w=640&amp;format=png 640w, https://smd-cms.nasa.gov/wp-content/uploads/2023/03/main-image-star-forming-region-carina-nircam-final-5mb-1-jpeg.webp?w=768&amp;format=png 768w, https://smd-cms.nasa.gov/wp-content/uploads/2023/03/main-image-star-forming-region-carina-nircam-final-5mb-1-jpeg.webp?w=1024&amp;format=png 1024w, https://smd-cms.nasa.gov/wp-content/uploads/2023/03/main-image-star-forming-region-carina-nircam-final-5mb-1-jpeg.webp?w=1280&amp;format=png 1280w, https://smd-cms.nasa.gov/wp-content/uploads/2023/03/main-image-star-forming-region-carina-nircam-final-5mb-1-jpeg.webp?w=1536&amp;format=png 1536w, https://smd-cms.nasa.gov/wp-content/uploads/2023/03/main-image-star-forming-region-carina-nircam-final-5mb-1-jpeg.webp?w=2048&amp;format=png 2048w, https://smd-cms.nasa.gov/wp-content/uploads/2023/03/main-image-star-forming-region-carina-nircam-final-5mb-1-jpeg.webp?w=2560&amp;format=png 2560w, https://smd-cms.nasa.gov/wp-content/uploads/2023/03/main-image-star-forming-region-carina-nircam-final-5mb-1-jpeg.webp?w=3072&amp;format=png 3072w, https://smd-cms.nasa.gov/wp-content/uploads/2023/03/main-image-star-forming-region-carina-nircam-final-5mb-1-jpeg.webp?w=4096&amp;format=png 4096w\"></picture></figure></div><!--]--></a><!--]--><!----></div><div class=\"swiper-slide topic-card-slide mobile:grid-col-12 tablet:grid-col-6 desktop:grid-col-3 topic-card margin-bottom-4 desktop:margin-bottom-0\"><!--[--><a href=\"/perseverance-rover/\" class=\"link-external-false\"><!--[--><div class=\"hds-topic-card hds-cover-wrapper cover-hover-zoom bg-carbon-black\"><div class=\"skrim-overlay skrim-overlay-dark skrim-left mobile-skrim-top padding-3 display-flex flex-align-end flex-justify-start z-200\"><div><p class=\"hds-topic-card-heading heading-29 color-spacesuit-white line-height-sm margin-top-0 margin-bottom-1\"><span>Perseverance Rover</span><svg viewBox=\"0 0 32 32\" fill=\"none\" xmlns=\"http://www.w3.org/2000/svg\"><circle class=\"color-nasa-red\" cx=\"16\" cy=\"16\" r=\"16\"></circle><path d=\"M8 16.956h12.604l-3.844 4.106 1.252 1.338L24 16l-5.988-6.4-1.252 1.338 3.844 4.106H8v1.912z\" class=\"color-spacesuit-white\"></path></svg></p></div></div><figure class=\"hds-media-background\"><picture class=\"BaseMedia width-full\"><source type=\"image/webp\" sizes=\"(max-width: 640px) 320px, (max-width: 768px) 640px, (max-width: 1024px) 768px, (max-width: 1280px) 1024px, (max-width: 1536px) 1280px, 2048px\" srcset=\"https://smd-cms.nasa.gov/wp-content/uploads/2023/03/jpegpia24836.height-1024-jpg.webp?w=320&amp;format=webp 320w, https://smd-cms.nasa.gov/wp-content/uploads/2023/03/jpegpia24836.height-1024-jpg.webp?w=640&amp;format=webp 640w, https://smd-cms.nasa.gov/wp-content/uploads/2023/03/jpegpia24836.height-1024-jpg.webp?w=768&amp;format=webp 768w, https://smd-cms.nasa.gov/wp-content/uploads/2023/03/jpegpia24836.height-1024-jpg.webp?w=1024&amp;format=webp 1024w, https://smd-cms.nasa.gov/wp-content/uploads/2023/03/jpegpia24836.height-1024-jpg.webp?w=1280&amp;format=webp 1280w, https://smd-cms.nasa.gov/wp-content/uploads/2023/03/jpegpia24836.height-1024-jpg.webp?w=1536&amp;format=webp 1536w, https://smd-cms.nasa.gov/wp-content/uploads/2023/03/jpegpia24836.height-1024-jpg.webp?w=2048&amp;format=webp 2048w, https://smd-cms.nasa.gov/wp-content/uploads/2023/03/jpegpia24836.height-1024-jpg.webp?w=2560&amp;format=webp 2560w, https://smd-cms.nasa.gov/wp-content/uploads/2023/03/jpegpia24836.height-1024-jpg.webp?w=3072&amp;format=webp 3072w, https://smd-cms.nasa.gov/wp-content/uploads/2023/03/jpegpia24836.height-1024-jpg.webp?w=4096&amp;format=webp 4096w\"><img width=\"640\" height=\"360\" alt loading=\"lazy\" decoding=\"async\" onerror=\"this.setAttribute(&#39;data-error&#39;, 1)\" style=\"transform:scale(1);transform-origin:50% 50%;object-position:50% 50%;object-fit:cover;\" class=\"width-full\" data-nuxt-pic src=\"https://smd-cms.nasa.gov/wp-content/uploads/2023/03/jpegpia24836.height-1024-jpg.webp?w=4096&amp;format=png\" sizes=\"(max-width: 640px) 320px, (max-width: 768px) 640px, (max-width: 1024px) 768px, (max-width: 1280px) 1024px, (max-width: 1536px) 1280px, 2048px\" srcset=\"https://smd-cms.nasa.gov/wp-content/uploads/2023/03/jpegpia24836.height-1024-jpg.webp?w=320&amp;format=png 320w, https://smd-cms.nasa.gov/wp-content/uploads/2023/03/jpegpia24836.height-1024-jpg.webp?w=640&amp;format=png 640w, https://smd-cms.nasa.gov/wp-content/uploads/2023/03/jpegpia24836.height-1024-jpg.webp?w=768&amp;format=png 768w, https://smd-cms.nasa.gov/wp-content/uploads/2023/03/jpegpia24836.height-1024-jpg.webp?w=1024&amp;format=png 1024w, https://smd-cms.nasa.gov/wp-content/uploads/2023/03/jpegpia24836.height-1024-jpg.webp?w=1280&amp;format=png 1280w, https://smd-cms.nasa.gov/wp-content/uploads/2023/03/jpegpia24836.height-1024-jpg.webp?w=1536&amp;format=png 1536w, https://smd-cms.nasa.gov/wp-content/uploads/2023/03/jpegpia24836.height-1024-jpg.webp?w=2048&amp;format=png 2048w, https://smd-cms.nasa.gov/wp-content/uploads/2023/03/jpegpia24836.height-1024-jpg.webp?w=2560&amp;format=png 2560w, https://smd-cms.nasa.gov/wp-content/uploads/2023/03/jpegpia24836.height-1024-jpg.webp?w=3072&amp;format=png 3072w, https://smd-cms.nasa.gov/wp-content/uploads/2023/03/jpegpia24836.height-1024-jpg.webp?w=4096&amp;format=png 4096w\"></picture></figure></div><!--]--></a><!--]--><!----></div><div class=\"swiper-slide topic-card-slide mobile:grid-col-12 tablet:grid-col-6 desktop:grid-col-3 topic-card margin-bottom-4 desktop:margin-bottom-0\"><!--[--><a href=\"/parker-solar-probe/\" class=\"link-external-false\"><!--[--><div class=\"hds-topic-card hds-cover-wrapper cover-hover-zoom bg-carbon-black\"><div class=\"skrim-overlay skrim-overlay-dark skrim-left mobile-skrim-top padding-3 display-flex flex-align-end flex-justify-start z-200\"><div><p class=\"hds-topic-card-heading heading-29 color-spacesuit-white line-height-sm margin-top-0 margin-bottom-1\"><span>Parker Solar Probe</span><svg viewBox=\"0 0 32 32\" fill=\"none\" xmlns=\"http://www.w3.org/2000/svg\"><circle class=\"color-nasa-red\" cx=\"16\" cy=\"16\" r=\"16\"></circle><path d=\"M8 16.956h12.604l-3.844 4.106 1.252 1.338L24 16l-5.988-6.4-1.252 1.338 3.844 4.106H8v1.912z\" class=\"color-spacesuit-white\"></path></svg></p></div></div><figure class=\"hds-media-background\"><picture class=\"BaseMedia width-full\"><source type=\"image/webp\" sizes=\"(max-width: 640px) 320px, (max-width: 768px) 640px, (max-width: 1024px) 768px, (max-width: 1280px) 1024px, (max-width: 1536px) 1280px, 2048px\" srcset=\"https://smd-cms.nasa.gov/wp-content/uploads/2023/03/observingsunposter-jpg.webp?w=320&amp;format=webp 320w, https://smd-cms.nasa.gov/wp-content/uploads/2023/03/observingsunposter-jpg.webp?w=640&amp;format=webp 640w, https://smd-cms.nasa.gov/wp-content/uploads/2023/03/observingsunposter-jpg.webp?w=768&amp;format=webp 768w, https://smd-cms.nasa.gov/wp-content/uploads/2023/03/observingsunposter-jpg.webp?w=1024&amp;format=webp 1024w, https://smd-cms.nasa.gov/wp-content/uploads/2023/03/observingsunposter-jpg.webp?w=1280&amp;format=webp 1280w, https://smd-cms.nasa.gov/wp-content/uploads/2023/03/observingsunposter-jpg.webp?w=1536&amp;format=webp 1536w, https://smd-cms.nasa.gov/wp-content/uploads/2023/03/observingsunposter-jpg.webp?w=2048&amp;format=webp 2048w, https://smd-cms.nasa.gov/wp-content/uploads/2023/03/observingsunposter-jpg.webp?w=2560&amp;format=webp 2560w, https://smd-cms.nasa.gov/wp-content/uploads/2023/03/observingsunposter-jpg.webp?w=3072&amp;format=webp 3072w, https://smd-cms.nasa.gov/wp-content/uploads/2023/03/observingsunposter-jpg.webp?w=4096&amp;format=webp 4096w\"><img width=\"640\" height=\"640\" alt loading=\"lazy\" decoding=\"async\" onerror=\"this.setAttribute(&#39;data-error&#39;, 1)\" style=\"transform:scale(1);transform-origin:50% 50%;object-position:50% 50%;object-fit:cover;\" class=\"width-full\" data-nuxt-pic src=\"https://smd-cms.nasa.gov/wp-content/uploads/2023/03/observingsunposter-jpg.webp?w=4096&amp;format=png\" sizes=\"(max-width: 640px) 320px, (max-width: 768px) 640px, (max-width: 1024px) 768px, (max-width: 1280px) 1024px, (max-width: 1536px) 1280px, 2048px\" srcset=\"https://smd-cms.nasa.gov/wp-content/uploads/2023/03/observingsunposter-jpg.webp?w=320&amp;format=png 320w, https://smd-cms.nasa.gov/wp-content/uploads/2023/03/observingsunposter-jpg.webp?w=640&amp;format=png 640w, https://smd-cms.nasa.gov/wp-content/uploads/2023/03/observingsunposter-jpg.webp?w=768&amp;format=png 768w, https://smd-cms.nasa.gov/wp-content/uploads/2023/03/observingsunposter-jpg.webp?w=1024&amp;format=png 1024w, https://smd-cms.nasa.gov/wp-content/uploads/2023/03/observingsunposter-jpg.webp?w=1280&amp;format=png 1280w, https://smd-cms.nasa.gov/wp-content/uploads/2023/03/observingsunposter-jpg.webp?w=1536&amp;format=png 1536w, https://smd-cms.nasa.gov/wp-content/uploads/2023/03/observingsunposter-jpg.webp?w=2048&amp;format=png 2048w, https://smd-cms.nasa.gov/wp-content/uploads/2023/03/observingsunposter-jpg.webp?w=2560&amp;format=png 2560w, https://smd-cms.nasa.gov/wp-content/uploads/2023/03/observingsunposter-jpg.webp?w=3072&amp;format=png 3072w, https://smd-cms.nasa.gov/wp-content/uploads/2023/03/observingsunposter-jpg.webp?w=4096&amp;format=png 4096w\"></picture></figure></div><!--]--></a><!--]--><!----></div><div class=\"swiper-slide topic-card-slide mobile:grid-col-12 tablet:grid-col-6 desktop:grid-col-3 topic-card margin-bottom-4 desktop:margin-bottom-0\"><!--[--><a href=\"/juno/\" class=\"link-external-false\"><!--[--><div class=\"hds-topic-card hds-cover-wrapper cover-hover-zoom bg-carbon-black\"><div class=\"skrim-overlay skrim-overlay-dark skrim-left mobile-skrim-top padding-3 display-flex flex-align-end flex-justify-start z-200\"><div><p class=\"hds-topic-card-heading heading-29 color-spacesuit-white line-height-sm margin-top-0 margin-bottom-1\"><span>Juno</span><svg viewBox=\"0 0 32 32\" fill=\"none\" xmlns=\"http://www.w3.org/2000/svg\"><circle class=\"color-nasa-red\" cx=\"16\" cy=\"16\" r=\"16\"></circle><path d=\"M8 16.956h12.604l-3.844 4.106 1.252 1.338L24 16l-5.988-6.4-1.252 1.338 3.844 4.106H8v1.912z\" class=\"color-spacesuit-white\"></path></svg></p></div></div><figure class=\"hds-media-background\"><picture class=\"BaseMedia width-full\"><source type=\"image/webp\" sizes=\"(max-width: 640px) 320px, (max-width: 768px) 640px, (max-width: 1024px) 768px, (max-width: 1280px) 1024px, (max-width: 1536px) 1280px, 2048px\" srcset=\"https://smd-cms.nasa.gov/wp-content/uploads/2023/03/jpegpia21771.width-1600-jpg.webp?w=320&amp;format=webp 320w, https://smd-cms.nasa.gov/wp-content/uploads/2023/03/jpegpia21771.width-1600-jpg.webp?w=640&amp;format=webp 640w, https://smd-cms.nasa.gov/wp-content/uploads/2023/03/jpegpia21771.width-1600-jpg.webp?w=768&amp;format=webp 768w, https://smd-cms.nasa.gov/wp-content/uploads/2023/03/jpegpia21771.width-1600-jpg.webp?w=1024&amp;format=webp 1024w, https://smd-cms.nasa.gov/wp-content/uploads/2023/03/jpegpia21771.width-1600-jpg.webp?w=1280&amp;format=webp 1280w, https://smd-cms.nasa.gov/wp-content/uploads/2023/03/jpegpia21771.width-1600-jpg.webp?w=1536&amp;format=webp 1536w, https://smd-cms.nasa.gov/wp-content/uploads/2023/03/jpegpia21771.width-1600-jpg.webp?w=2048&amp;format=webp 2048w, https://smd-cms.nasa.gov/wp-content/uploads/2023/03/jpegpia21771.width-1600-jpg.webp?w=2560&amp;format=webp 2560w, https://smd-cms.nasa.gov/wp-content/uploads/2023/03/jpegpia21771.width-1600-jpg.webp?w=3072&amp;format=webp 3072w, https://smd-cms.nasa.gov/wp-content/uploads/2023/03/jpegpia21771.width-1600-jpg.webp?w=4096&amp;format=webp 4096w\"><img width=\"640\" height=\"828\" alt loading=\"lazy\" decoding=\"async\" onerror=\"this.setAttribute(&#39;data-error&#39;, 1)\" style=\"transform:scale(1);transform-origin:50% 50%;object-position:50% 50%;object-fit:cover;\" class=\"width-full\" data-nuxt-pic src=\"https://smd-cms.nasa.gov/wp-content/uploads/2023/03/jpegpia21771.width-1600-jpg.webp?w=4096&amp;format=png\" sizes=\"(max-width: 640px) 320px, (max-width: 768px) 640px, (max-width: 1024px) 768px, (max-width: 1280px) 1024px, (max-width: 1536px) 1280px, 2048px\" srcset=\"https://smd-cms.nasa.gov/wp-content/uploads/2023/03/jpegpia21771.width-1600-jpg.webp?w=320&amp;format=png 320w, https://smd-cms.nasa.gov/wp-content/uploads/2023/03/jpegpia21771.width-1600-jpg.webp?w=640&amp;format=png 640w, https://smd-cms.nasa.gov/wp-content/uploads/2023/03/jpegpia21771.width-1600-jpg.webp?w=768&amp;format=png 768w, https://smd-cms.nasa.gov/wp-content/uploads/2023/03/jpegpia21771.width-1600-jpg.webp?w=1024&amp;format=png 1024w, https://smd-cms.nasa.gov/wp-content/uploads/2023/03/jpegpia21771.width-1600-jpg.webp?w=1280&amp;format=png 1280w, https://smd-cms.nasa.gov/wp-content/uploads/2023/03/jpegpia21771.width-1600-jpg.webp?w=1536&amp;format=png 1536w, https://smd-cms.nasa.gov/wp-content/uploads/2023/03/jpegpia21771.width-1600-jpg.webp?w=2048&amp;format=png 2048w, https://smd-cms.nasa.gov/wp-content/uploads/2023/03/jpegpia21771.width-1600-jpg.webp?w=2560&amp;format=png 2560w, https://smd-cms.nasa.gov/wp-content/uploads/2023/03/jpegpia21771.width-1600-jpg.webp?w=3072&amp;format=png 3072w, https://smd-cms.nasa.gov/wp-content/uploads/2023/03/jpegpia21771.width-1600-jpg.webp?w=4096&amp;format=png 4096w\"></picture></figure></div><!--]--></a><!--]--><!----></div><!--]--><!--[--><!--]--></div><!----><!----><!----><!--[--><!--]--></div></div><!--]--></div><!--]--><!--]--></div><!--]--><!--]--></div></div><!--]--><!--]--></main><!--]--></div><div class=\"NasaFooter\" data-v-13800a90><footer class=\"usa-footer bg-carbon-black-important padding-x-3 padding-y-7\" data-v-13800a90><div class=\"grid-container maxw-widescreen usa-footer__return-to-top display-none\" data-v-13800a90><a href=\"#top\" data-v-13800a90>Return to top</a></div><div class=\"usa-footer__primary-section bg-carbon-black-important\" data-v-13800a90><div class=\"grid-container grid-container-widescreen padding-x-0\" data-v-13800a90><img fetchpriority=\"low\" width=\"63.99\" height=\"53.94\" class=\"width-8 margin-bottom-2\" alt=\"NASA Logo\" src=\"/_nuxt/nasa-logo_2x.f3de7b1f.png\" srcset=\"/_nuxt/nasa-logo.e03e4551.svg\" data-v-13800a90></div><div class=\"grid-container grid-container-widescreen\" data-v-13800a90><div class=\"grid-row\" data-v-13800a90><div class=\"grid-col-12 tablet:grid-col-6 desktop:grid-col-4 padding-right-0 tablet:padding-right-2 margin-bottom-5 desktop:margin-bottom-0 color-spacesuit-white\" data-v-13800a90><div class=\"hds-footer-details\" data-v-13800a90><h3 class=\"heading-22 line-height-md\" data-v-13800a90>The National Aeronautics and Space Administration</h3><p class=\"p-sm color-carbon-30\" data-v-13800a90>NASA explores the unknown in air and space, innovates for the benefit of humanity, and inspires the world through discovery.</p><ul class=\"hds-footer-menu usa-unstyled-list\" data-v-13800a90><li data-v-13800a90><a href=\"https://www.nasa.gov/about/\" data-v-13800a90><span data-v-13800a90>About NASA&#39;s Mission</span></a></li></ul><a href=\"https://www.nasa.gov/get-involved/\" rel=\"noopener noreferrer\" target=\"_self\" class=\"link-external-false BaseButton button-primary link-external-0 button-primary-sm color-spacesuit-white-important\" aria-label=\"get involved with NASA\" data-v-13800a90><!--[--><span class=\"line-height-alt-1\" style=\"white-space:pre-wrap;min-width:1px;\"><!--[--><span data-v-13800a90>Join Us</span><!--]--></span><svg viewBox=\"0 0 32 32\" fill=\"none\" xmlns=\"http://www.w3.org/2000/svg\"><circle class=\"button-primary-circle\" cx=\"16\" cy=\"16\" r=\"16\"></circle><path d=\"M8 16.956h12.604l-3.844 4.106 1.252 1.338L24 16l-5.988-6.4-1.252 1.338 3.844 4.106H8v1.912z\" class=\"color-spacesuit-white\"></path></svg><!--]--></a></div></div><div class=\"grid-col-12 tablet:grid-col-6 desktop:grid-col-6 margin-bottom-5 desktop:margin-bottom-0 padding-0\" data-v-13800a90><div class=\"desktop:padding-left-5 desktop:padding-right-5 grid-row color-spacesuit-white\" data-v-13800a90><div class=\"grid-col\" data-v-13800a90><ul class=\"hds-footer-menu hds-menu-col-3 usa-unstyled-list\" data-v-13800a90><!--[--><li data-v-13800a90><a href=\"https://www.nasa.gov/\" class=\"display-flex desktop:flex-row flex-align-center\" data-v-13800a90><span data-v-13800a90>Home</span></a></li><li data-v-13800a90><a href=\"https://www.nasa.gov/news/\" class=\"display-flex desktop:flex-row flex-align-center\" data-v-13800a90><span data-v-13800a90>News &amp; Events</span></a></li><li data-v-13800a90><a href=\"https://www.nasa.gov/multimedia/\" class=\"display-flex desktop:flex-row flex-align-center\" data-v-13800a90><span data-v-13800a90>Multimedia</span></a></li><li data-v-13800a90><a href=\"https://plus.nasa.gov/\" class=\"usa-nav__link-nasa-live display-flex desktop:flex-row flex-align-center\" data-v-13800a90><span data-v-13800a90>NASA+</span></a></li><li data-v-13800a90><a href=\"https://www.nasa.gov/nasa-missions/\" class=\"display-flex desktop:flex-row flex-align-center\" data-v-13800a90><span data-v-13800a90>Missions</span></a></li><li data-v-13800a90><a href=\"https://www.nasa.gov/humans-in-space/\" class=\"display-flex desktop:flex-row flex-align-center\" data-v-13800a90><span data-v-13800a90>Humans in Space</span></a></li><li data-v-13800a90><a href=\"https://science.nasa.gov/earth/\" class=\"display-flex desktop:flex-row flex-align-center\" data-v-13800a90><span data-v-13800a90>Earth &amp; Climate</span></a></li><li data-v-13800a90><a href=\"https://science.nasa.gov/solar-system/\" class=\"display-flex desktop:flex-row flex-align-center\" data-v-13800a90><span data-v-13800a90>The Solar System</span></a></li><li data-v-13800a90><a href=\"https://science.nasa.gov/universe/\" class=\"display-flex desktop:flex-row flex-align-center\" data-v-13800a90><span data-v-13800a90>The Universe</span></a></li><li data-v-13800a90><a href=\"https://science.nasa.gov/\" class=\"display-flex desktop:flex-row flex-align-center\" data-v-13800a90><span data-v-13800a90>Science</span></a></li><li data-v-13800a90><a href=\"https://www.nasa.gov/aeronautics/\" class=\"display-flex desktop:flex-row flex-align-center\" data-v-13800a90><span data-v-13800a90>Aeronautics</span></a></li><li data-v-13800a90><a href=\"https://www.nasa.gov/technology/\" class=\"display-flex desktop:flex-row flex-align-center\" data-v-13800a90><span data-v-13800a90>Technology</span></a></li><li data-v-13800a90><a href=\"https://www.nasa.gov/learning-resources/\" class=\"display-flex desktop:flex-row flex-align-center\" data-v-13800a90><span data-v-13800a90>Learning Resources</span></a></li><li data-v-13800a90><a href=\"https://www.nasa.gov/about/\" class=\"display-flex desktop:flex-row flex-align-center\" data-v-13800a90><span data-v-13800a90>About NASA</span></a></li><li data-v-13800a90><a href=\"https://www.nasa.gov/es/\" class=\"display-flex desktop:flex-row flex-align-center\" data-v-13800a90><span data-v-13800a90>NASA en Español</span></a></li><!--]--></ul></div></div></div><div class=\"grid-col-12 tablet:grid-col-4 desktop:grid-col-2 color-spacesuit-white margin-bottom-5 tablet:margin-bottom-0 padding-right-5 desktop:padding-right-0\" data-v-13800a90><div class=\"width-fit-content margin-left-0 desktop:margin-left-auto\" data-v-13800a90><div class=\"hds-footer-socials margin-bottom-2\" data-v-13800a90><h3 class=\"heading-16 color-carbon-40 margin-bottom-2\" data-v-13800a90>Follow NASA</h3><ul class=\"social-icons margin-bottom-3\" data-v-13800a90><!--[--><li data-v-13800a90><a href=\"https://www.facebook.com/NASA\" aria-label=\"NASA on Facebook\" target=\"_blank\" data-v-13800a90><svg xmlns=\"http://www.w3.org/2000/svg\" xmlns:xlink=\"http://www.w3.org/1999/xlink\" aria-hidden=\"true\" role=\"img\" class=\"icon\" data-v-13800a90 style=\"\" width=\"1em\" height=\"1em\" viewBox=\"0 0 24 24\" data-v-1d22e42f><path fill=\"currentColor\" d=\"M15.12 5.32H17V2.14A26.11 26.11 0 0 0 14.26 2c-2.72 0-4.58 1.66-4.58 4.7v2.62H6.61v3.56h3.07V22h3.68v-9.12h3.06l.46-3.56h-3.52V7.05c0-1.05.28-1.73 1.76-1.73\"/></svg></a></li><li data-v-13800a90><a href=\"https://www.instagram.com/nasa/\" aria-label=\"NASA on Instagram\" target=\"_blank\" data-v-13800a90><svg xmlns=\"http://www.w3.org/2000/svg\" xmlns:xlink=\"http://www.w3.org/1999/xlink\" aria-hidden=\"true\" role=\"img\" class=\"icon\" data-v-13800a90 style=\"\" width=\"1em\" height=\"1em\" viewBox=\"0 0 448 512\" data-v-1d22e42f><path fill=\"currentColor\" d=\"M224.1 141c-63.6 0-114.9 51.3-114.9 114.9s51.3 114.9 114.9 114.9S339 319.5 339 255.9S287.7 141 224.1 141m0 189.6c-41.1 0-74.7-33.5-74.7-74.7s33.5-74.7 74.7-74.7s74.7 33.5 74.7 74.7s-33.6 74.7-74.7 74.7m146.4-194.3c0 14.9-12 26.8-26.8 26.8c-14.9 0-26.8-12-26.8-26.8s12-26.8 26.8-26.8s26.8 12 26.8 26.8m76.1 27.2c-1.7-35.9-9.9-67.7-36.2-93.9c-26.2-26.2-58-34.4-93.9-36.2c-37-2.1-147.9-2.1-184.9 0c-35.8 1.7-67.6 9.9-93.9 36.1s-34.4 58-36.2 93.9c-2.1 37-2.1 147.9 0 184.9c1.7 35.9 9.9 67.7 36.2 93.9s58 34.4 93.9 36.2c37 2.1 147.9 2.1 184.9 0c35.9-1.7 67.7-9.9 93.9-36.2c26.2-26.2 34.4-58 36.2-93.9c2.1-37 2.1-147.8 0-184.8M398.8 388c-7.8 19.6-22.9 34.7-42.6 42.6c-29.5 11.7-99.5 9-132.1 9s-102.7 2.6-132.1-9c-19.6-7.8-34.7-22.9-42.6-42.6c-11.7-29.5-9-99.5-9-132.1s-2.6-102.7 9-132.1c7.8-19.6 22.9-34.7 42.6-42.6c29.5-11.7 99.5-9 132.1-9s102.7-2.6 132.1 9c19.6 7.8 34.7 22.9 42.6 42.6c11.7 29.5 9 99.5 9 132.1s2.7 102.7-9 132.1\"/></svg></a></li><li data-v-13800a90><a href=\"https://x.com/NASA\" aria-label=\"NASA on X\" target=\"_blank\" data-v-13800a90><svg xmlns=\"http://www.w3.org/2000/svg\" xmlns:xlink=\"http://www.w3.org/1999/xlink\" aria-hidden=\"true\" role=\"img\" class=\"icon\" data-v-13800a90 style=\"\" width=\"1em\" height=\"1em\" viewBox=\"0 0 512 512\" data-v-1d22e42f><path fill=\"currentColor\" d=\"M389.2 48h70.6L305.6 224.2L487 464H345L233.7 318.6L106.5 464H35.8l164.9-188.5L26.8 48h145.6l100.5 132.9zm-24.8 373.8h39.1L151.1 88h-42z\"/></svg></a></li><li data-v-13800a90><a href=\"https://www.youtube.com/@NASA\" aria-label=\"NASA on YouTube\" target=\"_blank\" data-v-13800a90><svg xmlns=\"http://www.w3.org/2000/svg\" xmlns:xlink=\"http://www.w3.org/1999/xlink\" aria-hidden=\"true\" role=\"img\" class=\"icon\" data-v-13800a90 style=\"\" width=\"1em\" height=\"1em\" viewBox=\"0 0 24 24\" data-v-1d22e42f><path fill=\"currentColor\" d=\"M21.593 7.203a2.506 2.506 0 0 0-1.762-1.766C18.265 5.007 12 5 12 5s-6.264-.007-7.831.404a2.56 2.56 0 0 0-1.766 1.778c-.413 1.566-.417 4.814-.417 4.814s-.004 3.264.406 4.814c.23.857.905 1.534 1.763 1.765c1.582.43 7.83.437 7.83.437s6.265.007 7.831-.403a2.515 2.515 0 0 0 1.767-1.763c.414-1.565.417-4.812.417-4.812s.02-3.265-.407-4.831M9.996 15.005l.005-6l5.207 3.005z\"/></svg></a></li><!--]--></ul></div><ul class=\"hds-footer-menu usa-unstyled-list\" data-v-13800a90><li data-v-13800a90><a href=\"https://www.nasa.gov/socialmedia/\" data-v-13800a90><span data-v-13800a90>More NASA Social Accounts</span></a></li><li data-v-13800a90><a href=\"https://www.nasa.gov/nasa-newsletters/\" data-v-13800a90><span data-v-13800a90>NASA Newsletters</span></a></li></ul></div></div><div class=\"grid-col-12 tablet:grid-col-8 desktop:grid-col-12 margin-bottom-2 padding-top-3 border-top-1px hds-footer-secondary\" data-v-13800a90><ul class=\"color-carbon-30-important hds-footer-menu hds-footer-menu-horizontal usa-unstyled-list\" data-v-13800a90><!--[--><li data-v-13800a90><a href=\"https://www.nasa.gov/sitemap/\" title=\"Sitemap\" target=\"_self\" data-v-13800a90><span data-v-13800a90>Sitemap</span></a></li><li data-v-13800a90><a href=\"https://www.nasa.gov/news/nasa-media-contacts/\" title=\"For Media\" target=\"_self\" data-v-13800a90><span data-v-13800a90>For Media</span></a></li><li data-v-13800a90><a href=\"https://www.nasa.gov/nasa-web-privacy-policy-and-important-notices/\" title=\"Privacy Policy\" target=\"_self\" data-v-13800a90><span data-v-13800a90>Privacy Policy</span></a></li><li data-v-13800a90><a href=\"https://www.nasa.gov/foia/\" title=\"FOIA\" target=\"_self\" data-v-13800a90><span data-v-13800a90>FOIA</span></a></li><li data-v-13800a90><a href=\"https://www.nasa.gov/no-fear-act/\" title=\"No FEAR Act\" target=\"_self\" data-v-13800a90><span data-v-13800a90>No FEAR Act</span></a></li><li data-v-13800a90><a href=\"http://oig.nasa.gov/\" title=\"Office of the IG\" target=\"_self\" data-v-13800a90><span data-v-13800a90>Office of the IG</span></a></li><li data-v-13800a90><a href=\"https://www.nasa.gov/budgets-plans-and-reports/\" title=\"Budget &amp; Annual Reports\" target=\"_self\" data-v-13800a90><span data-v-13800a90>Budget &amp; Annual Reports</span></a></li><li data-v-13800a90><a href=\"https://www.nasa.gov/organizations/budget-annual-reports/agency-financial-reports/\" title=\"Agency Financial Reports\" target=\"_self\" data-v-13800a90><span data-v-13800a90>Agency Financial Reports</span></a></li><li data-v-13800a90><a href=\"https://www.nasa.gov/contact-nasa/\" title=\"Contact NASA\" target=\"_self\" data-v-13800a90><span data-v-13800a90>Contact NASA</span></a></li><li data-v-13800a90><a href=\"https://nasa.gov/accessibility/\" title=\"Accessibility\" target=\"_self\" data-v-13800a90><span data-v-13800a90>Accessibility</span></a></li><!--]--></ul></div><div class=\"margin-top-4 desktop:margin-top-0 grid-col-12\" data-v-13800a90><ul class=\"color-carbon-40-important hds-footer-menu hds-footer-menu-horizontal hds-menu-meta usa-unstyled-list\" data-v-13800a90><!----><li class=\"hds-footer-meta\" data-v-13800a90><div class=\"hds-footer-meta-label\" data-v-13800a90>Page Editor:</div><div class=\"hds-footer-meta-value\" data-v-13800a90>SMD Content Editors</div></li><li class=\"hds-footer-meta\" data-v-13800a90><div class=\"hds-footer-meta-label\" data-v-13800a90>Responsible NASA Official for Science:</div><div class=\"hds-footer-meta-value\" data-v-13800a90>Dana Bolles</div></li></ul></div></div></div></div></footer></div></div></div><script type=\"application/json\" id=\"__NUXT_DATA__\" data-ssr=\"true\">[[\"Reactive\",1],{\"data\":2,\"state\":1095,\"_errors\":1109,\"serverRendered\":792,\"path\":6,\"pinia\":1110},{\"PHxUCVAZZu\":3,\"vYxw5jQk79\":36,\"_apollo:default\":37},{\"middlewareEntry\":4},{\"__typename\":5,\"uri\":6,\"redirect\":7,\"globalSecondaryNavigation\":16,\"node\":17},\"MiddlewareEntry\",\"/astrophysics/focus-areas/black-holes/\",{\"__typename\":8,\"code\":9,\"groupId\":10,\"groupName\":11,\"matchType\":12,\"origin\":13,\"target\":14,\"type\":15},\"RedirectionRedirect\",301,-1,\"Migration Source URL\",\"migration_source_url\",\"https://science.nasa.gov/astrophysics/focus-areas/black-holes\",\"https://science.nasa.gov/astrophysics/focus-areas/black-holes/\",\"url\",\"\",{\"__typename\":18,\"postClass\":19,\"postCategories\":20,\"date\":21,\"seo\":22},\"Topic\",\"[\\\\\"19690\\\\\",\\\\\"post-19690\\\\\",\\\\\"topic\\\\\",\\\\\"type-topic\\\\\",\\\\\"status-publish\\\\\",\\\\\"has-post-thumbnail\\\\\",\\\\\"hentry\\\\\",\\\\\"category-astrophysics\\\\\"]\",\"[\\\\\"Astrophysics\\\\\"]\",\"2007-06-10T16:05:00\",{\"__typename\":23,\"title\":24,\"metaDesc\":16,\"canonical\":14,\"opengraphType\":25,\"opengraphTitle\":24,\"opengraphDescription\":26,\"opengraphImage\":27},\"PostTypeSEO\",\"Black Holes - NASA Science\",\"article\",\"Don’t let the name fool you: a black hole is anything but empty space. Rather, it is a great amount of matter packed into a very small area – think of a star ten times more massive than the Sun squeezed into a sphere approximately the diameter of New York City. The result is a […]\",{\"__typename\":28,\"altText\":29,\"mediaItemUrl\":30,\"mediaType\":31,\"mediaDetails\":32},\"MediaItem\",\"Observed Mass Ranges of Compact Objects\",\"https://smd-cms.nasa.gov/wp-content/uploads/2023/04/pia18842-harrison-2-1-jpg.webp\",\"image\",{\"__typename\":33,\"width\":34,\"height\":35},\"MediaDetails\",4000,2250,false,{\"RedirectionRedirect:{\\\\\"origin\\\\\":\\\\\"https://science.nasa.gov/astrophysics/focus-areas/black-holes\\\\\"}\":38,\"MiddlewareEntry:{\\\\\"uri\\\\\":\\\\\"/astrophysics/focus-areas/black-holes/\\\\\"}\":39,\"ROOT_QUERY\":46,\"Menu:dGVybTozODU2\":768,\"Menu:dGVybTozODU4\":770,\"Menu:dGVybTozODU1\":772,\"Menu:dGVybTo0NDM3\":774,\"Menu:dGVybTozODU0\":776,\"Menu:dGVybTozODU3\":778,\"Menu:dGVybTozODUw\":780,\"Menu:dGVybTo0OTA1\":782,\"Menu:dGVybTozODU5\":784,\"Menu:dGVybTozODYx\":786,\"Menu:dGVybTozODYw\":788,\"Topic:cG9zdDoxOTY5MA==\":790},[\"null\",\"__typename\",8,\"code\",9,\"groupId\",10,\"groupName\",11,\"matchType\",12,\"origin\",13,\"target\",14,\"type\",15],[\"null\",\"__typename\",5,\"uri\",6,\"redirectByUri({\\\\\"uri\\\\\":\\\\\"/astrophysics/focus-areas/black-holes/\\\\\"})\",40,\"globalSecondaryNavigation\",16,\"node({\\\\\"uri\\\\\":\\\\\"/astrophysics/focus-areas/black-holes/\\\\\"})\",42],{\"__ref\":41},\"RedirectionRedirect:{\\\\\"origin\\\\\":\\\\\"https://science.nasa.gov/astrophysics/focus-areas/black-holes\\\\\"}\",[\"null\",\"__typename\",18,\"postClass\",19,\"postCategories\",20,\"date\",21,\"seo\",43],[\"null\",\"__typename\",23,\"title\",24,\"metaDesc\",16,\"canonical\",14,\"opengraphType\",25,\"opengraphTitle\",24,\"opengraphDescription\",26,\"opengraphImage\",44],[\"null\",\"__typename\",28,\"altText\",29,\"mediaItemUrl\",30,\"mediaType\",31,\"mediaDetails\",45],[\"null\",\"__typename\",33,\"width\",34,\"height\",35],[\"null\",\"__typename\",47,\"middlewareEntry({\\\\\"uri\\\\\":\\\\\"/astrophysics/focus-areas/black-holes/\\\\\"})\",48,\"menus({\\\\\"first\\\\\":20})\",50,\"nodeByUri({\\\\\"uri\\\\\":\\\\\"/astrophysics/focus-areas/black-holes/\\\\\"})\",766],\"Query\",{\"__ref\":49},\"MiddlewareEntry:{\\\\\"uri\\\\\":\\\\\"/astrophysics/focus-areas/black-holes/\\\\\"}\",[\"null\",\"__typename\",51,\"nodes\",52],\"RootQueryToMenuConnection\",[53,143,194,252,291,336,394,464,539,590,708],[\"null\",\"__typename\",54,\"locations\",55,\"databaseId\",57,\"name\",58,\"slug\",59,\"count\",60,\"menuItems({\\\\\"first\\\\\":20})\",61],\"Menu\",[56],\"GLOBAL_NAV_ABOUT_NASA\",3856,\"About NASA\",\"about-nasa\",11,[\"null\",\"__typename\",62,\"nodes\",63],\"MenuToMenuItemConnection\",[64,74,81,88,95,102,109,116,123,130,137],[\"null\",\"__typename\",65,\"order\",66,\"databaseId\",67,\"label\",68,\"url\",69,\"uri\",69,\"menu\",70],\"MenuItem\",1,52224,\"NASA\\'s Impacts\",\"https://www.nasa.gov/nasa-impacts/\",[\"null\",\"__typename\",71,\"node\",72],\"MenuItemToMenuConnectionEdge\",{\"__ref\":73},\"Menu:dGVybTozODU2\",[\"null\",\"__typename\",65,\"order\",75,\"databaseId\",76,\"label\",77,\"url\",78,\"uri\",78,\"menu\",79],2,52225,\"Centers and Facilities\",\"https://www.nasa.gov/nasa-centers-and-facilities/\",[\"null\",\"__typename\",71,\"node\",80],{\"__ref\":73},[\"null\",\"__typename\",65,\"order\",82,\"databaseId\",83,\"label\",84,\"url\",85,\"uri\",85,\"menu\",86],3,52226,\"Directorates\",\"https://www.nasa.gov/nasa-directorates/\",[\"null\",\"__typename\",71,\"node\",87],{\"__ref\":73},[\"null\",\"__typename\",65,\"order\",89,\"databaseId\",90,\"label\",91,\"url\",92,\"uri\",92,\"menu\",93],4,52227,\"Organizations\",\"https://www.nasa.gov/nasa-organization/\",[\"null\",\"__typename\",71,\"node\",94],{\"__ref\":73},[\"null\",\"__typename\",65,\"order\",96,\"databaseId\",97,\"label\",98,\"url\",99,\"uri\",99,\"menu\",100],5,52228,\"People of NASA\",\"https://www.nasa.gov/people-of-nasa/\",[\"null\",\"__typename\",71,\"node\",101],{\"__ref\":73},[\"null\",\"__typename\",65,\"order\",103,\"databaseId\",104,\"label\",105,\"url\",106,\"uri\",106,\"menu\",107],6,52229,\"Careers\",\"https://www.nasa.gov/careers/\",[\"null\",\"__typename\",71,\"node\",108],{\"__ref\":73},[\"null\",\"__typename\",65,\"order\",110,\"databaseId\",111,\"label\",112,\"url\",113,\"uri\",113,\"menu\",114],7,52230,\"Internships\",\"https://www.nasa.gov/learning-resources/nasa-internship-programs/\",[\"null\",\"__typename\",71,\"node\",115],{\"__ref\":73},[\"null\",\"__typename\",65,\"order\",117,\"databaseId\",118,\"label\",119,\"url\",120,\"uri\",120,\"menu\",121],8,52231,\"Our History\",\"https://www.nasa.gov/history/\",[\"null\",\"__typename\",71,\"node\",122],{\"__ref\":73},[\"null\",\"__typename\",65,\"order\",124,\"databaseId\",125,\"label\",126,\"url\",127,\"uri\",127,\"menu\",128],9,114913,\"Doing Business with NASA\",\"https://www.nasa.gov/doing-business-with-nasa/\",[\"null\",\"__typename\",71,\"node\",129],{\"__ref\":73},[\"null\",\"__typename\",65,\"order\",131,\"databaseId\",132,\"label\",133,\"url\",134,\"uri\",134,\"menu\",135],10,52232,\"Get Involved\",\"https://www.nasa.gov/get-involved/\",[\"null\",\"__typename\",71,\"node\",136],{\"__ref\":73},[\"null\",\"__typename\",65,\"order\",60,\"databaseId\",138,\"label\",139,\"url\",140,\"uri\",140,\"menu\",141],52233,\"Contact\",\"https://www.nasa.gov/contact-nasa/\",[\"null\",\"__typename\",71,\"node\",142],{\"__ref\":73},[\"null\",\"__typename\",54,\"locations\",144,\"databaseId\",146,\"name\",147,\"slug\",148,\"count\",110,\"menuItems({\\\\\"first\\\\\":20})\",149],[145],\"GLOBAL_NAV_AERONAUTICS\",3858,\"Aeronautics\",\"aeronautics\",[\"null\",\"__typename\",62,\"nodes\",150],[151,158,164,170,176,182,188],[\"null\",\"__typename\",65,\"order\",66,\"databaseId\",152,\"label\",153,\"url\",154,\"uri\",154,\"menu\",155],52249,\"Science in the Air\",\"https://www.nasa.gov/aeronautics/science-in-the-air/\",[\"null\",\"__typename\",71,\"node\",156],{\"__ref\":157},\"Menu:dGVybTozODU4\",[\"null\",\"__typename\",65,\"order\",75,\"databaseId\",159,\"label\",160,\"url\",161,\"uri\",161,\"menu\",162],52250,\"NASA Aircraft\",\"https://www.nasa.gov/aeronautics/aircraft/\",[\"null\",\"__typename\",71,\"node\",163],{\"__ref\":157},[\"null\",\"__typename\",65,\"order\",82,\"databaseId\",165,\"label\",166,\"url\",167,\"uri\",167,\"menu\",168],52251,\"Flight Innovation\",\"https://www.nasa.gov/aeronautics/flight-innovation/\",[\"null\",\"__typename\",71,\"node\",169],{\"__ref\":157},[\"null\",\"__typename\",65,\"order\",89,\"databaseId\",171,\"label\",172,\"url\",173,\"uri\",173,\"menu\",174],52252,\"Supersonic Flight\",\"https://www.nasa.gov/aeronautics/supersonic-flight/\",[\"null\",\"__typename\",71,\"node\",175],{\"__ref\":157},[\"null\",\"__typename\",65,\"order\",96,\"databaseId\",177,\"label\",178,\"url\",179,\"uri\",179,\"menu\",180],52253,\"Air Traffic Solutions\",\"https://www.nasa.gov/aeronautics/air-traffic-solutions/\",[\"null\",\"__typename\",71,\"node\",181],{\"__ref\":157},[\"null\",\"__typename\",65,\"order\",103,\"databaseId\",183,\"label\",184,\"url\",185,\"uri\",185,\"menu\",186],52254,\"Green Aviation Tech\",\"https://www.nasa.gov/aeronautics/green-aero-tech/\",[\"null\",\"__typename\",71,\"node\",187],{\"__ref\":157},[\"null\",\"__typename\",65,\"order\",110,\"databaseId\",189,\"label\",190,\"url\",191,\"uri\",191,\"menu\",192],52255,\"Drones & You\",\"https://www.nasa.gov/aeronautics/drones-and-you/\",[\"null\",\"__typename\",71,\"node\",193],{\"__ref\":157},[\"null\",\"__typename\",54,\"locations\",195,\"databaseId\",197,\"name\",198,\"slug\",199,\"count\",110,\"menuItems({\\\\\"first\\\\\":20})\",200],[196],\"GLOBAL_NAV_EARTH_CLIMATE\",3855,\"Earth &amp; Climate\",\"earth-climate\",[\"null\",\"__typename\",62,\"nodes\",201],[202,210,217,224,231,238,245],[\"null\",\"__typename\",65,\"order\",66,\"databaseId\",203,\"label\",204,\"url\",205,\"uri\",206,\"menu\",207],114924,\"Explore Earth Science\",\"https://science.nasa.gov/earth/explore/\",\"/earth/explore/\",[\"null\",\"__typename\",71,\"node\",208],{\"__ref\":209},\"Menu:dGVybTozODU1\",[\"null\",\"__typename\",65,\"order\",75,\"databaseId\",211,\"label\",212,\"url\",213,\"uri\",214,\"menu\",215],114925,\"Climate Change\",\"https://science.nasa.gov/climate-change/\",\"/climate-change/\",[\"null\",\"__typename\",71,\"node\",216],{\"__ref\":209},[\"null\",\"__typename\",65,\"order\",82,\"databaseId\",218,\"label\",219,\"url\",220,\"uri\",221,\"menu\",222],114938,\"Earth, Our Planet\",\"https://science.nasa.gov/earth/facts/\",\"/earth/facts/\",[\"null\",\"__typename\",71,\"node\",223],{\"__ref\":209},[\"null\",\"__typename\",65,\"order\",89,\"databaseId\",225,\"label\",226,\"url\",227,\"uri\",228,\"menu\",229],114940,\"Earth Science in Action\",\"https://science.nasa.gov/earth/in-action/\",\"/earth/in-action/\",[\"null\",\"__typename\",71,\"node\",230],{\"__ref\":209},[\"null\",\"__typename\",65,\"order\",96,\"databaseId\",232,\"label\",233,\"url\",234,\"uri\",235,\"menu\",236],114999,\"Earth Multimedia\",\"https://science.nasa.gov/earth/multimedia/\",\"/earth/multimedia/\",[\"null\",\"__typename\",71,\"node\",237],{\"__ref\":209},[\"null\",\"__typename\",65,\"order\",103,\"databaseId\",239,\"label\",240,\"url\",241,\"uri\",242,\"menu\",243],115011,\"Earth Data\",\"https://science.nasa.gov/earth/data/\",\"/earth/data/\",[\"null\",\"__typename\",71,\"node\",244],{\"__ref\":209},[\"null\",\"__typename\",65,\"order\",110,\"databaseId\",246,\"label\",247,\"url\",248,\"uri\",249,\"menu\",250],115015,\"Earth Science Researchers\",\"https://science.nasa.gov/earth-science/\",\"/earth-science/\",[\"null\",\"__typename\",71,\"node\",251],{\"__ref\":209},[\"null\",\"__typename\",54,\"locations\",253,\"databaseId\",255,\"name\",256,\"slug\",257,\"count\",96,\"menuItems({\\\\\"first\\\\\":20})\",258],[254],\"GLOBAL_NAV_ESPANOL\",4437,\"Español\",\"espanol\",[\"null\",\"__typename\",62,\"nodes\",259],[260,267,273,279,285],[\"null\",\"__typename\",65,\"order\",66,\"databaseId\",261,\"label\",262,\"url\",263,\"uri\",263,\"menu\",264],112664,\"Ciencia\",\"https://ciencia.nasa.gov/\",[\"null\",\"__typename\",71,\"node\",265],{\"__ref\":266},\"Menu:dGVybTo0NDM3\",[\"null\",\"__typename\",65,\"order\",75,\"databaseId\",268,\"label\",269,\"url\",270,\"uri\",270,\"menu\",271],112675,\"Aeronáutica\",\"https://www.nasa.gov/espanol/aeronautica-en-espanol/\",[\"null\",\"__typename\",71,\"node\",272],{\"__ref\":266},[\"null\",\"__typename\",65,\"order\",82,\"databaseId\",274,\"label\",275,\"url\",276,\"uri\",276,\"menu\",277],112683,\"Ciencias Terrestres\",\"https://ciencia.nasa.gov/tierra\",[\"null\",\"__typename\",71,\"node\",278],{\"__ref\":266},[\"null\",\"__typename\",65,\"order\",89,\"databaseId\",280,\"label\",281,\"url\",282,\"uri\",282,\"menu\",283],112687,\"Sistema Solar\",\"https://ciencia.nasa.gov/sistema-solar\",[\"null\",\"__typename\",71,\"node\",284],{\"__ref\":266},[\"null\",\"__typename\",65,\"order\",96,\"databaseId\",286,\"label\",287,\"url\",288,\"uri\",288,\"menu\",289],112691,\"Universo\",\"https://ciencia.nasa.gov/universo\",[\"null\",\"__typename\",71,\"node\",290],{\"__ref\":266},[\"null\",\"__typename\",54,\"locations\",292,\"databaseId\",294,\"name\",295,\"slug\",296,\"count\",103,\"menuItems({\\\\\"first\\\\\":20})\",297],[293],\"GLOBAL_NAV_HUMANS_IN_SPACE\",3854,\"Humans in Space\",\"humans-in-space\",[\"null\",\"__typename\",62,\"nodes\",298],[299,306,312,318,324,330],[\"null\",\"__typename\",65,\"order\",66,\"databaseId\",300,\"label\",301,\"url\",302,\"uri\",302,\"menu\",303],52205,\"Why Go to Space\",\"https://www.nasa.gov/humans-in-space/why-go-to-space/\",[\"null\",\"__typename\",71,\"node\",304],{\"__ref\":305},\"Menu:dGVybTozODU0\",[\"null\",\"__typename\",65,\"order\",75,\"databaseId\",307,\"label\",308,\"url\",309,\"uri\",309,\"menu\",310],52206,\"Astronauts\",\"https://www.nasa.gov/humans-in-space/astronauts/\",[\"null\",\"__typename\",71,\"node\",311],{\"__ref\":305},[\"null\",\"__typename\",65,\"order\",82,\"databaseId\",313,\"label\",314,\"url\",315,\"uri\",315,\"menu\",316],52207,\"Commercial Space\",\"https://www.nasa.gov/humans-in-space/commercial-space/\",[\"null\",\"__typename\",71,\"node\",317],{\"__ref\":305},[\"null\",\"__typename\",65,\"order\",89,\"databaseId\",319,\"label\",320,\"url\",321,\"uri\",321,\"menu\",322],52208,\"Destinations\",\"https://www.nasa.gov/humans-in-space/destinations/\",[\"null\",\"__typename\",71,\"node\",323],{\"__ref\":305},[\"null\",\"__typename\",65,\"order\",96,\"databaseId\",325,\"label\",326,\"url\",327,\"uri\",327,\"menu\",328],52209,\"Spaceships and Rockets\",\"https://www.nasa.gov/humans-in-space/spaceships-and-rockets/\",[\"null\",\"__typename\",71,\"node\",329],{\"__ref\":305},[\"null\",\"__typename\",65,\"order\",103,\"databaseId\",331,\"label\",332,\"url\",333,\"uri\",333,\"menu\",334],52210,\"Living in Space\",\"https://www.nasa.gov/humans-in-space/living-in-space/\",[\"null\",\"__typename\",71,\"node\",335],{\"__ref\":305},[\"null\",\"__typename\",54,\"locations\",337,\"databaseId\",339,\"name\",340,\"slug\",341,\"count\",117,\"menuItems({\\\\\"first\\\\\":20})\",342],[338],\"GLOBAL_NAV_LEARNING_RESOURCES\",3857,\"Learning Resources\",\"learning-resources\",[\"null\",\"__typename\",62,\"nodes\",343],[344,351,357,363,369,376,382,388],[\"null\",\"__typename\",65,\"order\",66,\"databaseId\",345,\"label\",346,\"url\",347,\"uri\",347,\"menu\",348],52240,\"For Kids and Students\",\"https://www.nasa.gov/learning-resources/for-kids-and-students/\",[\"null\",\"__typename\",71,\"node\",349],{\"__ref\":350},\"Menu:dGVybTozODU3\",[\"null\",\"__typename\",65,\"order\",75,\"databaseId\",352,\"label\",353,\"url\",354,\"uri\",354,\"menu\",355],52241,\"For Educators\",\"https://www.nasa.gov/learning-resources/for-educators/\",[\"null\",\"__typename\",71,\"node\",356],{\"__ref\":350},[\"null\",\"__typename\",65,\"order\",82,\"databaseId\",358,\"label\",359,\"url\",360,\"uri\",360,\"menu\",361],52242,\"For Colleges and Universities\",\"https://www.nasa.gov/learning-resources/colleges-and-universities/\",[\"null\",\"__typename\",71,\"node\",362],{\"__ref\":350},[\"null\",\"__typename\",65,\"order\",89,\"databaseId\",364,\"label\",365,\"url\",366,\"uri\",366,\"menu\",367],52243,\"For Professionals\",\"https://www.nasa.gov/learning-resources/for-professionals/\",[\"null\",\"__typename\",71,\"node\",368],{\"__ref\":350},[\"null\",\"__typename\",65,\"order\",96,\"databaseId\",370,\"label\",371,\"url\",372,\"uri\",373,\"menu\",374],114336,\"Science for Everyone\",\"https://science.nasa.gov/for-everyone/\",\"/for-everyone/\",[\"null\",\"__typename\",71,\"node\",375],{\"__ref\":350},[\"null\",\"__typename\",65,\"order\",103,\"databaseId\",377,\"label\",378,\"url\",379,\"uri\",379,\"menu\",380],52245,\"Space Samples for Learning\",\"https://www.nasa.gov/learning-resources/requests-for-exhibits-artifacts-or-speakers/#classroom\",[\"null\",\"__typename\",71,\"node\",381],{\"__ref\":350},[\"null\",\"__typename\",65,\"order\",110,\"databaseId\",383,\"label\",384,\"url\",385,\"uri\",385,\"menu\",386],52246,\"Request an Exhibit or Speaker\",\"https://www.nasa.gov/learning-resources/requests-for-exhibits-artifacts-or-speakers/\",[\"null\",\"__typename\",71,\"node\",387],{\"__ref\":350},[\"null\",\"__typename\",65,\"order\",117,\"databaseId\",389,\"label\",390,\"url\",391,\"uri\",391,\"menu\",392],52247,\"STEM Engagement at NASA\",\"https://www.nasa.gov/learning-resources/stem-engagement-at-nasa/\",[\"null\",\"__typename\",71,\"node\",393],{\"__ref\":350},[\"null\",\"__typename\",54,\"locations\",395,\"databaseId\",397,\"name\",398,\"slug\",399,\"count\",131,\"menuItems({\\\\\"first\\\\\":20})\",400],[396],\"GLOBAL_NAV_MISSIONS\",3850,\"Missions\",\"missions\",[\"null\",\"__typename\",62,\"nodes\",401],[402,409,415,421,425,431,437,444,451,457],[\"null\",\"__typename\",65,\"order\",66,\"databaseId\",403,\"label\",404,\"url\",405,\"uri\",405,\"menu\",406],131284,\"Search All NASA Missions\",\"https://www.nasa.gov/missions/\",[\"null\",\"__typename\",71,\"node\",407],{\"__ref\":408},\"Menu:dGVybTozODUw\",[\"null\",\"__typename\",65,\"order\",75,\"databaseId\",410,\"label\",411,\"url\",412,\"uri\",412,\"menu\",413],222998,\"A to Z List of Missions\",\"https://www.nasa.gov/a-to-z-of-nasa-missions/\",[\"null\",\"__typename\",71,\"node\",414],{\"__ref\":408},[\"null\",\"__typename\",65,\"order\",82,\"databaseId\",416,\"label\",417,\"url\",418,\"uri\",418,\"menu\",419],52235,\"Upcoming Launches and Landings\",\"https://www.nasa.gov/events/\",[\"null\",\"__typename\",71,\"node\",420],{\"__ref\":408},[\"null\",\"__typename\",65,\"order\",89,\"databaseId\",422,\"label\",326,\"url\",327,\"uri\",327,\"menu\",423],52234,[\"null\",\"__typename\",71,\"node\",424],{\"__ref\":408},[\"null\",\"__typename\",65,\"order\",96,\"databaseId\",426,\"label\",427,\"url\",428,\"uri\",428,\"menu\",429],52236,\"Communicating with Missions\",\"https://www.nasa.gov/communicating-with-missions/\",[\"null\",\"__typename\",71,\"node\",430],{\"__ref\":408},[\"null\",\"__typename\",65,\"order\",103,\"databaseId\",432,\"label\",433,\"url\",434,\"uri\",434,\"menu\",435],131266,\"Artemis\",\"https://www.nasa.gov/humans-in-space/artemis/\",[\"null\",\"__typename\",71,\"node\",436],{\"__ref\":408},[\"null\",\"__typename\",65,\"order\",110,\"databaseId\",438,\"label\",439,\"url\",440,\"uri\",441,\"menu\",442],131278,\"James Webb Space Telescope\",\"https://science.nasa.gov/mission/webb/\",\"/mission/webb/\",[\"null\",\"__typename\",71,\"node\",443],{\"__ref\":408},[\"null\",\"__typename\",65,\"order\",117,\"databaseId\",445,\"label\",446,\"url\",447,\"uri\",448,\"menu\",449],131280,\"Hubble Space Telescope\",\"https://science.nasa.gov/mission/hubble/\",\"/mission/hubble/\",[\"null\",\"__typename\",71,\"node\",450],{\"__ref\":408},[\"null\",\"__typename\",65,\"order\",124,\"databaseId\",452,\"label\",453,\"url\",454,\"uri\",454,\"menu\",455],131271,\"International Space Station\",\"https://www.nasa.gov/international-space-station/\",[\"null\",\"__typename\",71,\"node\",456],{\"__ref\":408},[\"null\",\"__typename\",65,\"order\",131,\"databaseId\",458,\"label\",459,\"url\",460,\"uri\",461,\"menu\",462],131275,\"OSIRIS-REx\",\"https://science.nasa.gov/mission/osiris-rex/\",\"/mission/osiris-rex/\",[\"null\",\"__typename\",71,\"node\",463],{\"__ref\":408},[\"null\",\"__typename\",54,\"locations\",465,\"databaseId\",467,\"name\",468,\"slug\",469,\"count\",60,\"menuItems({\\\\\"first\\\\\":20})\",470],[466],\"GLOBAL_NAV_SCIENCE\",4905,\"Science\",\"science\",[\"null\",\"__typename\",62,\"nodes\",471],[472,480,485,491,497,503,509,515,521,527,533],[\"null\",\"__typename\",65,\"order\",66,\"databaseId\",473,\"label\",474,\"url\",475,\"uri\",476,\"menu\",477],215593,\"All NASA Science\",\"https://science.nasa.gov/\",\"/\",[\"null\",\"__typename\",71,\"node\",478],{\"__ref\":479},\"Menu:dGVybTo0OTA1\",[\"null\",\"__typename\",65,\"order\",75,\"databaseId\",481,\"label\",482,\"url\",249,\"uri\",249,\"menu\",483],215635,\"Earth Science\",[\"null\",\"__typename\",71,\"node\",484],{\"__ref\":479},[\"null\",\"__typename\",65,\"order\",82,\"databaseId\",486,\"label\",487,\"url\",488,\"uri\",488,\"menu\",489],215647,\"Planetary Science\",\"/planetary-science/\",[\"null\",\"__typename\",71,\"node\",490],{\"__ref\":479},[\"null\",\"__typename\",65,\"order\",89,\"databaseId\",492,\"label\",493,\"url\",494,\"uri\",494,\"menu\",495],215649,\"Astrophysics & Space Science\",\"/astrophysics/\",[\"null\",\"__typename\",71,\"node\",496],{\"__ref\":479},[\"null\",\"__typename\",65,\"order\",96,\"databaseId\",498,\"label\",499,\"url\",500,\"uri\",500,\"menu\",501],215656,\"The Sun & Heliophysics\",\"/heliophysics/\",[\"null\",\"__typename\",71,\"node\",502],{\"__ref\":479},[\"null\",\"__typename\",65,\"order\",103,\"databaseId\",504,\"label\",505,\"url\",506,\"uri\",506,\"menu\",507],215661,\"Biological & Physical Sciences\",\"/biological-physical/\",[\"null\",\"__typename\",71,\"node\",508],{\"__ref\":479},[\"null\",\"__typename\",65,\"order\",110,\"databaseId\",510,\"label\",511,\"url\",512,\"uri\",512,\"menu\",513],215663,\"Lunar Science\",\"/lunar-science/\",[\"null\",\"__typename\",71,\"node\",514],{\"__ref\":479},[\"null\",\"__typename\",65,\"order\",117,\"databaseId\",516,\"label\",517,\"url\",518,\"uri\",518,\"menu\",519],215668,\"Citizen Science\",\"/citizen-science/\",[\"null\",\"__typename\",71,\"node\",520],{\"__ref\":479},[\"null\",\"__typename\",65,\"order\",124,\"databaseId\",522,\"label\",523,\"url\",524,\"uri\",524,\"menu\",525],215671,\"Astromaterials\",\"/astromaterials/\",[\"null\",\"__typename\",71,\"node\",526],{\"__ref\":479},[\"null\",\"__typename\",65,\"order\",131,\"databaseId\",528,\"label\",529,\"url\",530,\"uri\",530,\"menu\",531],215677,\"Aeronautics Research\",\"https://www.nasa.gov/aeronautics-research/\",[\"null\",\"__typename\",71,\"node\",532],{\"__ref\":479},[\"null\",\"__typename\",65,\"order\",60,\"databaseId\",534,\"label\",535,\"url\",536,\"uri\",536,\"menu\",537],215679,\"Human Space Travel Research\",\"/human-space-travel-research/\",[\"null\",\"__typename\",71,\"node\",538],{\"__ref\":479},[\"null\",\"__typename\",54,\"locations\",540,\"databaseId\",542,\"name\",543,\"slug\",544,\"count\",110,\"menuItems({\\\\\"first\\\\\":20})\",545],[541],\"GLOBAL_NAV_TECHNOLOGY\",3859,\"Technology\",\"technology\",[\"null\",\"__typename\",62,\"nodes\",546],[547,554,560,566,572,578,584],[\"null\",\"__typename\",65,\"order\",66,\"databaseId\",548,\"label\",549,\"url\",550,\"uri\",550,\"menu\",551],52256,\"Technology Transfer & Spinoffs\",\"https://www.nasa.gov/technology-transfer-spinoffs/\",[\"null\",\"__typename\",71,\"node\",552],{\"__ref\":553},\"Menu:dGVybTozODU5\",[\"null\",\"__typename\",65,\"order\",75,\"databaseId\",555,\"label\",556,\"url\",557,\"uri\",557,\"menu\",558],52257,\"Space Travel Technology\",\"https://www.nasa.gov/space-travel-technology/\",[\"null\",\"__typename\",71,\"node\",559],{\"__ref\":553},[\"null\",\"__typename\",65,\"order\",82,\"databaseId\",561,\"label\",562,\"url\",563,\"uri\",563,\"menu\",564],52258,\"Technology Living in Space\",\"https://www.nasa.gov/space-living-technology/\",[\"null\",\"__typename\",71,\"node\",565],{\"__ref\":553},[\"null\",\"__typename\",65,\"order\",89,\"databaseId\",567,\"label\",568,\"url\",569,\"uri\",569,\"menu\",570],52259,\"Manufacturing and Materials\",\"https://www.nasa.gov/manufacturing-and-materials/\",[\"null\",\"__typename\",71,\"node\",571],{\"__ref\":553},[\"null\",\"__typename\",65,\"order\",96,\"databaseId\",573,\"label\",574,\"url\",575,\"uri\",575,\"menu\",576],52260,\"Robotics\",\"https://www.nasa.gov/robotics/\",[\"null\",\"__typename\",71,\"node\",577],{\"__ref\":553},[\"null\",\"__typename\",65,\"order\",103,\"databaseId\",579,\"label\",580,\"url\",581,\"uri\",581,\"menu\",582],52261,\"Science Instruments\",\"https://www.nasa.gov/science-instruments/\",[\"null\",\"__typename\",71,\"node\",583],{\"__ref\":553},[\"null\",\"__typename\",65,\"order\",110,\"databaseId\",585,\"label\",586,\"url\",587,\"uri\",587,\"menu\",588],52262,\"Computing\",\"https://www.nasa.gov/computing/\",[\"null\",\"__typename\",71,\"node\",589],{\"__ref\":553},[\"null\",\"__typename\",54,\"locations\",591,\"databaseId\",593,\"name\",594,\"slug\",595,\"count\",596,\"menuItems({\\\\\"first\\\\\":20})\",597],[592],\"GLOBAL_NAV_SOLAR_SYSTEM\",3861,\"The Solar System\",\"the-solar-system\",15,[\"null\",\"__typename\",62,\"nodes\",598],[599,607,614,621,628,635,642,649,656,663,670,677,685,693,701],[\"null\",\"__typename\",65,\"order\",66,\"databaseId\",600,\"label\",601,\"url\",602,\"uri\",603,\"menu\",604],52270,\"The Sun\",\"https://science.nasa.gov/sun/\",\"/sun/\",[\"null\",\"__typename\",71,\"node\",605],{\"__ref\":606},\"Menu:dGVybTozODYx\",[\"null\",\"__typename\",65,\"order\",75,\"databaseId\",608,\"label\",609,\"url\",610,\"uri\",611,\"menu\",612],52271,\"Mercury\",\"https://science.nasa.gov/mercury/\",\"/mercury/\",[\"null\",\"__typename\",71,\"node\",613],{\"__ref\":606},[\"null\",\"__typename\",65,\"order\",82,\"databaseId\",615,\"label\",616,\"url\",617,\"uri\",618,\"menu\",619],52272,\"Venus\",\"https://science.nasa.gov/venus/\",\"/venus/\",[\"null\",\"__typename\",71,\"node\",620],{\"__ref\":606},[\"null\",\"__typename\",65,\"order\",89,\"databaseId\",622,\"label\",623,\"url\",624,\"uri\",625,\"menu\",626],113728,\"Earth\",\"https://science.nasa.gov/earth/\",\"/earth/\",[\"null\",\"__typename\",71,\"node\",627],{\"__ref\":606},[\"null\",\"__typename\",65,\"order\",96,\"databaseId\",629,\"label\",630,\"url\",631,\"uri\",632,\"menu\",633],52274,\"The Moon\",\"https://science.nasa.gov/moon/\",\"/moon/\",[\"null\",\"__typename\",71,\"node\",634],{\"__ref\":606},[\"null\",\"__typename\",65,\"order\",103,\"databaseId\",636,\"label\",637,\"url\",638,\"uri\",639,\"menu\",640],52275,\"Mars\",\"https://science.nasa.gov/mars/\",\"/mars/\",[\"null\",\"__typename\",71,\"node\",641],{\"__ref\":606},[\"null\",\"__typename\",65,\"order\",110,\"databaseId\",643,\"label\",644,\"url\",645,\"uri\",646,\"menu\",647],52276,\"Jupiter\",\"https://science.nasa.gov/jupiter/\",\"/jupiter/\",[\"null\",\"__typename\",71,\"node\",648],{\"__ref\":606},[\"null\",\"__typename\",65,\"order\",117,\"databaseId\",650,\"label\",651,\"url\",652,\"uri\",653,\"menu\",654],52277,\"Saturn\",\"https://science.nasa.gov/saturn/\",\"/saturn/\",[\"null\",\"__typename\",71,\"node\",655],{\"__ref\":606},[\"null\",\"__typename\",65,\"order\",124,\"databaseId\",657,\"label\",658,\"url\",659,\"uri\",660,\"menu\",661],52278,\"Uranus\",\"https://science.nasa.gov/uranus/\",\"/uranus/\",[\"null\",\"__typename\",71,\"node\",662],{\"__ref\":606},[\"null\",\"__typename\",65,\"order\",131,\"databaseId\",664,\"label\",665,\"url\",666,\"uri\",667,\"menu\",668],52279,\"Neptune\",\"https://science.nasa.gov/neptune/\",\"/neptune/\",[\"null\",\"__typename\",71,\"node\",669],{\"__ref\":606},[\"null\",\"__typename\",65,\"order\",60,\"databaseId\",671,\"label\",672,\"url\",673,\"uri\",674,\"menu\",675],108345,\"Pluto & Dwarf Planets\",\"https://science.nasa.gov/dwarf-planets/\",\"/dwarf-planets/\",[\"null\",\"__typename\",71,\"node\",676],{\"__ref\":606},[\"null\",\"__typename\",65,\"order\",678,\"databaseId\",679,\"label\",680,\"url\",681,\"uri\",682,\"menu\",683],12,52281,\"Asteroids, Comets & Meteors\",\"https://science.nasa.gov/asteroids-comets-meteors/\",\"/asteroids-comets-meteors/\",[\"null\",\"__typename\",71,\"node\",684],{\"__ref\":606},[\"null\",\"__typename\",65,\"order\",686,\"databaseId\",687,\"label\",688,\"url\",689,\"uri\",690,\"menu\",691],13,112851,\"The Kuiper Belt\",\"https://science.nasa.gov/solar-system/kuiper-belt/\",\"/solar-system/kuiper-belt/\",[\"null\",\"__typename\",71,\"node\",692],{\"__ref\":606},[\"null\",\"__typename\",65,\"order\",694,\"databaseId\",695,\"label\",696,\"url\",697,\"uri\",698,\"menu\",699],14,112863,\"The Oort Cloud\",\"https://science.nasa.gov/solar-system/oort-cloud/\",\"/solar-system/oort-cloud/\",[\"null\",\"__typename\",71,\"node\",700],{\"__ref\":606},[\"null\",\"__typename\",65,\"order\",596,\"databaseId\",702,\"label\",703,\"url\",704,\"uri\",705,\"menu\",706],52282,\"Skywatching\",\"https://science.nasa.gov/skywatching/\",\"/skywatching/\",[\"null\",\"__typename\",71,\"node\",707],{\"__ref\":606},[\"null\",\"__typename\",54,\"locations\",709,\"databaseId\",711,\"name\",712,\"slug\",713,\"count\",110,\"menuItems({\\\\\"first\\\\\":20})\",714],[710],\"GLOBAL_NAV_UNIVERSE\",3860,\"The Universe\",\"the-universe\",[\"null\",\"__typename\",62,\"nodes\",715],[716,724,731,738,745,752,759],[\"null\",\"__typename\",65,\"order\",66,\"databaseId\",717,\"label\",718,\"url\",719,\"uri\",720,\"menu\",721],52263,\"Exoplanets\",\"https://science.nasa.gov/exoplanets/\",\"/exoplanets/\",[\"null\",\"__typename\",71,\"node\",722],{\"__ref\":723},\"Menu:dGVybTozODYw\",[\"null\",\"__typename\",65,\"order\",75,\"databaseId\",725,\"label\",726,\"url\",727,\"uri\",728,\"menu\",729],108346,\"The Search for Life in the Universe\",\"https://science.nasa.gov/universe/search-for-life/\",\"/universe/search-for-life/\",[\"null\",\"__typename\",71,\"node\",730],{\"__ref\":723},[\"null\",\"__typename\",65,\"order\",82,\"databaseId\",732,\"label\",733,\"url\",734,\"uri\",735,\"menu\",736],52265,\"Stars\",\"https://science.nasa.gov/universe/stars/\",\"/universe/stars/\",[\"null\",\"__typename\",71,\"node\",737],{\"__ref\":723},[\"null\",\"__typename\",65,\"order\",89,\"databaseId\",739,\"label\",740,\"url\",741,\"uri\",742,\"menu\",743],52266,\"Galaxies\",\"https://science.nasa.gov/universe/galaxies/\",\"/universe/galaxies/\",[\"null\",\"__typename\",71,\"node\",744],{\"__ref\":723},[\"null\",\"__typename\",65,\"order\",96,\"databaseId\",746,\"label\",747,\"url\",748,\"uri\",749,\"menu\",750],52267,\"Black Holes\",\"https://science.nasa.gov/universe/black-holes/\",\"/universe/black-holes/\",[\"null\",\"__typename\",71,\"node\",751],{\"__ref\":723},[\"null\",\"__typename\",65,\"order\",103,\"databaseId\",753,\"label\",754,\"url\",755,\"uri\",756,\"menu\",757],52268,\"The Big Bang\",\"https://science.nasa.gov/universe/the-big-bang/\",\"/universe/the-big-bang/\",[\"null\",\"__typename\",71,\"node\",758],{\"__ref\":723},[\"null\",\"__typename\",65,\"order\",110,\"databaseId\",760,\"label\",761,\"url\",762,\"uri\",763,\"menu\",764],52269,\"Dark Matter & Dark Energy\",\"https://science.nasa.gov/universe/dark-matter-dark-energy/\",\"/universe/dark-matter-dark-energy/\",[\"null\",\"__typename\",71,\"node\",765],{\"__ref\":723},{\"__ref\":767},\"Topic:cG9zdDoxOTY5MA==\",[\"null\",\"__typename\",54,\"name\",58,\"id\",769],\"dGVybTozODU2\",[\"null\",\"__typename\",54,\"name\",147,\"id\",771],\"dGVybTozODU4\",[\"null\",\"__typename\",54,\"name\",198,\"id\",773],\"dGVybTozODU1\",[\"null\",\"__typename\",54,\"name\",256,\"id\",775],\"dGVybTo0NDM3\",[\"null\",\"__typename\",54,\"name\",295,\"id\",777],\"dGVybTozODU0\",[\"null\",\"__typename\",54,\"name\",340,\"id\",779],\"dGVybTozODU3\",[\"null\",\"__typename\",54,\"name\",398,\"id\",781],\"dGVybTozODUw\",[\"null\",\"__typename\",54,\"name\",468,\"id\",783],\"dGVybTo0OTA1\",[\"null\",\"__typename\",54,\"name\",543,\"id\",785],\"dGVybTozODU5\",[\"null\",\"__typename\",54,\"name\",594,\"id\",787],\"dGVybTozODYx\",[\"null\",\"__typename\",54,\"name\",712,\"id\",789],\"dGVybTozODYw\",[\"null\",\"__typename\",18,\"id\",791,\"isContentNode\",792,\"authorId\",793,\"title\",747,\"databaseId\",794,\"template\",795,\"postClass\",19,\"isPreview\",36,\"modifiedGmt\",798,\"date\",21,\"blocks\",799,\"lockedBlocks\",834],\"cG9zdDoxOTY5MA==\",true,\"dXNlcjoyMg==\",19690,[\"null\",\"__typename\",796,\"templateName\",797],\"DefaultTemplate\",\"Default\",\"2023-05-22T07:32:35\",[800,802,804,806,807,808,809,810,811,812,813,814,815,816,817,818,819,820,821,822,823,824,825,826,828,830,832],[\"null\",\"__typename\",801],\"NasaBlocksSecondaryNavigationBlock\",[\"null\",\"__typename\",803],\"CoreParagraphBlock\",[\"null\",\"__typename\",805],\"CoreImageBlock\",[\"null\",\"__typename\",803],[\"null\",\"__typename\",803],[\"null\",\"__typename\",803],[\"null\",\"__typename\",805],[\"null\",\"__typename\",803],[\"null\",\"__typename\",803],[\"null\",\"__typename\",803],[\"null\",\"__typename\",803],[\"null\",\"__typename\",803],[\"null\",\"__typename\",805],[\"null\",\"__typename\",803],[\"null\",\"__typename\",803],[\"null\",\"__typename\",803],[\"null\",\"__typename\",803],[\"null\",\"__typename\",803],[\"null\",\"__typename\",803],[\"null\",\"__typename\",805],[\"null\",\"__typename\",803],[\"null\",\"__typename\",803],[\"null\",\"__typename\",803],[\"null\",\"__typename\",827],\"CoreHeadingBlock\",[\"null\",\"__typename\",829],\"CoreTableBlock\",[\"null\",\"__typename\",831],\"NasaBlocksTopicCardsBlock\",[\"null\",\"__typename\",833],\"CoreFreeformBlock\",[\"null\",\"__typename\",835,\"navBlocks\",836,\"heroBlocks\",845,\"introBlocks\",845,\"bodyBlocks\",846,\"footerBlocks\",1081],\"LockedBlocks\",[837],[\"null\",\"__typename\",801,\"attributes\",838],[\"null\",\"__typename\",839,\"postId\",840,\"breadcrumbs\",841,\"navLinks\",842,\"colorMode\",843,\"hdsnavColorMode\",16,\"postDetails\",844],\"NasaBlocksSecondaryNavigationBlockAttributes\",\"19642\",\"[{\\\\\"post_title\\\\\":\\\\\"NASA Astrophysics\\\\\",\\\\\"breadcrumb_title\\\\\":\\\\\"&hellip;\\\\\",\\\\\"url\\\\\":\\\\\"https:\\\\\\\\/\\\\\\\\/science.nasa.gov\\\\\\\\/astrophysics\\\\\\\\/\\\\\"},{\\\\\"post_title\\\\\":\\\\\"Focus Areas\\\\\",\\\\\"breadcrumb_title\\\\\":\\\\\"Focus Areas\\\\\",\\\\\"url\\\\\":\\\\\"https:\\\\\\\\/\\\\\\\\/science.nasa.gov\\\\\\\\/astrophysics\\\\\\\\/focus-areas\\\\\\\\/\\\\\"},{\\\\\"post_title\\\\\":\\\\\"Black Holes\\\\\",\\\\\"breadcrumb_title\\\\\":\\\\\"Black Holes\\\\\",\\\\\"url\\\\\":\\\\\"\\\\\"}]\",\"[{\\\\\"link_title\\\\\":\\\\\"Overview\\\\\",\\\\\"linkType\\\\\":\\\\\"dropdown-menu\\\\\",\\\\\"linkId\\\\\":{\\\\\"id\\\\\":0,\\\\\"url\\\\\":\\\\\"\\\\\\\\/\\\\\",\\\\\"type\\\\\":\\\\\"Page\\\\\",\\\\\"kind\\\\\":\\\\\"post-type\\\\\",\\\\\"target\\\\\":\\\\\"_self\\\\\"},\\\\\"subMenus\\\\\":[{\\\\\"link_title\\\\\":\\\\\"Big Questions\\\\\",\\\\\"linkType\\\\\":\\\\\"link\\\\\",\\\\\"linkId\\\\\":{\\\\\"type\\\\\":\\\\\"topic\\\\\",\\\\\"kind\\\\\":\\\\\"post-type\\\\\",\\\\\"target\\\\\":\\\\\"_self\\\\\",\\\\\"id\\\\\":19674,\\\\\"url\\\\\":\\\\\"https:\\\\\\\\/\\\\\\\\/science.nasa.gov\\\\\\\\/astrophysics\\\\\\\\/science-questions\\\\\\\\/\\\\\",\\\\\"title\\\\\":\\\\\"Big Questions\\\\\",\\\\\"external\\\\\":true}},{\\\\\"link_title\\\\\":\\\\\"Organization and Staff\\\\\",\\\\\"linkType\\\\\":\\\\\"link\\\\\",\\\\\"linkId\\\\\":{\\\\\"type\\\\\":\\\\\"topic\\\\\",\\\\\"kind\\\\\":\\\\\"post-type\\\\\",\\\\\"target\\\\\":\\\\\"_self\\\\\",\\\\\"title\\\\\":\\\\\"Astrophysics Organization And Staff\\\\\",\\\\\"external\\\\\":true,\\\\\"id\\\\\":43130,\\\\\"url\\\\\":\\\\\"https:\\\\\\\\/\\\\\\\\/science.nasa.gov\\\\\\\\/astrophysics\\\\\\\\/astrophysics-organization-and-staff\\\\\\\\/\\\\\"}}]},{\\\\\"link_title\\\\\":\\\\\"Focus Areas\\\\\",\\\\\"linkType\\\\\":\\\\\"dropdown-menu\\\\\",\\\\\"linkId\\\\\":{\\\\\"id\\\\\":0,\\\\\"url\\\\\":\\\\\"\\\\\\\\/menu-link-url\\\\\",\\\\\"type\\\\\":\\\\\"Page\\\\\",\\\\\"kind\\\\\":\\\\\"post-type\\\\\",\\\\\"target\\\\\":\\\\\"_self\\\\\"},\\\\\"subMenus\\\\\":[{\\\\\"link_title\\\\\":\\\\\"Dark Energy, Dark Matter\\\\\",\\\\\"linkType\\\\\":\\\\\"link\\\\\",\\\\\"linkId\\\\\":{\\\\\"type\\\\\":\\\\\"topic\\\\\",\\\\\"kind\\\\\":\\\\\"post-type\\\\\",\\\\\"target\\\\\":\\\\\"_self\\\\\",\\\\\"id\\\\\":19707,\\\\\"url\\\\\":\\\\\"https:\\\\\\\\/\\\\\\\\/science.nasa.gov\\\\\\\\/astrophysics\\\\\\\\/focus-areas\\\\\\\\/what-is-dark-energy\\\\\\\\/\\\\\",\\\\\"title\\\\\":\\\\\"Dark Energy, Dark Matter\\\\\",\\\\\"external\\\\\":true}},{\\\\\"link_title\\\\\":\\\\\"Black Holes\\\\\",\\\\\"linkType\\\\\":\\\\\"link\\\\\",\\\\\"linkId\\\\\":{\\\\\"type\\\\\":\\\\\"topic\\\\\",\\\\\"kind\\\\\":\\\\\"post-type\\\\\",\\\\\"target\\\\\":\\\\\"_self\\\\\",\\\\\"id\\\\\":19690,\\\\\"url\\\\\":\\\\\"https:\\\\\\\\/\\\\\\\\/science.nasa.gov\\\\\\\\/astrophysics\\\\\\\\/focus-areas\\\\\\\\/black-holes\\\\\\\\/\\\\\",\\\\\"title\\\\\":\\\\\"Black Holes\\\\\",\\\\\"external\\\\\":true}},{\\\\\"link_title\\\\\":\\\\\"The Big Bang\\\\\",\\\\\"linkType\\\\\":\\\\\"link\\\\\",\\\\\"linkId\\\\\":{\\\\\"type\\\\\":\\\\\"topic\\\\\",\\\\\"kind\\\\\":\\\\\"post-type\\\\\",\\\\\"target\\\\\":\\\\\"_self\\\\\",\\\\\"id\\\\\":19710,\\\\\"url\\\\\":\\\\\"https:\\\\\\\\/\\\\\\\\/science.nasa.gov\\\\\\\\/astrophysics\\\\\\\\/focus-areas\\\\\\\\/what-powered-the-big-bang\\\\\\\\/\\\\\",\\\\\"title\\\\\":\\\\\"The Big Bang\\\\\",\\\\\"external\\\\\":true}},{\\\\\"link_title\\\\\":\\\\\"Galaxies\\\\\",\\\\\"linkType\\\\\":\\\\\"link\\\\\",\\\\\"linkId\\\\\":{\\\\\"type\\\\\":\\\\\"topic\\\\\",\\\\\"kind\\\\\":\\\\\"post-type\\\\\",\\\\\"target\\\\\":\\\\\"_self\\\\\",\\\\\"title\\\\\":\\\\\"Galaxies\\\\\",\\\\\"external\\\\\":true,\\\\\"id\\\\\":19701,\\\\\"url\\\\\":\\\\\"https:\\\\\\\\/\\\\\\\\/science.nasa.gov\\\\\\\\/astrophysics\\\\\\\\/focus-areas\\\\\\\\/what-are-galaxies\\\\\\\\/\\\\\"}},{\\\\\"link_title\\\\\":\\\\\"Stars\\\\\",\\\\\"linkType\\\\\":\\\\\"link\\\\\",\\\\\"linkId\\\\\":{\\\\\"id\\\\\":0,\\\\\"url\\\\\":\\\\\"https:\\\\\\\\/\\\\\\\\/smd-cms.nasa.gov\\\\\\\\/astrophysics\\\\\\\\/focus-areas\\\\\\\\/how-do-stars-form-and-evolve\\\\\\\\/\\\\\",\\\\\"type\\\\\":\\\\\"Page\\\\\",\\\\\"kind\\\\\":\\\\\"post-type\\\\\",\\\\\"target\\\\\":\\\\\"_self\\\\\",\\\\\"title\\\\\":\\\\\"\\\\\",\\\\\"external\\\\\":true}},{\\\\\"link_title\\\\\":\\\\\"Exoplanets \\\\\\\\u2192\\\\\",\\\\\"linkType\\\\\":\\\\\"link\\\\\",\\\\\"linkId\\\\\":{\\\\\"id\\\\\":0,\\\\\"url\\\\\":\\\\\"https:\\\\\\\\/\\\\\\\\/exoplanets.nasa.gov\\\\\\\\/\\\\\",\\\\\"type\\\\\":\\\\\"Page\\\\\",\\\\\"kind\\\\\":\\\\\"post-type\\\\\",\\\\\"target\\\\\":\\\\\"_self\\\\\",\\\\\"title\\\\\":\\\\\"\\\\\",\\\\\"external\\\\\":true}}]},{\\\\\"link_title\\\\\":\\\\\"Programs\\\\\",\\\\\"linkType\\\\\":\\\\\"dropdown-menu\\\\\",\\\\\"anchorId\\\\\":\\\\\"\\\\\",\\\\\"linkId\\\\\":{\\\\\"id\\\\\":0,\\\\\"url\\\\\":\\\\\"\\\\\\\\/\\\\\",\\\\\"type\\\\\":\\\\\"Page\\\\\",\\\\\"kind\\\\\":\\\\\"post-type\\\\\",\\\\\"target\\\\\":\\\\\"_self\\\\\"},\\\\\"subMenus\\\\\":[{\\\\\"link_title\\\\\":\\\\\"Programs Overview\\\\\",\\\\\"linkType\\\\\":\\\\\"link\\\\\",\\\\\"linkId\\\\\":{\\\\\"type\\\\\":\\\\\"topic\\\\\",\\\\\"kind\\\\\":\\\\\"post-type\\\\\",\\\\\"target\\\\\":\\\\\"_self\\\\\",\\\\\"id\\\\\":19767,\\\\\"url\\\\\":\\\\\"https:\\\\\\\\/\\\\\\\\/science.nasa.gov\\\\\\\\/astrophysics\\\\\\\\/programs\\\\\\\\/\\\\\",\\\\\"title\\\\\":\\\\\"Programs\\\\\",\\\\\"external\\\\\":true}},{\\\\\"link_title\\\\\":\\\\\"Physics of the Cosmos\\\\\",\\\\\"linkType\\\\\":\\\\\"link\\\\\",\\\\\"linkId\\\\\":{\\\\\"type\\\\\":\\\\\"topic\\\\\",\\\\\"kind\\\\\":\\\\\"post-type\\\\\",\\\\\"target\\\\\":\\\\\"_self\\\\\",\\\\\"id\\\\\":19770,\\\\\"url\\\\\":\\\\\"https:\\\\\\\\/\\\\\\\\/science.nasa.gov\\\\\\\\/astrophysics\\\\\\\\/programs\\\\\\\\/physics-of-the-cosmos\\\\\\\\/\\\\\",\\\\\"title\\\\\":\\\\\"Physics of the Cosmos\\\\\",\\\\\"external\\\\\":true}},{\\\\\"link_title\\\\\":\\\\\"Cosmic Origins\\\\\",\\\\\"linkType\\\\\":\\\\\"link\\\\\",\\\\\"linkId\\\\\":{\\\\\"type\\\\\":\\\\\"topic\\\\\",\\\\\"kind\\\\\":\\\\\"post-type\\\\\",\\\\\"target\\\\\":\\\\\"_self\\\\\",\\\\\"title\\\\\":\\\\\"Physics of the Cosmos\\\\\",\\\\\"external\\\\\":true,\\\\\"id\\\\\":44487,\\\\\"url\\\\\":\\\\\"https:\\\\\\\\/\\\\\\\\/science.nasa.gov\\\\\\\\/astrophysics\\\\\\\\/programs\\\\\\\\/cosmic-origins\\\\\\\\/\\\\\"}},{\\\\\"link_title\\\\\":\\\\\"Exoplanet Exploration\\\\\",\\\\\"linkType\\\\\":\\\\\"link\\\\\",\\\\\"linkId\\\\\":{\\\\\"type\\\\\":\\\\\"topic\\\\\",\\\\\"kind\\\\\":\\\\\"post-type\\\\\",\\\\\"target\\\\\":\\\\\"_self\\\\\",\\\\\"title\\\\\":\\\\\"Programs\\\\\",\\\\\"external\\\\\":true,\\\\\"id\\\\\":43666,\\\\\"url\\\\\":\\\\\"https:\\\\\\\\/\\\\\\\\/science.nasa.gov\\\\\\\\/astrophysics\\\\\\\\/programs\\\\\\\\/exep\\\\\\\\/\\\\\"}},{\\\\\"link_title\\\\\":\\\\\"Explorers\\\\\",\\\\\"linkType\\\\\":\\\\\"link\\\\\",\\\\\"linkId\\\\\":{\\\\\"type\\\\\":\\\\\"topic\\\\\",\\\\\"kind\\\\\":\\\\\"post-type\\\\\",\\\\\"target\\\\\":\\\\\"_self\\\\\",\\\\\"external\\\\\":true,\\\\\"title\\\\\":\\\\\"Programs\\\\\",\\\\\"id\\\\\":43633,\\\\\"url\\\\\":\\\\\"https:\\\\\\\\/\\\\\\\\/science.nasa.gov\\\\\\\\/astrophysics\\\\\\\\/programs\\\\\\\\/astrophysics-explorers\\\\\\\\/\\\\\"}},{\\\\\"link_title\\\\\":\\\\\"Astrophysics Research\\\\\",\\\\\"linkType\\\\\":\\\\\"link\\\\\",\\\\\"linkId\\\\\":{\\\\\"type\\\\\":\\\\\"topic\\\\\",\\\\\"kind\\\\\":\\\\\"post-type\\\\\",\\\\\"target\\\\\":\\\\\"_self\\\\\",\\\\\"title\\\\\":\\\\\"Programs\\\\\",\\\\\"external\\\\\":true,\\\\\"id\\\\\":43637,\\\\\"url\\\\\":\\\\\"https:\\\\\\\\/\\\\\\\\/science.nasa.gov\\\\\\\\/astrophysics\\\\\\\\/programs\\\\\\\\/astrophysics-research\\\\\\\\/\\\\\"}},{\\\\\"link_title\\\\\":\\\\\"Astrophysics Pioneers\\\\\",\\\\\"linkType\\\\\":\\\\\"link\\\\\",\\\\\"linkId\\\\\":{\\\\\"type\\\\\":\\\\\"topic\\\\\",\\\\\"kind\\\\\":\\\\\"post-type\\\\\",\\\\\"target\\\\\":\\\\\"_self\\\\\",\\\\\"id\\\\\":19769,\\\\\"url\\\\\":\\\\\"https:\\\\\\\\/\\\\\\\\/science.nasa.gov\\\\\\\\/astrophysics\\\\\\\\/programs\\\\\\\\/astrophysics-pioneers\\\\\\\\/\\\\\",\\\\\"title\\\\\":\\\\\"Astrophysics Pioneers\\\\\",\\\\\"external\\\\\":true}},{\\\\\"link_title\\\\\":\\\\\"Astrophysics Division Technology\\\\\",\\\\\"linkType\\\\\":\\\\\"link\\\\\",\\\\\"linkId\\\\\":{\\\\\"type\\\\\":\\\\\"topic\\\\\",\\\\\"kind\\\\\":\\\\\"post-type\\\\\",\\\\\"target\\\\\":\\\\\"_self\\\\\",\\\\\"id\\\\\":19768,\\\\\"url\\\\\":\\\\\"https:\\\\\\\\/\\\\\\\\/science.nasa.gov\\\\\\\\/astrophysics\\\\\\\\/programs\\\\\\\\/astrophysics-division-technology\\\\\\\\/\\\\\",\\\\\"title\\\\\":\\\\\"Astrophysics Division Technology\\\\\",\\\\\"external\\\\\":true}},{\\\\\"link_title\\\\\":\\\\\"Great Observatory Maturation Program\\\\\",\\\\\"linkType\\\\\":\\\\\"link\\\\\",\\\\\"linkId\\\\\":{\\\\\"type\\\\\":\\\\\"topic\\\\\",\\\\\"kind\\\\\":\\\\\"post-type\\\\\",\\\\\"target\\\\\":\\\\\"_self\\\\\",\\\\\"title\\\\\":\\\\\"Programs\\\\\",\\\\\"external\\\\\":true,\\\\\"id\\\\\":59998,\\\\\"url\\\\\":\\\\\"https:\\\\\\\\/\\\\\\\\/science.nasa.gov\\\\\\\\/astrophysics\\\\\\\\/programs\\\\\\\\/gomap\\\\\\\\/\\\\\"}},{\\\\\"link_title\\\\\":\\\\\"Astrophysics Strategic Missions Program\\\\\",\\\\\"linkType\\\\\":\\\\\"link\\\\\",\\\\\"linkId\\\\\":{\\\\\"type\\\\\":\\\\\"topic\\\\\",\\\\\"kind\\\\\":\\\\\"post-type\\\\\",\\\\\"target\\\\\":\\\\\"_self\\\\\",\\\\\"id\\\\\":133251,\\\\\"url\\\\\":\\\\\"https:\\\\\\\\/\\\\\\\\/science.nasa.gov\\\\\\\\/astrophysics\\\\\\\\/programs\\\\\\\\/astrophysics-strategic-missions-program-asmp\\\\\\\\/\\\\\",\\\\\"title\\\\\":\\\\\"Astrophysics Strategic Missions Program\\\\\\\\u00a0(ASMP)\\\\\",\\\\\"external\\\\\":true}}]},{\\\\\"link_title\\\\\":\\\\\"Data\\\\\",\\\\\"linkType\\\\\":\\\\\"link\\\\\",\\\\\"anchorId\\\\\":\\\\\"\\\\\",\\\\\"linkId\\\\\":{\\\\\"type\\\\\":\\\\\"topic\\\\\",\\\\\"kind\\\\\":\\\\\"post-type\\\\\",\\\\\"target\\\\\":\\\\\"_self\\\\\",\\\\\"id\\\\\":19670,\\\\\"url\\\\\":\\\\\"https:\\\\\\\\/\\\\\\\\/science.nasa.gov\\\\\\\\/astrophysics\\\\\\\\/data\\\\\\\\/\\\\\",\\\\\"title\\\\\":\\\\\"Astrophysics Data Centers\\\\\",\\\\\"external\\\\\":true},\\\\\"subMenus\\\\\":[{\\\\\"link_title\\\\\":\\\\\"Data Overview\\\\\",\\\\\"linkType\\\\\":\\\\\"link\\\\\",\\\\\"linkId\\\\\":{\\\\\"type\\\\\":\\\\\"topic\\\\\",\\\\\"kind\\\\\":\\\\\"post-type\\\\\",\\\\\"target\\\\\":\\\\\"_self\\\\\",\\\\\"id\\\\\":19670,\\\\\"url\\\\\":\\\\\"https:\\\\\\\\/\\\\\\\\/science.nasa.gov\\\\\\\\/astrophysics\\\\\\\\/data\\\\\\\\/\\\\\",\\\\\"title\\\\\":\\\\\"Astrophysics Data Centers\\\\\",\\\\\"external\\\\\":true}}]},{\\\\\"link_title\\\\\":\\\\\"Resources\\\\\",\\\\\"linkType\\\\\":\\\\\"dropdown-menu\\\\\",\\\\\"anchorId\\\\\":\\\\\"\\\\\",\\\\\"linkId\\\\\":{\\\\\"id\\\\\":0,\\\\\"url\\\\\":\\\\\"\\\\\\\\/\\\\\",\\\\\"type\\\\\":\\\\\"Page\\\\\",\\\\\"kind\\\\\":\\\\\"post-type\\\\\",\\\\\"target\\\\\":\\\\\"_self\\\\\"},\\\\\"subMenus\\\\\":[{\\\\\"link_title\\\\\":\\\\\"Documents\\\\\",\\\\\"linkType\\\\\":\\\\\"link\\\\\",\\\\\"linkId\\\\\":{\\\\\"type\\\\\":\\\\\"topic\\\\\",\\\\\"kind\\\\\":\\\\\"post-type\\\\\",\\\\\"target\\\\\":\\\\\"_self\\\\\",\\\\\"title\\\\\":\\\\\"Resources\\\\\",\\\\\"external\\\\\":true,\\\\\"url\\\\\":\\\\\"https:\\\\\\\\/\\\\\\\\/smd-cms.nasa.gov\\\\\\\\/astrophysics\\\\\\\\/resources\\\\\\\\/documents\\\\\"}},{\\\\\"link_title\\\\\":\\\\\"2020 Decadal Survey\\\\\",\\\\\"linkType\\\\\":\\\\\"link\\\\\",\\\\\"linkId\\\\\":{\\\\\"type\\\\\":\\\\\"topic\\\\\",\\\\\"kind\\\\\":\\\\\"post-type\\\\\",\\\\\"target\\\\\":\\\\\"_self\\\\\",\\\\\"title\\\\\":\\\\\"Decadal Survey\\\\\",\\\\\"external\\\\\":true,\\\\\"id\\\\\":19678,\\\\\"url\\\\\":\\\\\"https:\\\\\\\\/\\\\\\\\/science.nasa.gov\\\\\\\\/astrophysics\\\\\\\\/resources\\\\\\\\/decadal-survey\\\\\\\\/2020-decadal-survey\\\\\\\\/\\\\\"}},{\\\\\"link_title\\\\\":\\\\\"APD Responses to Decadal\\\\\",\\\\\"linkType\\\\\":\\\\\"link\\\\\",\\\\\"linkId\\\\\":{\\\\\"type\\\\\":\\\\\"topic\\\\\",\\\\\"kind\\\\\":\\\\\"post-type\\\\\",\\\\\"target\\\\\":\\\\\"_self\\\\\",\\\\\"id\\\\\":19679,\\\\\"url\\\\\":\\\\\"https:\\\\\\\\/\\\\\\\\/science.nasa.gov\\\\\\\\/astrophysics\\\\\\\\/resources\\\\\\\\/decadal-survey\\\\\\\\/2020-decadal-survey\\\\\\\\/apd-responses-to-decadal\\\\\\\\/\\\\\",\\\\\"title\\\\\":\\\\\"APD Responses to Decadal\\\\\",\\\\\"external\\\\\":true}},{\\\\\"link_title\\\\\":\\\\\"Pre 2020 Decadal Reports\\\\\",\\\\\"linkType\\\\\":\\\\\"link\\\\\",\\\\\"linkId\\\\\":{\\\\\"type\\\\\":\\\\\"topic\\\\\",\\\\\"kind\\\\\":\\\\\"post-type\\\\\",\\\\\"target\\\\\":\\\\\"_self\\\\\",\\\\\"id\\\\\":19667,\\\\\"url\\\\\":\\\\\"https:\\\\\\\\/\\\\\\\\/science.nasa.gov\\\\\\\\/astrophysics\\\\\\\\/resources\\\\\\\\/decadal-survey\\\\\\\\/2020-decadal-survey-planning\\\\\\\\/\\\\\",\\\\\"title\\\\\":\\\\\"Pre 2020 Decadal Reports\\\\\",\\\\\"external\\\\\":true}},{\\\\\"link_title\\\\\":\\\\\"Fleet Chart\\\\\",\\\\\"linkType\\\\\":\\\\\"link\\\\\",\\\\\"linkId\\\\\":{\\\\\"type\\\\\":\\\\\"topic\\\\\",\\\\\"kind\\\\\":\\\\\"post-type\\\\\",\\\\\"target\\\\\":\\\\\"_self\\\\\",\\\\\"id\\\\\":116002,\\\\\"url\\\\\":\\\\\"https:\\\\\\\\/\\\\\\\\/science.nasa.gov\\\\\\\\/astrophysics\\\\\\\\/astrophysics-fleet-chart\\\\\\\\/\\\\\",\\\\\"title\\\\\":\\\\\"Astrophysics Fleet Chart\\\\\",\\\\\"external\\\\\":true}}]},{\\\\\"link_title\\\\\":\\\\\"The Universe\\\\\",\\\\\"linkType\\\\\":\\\\\"link\\\\\",\\\\\"anchorId\\\\\":\\\\\"\\\\\",\\\\\"linkId\\\\\":{\\\\\"type\\\\\":\\\\\"topic-ext\\\\\",\\\\\"kind\\\\\":\\\\\"post-type\\\\\",\\\\\"target\\\\\":\\\\\"_self\\\\\",\\\\\"title\\\\\":\\\\\"The Universe\\\\\",\\\\\"external\\\\\":true,\\\\\"url\\\\\":\\\\\"https:\\\\\\\\/\\\\\\\\/science.nasa.gov\\\\\\\\/universe\\\\\"},\\\\\"subMenus\\\\\":[{\\\\\"link_title\\\\\":\\\\\"Programs Overview\\\\\",\\\\\"linkType\\\\\":\\\\\"link\\\\\",\\\\\"linkId\\\\\":{\\\\\"type\\\\\":\\\\\"topic\\\\\",\\\\\"kind\\\\\":\\\\\"post-type\\\\\",\\\\\"target\\\\\":\\\\\"_self\\\\\",\\\\\"id\\\\\":19767,\\\\\"url\\\\\":\\\\\"https:\\\\\\\\/\\\\\\\\/science.nasa.gov\\\\\\\\/astrophysics\\\\\\\\/programs\\\\\\\\/\\\\\",\\\\\"title\\\\\":\\\\\"Programs\\\\\",\\\\\"external\\\\\":true}},{\\\\\"link_title\\\\\":\\\\\"Physics of the Cosmos\\\\\",\\\\\"linkType\\\\\":\\\\\"link\\\\\",\\\\\"linkId\\\\\":{\\\\\"type\\\\\":\\\\\"topic\\\\\",\\\\\"kind\\\\\":\\\\\"post-type\\\\\",\\\\\"target\\\\\":\\\\\"_self\\\\\",\\\\\"id\\\\\":19770,\\\\\"url\\\\\":\\\\\"https:\\\\\\\\/\\\\\\\\/science.nasa.gov\\\\\\\\/astrophysics\\\\\\\\/programs\\\\\\\\/physics-of-the-cosmos\\\\\\\\/\\\\\",\\\\\"title\\\\\":\\\\\"Physics of the Cosmos\\\\\",\\\\\"external\\\\\":true}}]}]\",\"default\",\"{\\\\\"title\\\\\":\\\\\"Astrophysics\\\\\",\\\\\"url\\\\\":\\\\\"https:\\\\\\\\/\\\\\\\\/science.nasa.gov\\\\\\\\/?hdsnav=astrophysics\\\\\"}\",null,[847,851,856,859,862,865,868,871,874,877,880,883,886,889,892,895,898,901,904,907,910,913,916,920,1080],[\"null\",\"__typename\",803,\"attributes\",848],[\"null\",\"__typename\",849,\"anchor\",16,\"content\",850],\"CoreParagraphBlockAttributes\",\"Don\\'t let the name fool you: a black hole is anything but empty space. Rather, it is a great amount of matter packed into a very small area - think of a star ten times more massive than the Sun squeezed into a sphere approximately the diameter of New York City. The result is a gravitational field so strong that nothing, not even light, can escape. In recent years, NASA instruments have painted a new picture of these strange objects that are, to many, the most fascinating objects in space.\",[\"null\",\"__typename\",805,\"attributes\",852],[\"null\",\"__typename\",853,\"anchor\",16,\"imageAlign\",854,\"backgroundHydrated\",855],\"CoreImageBlockAttributes\",\"inline\",\"{\\\\\"id\\\\\":25447,\\\\\"url\\\\\":\\\\\"https:\\\\\\\\/\\\\\\\\/smd-cms.nasa.gov\\\\\\\\/wp-content\\\\\\\\/uploads\\\\\\\\/2023\\\\\\\\/04\\\\\\\\/SWIFT_2-jpg.webp?w=480\\\\\",\\\\\"alt\\\\\":\\\\\"Swift\\\\\",\\\\\"caption\\\\\":\\\\\"\\\\\",\\\\\"credits\\\\\":\\\\\"\\\\\",\\\\\"fit\\\\\":\\\\\"fit\\\\\",\\\\\"zoom\\\\\":0,\\\\\"focalPoint\\\\\":{\\\\\"x\\\\\":\\\\\".50\\\\\",\\\\\"y\\\\\":\\\\\".50\\\\\"},\\\\\"parallax\\\\\":\\\\\"no\\\\\",\\\\\"detailLink\\\\\":null,\\\\\"fullyHydrated\\\\\":true,\\\\\"contentType\\\\\":\\\\\"image\\\\\",\\\\\"width\\\\\":480,\\\\\"height\\\\\":231,\\\\\"sizes\\\\\":\\\\\"(max-width: 480px) 100vw, 480px\\\\\",\\\\\"srcSet\\\\\":\\\\\"https:\\\\\\\\/\\\\\\\\/smd-cms.nasa.gov\\\\\\\\/wp-content\\\\\\\\/uploads\\\\\\\\/2023\\\\\\\\/04\\\\\\\\/SWIFT_2-jpg.webp 480w, https:\\\\\\\\/\\\\\\\\/smd-cms.nasa.gov\\\\\\\\/wp-content\\\\\\\\/uploads\\\\\\\\/2023\\\\\\\\/04\\\\\\\\/SWIFT_2-jpg.webp?resize=300,144 300w, https:\\\\\\\\/\\\\\\\\/smd-cms.nasa.gov\\\\\\\\/wp-content\\\\\\\\/uploads\\\\\\\\/2023\\\\\\\\/04\\\\\\\\/SWIFT_2-jpg.webp?resize=400,193 400w\\\\\"}\",[\"null\",\"__typename\",803,\"attributes\",857],[\"null\",\"__typename\",849,\"anchor\",16,\"content\",858],\"Intense X-ray flares thought to be caused by a black hole devouring a star. (Video)\",[\"null\",\"__typename\",803,\"attributes\",860],[\"null\",\"__typename\",849,\"anchor\",16,\"content\",861],\"\\\\u003Ca href=\\\\\"http://www.nasa.gov/mission_pages/swift/bursts/devoured-star.html\\\\\">Watch the Video\\\\u003C/a>\",[\"null\",\"__typename\",803,\"attributes\",863],[\"null\",\"__typename\",849,\"anchor\",16,\"content\",864],\"\\\\u003Cbr>The idea of an object in space so massive and dense that light could not escape it has been around for centuries. Most famously, black holes were predicted by Einstein\\'s theory of general relativity, which showed that when a massive star dies, it leaves behind a small, dense remnant core. If the core\\'s mass is more than about three times the mass of the Sun, the equations showed, the force of gravity overwhelms all other forces and produces a black hole.\",[\"null\",\"__typename\",805,\"attributes\",866],[\"null\",\"__typename\",853,\"anchor\",16,\"imageAlign\",854,\"backgroundHydrated\",867],\"{\\\\\"id\\\\\":25448,\\\\\"url\\\\\":\\\\\"https:\\\\\\\\/\\\\\\\\/smd-cms.nasa.gov\\\\\\\\/wp-content\\\\\\\\/uploads\\\\\\\\/2023\\\\\\\\/04\\\\\\\\/Capture-jpg.webp?w=480\\\\\",\\\\\"alt\\\\\":\\\\\"Black Holes\\\\\",\\\\\"caption\\\\\":\\\\\"\\\\\",\\\\\"credits\\\\\":\\\\\"\\\\\",\\\\\"fit\\\\\":\\\\\"fit\\\\\",\\\\\"zoom\\\\\":0,\\\\\"focalPoint\\\\\":{\\\\\"x\\\\\":\\\\\".50\\\\\",\\\\\"y\\\\\":\\\\\".50\\\\\"},\\\\\"parallax\\\\\":\\\\\"no\\\\\",\\\\\"detailLink\\\\\":null,\\\\\"fullyHydrated\\\\\":true,\\\\\"contentType\\\\\":\\\\\"image\\\\\",\\\\\"width\\\\\":480,\\\\\"height\\\\\":271,\\\\\"sizes\\\\\":\\\\\"(max-width: 480px) 100vw, 480px\\\\\",\\\\\"srcSet\\\\\":\\\\\"https:\\\\\\\\/\\\\\\\\/smd-cms.nasa.gov\\\\\\\\/wp-content\\\\\\\\/uploads\\\\\\\\/2023\\\\\\\\/04\\\\\\\\/Capture-jpg.webp 480w, https:\\\\\\\\/\\\\\\\\/smd-cms.nasa.gov\\\\\\\\/wp-content\\\\\\\\/uploads\\\\\\\\/2023\\\\\\\\/04\\\\\\\\/Capture-jpg.webp?resize=300,169 300w, https:\\\\\\\\/\\\\\\\\/smd-cms.nasa.gov\\\\\\\\/wp-content\\\\\\\\/uploads\\\\\\\\/2023\\\\\\\\/04\\\\\\\\/Capture-jpg.webp?resize=400,226 400w\\\\\"}\",[\"null\",\"__typename\",803,\"attributes\",869],[\"null\",\"__typename\",849,\"anchor\",16,\"content\",870],\"A video about black holes.\",[\"null\",\"__typename\",803,\"attributes\",872],[\"null\",\"__typename\",849,\"anchor\",16,\"content\",873],\"\\\\u003Ca href=\\\\\"http://chandra.harvard.edu/learn_bh.html\\\\\">Watch the video\\\\u003C/a>\",[\"null\",\"__typename\",803,\"attributes\",875],[\"null\",\"__typename\",849,\"anchor\",16,\"content\",876],\"\\\\u003Cbr>Scientists can\\'t directly observe black holes with telescopes that detect x-rays, light, or other forms of electromagnetic radiation. We can, however, infer the presence of black holes and study them by detecting their effect on other matter nearby. If a black hole passes through a cloud of interstellar matter, for example, it will draw matter inward in a process known as accretion. A similar process can occur if a normal star passes close to a black hole. In this case, the black hole can tear the star apart as it pulls it toward itself. As the attracted matter accelerates and heats up, it emits x-rays that radiate into space. Recent discoveries offer some tantalizing evidence that black holes have a dramatic influence on the neighborhoods around them - emitting powerful gamma ray bursts, devouring nearby stars, and spurring the growth of new stars in some areas while stalling it in others.\",[\"null\",\"__typename\",803,\"attributes\",878],[\"null\",\"__typename\",849,\"anchor\",16,\"content\",879],\"\\\\u003Cstrong>One Star\\'s End is a Black Hole\\'s Beginning\\\\u003C/strong>\",[\"null\",\"__typename\",803,\"attributes\",881],[\"null\",\"__typename\",849,\"anchor\",16,\"content\",882],\"Most black holes form from the remnants of a large star that dies in a supernova explosion. (Smaller stars become dense neutron stars, which are not massive enough to trap light.) If the total mass of the star is large enough (about three times the mass of the Sun), it can be proven theoretically that no force can keep the star from collapsing under the influence of gravity. However, as the star collapses, a strange thing occurs. As the surface of the star nears an imaginary surface called the \\\\\"event horizon,\\\\\" time on the star slows relative to the time kept by observers far away. When the surface reaches the event horizon, time stands still, and the star can collapse no more - it is a frozen collapsing object.\",[\"null\",\"__typename\",805,\"attributes\",884],[\"null\",\"__typename\",853,\"anchor\",16,\"imageAlign\",854,\"backgroundHydrated\",885],\"{\\\\\"id\\\\\":25449,\\\\\"url\\\\\":\\\\\"https:\\\\\\\\/\\\\\\\\/smd-cms.nasa.gov\\\\\\\\/wp-content\\\\\\\\/uploads\\\\\\\\/2023\\\\\\\\/04\\\\\\\\/RXTE_Heartbeat-jpg.webp?w=480\\\\\",\\\\\"alt\\\\\":\\\\\"Black Hole Jets\\\\\",\\\\\"caption\\\\\":\\\\\"\\\\\",\\\\\"credits\\\\\":\\\\\"\\\\\",\\\\\"fit\\\\\":\\\\\"fit\\\\\",\\\\\"zoom\\\\\":0,\\\\\"focalPoint\\\\\":{\\\\\"x\\\\\":\\\\\".50\\\\\",\\\\\"y\\\\\":\\\\\".50\\\\\"},\\\\\"parallax\\\\\":\\\\\"no\\\\\",\\\\\"detailLink\\\\\":null,\\\\\"fullyHydrated\\\\\":true,\\\\\"contentType\\\\\":\\\\\"image\\\\\",\\\\\"width\\\\\":480,\\\\\"height\\\\\":229,\\\\\"sizes\\\\\":\\\\\"(max-width: 480px) 100vw, 480px\\\\\",\\\\\"srcSet\\\\\":\\\\\"https:\\\\\\\\/\\\\\\\\/smd-cms.nasa.gov\\\\\\\\/wp-content\\\\\\\\/uploads\\\\\\\\/2023\\\\\\\\/04\\\\\\\\/RXTE_Heartbeat-jpg.webp 480w, https:\\\\\\\\/\\\\\\\\/smd-cms.nasa.gov\\\\\\\\/wp-content\\\\\\\\/uploads\\\\\\\\/2023\\\\\\\\/04\\\\\\\\/RXTE_Heartbeat-jpg.webp?resize=300,143 300w, https:\\\\\\\\/\\\\\\\\/smd-cms.nasa.gov\\\\\\\\/wp-content\\\\\\\\/uploads\\\\\\\\/2023\\\\\\\\/04\\\\\\\\/RXTE_Heartbeat-jpg.webp?resize=400,191 400w\\\\\"}\",[\"null\",\"__typename\",803,\"attributes\",887],[\"null\",\"__typename\",849,\"anchor\",16,\"content\",888],\"Astronomers have identified a candidate for the smallest-known black hole. (Video)\",[\"null\",\"__typename\",803,\"attributes\",890],[\"null\",\"__typename\",849,\"anchor\",16,\"content\",891],\"\\\\u003Ca href=\\\\\"http://www.nasa.gov/topics/universe/features/black-hole-heartbeat.html\\\\\">Watch the Video\\\\u003C/a>\",[\"null\",\"__typename\",803,\"attributes\",893],[\"null\",\"__typename\",849,\"anchor\",16,\"content\",894],\"\\\\u003Cbr>Even bigger black holes can result from stellar collisions. Soon after its launch in December 2004, NASA\\'s Swift telescope observed the powerful, fleeting flashes of light known as gamma ray bursts. Chandra and NASA\\'s Hubble Space Telescope later collected data from the event\\'s \\\\\"afterglow,\\\\\" and together the observations led astronomers to conclude that the powerful explosions can result when a black hole and a neutron star collide, producing another black hole.\",[\"null\",\"__typename\",803,\"attributes\",896],[\"null\",\"__typename\",849,\"anchor\",16,\"content\",897],\"\\\\u003Cstrong>Babies and Giants\\\\u003C/strong>\",[\"null\",\"__typename\",803,\"attributes\",899],[\"null\",\"__typename\",849,\"anchor\",16,\"content\",900],\"Although the basic formation process is understood, one perennial mystery in the science of black holes is that they appear to exist on two radically different size scales. On the one end, there are the countless black holes that are the remnants of massive stars. Peppered throughout the Universe, these \\\\\"stellar mass\\\\\" black holes are generally 10 to 24 times as massive as the Sun. Astronomers spot them when another star draws near enough for some of the matter surrounding it to be snared by the black hole\\'s gravity, churning out x-rays in the process. Most stellar black holes, however, are very difficult to detect. Judging from the number of stars large enough to produce such black holes, however, scientists estimate that there are as many as ten million to a billion such black holes in the Milky Way alone.\",[\"null\",\"__typename\",803,\"attributes\",902],[\"null\",\"__typename\",849,\"anchor\",16,\"content\",903],\"On the other end of the size spectrum are the giants known as \\\\\"supermassive\\\\\" black holes, which are millions, if not billions, of times as massive as the Sun. Astronomers believe that supermassive black holes lie at the center of virtually all large galaxies, even our own Milky Way. Astronomers can detect them by watching for their effects on nearby stars and gas.\",[\"null\",\"__typename\",805,\"attributes\",905],[\"null\",\"__typename\",853,\"anchor\",16,\"imageAlign\",854,\"backgroundHydrated\",906],\"{\\\\\"id\\\\\":25450,\\\\\"url\\\\\":\\\\\"https:\\\\\\\\/\\\\\\\\/smd-cms.nasa.gov\\\\\\\\/wp-content\\\\\\\\/uploads\\\\\\\\/2023\\\\\\\\/04\\\\\\\\/pia18842-harrison-2-jpg.webp?w=480\\\\\",\\\\\"alt\\\\\":\\\\\"Observed Mass Ranges of Compact Objects\\\\\",\\\\\"caption\\\\\":\\\\\"\\\\\",\\\\\"credits\\\\\":\\\\\"\\\\\",\\\\\"fit\\\\\":\\\\\"fit\\\\\",\\\\\"zoom\\\\\":0,\\\\\"focalPoint\\\\\":{\\\\\"x\\\\\":\\\\\".50\\\\\",\\\\\"y\\\\\":\\\\\".50\\\\\"},\\\\\"parallax\\\\\":\\\\\"no\\\\\",\\\\\"detailLink\\\\\":null,\\\\\"fullyHydrated\\\\\":true,\\\\\"contentType\\\\\":\\\\\"image\\\\\",\\\\\"width\\\\\":480,\\\\\"height\\\\\":270,\\\\\"sizes\\\\\":\\\\\"(max-width: 480px) 100vw, 480px\\\\\",\\\\\"srcSet\\\\\":\\\\\"https:\\\\\\\\/\\\\\\\\/smd-cms.nasa.gov\\\\\\\\/wp-content\\\\\\\\/uploads\\\\\\\\/2023\\\\\\\\/04\\\\\\\\/pia18842-harrison-2-jpg.webp 480w, https:\\\\\\\\/\\\\\\\\/smd-cms.nasa.gov\\\\\\\\/wp-content\\\\\\\\/uploads\\\\\\\\/2023\\\\\\\\/04\\\\\\\\/pia18842-harrison-2-jpg.webp?resize=300,169 300w, https:\\\\\\\\/\\\\\\\\/smd-cms.nasa.gov\\\\\\\\/wp-content\\\\\\\\/uploads\\\\\\\\/2023\\\\\\\\/04\\\\\\\\/pia18842-harrison-2-jpg.webp?resize=400,225 400w\\\\\"}\",[\"null\",\"__typename\",803,\"attributes\",908],[\"null\",\"__typename\",849,\"anchor\",16,\"content\",909],\"This chart shows the relative masses of super-dense cosmic objects.\",[\"null\",\"__typename\",803,\"attributes\",911],[\"null\",\"__typename\",849,\"anchor\",16,\"content\",912],\"\\\\u003Ca href=\\\\\"http://www.nasa.gov/jpl/nustar/pia18842/#.VZpygEimAqM\\\\\">Read the full article\\\\u003C/a>\",[\"null\",\"__typename\",803,\"attributes\",914],[\"null\",\"__typename\",849,\"anchor\",16,\"content\",915],\"\\\\u003Cbr>Historically, astronomers have long believed that no mid-sized black holes exist.  However, recent evidence from Chandra, XMM-Newton and Hubble strengthens the case that mid-size black holes do exist. One possible mechanism for the formation of supermassive black holes involves a chain reaction of collisions of stars in compact star clusters that results in the buildup of extremely massive stars, which then collapse to form intermediate-mass black holes. The star clusters then sink to the center of the galaxy, where the intermediate-mass black holes merge to form a supermassive black hole.\",[\"null\",\"__typename\",827,\"attributes\",917],[\"null\",\"__typename\",918,\"anchor\",16,\"content\",919,\"level\",89,\"strippedContent\",919],\"CoreHeadingBlockAttributes\",\"Recent Discoveries\",[\"null\",\"__typename\",829,\"attributes\",921],[\"null\",\"__typename\",922,\"align\",16,\"anchor\",16,\"hasFixedLayout\",36,\"caption\",16,\"head\",923,\"body\",924,\"foot\",1079],\"CoreTableBlockAttributes\",[],[925,934,941,947,953,959,965,971,977,983,989,995,1001,1007,1013,1019,1025,1031,1037,1043,1049,1055,1061,1067,1073],[\"null\",\"__typename\",926,\"cells\",927],\"CoreTableBlockAttributesBody\",[928,932],[\"null\",\"__typename\",929,\"align\",16,\"tag\",930,\"rowspan\",16,\"colspan\",16,\"content\",931],\"CoreTableBlockAttributesBodyCells\",\"th\",\"Date\",[\"null\",\"__typename\",929,\"align\",16,\"tag\",930,\"rowspan\",16,\"colspan\",16,\"content\",933],\"Discovery\",[\"null\",\"__typename\",926,\"cells\",935],[936,939],[\"null\",\"__typename\",929,\"align\",16,\"tag\",937,\"rowspan\",16,\"colspan\",16,\"content\",938],\"td\",\"December 20, 2022\",[\"null\",\"__typename\",929,\"align\",16,\"tag\",937,\"rowspan\",16,\"colspan\",16,\"content\",940],\"\\\\u003Ca href=\\\\\"https://www.nustar.caltech.edu/news/nustar221220\\\\\">NASA Gets Unusual Close Glimpse of Black Hole Snacking on Star\\\\u003C/a>\",[\"null\",\"__typename\",926,\"cells\",942],[943,945],[\"null\",\"__typename\",929,\"align\",16,\"tag\",937,\"rowspan\",16,\"colspan\",16,\"content\",944],\"November 23, 2022\",[\"null\",\"__typename\",929,\"align\",16,\"tag\",937,\"rowspan\",16,\"colspan\",16,\"content\",946],\"\\\\u003Ca href=\\\\\"https://www.nasa.gov/feature/nasa-s-ixpe-helps-solve-black-hole-jet-mystery\\\\\">IXPE Helps Solve Black Hole Jet Mystery\\\\u003C/a>\",[\"null\",\"__typename\",926,\"cells\",948],[949,951],[\"null\",\"__typename\",929,\"align\",16,\"tag\",937,\"rowspan\",16,\"colspan\",16,\"content\",950],\"November 21, 2022\",[\"null\",\"__typename\",929,\"align\",16,\"tag\",937,\"rowspan\",16,\"colspan\",16,\"content\",952],\"\\\\u003Ca href=\\\\\"https://chandra.harvard.edu/photo/2022/sonify6/\\\\\">\\'Listen\\' to the Light Echoes From a Black Hole\\\\u003C/a>\",[\"null\",\"__typename\",926,\"cells\",954],[955,957],[\"null\",\"__typename\",929,\"align\",16,\"tag\",937,\"rowspan\",16,\"colspan\",16,\"content\",956],\"November 10, 2022\",[\"null\",\"__typename\",929,\"align\",16,\"tag\",937,\"rowspan\",16,\"colspan\",16,\"content\",958],\"\\\\u003Ca href=\\\\\"https://blogs.nasa.gov/sofia/2022/11/10/magnetic-fields-help-black-holes-reach-deeper-into-galaxies/\\\\\">Magnetic Fields Help Black Holes Reach Deeper Into Galaxies\\\\u003C/a>\",[\"null\",\"__typename\",926,\"cells\",960],[961,963],[\"null\",\"__typename\",929,\"align\",16,\"tag\",937,\"rowspan\",16,\"colspan\",16,\"content\",962],\"November 3, 2022\",[\"null\",\"__typename\",929,\"align\",16,\"tag\",937,\"rowspan\",16,\"colspan\",16,\"content\",964],\"\\\\u003Ca href=\\\\\"https://www.nasa.gov/mission_pages/ixpe/news/2022/nasa-s-ixpe-reveals-shape-orientation-of-hot-matter-around-black-hole.html\\\\\">IXPE Reveals Shape, Orientation of Hot Matter Around Black Hole\\\\u003C/a>\",[\"null\",\"__typename\",926,\"cells\",966],[967,969],[\"null\",\"__typename\",929,\"align\",16,\"tag\",937,\"rowspan\",16,\"colspan\",16,\"content\",968],\"October 13, 2022\",[\"null\",\"__typename\",929,\"align\",16,\"tag\",937,\"rowspan\",16,\"colspan\",16,\"content\",970],\"\\\\u003Ca href=\\\\\"https://www.nasa.gov/feature/goddard/2022/nasa-s-swift-fermi-missions-detect-exceptional-cosmic-blast\\\\\">Swift, Fermi Missions Detect Exceptional Cosmic Blast\\\\u003C/a>\",[\"null\",\"__typename\",926,\"cells\",972],[973,975],[\"null\",\"__typename\",929,\"align\",16,\"tag\",937,\"rowspan\",16,\"colspan\",16,\"content\",974],\"August 18, 2022\",[\"null\",\"__typename\",929,\"align\",16,\"tag\",937,\"rowspan\",16,\"colspan\",16,\"content\",976],\"\\\\u003Ca href=\\\\\"https://chandra.harvard.edu/photo/2022/ngc4424/\\\\\">NASA Telescopes Capture Stellar Delivery Service for Black Hole (NGC 4424)\\\\u003C/a>\",[\"null\",\"__typename\",926,\"cells\",978],[979,981],[\"null\",\"__typename\",929,\"align\",16,\"tag\",937,\"rowspan\",16,\"colspan\",16,\"content\",980],\"June 30, 2022\",[\"null\",\"__typename\",929,\"align\",16,\"tag\",937,\"rowspan\",16,\"colspan\",16,\"content\",982],\"\\\\u003Ca href=\\\\\"https://chandra.harvard.edu/photo/2022/h1821/\\\\\">Chandra Shows Giant Black Hole Spins Slower Than Its Peers (H1821+243)\\\\u003C/a>\",[\"null\",\"__typename\",926,\"cells\",984],[985,987],[\"null\",\"__typename\",929,\"align\",16,\"tag\",937,\"rowspan\",16,\"colspan\",16,\"content\",986],\"June 10, 2022\",[\"null\",\"__typename\",929,\"align\",16,\"tag\",937,\"rowspan\",16,\"colspan\",16,\"content\",988],\"\\\\u003Ca href=\\\\\"https://hubblesite.org/contents/news-releases/2022/news-2022-001\\\\\">Hubble Determines Mass of Isolated Black Hole Roaming Our Milky Way Galaxy\\\\u003C/a>\",[\"null\",\"__typename\",926,\"cells\",990],[991,993],[\"null\",\"__typename\",929,\"align\",16,\"tag\",937,\"rowspan\",16,\"colspan\",16,\"content\",992],\"May 12, 2022\",[\"null\",\"__typename\",929,\"align\",16,\"tag\",937,\"rowspan\",16,\"colspan\",16,\"content\",994],\"\\\\u003Ca href=\\\\\"https://chandra.harvard.edu/photo/2022/sgra/\\\\\">NASA Telescopes Support Event Horizon Telescope in Studying Milky Way\\'s Black Hole (Sagittarius A*)\\\\u003C/a>\",[\"null\",\"__typename\",926,\"cells\",996],[997,999],[\"null\",\"__typename\",929,\"align\",16,\"tag\",937,\"rowspan\",16,\"colspan\",16,\"content\",998],\"May 5, 2022\",[\"null\",\"__typename\",929,\"align\",16,\"tag\",937,\"rowspan\",16,\"colspan\",16,\"content\",1000],\"\\\\u003Ca href=\\\\\"https://www.nasa.gov/feature/goddard/2022/nasa-s-swift-tracks-potential-magnetic-flip-of-monster-black-hole/\\\\\">Swift Tracks Potential Magnetic Flip of Monster Black Hole\\\\u003C/a>\",[\"null\",\"__typename\",926,\"cells\",1002],[1003,1005],[\"null\",\"__typename\",929,\"align\",16,\"tag\",937,\"rowspan\",16,\"colspan\",16,\"content\",1004],\"May 4, 2022\",[\"null\",\"__typename\",929,\"align\",16,\"tag\",937,\"rowspan\",16,\"colspan\",16,\"content\",1006],\"\\\\u003Ca href=\\\\\"https://chandra.harvard.edu/photo/2022/sonify5/\\\\\">New NASA Black Hole Sonifications with a Remix\\\\u003C/a>\",[\"null\",\"__typename\",926,\"cells\",1008],[1009,1011],[\"null\",\"__typename\",929,\"align\",16,\"tag\",937,\"rowspan\",16,\"colspan\",16,\"content\",1010],\"April 20, 2022\",[\"null\",\"__typename\",929,\"align\",16,\"tag\",937,\"rowspan\",16,\"colspan\",16,\"content\",1012],\"\\\\u003Ca href=\\\\\"https://chandra.harvard.edu/photo/2022/imbhs/\\\\\">Black Holes Raze Thousands of Stars to Fuel Growth\\\\u003C/a>\",[\"null\",\"__typename\",926,\"cells\",1014],[1015,1017],[\"null\",\"__typename\",929,\"align\",16,\"tag\",937,\"rowspan\",16,\"colspan\",16,\"content\",1016],\"April 13, 2022\",[\"null\",\"__typename\",929,\"align\",16,\"tag\",937,\"rowspan\",16,\"colspan\",16,\"content\",1018],\"\\\\u003Ca href=\\\\\"https://hubblesite.org/contents/news-releases/2022/news-2022-019\\\\\">Hubble Sheds Light on Origins of Supermassive Black Holes\\\\u003C/a>\",[\"null\",\"__typename\",926,\"cells\",1020],[1021,1023],[\"null\",\"__typename\",929,\"align\",16,\"tag\",937,\"rowspan\",16,\"colspan\",16,\"content\",1022],\"April 7, 2022\",[\"null\",\"__typename\",929,\"align\",16,\"tag\",937,\"rowspan\",16,\"colspan\",16,\"content\",1024],\"\\\\u003Ca href=\\\\\"https://www.nasa.gov/feature/goddard/2022/nasa-s-fermi-hunts-for-gravitational-waves-from-monster-black-holes/\\\\\">Fermi Hunts for Gravitational Waves From Monster Black Holes\\\\u003C/a>\",[\"null\",\"__typename\",926,\"cells\",1026],[1027,1029],[\"null\",\"__typename\",929,\"align\",16,\"tag\",937,\"rowspan\",16,\"colspan\",16,\"content\",1028],\"March 31, 2022\",[\"null\",\"__typename\",929,\"align\",16,\"tag\",937,\"rowspan\",16,\"colspan\",16,\"content\",1030],\"\\\\u003Ca href=\\\\\"https://chandra.harvard.edu/photo/2022/spiderweb/\\\\\">Feasting Black Holes Caught in Galactic Spiderweb (Spiderweb Galaxy Field)\\\\u003C/a>\",[\"null\",\"__typename\",926,\"cells\",1032],[1033,1035],[\"null\",\"__typename\",929,\"align\",16,\"tag\",937,\"rowspan\",16,\"colspan\",16,\"content\",1034],\"February 22, 2022\",[\"null\",\"__typename\",929,\"align\",16,\"tag\",937,\"rowspan\",16,\"colspan\",16,\"content\",1036],\"\\\\u003Ca href=\\\\\"https://blogs.nasa.gov/sofia/2022/02/22/how-magnetic-fields-help-feed-a-supermassive-black-hole/\\\\\">How Magnetic Fields Help Feed a Supermassive Black Hole\\\\u003C/a>\",[\"null\",\"__typename\",926,\"cells\",1038],[1039,1041],[\"null\",\"__typename\",929,\"align\",16,\"tag\",937,\"rowspan\",16,\"colspan\",16,\"content\",1040],\"January 19, 2022\",[\"null\",\"__typename\",929,\"align\",16,\"tag\",937,\"rowspan\",16,\"colspan\",16,\"content\",1042],\"\\\\u003Ca href=\\\\\"https://hubblesite.org/contents/news-releases/2022/news-2022-002\\\\\">Hubble Finds a Black Hole Igniting Star Formation in a Dwarf Galaxy\\\\u003C/a>\",[\"null\",\"__typename\",926,\"cells\",1044],[1045,1047],[\"null\",\"__typename\",929,\"align\",16,\"tag\",937,\"rowspan\",16,\"colspan\",16,\"content\",1046],\"January 10, 2022\",[\"null\",\"__typename\",929,\"align\",16,\"tag\",937,\"rowspan\",16,\"colspan\",16,\"content\",1048],\"\\\\u003Ca href=\\\\\"https://chandra.harvard.edu/photo/2022/mrk462/\\\\\">\\\\\"Mini\\\\\" Monster Black Hole Could Hold Clues to Giant\\'s Growth (Mrk 462)\\\\u003C/a>\",[\"null\",\"__typename\",926,\"cells\",1050],[1051,1053],[\"null\",\"__typename\",929,\"align\",16,\"tag\",937,\"rowspan\",16,\"colspan\",16,\"content\",1052],\"December 16, 2021\",[\"null\",\"__typename\",929,\"align\",16,\"tag\",937,\"rowspan\",16,\"colspan\",16,\"content\",1054],\"\\\\u003Ca href=\\\\\"https://chandra.harvard.edu/photo/2021/rbs797/\\\\\">Astronomers Spy Quartet of Cavities From Giant Black Holes: RBS 797\\\\u003C/a>\",[\"null\",\"__typename\",926,\"cells\",1056],[1057,1059],[\"null\",\"__typename\",929,\"align\",16,\"tag\",937,\"rowspan\",16,\"colspan\",16,\"content\",1058],\"December 9, 2021\",[\"null\",\"__typename\",929,\"align\",16,\"tag\",937,\"rowspan\",16,\"colspan\",16,\"content\",1060],\"\\\\u003Ca href=\\\\\"https://hubblesite.org/contents/news-releases/2021/news-2021-062\\\\\">Mini-Jet Found Near Milky Way\\'s Supermassive Black Hole\\\\u003C/a>\",[\"null\",\"__typename\",926,\"cells\",1062],[1063,1065],[\"null\",\"__typename\",929,\"align\",16,\"tag\",937,\"rowspan\",16,\"colspan\",16,\"content\",1064],\"November 10, 2021\",[\"null\",\"__typename\",929,\"align\",16,\"tag\",937,\"rowspan\",16,\"colspan\",16,\"content\",1066],\"\\\\u003Ca href=\\\\\"https://www.nustar.caltech.edu/news/132\\\\\">Black Holes Can Tell Us the Expansion Rate of the Universe\\\\u003C/a>\",[\"null\",\"__typename\",926,\"cells\",1068],[1069,1071],[\"null\",\"__typename\",929,\"align\",16,\"tag\",937,\"rowspan\",16,\"colspan\",16,\"content\",1070],\"September 16, 2021\",[\"null\",\"__typename\",929,\"align\",16,\"tag\",937,\"rowspan\",16,\"colspan\",16,\"content\",1072],\"\\\\u003Ca href=\\\\\"https://chandra.harvard.edu/photo/2021/sonify4/\\\\\">Jingle, Pluck, and Hum: Sounds from Space\\\\u003C/a>\",[\"null\",\"__typename\",926,\"cells\",1074],[1075,1077],[\"null\",\"__typename\",929,\"align\",16,\"tag\",937,\"rowspan\",16,\"colspan\",16,\"content\",1076],\"August 5, 2021\",[\"null\",\"__typename\",929,\"align\",16,\"tag\",937,\"rowspan\",16,\"colspan\",16,\"content\",1078],\"\\\\u003Ca href=\\\\\"https://chandra.harvard.edu/photo/2021/v404cyg/\\\\\">Huge Rings Around a Black Hole (V404 Cygni)\\\\u003C/a>\",[],[\"null\",\"__typename\",833],[1082],[\"null\",\"__typename\",831,\"attributes\",1083],[\"null\",\"__typename\",1084,\"align\",1085,\"anchor\",16,\"cardsHydrated\",1086,\"heading\",1091,\"label\",1092,\"linkIdHydrated\",1093,\"moreLink\",1094],\"NasaBlocksTopicCardsBlockAttributes\",\"full\",[1087,1088,1089,1090],\"{\\\\\"id\\\\\":\\\\\"16952\\\\\",\\\\\"title\\\\\":\\\\\"James Webb Space Telescope\\\\\",\\\\\"excerpt\\\\\":\\\\\"Webb is the premier observatory of the next decade, serving thousands of astronomers worldwide. It studies every phase in the history of our Universe.\\\\\",\\\\\"featuredImage\\\\\":{\\\\\"id\\\\\":16953,\\\\\"url\\\\\":\\\\\"https:\\\\\\\\/\\\\\\\\/smd-cms.nasa.gov\\\\\\\\/wp-content\\\\\\\\/uploads\\\\\\\\/2023\\\\\\\\/03\\\\\\\\/main-image-star-forming-region-carina-nircam-final-5mb-1-jpeg.webp?w=640\\\\\",\\\\\"alt\\\\\":\\\\\"\\\\\",\\\\\"caption\\\\\":\\\\\"A star is born! Behind the curtain of dust and gas in these \\\\\\\\u201cCosmic Cliffs\\\\\\\\u201d are previously hidden baby stars, now uncovered by Webb.\\\\\",\\\\\"credits\\\\\":\\\\\"NASA, ESA, CSA, and STScI\\\\\",\\\\\"fit\\\\\":\\\\\"cover\\\\\",\\\\\"zoom\\\\\":0,\\\\\"focalPoint\\\\\":{\\\\\"x\\\\\":0.5,\\\\\"y\\\\\":0.5},\\\\\"parallax\\\\\":\\\\\"no\\\\\",\\\\\"detailLink\\\\\":null,\\\\\"fullyHydrated\\\\\":true,\\\\\"contentType\\\\\":\\\\\"image\\\\\",\\\\\"width\\\\\":640,\\\\\"height\\\\\":371,\\\\\"sizes\\\\\":\\\\\"(max-width: 640px) 100vw, 640px\\\\\",\\\\\"srcSet\\\\\":\\\\\"https:\\\\\\\\/\\\\\\\\/smd-cms.nasa.gov\\\\\\\\/wp-content\\\\\\\\/uploads\\\\\\\\/2023\\\\\\\\/03\\\\\\\\/main-image-star-forming-region-carina-nircam-final-5mb-1-jpeg.webp 3600w, https:\\\\\\\\/\\\\\\\\/smd-cms.nasa.gov\\\\\\\\/wp-content\\\\\\\\/uploads\\\\\\\\/2023\\\\\\\\/03\\\\\\\\/main-image-star-forming-region-carina-nircam-final-5mb-1-jpeg.webp?resize=300,174 300w, https:\\\\\\\\/\\\\\\\\/smd-cms.nasa.gov\\\\\\\\/wp-content\\\\\\\\/uploads\\\\\\\\/2023\\\\\\\\/03\\\\\\\\/main-image-star-forming-region-carina-nircam-final-5mb-1-jpeg.webp?resize=768,445 768w, https:\\\\\\\\/\\\\\\\\/smd-cms.nasa.gov\\\\\\\\/wp-content\\\\\\\\/uploads\\\\\\\\/2023\\\\\\\\/03\\\\\\\\/main-image-star-forming-region-carina-nircam-final-5mb-1-jpeg.webp?resize=1024,593 1024w, https:\\\\\\\\/\\\\\\\\/smd-cms.nasa.gov\\\\\\\\/wp-content\\\\\\\\/uploads\\\\\\\\/2023\\\\\\\\/03\\\\\\\\/main-image-star-forming-region-carina-nircam-final-5mb-1-jpeg.webp?resize=1536,890 1536w, https:\\\\\\\\/\\\\\\\\/smd-cms.nasa.gov\\\\\\\\/wp-content\\\\\\\\/uploads\\\\\\\\/2023\\\\\\\\/03\\\\\\\\/main-image-star-forming-region-carina-nircam-final-5mb-1-jpeg.webp?resize=2048,1186 2048w, https:\\\\\\\\/\\\\\\\\/smd-cms.nasa.gov\\\\\\\\/wp-content\\\\\\\\/uploads\\\\\\\\/2023\\\\\\\\/03\\\\\\\\/main-image-star-forming-region-carina-nircam-final-5mb-1-jpeg.webp?resize=400,232 400w, https:\\\\\\\\/\\\\\\\\/smd-cms.nasa.gov\\\\\\\\/wp-content\\\\\\\\/uploads\\\\\\\\/2023\\\\\\\\/03\\\\\\\\/main-image-star-forming-region-carina-nircam-final-5mb-1-jpeg.webp?resize=600,348 600w, https:\\\\\\\\/\\\\\\\\/smd-cms.nasa.gov\\\\\\\\/wp-content\\\\\\\\/uploads\\\\\\\\/2023\\\\\\\\/03\\\\\\\\/main-image-star-forming-region-carina-nircam-final-5mb-1-jpeg.webp?resize=900,521 900w, https:\\\\\\\\/\\\\\\\\/smd-cms.nasa.gov\\\\\\\\/wp-content\\\\\\\\/uploads\\\\\\\\/2023\\\\\\\\/03\\\\\\\\/main-image-star-forming-region-carina-nircam-final-5mb-1-jpeg.webp?resize=1200,695 1200w, https:\\\\\\\\/\\\\\\\\/smd-cms.nasa.gov\\\\\\\\/wp-content\\\\\\\\/uploads\\\\\\\\/2023\\\\\\\\/03\\\\\\\\/main-image-star-forming-region-carina-nircam-final-5mb-1-jpeg.webp?resize=2000,1158 2000w\\\\\"},\\\\\"link\\\\\":\\\\\"https:\\\\\\\\/\\\\\\\\/science.nasa.gov\\\\\\\\/james-webb-space-telescope\\\\\\\\/\\\\\"}\",\"{\\\\\"id\\\\\":\\\\\"19584\\\\\",\\\\\"title\\\\\":\\\\\"Perseverance Rover\\\\\",\\\\\"excerpt\\\\\":\\\\\"This rover and its aerial sidekick were assigned to study the geology of Mars and seek signs of ancient microbial life, collect samples of rock and soil for their possible return to Earth, and demonstrate the technology of the Ingenuity helicopter \\\\\\\\u2013 the first aircraft to make a powered, controlled flight on another planet.\\\\\",\\\\\"featuredImage\\\\\":{\\\\\"id\\\\\":19586,\\\\\"url\\\\\":\\\\\"https:\\\\\\\\/\\\\\\\\/smd-cms.nasa.gov\\\\\\\\/wp-content\\\\\\\\/uploads\\\\\\\\/2023\\\\\\\\/03\\\\\\\\/jpegpia24836.height-1024-jpg.webp?w=640\\\\\",\\\\\"alt\\\\\":\\\\\"\\\\\",\\\\\"caption\\\\\":\\\\\"\\\\\",\\\\\"credits\\\\\":\\\\\"\\\\\",\\\\\"fit\\\\\":\\\\\"cover\\\\\",\\\\\"zoom\\\\\":0,\\\\\"focalPoint\\\\\":{\\\\\"x\\\\\":0.5,\\\\\"y\\\\\":0.5},\\\\\"parallax\\\\\":\\\\\"no\\\\\",\\\\\"detailLink\\\\\":null,\\\\\"fullyHydrated\\\\\":true,\\\\\"contentType\\\\\":\\\\\"image\\\\\",\\\\\"width\\\\\":640,\\\\\"height\\\\\":360,\\\\\"sizes\\\\\":\\\\\"(max-width: 640px) 100vw, 640px\\\\\",\\\\\"srcSet\\\\\":\\\\\"https:\\\\\\\\/\\\\\\\\/smd-cms.nasa.gov\\\\\\\\/wp-content\\\\\\\\/uploads\\\\\\\\/2023\\\\\\\\/03\\\\\\\\/jpegpia24836.height-1024-jpg.webp 1820w, https:\\\\\\\\/\\\\\\\\/smd-cms.nasa.gov\\\\\\\\/wp-content\\\\\\\\/uploads\\\\\\\\/2023\\\\\\\\/03\\\\\\\\/jpegpia24836.height-1024-jpg.webp?resize=300,169 300w, https:\\\\\\\\/\\\\\\\\/smd-cms.nasa.gov\\\\\\\\/wp-content\\\\\\\\/uploads\\\\\\\\/2023\\\\\\\\/03\\\\\\\\/jpegpia24836.height-1024-jpg.webp?resize=768,432 768w, https:\\\\\\\\/\\\\\\\\/smd-cms.nasa.gov\\\\\\\\/wp-content\\\\\\\\/uploads\\\\\\\\/2023\\\\\\\\/03\\\\\\\\/jpegpia24836.height-1024-jpg.webp?resize=1024,576 1024w, https:\\\\\\\\/\\\\\\\\/smd-cms.nasa.gov\\\\\\\\/wp-content\\\\\\\\/uploads\\\\\\\\/2023\\\\\\\\/03\\\\\\\\/jpegpia24836.height-1024-jpg.webp?resize=1536,864 1536w, https:\\\\\\\\/\\\\\\\\/smd-cms.nasa.gov\\\\\\\\/wp-content\\\\\\\\/uploads\\\\\\\\/2023\\\\\\\\/03\\\\\\\\/jpegpia24836.height-1024-jpg.webp?resize=400,225 400w, https:\\\\\\\\/\\\\\\\\/smd-cms.nasa.gov\\\\\\\\/wp-content\\\\\\\\/uploads\\\\\\\\/2023\\\\\\\\/03\\\\\\\\/jpegpia24836.height-1024-jpg.webp?resize=600,338 600w, https:\\\\\\\\/\\\\\\\\/smd-cms.nasa.gov\\\\\\\\/wp-content\\\\\\\\/uploads\\\\\\\\/2023\\\\\\\\/03\\\\\\\\/jpegpia24836.height-1024-jpg.webp?resize=900,506 900w, https:\\\\\\\\/\\\\\\\\/smd-cms.nasa.gov\\\\\\\\/wp-content\\\\\\\\/uploads\\\\\\\\/2023\\\\\\\\/03\\\\\\\\/jpegpia24836.height-1024-jpg.webp?resize=1200,675 1200w\\\\\"},\\\\\"link\\\\\":\\\\\"https:\\\\\\\\/\\\\\\\\/science.nasa.gov\\\\\\\\/perseverance-rover\\\\\\\\/\\\\\"}\",\"{\\\\\"id\\\\\":\\\\\"19592\\\\\",\\\\\"title\\\\\":\\\\\"Parker Solar Probe\\\\\",\\\\\"excerpt\\\\\":\\\\\"On a mission to \\\\\\\\u201ctouch the Sun,\\\\\\\\u201d NASA\\'s Parker Solar Probe became the first spacecraft to fly through the corona \\\\\\\\u2013 the Sun\\\\\\\\u2019s upper atmosphere \\\\\\\\u2013 in 2021. With every orbit, the probe faces brutal heat and radiation to provide humanity with unprecedented observations of the only star we can study up close.\\\\\",\\\\\"featuredImage\\\\\":{\\\\\"id\\\\\":19594,\\\\\"url\\\\\":\\\\\"https:\\\\\\\\/\\\\\\\\/smd-cms.nasa.gov\\\\\\\\/wp-content\\\\\\\\/uploads\\\\\\\\/2023\\\\\\\\/03\\\\\\\\/observingsunposter-jpg.webp?w=640\\\\\",\\\\\"alt\\\\\":\\\\\"\\\\\",\\\\\"caption\\\\\":\\\\\"\\\\\",\\\\\"credits\\\\\":\\\\\"\\\\\",\\\\\"fit\\\\\":\\\\\"cover\\\\\",\\\\\"zoom\\\\\":0,\\\\\"focalPoint\\\\\":{\\\\\"x\\\\\":0.5,\\\\\"y\\\\\":0.5},\\\\\"parallax\\\\\":\\\\\"no\\\\\",\\\\\"detailLink\\\\\":null,\\\\\"fullyHydrated\\\\\":true,\\\\\"contentType\\\\\":\\\\\"image\\\\\",\\\\\"width\\\\\":640,\\\\\"height\\\\\":640,\\\\\"sizes\\\\\":\\\\\"(max-width: 640px) 100vw, 640px\\\\\",\\\\\"srcSet\\\\\":\\\\\"https:\\\\\\\\/\\\\\\\\/smd-cms.nasa.gov\\\\\\\\/wp-content\\\\\\\\/uploads\\\\\\\\/2023\\\\\\\\/03\\\\\\\\/observingsunposter-jpg.webp 2850w, https:\\\\\\\\/\\\\\\\\/smd-cms.nasa.gov\\\\\\\\/wp-content\\\\\\\\/uploads\\\\\\\\/2023\\\\\\\\/03\\\\\\\\/observingsunposter-jpg.webp?resize=150,150 150w, https:\\\\\\\\/\\\\\\\\/smd-cms.nasa.gov\\\\\\\\/wp-content\\\\\\\\/uploads\\\\\\\\/2023\\\\\\\\/03\\\\\\\\/observingsunposter-jpg.webp?resize=300,300 300w, https:\\\\\\\\/\\\\\\\\/smd-cms.nasa.gov\\\\\\\\/wp-content\\\\\\\\/uploads\\\\\\\\/2023\\\\\\\\/03\\\\\\\\/observingsunposter-jpg.webp?resize=768,768 768w, https:\\\\\\\\/\\\\\\\\/smd-cms.nasa.gov\\\\\\\\/wp-content\\\\\\\\/uploads\\\\\\\\/2023\\\\\\\\/03\\\\\\\\/observingsunposter-jpg.webp?resize=1024,1024 1024w, https:\\\\\\\\/\\\\\\\\/smd-cms.nasa.gov\\\\\\\\/wp-content\\\\\\\\/uploads\\\\\\\\/2023\\\\\\\\/03\\\\\\\\/observingsunposter-jpg.webp?resize=1536,1536 1536w, https:\\\\\\\\/\\\\\\\\/smd-cms.nasa.gov\\\\\\\\/wp-content\\\\\\\\/uploads\\\\\\\\/2023\\\\\\\\/03\\\\\\\\/observingsunposter-jpg.webp?resize=2048,2048 2048w, https:\\\\\\\\/\\\\\\\\/smd-cms.nasa.gov\\\\\\\\/wp-content\\\\\\\\/uploads\\\\\\\\/2023\\\\\\\\/03\\\\\\\\/observingsunposter-jpg.webp?resize=50,50 50w, https:\\\\\\\\/\\\\\\\\/smd-cms.nasa.gov\\\\\\\\/wp-content\\\\\\\\/uploads\\\\\\\\/2023\\\\\\\\/03\\\\\\\\/observingsunposter-jpg.webp?resize=100,100 100w, https:\\\\\\\\/\\\\\\\\/smd-cms.nasa.gov\\\\\\\\/wp-content\\\\\\\\/uploads\\\\\\\\/2023\\\\\\\\/03\\\\\\\\/observingsunposter-jpg.webp?resize=200,200 200w, https:\\\\\\\\/\\\\\\\\/smd-cms.nasa.gov\\\\\\\\/wp-content\\\\\\\\/uploads\\\\\\\\/2023\\\\\\\\/03\\\\\\\\/observingsunposter-jpg.webp?resize=400,400 400w, https:\\\\\\\\/\\\\\\\\/smd-cms.nasa.gov\\\\\\\\/wp-content\\\\\\\\/uploads\\\\\\\\/2023\\\\\\\\/03\\\\\\\\/observingsunposter-jpg.webp?resize=600,600 600w, https:\\\\\\\\/\\\\\\\\/smd-cms.nasa.gov\\\\\\\\/wp-content\\\\\\\\/uploads\\\\\\\\/2023\\\\\\\\/03\\\\\\\\/observingsunposter-jpg.webp?resize=900,900 900w, https:\\\\\\\\/\\\\\\\\/smd-cms.nasa.gov\\\\\\\\/wp-content\\\\\\\\/uploads\\\\\\\\/2023\\\\\\\\/03\\\\\\\\/observingsunposter-jpg.webp?resize=1200,1200 1200w, https:\\\\\\\\/\\\\\\\\/smd-cms.nasa.gov\\\\\\\\/wp-content\\\\\\\\/uploads\\\\\\\\/2023\\\\\\\\/03\\\\\\\\/observingsunposter-jpg.webp?resize=2000,2000 2000w\\\\\"},\\\\\"link\\\\\":\\\\\"https:\\\\\\\\/\\\\\\\\/science.nasa.gov\\\\\\\\/parker-solar-probe\\\\\\\\/\\\\\"}\",\"{\\\\\"id\\\\\":\\\\\"19597\\\\\",\\\\\"title\\\\\":\\\\\"Juno\\\\\",\\\\\"excerpt\\\\\":\\\\\"NASA\\\\\\\\u2019s Juno spacecraft entered orbit around Jupiter in 2016, the first explorer to peer below the planet\\'s dense clouds to answer questions about the gas giant and the origins of our solar system. Now in an extended mission, NASA\\\\\\\\u2019s most-distant planetary orbiter continues to return breakthrough data and breathtaking images from the King of Planets.\\\\\",\\\\\"featuredImage\\\\\":{\\\\\"id\\\\\":19598,\\\\\"url\\\\\":\\\\\"https:\\\\\\\\/\\\\\\\\/smd-cms.nasa.gov\\\\\\\\/wp-content\\\\\\\\/uploads\\\\\\\\/2023\\\\\\\\/03\\\\\\\\/jpegpia21771.width-1600-jpg.webp?w=640\\\\\",\\\\\"alt\\\\\":\\\\\"\\\\\",\\\\\"caption\\\\\":\\\\\"\\\\\",\\\\\"credits\\\\\":\\\\\"\\\\\",\\\\\"fit\\\\\":\\\\\"cover\\\\\",\\\\\"zoom\\\\\":0,\\\\\"focalPoint\\\\\":{\\\\\"x\\\\\":0.5,\\\\\"y\\\\\":0.5},\\\\\"parallax\\\\\":\\\\\"no\\\\\",\\\\\"detailLink\\\\\":null,\\\\\"fullyHydrated\\\\\":true,\\\\\"contentType\\\\\":\\\\\"image\\\\\",\\\\\"width\\\\\":640,\\\\\"height\\\\\":828,\\\\\"sizes\\\\\":\\\\\"(max-width: 640px) 100vw, 640px\\\\\",\\\\\"srcSet\\\\\":\\\\\"https:\\\\\\\\/\\\\\\\\/smd-cms.nasa.gov\\\\\\\\/wp-content\\\\\\\\/uploads\\\\\\\\/2023\\\\\\\\/03\\\\\\\\/jpegpia21771.width-1600-jpg.webp 1600w, https:\\\\\\\\/\\\\\\\\/smd-cms.nasa.gov\\\\\\\\/wp-content\\\\\\\\/uploads\\\\\\\\/2023\\\\\\\\/03\\\\\\\\/jpegpia21771.width-1600-jpg.webp?resize=232,300 232w, https:\\\\\\\\/\\\\\\\\/smd-cms.nasa.gov\\\\\\\\/wp-content\\\\\\\\/uploads\\\\\\\\/2023\\\\\\\\/03\\\\\\\\/jpegpia21771.width-1600-jpg.webp?resize=768,994 768w, https:\\\\\\\\/\\\\\\\\/smd-cms.nasa.gov\\\\\\\\/wp-content\\\\\\\\/uploads\\\\\\\\/2023\\\\\\\\/03\\\\\\\\/jpegpia21771.width-1600-jpg.webp?resize=791,1024 791w, https:\\\\\\\\/\\\\\\\\/smd-cms.nasa.gov\\\\\\\\/wp-content\\\\\\\\/uploads\\\\\\\\/2023\\\\\\\\/03\\\\\\\\/jpegpia21771.width-1600-jpg.webp?resize=1187,1536 1187w, https:\\\\\\\\/\\\\\\\\/smd-cms.nasa.gov\\\\\\\\/wp-content\\\\\\\\/uploads\\\\\\\\/2023\\\\\\\\/03\\\\\\\\/jpegpia21771.width-1600-jpg.webp?resize=1583,2048 1583w, https:\\\\\\\\/\\\\\\\\/smd-cms.nasa.gov\\\\\\\\/wp-content\\\\\\\\/uploads\\\\\\\\/2023\\\\\\\\/03\\\\\\\\/jpegpia21771.width-1600-jpg.webp?resize=309,400 309w, https:\\\\\\\\/\\\\\\\\/smd-cms.nasa.gov\\\\\\\\/wp-content\\\\\\\\/uploads\\\\\\\\/2023\\\\\\\\/03\\\\\\\\/jpegpia21771.width-1600-jpg.webp?resize=464,600 464w, https:\\\\\\\\/\\\\\\\\/smd-cms.nasa.gov\\\\\\\\/wp-content\\\\\\\\/uploads\\\\\\\\/2023\\\\\\\\/03\\\\\\\\/jpegpia21771.width-1600-jpg.webp?resize=696,900 696w, https:\\\\\\\\/\\\\\\\\/smd-cms.nasa.gov\\\\\\\\/wp-content\\\\\\\\/uploads\\\\\\\\/2023\\\\\\\\/03\\\\\\\\/jpegpia21771.width-1600-jpg.webp?resize=928,1200 928w, https:\\\\\\\\/\\\\\\\\/smd-cms.nasa.gov\\\\\\\\/wp-content\\\\\\\\/uploads\\\\\\\\/2023\\\\\\\\/03\\\\\\\\/jpegpia21771.width-1600-jpg.webp?resize=1546,2000 1546w\\\\\"},\\\\\"link\\\\\":\\\\\"https:\\\\\\\\/\\\\\\\\/science.nasa.gov\\\\\\\\/juno\\\\\\\\/\\\\\"}\",\"Discover More Topics From NASA\",\"Keep Exploring\",\"{\\\\\"id\\\\\":\\\\\"post_type-press-release\\\\\",\\\\\"url\\\\\":\\\\\"\\\\\\\\/press-release\\\\\\\\/\\\\\",\\\\\"type\\\\\":\\\\\"NASA Archive\\\\\",\\\\\"kind\\\\\":\\\\\"post-type\\\\\"}\",\"More About the Solar System\",{\"$sicons\":1096},{\"uil:facebook-f\":1097,\"fa6-brands:instagram\":1101,\"fa6-brands:x-twitter\":1105,\"bxl:youtube\":1107},{\"left\":1098,\"top\":1098,\"width\":1099,\"height\":1099,\"rotate\":1098,\"vFlip\":36,\"hFlip\":36,\"body\":1100},0,24,\"\\\\u003Cpath fill=\\\\\"currentColor\\\\\" d=\\\\\"M15.12 5.32H17V2.14A26.11 26.11 0 0 0 14.26 2c-2.72 0-4.58 1.66-4.58 4.7v2.62H6.61v3.56h3.07V22h3.68v-9.12h3.06l.46-3.56h-3.52V7.05c0-1.05.28-1.73 1.76-1.73\\\\\"/>\",{\"left\":1098,\"top\":1098,\"width\":1102,\"height\":1103,\"rotate\":1098,\"vFlip\":36,\"hFlip\":36,\"body\":1104},448,512,\"\\\\u003Cpath fill=\\\\\"currentColor\\\\\" d=\\\\\"M224.1 141c-63.6 0-114.9 51.3-114.9 114.9s51.3 114.9 114.9 114.9S339 319.5 339 255.9S287.7 141 224.1 141m0 189.6c-41.1 0-74.7-33.5-74.7-74.7s33.5-74.7 74.7-74.7s74.7 33.5 74.7 74.7s-33.6 74.7-74.7 74.7m146.4-194.3c0 14.9-12 26.8-26.8 26.8c-14.9 0-26.8-12-26.8-26.8s12-26.8 26.8-26.8s26.8 12 26.8 26.8m76.1 27.2c-1.7-35.9-9.9-67.7-36.2-93.9c-26.2-26.2-58-34.4-93.9-36.2c-37-2.1-147.9-2.1-184.9 0c-35.8 1.7-67.6 9.9-93.9 36.1s-34.4 58-36.2 93.9c-2.1 37-2.1 147.9 0 184.9c1.7 35.9 9.9 67.7 36.2 93.9s58 34.4 93.9 36.2c37 2.1 147.9 2.1 184.9 0c35.9-1.7 67.7-9.9 93.9-36.2c26.2-26.2 34.4-58 36.2-93.9c2.1-37 2.1-147.8 0-184.8M398.8 388c-7.8 19.6-22.9 34.7-42.6 42.6c-29.5 11.7-99.5 9-132.1 9s-102.7 2.6-132.1-9c-19.6-7.8-34.7-22.9-42.6-42.6c-11.7-29.5-9-99.5-9-132.1s-2.6-102.7 9-132.1c7.8-19.6 22.9-34.7 42.6-42.6c29.5-11.7 99.5-9 132.1-9s102.7-2.6 132.1 9c19.6 7.8 34.7 22.9 42.6 42.6c11.7 29.5 9 99.5 9 132.1s2.7 102.7-9 132.1\\\\\"/>\",{\"left\":1098,\"top\":1098,\"width\":1103,\"height\":1103,\"rotate\":1098,\"vFlip\":36,\"hFlip\":36,\"body\":1106},\"\\\\u003Cpath fill=\\\\\"currentColor\\\\\" d=\\\\\"M389.2 48h70.6L305.6 224.2L487 464H345L233.7 318.6L106.5 464H35.8l164.9-188.5L26.8 48h145.6l100.5 132.9zm-24.8 373.8h39.1L151.1 88h-42z\\\\\"/>\",{\"left\":1098,\"top\":1098,\"width\":1099,\"height\":1099,\"rotate\":1098,\"vFlip\":36,\"hFlip\":36,\"body\":1108},\"\\\\u003Cpath fill=\\\\\"currentColor\\\\\" d=\\\\\"M21.593 7.203a2.506 2.506 0 0 0-1.762-1.766C18.265 5.007 12 5 12 5s-6.264-.007-7.831.404a2.56 2.56 0 0 0-1.766 1.778c-.413 1.566-.417 4.814-.417 4.814s-.004 3.264.406 4.814c.23.857.905 1.534 1.763 1.765c1.582.43 7.83.437 7.83.437s6.265.007 7.831-.403a2.515 2.515 0 0 0 1.767-1.763c.414-1.565.417-4.812.417-4.812s.02-3.265-.407-4.831M9.996 15.005l.005-6l5.207 3.005z\\\\\"/>\",{\"PHxUCVAZZu\":845,\"vYxw5jQk79\":845},{\"globalSecondaryNav\":1111,\"meta\":1112},{\"globalSecondaryNavId\":16,\"fetchedGlobalSecondaryNav\":-1},{\"fetchedMeta\":1113},{\"__typename\":18,\"id\":791,\"isContentNode\":792,\"authorId\":793,\"title\":747,\"databaseId\":794,\"template\":1114,\"postClass\":19,\"isPreview\":36,\"modifiedGmt\":798,\"date\":21,\"allBlocks\":1115,\"lockedBlocks\":1143},{\"__typename\":796,\"templateName\":797},[1116,1117,1118,1119,1120,1121,1122,1123,1124,1125,1126,1127,1128,1129,1130,1131,1132,1133,1134,1135,1136,1137,1138,1139,1140,1141,1142],{\"__typename\":801},{\"__typename\":803},{\"__typename\":805},{\"__typename\":803},{\"__typename\":803},{\"__typename\":803},{\"__typename\":805},{\"__typename\":803},{\"__typename\":803},{\"__typename\":803},{\"__typename\":803},{\"__typename\":803},{\"__typename\":805},{\"__typename\":803},{\"__typename\":803},{\"__typename\":803},{\"__typename\":803},{\"__typename\":803},{\"__typename\":803},{\"__typename\":805},{\"__typename\":803},{\"__typename\":803},{\"__typename\":803},{\"__typename\":827},{\"__typename\":829},{\"__typename\":831},{\"__typename\":833},{\"__typename\":835,\"navBlocks\":1144,\"heroBlocks\":845,\"introBlocks\":845,\"bodyBlocks\":1147,\"footerBlocks\":1300},[1145],{\"__typename\":801,\"attributes\":1146},{\"__typename\":839,\"postId\":840,\"breadcrumbs\":841,\"navLinks\":842,\"colorMode\":843,\"hdsnavColorMode\":16,\"postDetails\":844},[1148,1150,1152,1154,1156,1158,1160,1162,1164,1166,1168,1170,1172,1174,1176,1178,1180,1182,1184,1186,1188,1190,1192,1194,1299],{\"__typename\":803,\"attributes\":1149},{\"__typename\":849,\"anchor\":16,\"content\":850},{\"__typename\":805,\"attributes\":1151},{\"__typename\":853,\"anchorCore\":16,\"imageAlign\":854,\"background\":855},{\"__typename\":803,\"attributes\":1153},{\"__typename\":849,\"anchor\":16,\"content\":858},{\"__typename\":803,\"attributes\":1155},{\"__typename\":849,\"anchor\":16,\"content\":861},{\"__typename\":803,\"attributes\":1157},{\"__typename\":849,\"anchor\":16,\"content\":864},{\"__typename\":805,\"attributes\":1159},{\"__typename\":853,\"anchorCore\":16,\"imageAlign\":854,\"background\":867},{\"__typename\":803,\"attributes\":1161},{\"__typename\":849,\"anchor\":16,\"content\":870},{\"__typename\":803,\"attributes\":1163},{\"__typename\":849,\"anchor\":16,\"content\":873},{\"__typename\":803,\"attributes\":1165},{\"__typename\":849,\"anchor\":16,\"content\":876},{\"__typename\":803,\"attributes\":1167},{\"__typename\":849,\"anchor\":16,\"content\":879},{\"__typename\":803,\"attributes\":1169},{\"__typename\":849,\"anchor\":16,\"content\":882},{\"__typename\":805,\"attributes\":1171},{\"__typename\":853,\"anchorCore\":16,\"imageAlign\":854,\"background\":885},{\"__typename\":803,\"attributes\":1173},{\"__typename\":849,\"anchor\":16,\"content\":888},{\"__typename\":803,\"attributes\":1175},{\"__typename\":849,\"anchor\":16,\"content\":891},{\"__typename\":803,\"attributes\":1177},{\"__typename\":849,\"anchor\":16,\"content\":894},{\"__typename\":803,\"attributes\":1179},{\"__typename\":849,\"anchor\":16,\"content\":897},{\"__typename\":803,\"attributes\":1181},{\"__typename\":849,\"anchor\":16,\"content\":900},{\"__typename\":803,\"attributes\":1183},{\"__typename\":849,\"anchor\":16,\"content\":903},{\"__typename\":805,\"attributes\":1185},{\"__typename\":853,\"anchorCore\":16,\"imageAlign\":854,\"background\":906},{\"__typename\":803,\"attributes\":1187},{\"__typename\":849,\"anchor\":16,\"content\":909},{\"__typename\":803,\"attributes\":1189},{\"__typename\":849,\"anchor\":16,\"content\":912},{\"__typename\":803,\"attributes\":1191},{\"__typename\":849,\"anchor\":16,\"content\":915},{\"__typename\":827,\"attributes\":1193},{\"__typename\":918,\"anchor\":16,\"content\":919,\"level\":89,\"strippedContent\":919},{\"__typename\":829,\"attributes\":1195},{\"__typename\":922,\"blockAlign\":16,\"anchor\":16,\"hasFixedLayout\":36,\"tableCaption\":16,\"head\":1196,\"body\":1197,\"foot\":1298},[],[1198,1202,1206,1210,1214,1218,1222,1226,1230,1234,1238,1242,1246,1250,1254,1258,1262,1266,1270,1274,1278,1282,1286,1290,1294],{\"__typename\":926,\"cells\":1199},[1200,1201],{\"__typename\":929,\"align\":16,\"tag\":930,\"rowspan\":16,\"colspan\":16,\"content\":931},{\"__typename\":929,\"align\":16,\"tag\":930,\"rowspan\":16,\"colspan\":16,\"content\":933},{\"__typename\":926,\"cells\":1203},[1204,1205],{\"__typename\":929,\"align\":16,\"tag\":937,\"rowspan\":16,\"colspan\":16,\"content\":938},{\"__typename\":929,\"align\":16,\"tag\":937,\"rowspan\":16,\"colspan\":16,\"content\":940},{\"__typename\":926,\"cells\":1207},[1208,1209],{\"__typename\":929,\"align\":16,\"tag\":937,\"rowspan\":16,\"colspan\":16,\"content\":944},{\"__typename\":929,\"align\":16,\"tag\":937,\"rowspan\":16,\"colspan\":16,\"content\":946},{\"__typename\":926,\"cells\":1211},[1212,1213],{\"__typename\":929,\"align\":16,\"tag\":937,\"rowspan\":16,\"colspan\":16,\"content\":950},{\"__typename\":929,\"align\":16,\"tag\":937,\"rowspan\":16,\"colspan\":16,\"content\":952},{\"__typename\":926,\"cells\":1215},[1216,1217],{\"__typename\":929,\"align\":16,\"tag\":937,\"rowspan\":16,\"colspan\":16,\"content\":956},{\"__typename\":929,\"align\":16,\"tag\":937,\"rowspan\":16,\"colspan\":16,\"content\":958},{\"__typename\":926,\"cells\":1219},[1220,1221],{\"__typename\":929,\"align\":16,\"tag\":937,\"rowspan\":16,\"colspan\":16,\"content\":962},{\"__typename\":929,\"align\":16,\"tag\":937,\"rowspan\":16,\"colspan\":16,\"content\":964},{\"__typename\":926,\"cells\":1223},[1224,1225],{\"__typename\":929,\"align\":16,\"tag\":937,\"rowspan\":16,\"colspan\":16,\"content\":968},{\"__typename\":929,\"align\":16,\"tag\":937,\"rowspan\":16,\"colspan\":16,\"content\":970},{\"__typename\":926,\"cells\":1227},[1228,1229],{\"__typename\":929,\"align\":16,\"tag\":937,\"rowspan\":16,\"colspan\":16,\"content\":974},{\"__typename\":929,\"align\":16,\"tag\":937,\"rowspan\":16,\"colspan\":16,\"content\":976},{\"__typename\":926,\"cells\":1231},[1232,1233],{\"__typename\":929,\"align\":16,\"tag\":937,\"rowspan\":16,\"colspan\":16,\"content\":980},{\"__typename\":929,\"align\":16,\"tag\":937,\"rowspan\":16,\"colspan\":16,\"content\":982},{\"__typename\":926,\"cells\":1235},[1236,1237],{\"__typename\":929,\"align\":16,\"tag\":937,\"rowspan\":16,\"colspan\":16,\"content\":986},{\"__typename\":929,\"align\":16,\"tag\":937,\"rowspan\":16,\"colspan\":16,\"content\":988},{\"__typename\":926,\"cells\":1239},[1240,1241],{\"__typename\":929,\"align\":16,\"tag\":937,\"rowspan\":16,\"colspan\":16,\"content\":992},{\"__typename\":929,\"align\":16,\"tag\":937,\"rowspan\":16,\"colspan\":16,\"content\":994},{\"__typename\":926,\"cells\":1243},[1244,1245],{\"__typename\":929,\"align\":16,\"tag\":937,\"rowspan\":16,\"colspan\":16,\"content\":998},{\"__typename\":929,\"align\":16,\"tag\":937,\"rowspan\":16,\"colspan\":16,\"content\":1000},{\"__typename\":926,\"cells\":1247},[1248,1249],{\"__typename\":929,\"align\":16,\"tag\":937,\"rowspan\":16,\"colspan\":16,\"content\":1004},{\"__typename\":929,\"align\":16,\"tag\":937,\"rowspan\":16,\"colspan\":16,\"content\":1006},{\"__typename\":926,\"cells\":1251},[1252,1253],{\"__typename\":929,\"align\":16,\"tag\":937,\"rowspan\":16,\"colspan\":16,\"content\":1010},{\"__typename\":929,\"align\":16,\"tag\":937,\"rowspan\":16,\"colspan\":16,\"content\":1012},{\"__typename\":926,\"cells\":1255},[1256,1257],{\"__typename\":929,\"align\":16,\"tag\":937,\"rowspan\":16,\"colspan\":16,\"content\":1016},{\"__typename\":929,\"align\":16,\"tag\":937,\"rowspan\":16,\"colspan\":16,\"content\":1018},{\"__typename\":926,\"cells\":1259},[1260,1261],{\"__typename\":929,\"align\":16,\"tag\":937,\"rowspan\":16,\"colspan\":16,\"content\":1022},{\"__typename\":929,\"align\":16,\"tag\":937,\"rowspan\":16,\"colspan\":16,\"content\":1024},{\"__typename\":926,\"cells\":1263},[1264,1265],{\"__typename\":929,\"align\":16,\"tag\":937,\"rowspan\":16,\"colspan\":16,\"content\":1028},{\"__typename\":929,\"align\":16,\"tag\":937,\"rowspan\":16,\"colspan\":16,\"content\":1030},{\"__typename\":926,\"cells\":1267},[1268,1269],{\"__typename\":929,\"align\":16,\"tag\":937,\"rowspan\":16,\"colspan\":16,\"content\":1034},{\"__typename\":929,\"align\":16,\"tag\":937,\"rowspan\":16,\"colspan\":16,\"content\":1036},{\"__typename\":926,\"cells\":1271},[1272,1273],{\"__typename\":929,\"align\":16,\"tag\":937,\"rowspan\":16,\"colspan\":16,\"content\":1040},{\"__typename\":929,\"align\":16,\"tag\":937,\"rowspan\":16,\"colspan\":16,\"content\":1042},{\"__typename\":926,\"cells\":1275},[1276,1277],{\"__typename\":929,\"align\":16,\"tag\":937,\"rowspan\":16,\"colspan\":16,\"content\":1046},{\"__typename\":929,\"align\":16,\"tag\":937,\"rowspan\":16,\"colspan\":16,\"content\":1048},{\"__typename\":926,\"cells\":1279},[1280,1281],{\"__typename\":929,\"align\":16,\"tag\":937,\"rowspan\":16,\"colspan\":16,\"content\":1052},{\"__typename\":929,\"align\":16,\"tag\":937,\"rowspan\":16,\"colspan\":16,\"content\":1054},{\"__typename\":926,\"cells\":1283},[1284,1285],{\"__typename\":929,\"align\":16,\"tag\":937,\"rowspan\":16,\"colspan\":16,\"content\":1058},{\"__typename\":929,\"align\":16,\"tag\":937,\"rowspan\":16,\"colspan\":16,\"content\":1060},{\"__typename\":926,\"cells\":1287},[1288,1289],{\"__typename\":929,\"align\":16,\"tag\":937,\"rowspan\":16,\"colspan\":16,\"content\":1064},{\"__typename\":929,\"align\":16,\"tag\":937,\"rowspan\":16,\"colspan\":16,\"content\":1066},{\"__typename\":926,\"cells\":1291},[1292,1293],{\"__typename\":929,\"align\":16,\"tag\":937,\"rowspan\":16,\"colspan\":16,\"content\":1070},{\"__typename\":929,\"align\":16,\"tag\":937,\"rowspan\":16,\"colspan\":16,\"content\":1072},{\"__typename\":926,\"cells\":1295},[1296,1297],{\"__typename\":929,\"align\":16,\"tag\":937,\"rowspan\":16,\"colspan\":16,\"content\":1076},{\"__typename\":929,\"align\":16,\"tag\":937,\"rowspan\":16,\"colspan\":16,\"content\":1078},[],{\"__typename\":833},[1301],{\"__typename\":831,\"attributes\":1302},{\"__typename\":1084,\"align\":1085,\"anchor\":16,\"cards\":1303,\"heading\":1091,\"label\":1092,\"linkId\":1093,\"moreLink\":1094},[1087,1088,1089,1090]]</script>\\n<script>window.__NUXT__={};window.__NUXT__.config={public:{ENVIRONMENT:\"production\",SITENAME:\"nasa-smd\",SMD_WP:\"https://smd-cms.nasa.gov\",SMD_FRONTEND:\"https://science.nasa.gov\",GQL_ENDPOINT:\"/graphql\",SMD_WP_GQL:\"https://science.nasa.gov/graphql\",FRONTEND:\"https://science.nasa.gov\",BACKEND:\"https://smd-cms.nasa.gov\",NASA:\"https://www.nasa.gov\",SITELANG:\"en\",PARSELY_ID:\"science.nasa.gov\",FED_ANALYTICS_AGENCY:\"NASA\",GOOGLE_ANALYTICS_ID:\"G-3MLXXCVWWY\",FED_ANALYTICS_SUBAGENCY:\"GSFC\",gtag:{id:\"G-3MLXXCVWWY\",config:{},initialConsent:true,loadingStrategy:\"defer\"}},app:{baseURL:\"/\",buildAssetsDir:\"/_nuxt/\",cdnURL:\"\"}}</script>\\n<script>window.PARSELY = window.PARSELY || (window.PARSELY = {});PARSELY.cookieDomain = window.location.host;</script>\\n<script id=\"parsely-cfg\" src=\"//cdn.parsely.com/keys/science.nasa.gov/p.js\" async defer></script>\\n<script id=\"_fed_an_ua_tag\" src=\"https://dap.digitalgov.gov/Universal-Federated-Analytics-Min.js?agency=NASA&pua=G-3MLXXCVWWY&subagency=GSFC&yt=true&dclink=true&sp=search,s,q&sdor=false&exts=tif,tiff\" async defer></script>\\n<script>\\n// Verint Embed Script v2.01\\n;(function (g) {\\n  var d = document, am = d.createElement(\\'script\\'), h = d.head || d.getElementsByTagName(\"head\")[0], fsr = \\'fsReady\\',\\n  aex = {\\n    \"src\": \"//eex-gateway.fr011.ttecfed.com/sites/nasa-gov/production/gateway.min.js\",\\n    \"type\": \"text/javascript\",\\n    \"async\": \"true\",\\n    \"data-vendor\": \"fs\",\\n    \"data-role\": \"gateway\"\\n  };\\n  for (var attr in aex) { am.setAttribute(attr, aex[attr]); } h.appendChild(am); g[fsr] || (g[fsr] = function () { var aT = \\'__\\' + fsr + \\'_stk__\\'; g[aT] = g[aT] || []; g[aT].push(arguments); });\\n})(window);\\n</script></body>\\n</html>'"
            ],
            "application/vnd.google.colaboratory.intrinsic+json": {
              "type": "string"
            }
          },
          "metadata": {},
          "execution_count": 6
        }
      ]
    },
    {
      "cell_type": "code",
      "source": [
        "soup=BeautifulSoup(r.text,'html.parser')\n",
        "results=soup.find_all(['h1','h2','p'])"
      ],
      "metadata": {
        "id": "Ph18d0AkSNKE"
      },
      "execution_count": null,
      "outputs": []
    },
    {
      "cell_type": "code",
      "source": [
        "results"
      ],
      "metadata": {
        "colab": {
          "base_uri": "https://localhost:8080/"
        },
        "id": "34CqHIgTTH3A",
        "outputId": "58eea256-7c3c-44a5-c342-106509872a51"
      },
      "execution_count": null,
      "outputs": [
        {
          "output_type": "execute_result",
          "data": {
            "text/plain": [
              "[<h1 class=\"display-48 grid-col-12 desktop:grid-col-11 margin-y-0\">Black Holes</h1>,\n",
              " <p class=\"margin-0 padding-0\">Don't let the name fool you: a black hole is anything but empty space. Rather, it is a great amount of matter packed into a very small area - think of a star ten times more massive than the Sun squeezed into a sphere approximately the diameter of New York City. The result is a gravitational field so strong that nothing, not even light, can escape. In recent years, NASA instruments have painted a new picture of these strange objects that are, to many, the most fascinating objects in space.</p>,\n",
              " <p class=\"margin-0 padding-0\">Intense X-ray flares thought to be caused by a black hole devouring a star. (Video)</p>,\n",
              " <p class=\"margin-0 padding-0\"><a href=\"http://www.nasa.gov/mission_pages/swift/bursts/devoured-star.html\">Watch the Video</a></p>,\n",
              " <p class=\"margin-0 padding-0\"><br/>The idea of an object in space so massive and dense that light could not escape it has been around for centuries. Most famously, black holes were predicted by Einstein's theory of general relativity, which showed that when a massive star dies, it leaves behind a small, dense remnant core. If the core's mass is more than about three times the mass of the Sun, the equations showed, the force of gravity overwhelms all other forces and produces a black hole.</p>,\n",
              " <p class=\"margin-0 padding-0\">A video about black holes.</p>,\n",
              " <p class=\"margin-0 padding-0\"><a href=\"http://chandra.harvard.edu/learn_bh.html\">Watch the video</a></p>,\n",
              " <p class=\"margin-0 padding-0\"><br/>Scientists can't directly observe black holes with telescopes that detect x-rays, light, or other forms of electromagnetic radiation. We can, however, infer the presence of black holes and study them by detecting their effect on other matter nearby. If a black hole passes through a cloud of interstellar matter, for example, it will draw matter inward in a process known as accretion. A similar process can occur if a normal star passes close to a black hole. In this case, the black hole can tear the star apart as it pulls it toward itself. As the attracted matter accelerates and heats up, it emits x-rays that radiate into space. Recent discoveries offer some tantalizing evidence that black holes have a dramatic influence on the neighborhoods around them - emitting powerful gamma ray bursts, devouring nearby stars, and spurring the growth of new stars in some areas while stalling it in others.</p>,\n",
              " <p class=\"margin-0 padding-0\"><strong>One Star's End is a Black Hole's Beginning</strong></p>,\n",
              " <p class=\"margin-0 padding-0\">Most black holes form from the remnants of a large star that dies in a supernova explosion. (Smaller stars become dense neutron stars, which are not massive enough to trap light.) If the total mass of the star is large enough (about three times the mass of the Sun), it can be proven theoretically that no force can keep the star from collapsing under the influence of gravity. However, as the star collapses, a strange thing occurs. As the surface of the star nears an imaginary surface called the \"event horizon,\" time on the star slows relative to the time kept by observers far away. When the surface reaches the event horizon, time stands still, and the star can collapse no more - it is a frozen collapsing object.</p>,\n",
              " <p class=\"margin-0 padding-0\">Astronomers have identified a candidate for the smallest-known black hole. (Video)</p>,\n",
              " <p class=\"margin-0 padding-0\"><a href=\"http://www.nasa.gov/topics/universe/features/black-hole-heartbeat.html\">Watch the Video</a></p>,\n",
              " <p class=\"margin-0 padding-0\"><br/>Even bigger black holes can result from stellar collisions. Soon after its launch in December 2004, NASA's Swift telescope observed the powerful, fleeting flashes of light known as gamma ray bursts. Chandra and NASA's Hubble Space Telescope later collected data from the event's \"afterglow,\" and together the observations led astronomers to conclude that the powerful explosions can result when a black hole and a neutron star collide, producing another black hole.</p>,\n",
              " <p class=\"margin-0 padding-0\"><strong>Babies and Giants</strong></p>,\n",
              " <p class=\"margin-0 padding-0\">Although the basic formation process is understood, one perennial mystery in the science of black holes is that they appear to exist on two radically different size scales. On the one end, there are the countless black holes that are the remnants of massive stars. Peppered throughout the Universe, these \"stellar mass\" black holes are generally 10 to 24 times as massive as the Sun. Astronomers spot them when another star draws near enough for some of the matter surrounding it to be snared by the black hole's gravity, churning out x-rays in the process. Most stellar black holes, however, are very difficult to detect. Judging from the number of stars large enough to produce such black holes, however, scientists estimate that there are as many as ten million to a billion such black holes in the Milky Way alone.</p>,\n",
              " <p class=\"margin-0 padding-0\">On the other end of the size spectrum are the giants known as \"supermassive\" black holes, which are millions, if not billions, of times as massive as the Sun. Astronomers believe that supermassive black holes lie at the center of virtually all large galaxies, even our own Milky Way. Astronomers can detect them by watching for their effects on nearby stars and gas.</p>,\n",
              " <p class=\"margin-0 padding-0\">This chart shows the relative masses of super-dense cosmic objects.</p>,\n",
              " <p class=\"margin-0 padding-0\"><a href=\"http://www.nasa.gov/jpl/nustar/pia18842/#.VZpygEimAqM\">Read the full article</a></p>,\n",
              " <p class=\"margin-0 padding-0\"><br/>Historically, astronomers have long believed that no mid-sized black holes exist.  However, recent evidence from Chandra, XMM-Newton and Hubble strengthens the case that mid-size black holes do exist. One possible mechanism for the formation of supermassive black holes involves a chain reaction of collisions of stars in compact star clusters that results in the buildup of extremely massive stars, which then collapse to form intermediate-mass black holes. The star clusters then sink to the center of the galaxy, where the intermediate-mass black holes merge to form a supermassive black hole.</p>,\n",
              " <h2 class=\"heading-36 line-height-sm margin-0\">Discover More Topics From NASA</h2>,\n",
              " <p class=\"hds-topic-card-heading heading-29 color-spacesuit-white line-height-sm margin-top-0 margin-bottom-1\"><span>James Webb Space Telescope</span><svg fill=\"none\" viewbox=\"0 0 32 32\" xmlns=\"http://www.w3.org/2000/svg\"><circle class=\"color-nasa-red\" cx=\"16\" cy=\"16\" r=\"16\"></circle><path class=\"color-spacesuit-white\" d=\"M8 16.956h12.604l-3.844 4.106 1.252 1.338L24 16l-5.988-6.4-1.252 1.338 3.844 4.106H8v1.912z\"></path></svg></p>,\n",
              " <p class=\"hds-topic-card-heading heading-29 color-spacesuit-white line-height-sm margin-top-0 margin-bottom-1\"><span>Perseverance Rover</span><svg fill=\"none\" viewbox=\"0 0 32 32\" xmlns=\"http://www.w3.org/2000/svg\"><circle class=\"color-nasa-red\" cx=\"16\" cy=\"16\" r=\"16\"></circle><path class=\"color-spacesuit-white\" d=\"M8 16.956h12.604l-3.844 4.106 1.252 1.338L24 16l-5.988-6.4-1.252 1.338 3.844 4.106H8v1.912z\"></path></svg></p>,\n",
              " <p class=\"hds-topic-card-heading heading-29 color-spacesuit-white line-height-sm margin-top-0 margin-bottom-1\"><span>Parker Solar Probe</span><svg fill=\"none\" viewbox=\"0 0 32 32\" xmlns=\"http://www.w3.org/2000/svg\"><circle class=\"color-nasa-red\" cx=\"16\" cy=\"16\" r=\"16\"></circle><path class=\"color-spacesuit-white\" d=\"M8 16.956h12.604l-3.844 4.106 1.252 1.338L24 16l-5.988-6.4-1.252 1.338 3.844 4.106H8v1.912z\"></path></svg></p>,\n",
              " <p class=\"hds-topic-card-heading heading-29 color-spacesuit-white line-height-sm margin-top-0 margin-bottom-1\"><span>Juno</span><svg fill=\"none\" viewbox=\"0 0 32 32\" xmlns=\"http://www.w3.org/2000/svg\"><circle class=\"color-nasa-red\" cx=\"16\" cy=\"16\" r=\"16\"></circle><path class=\"color-spacesuit-white\" d=\"M8 16.956h12.604l-3.844 4.106 1.252 1.338L24 16l-5.988-6.4-1.252 1.338 3.844 4.106H8v1.912z\"></path></svg></p>,\n",
              " <p class=\"p-sm color-carbon-30\" data-v-13800a90=\"\">NASA explores the unknown in air and space, innovates for the benefit of humanity, and inspires the world through discovery.</p>]"
            ]
          },
          "metadata": {},
          "execution_count": 8
        }
      ]
    },
    {
      "cell_type": "code",
      "source": [
        "text=[result.text for result in results]\n",
        "article=''.join(text)"
      ],
      "metadata": {
        "id": "dtZ6oAgHTJKe"
      },
      "execution_count": null,
      "outputs": []
    },
    {
      "cell_type": "code",
      "source": [
        "article"
      ],
      "metadata": {
        "colab": {
          "base_uri": "https://localhost:8080/",
          "height": 209
        },
        "id": "1Zpr5elYWN0b",
        "outputId": "25838853-f224-46f5-cab2-adf9a56691f5"
      },
      "execution_count": null,
      "outputs": [
        {
          "output_type": "execute_result",
          "data": {
            "text/plain": [
              "'Black HolesDon\\'t let the name fool you: a black hole is anything but empty space. Rather, it is a great amount of matter packed into a very small area - think of a star ten times more massive than the Sun squeezed into a sphere approximately the diameter of New York City. The result is a gravitational field so strong that nothing, not even light, can escape. In recent years, NASA instruments have painted a new picture of these strange objects that are, to many, the most fascinating objects in space.Intense X-ray flares thought to be caused by a black hole devouring a star. (Video)Watch the VideoThe idea of an object in space so massive and dense that light could not escape it has been around for centuries. Most famously, black holes were predicted by Einstein\\'s theory of general relativity, which showed that when a massive star dies, it leaves behind a small, dense remnant core. If the core\\'s mass is more than about three times the mass of the Sun, the equations showed, the force of gravity overwhelms all other forces and produces a black hole.A video about black holes.Watch the videoScientists can\\'t directly observe black holes with telescopes that detect x-rays, light, or other forms of electromagnetic radiation. We can, however, infer the presence of black holes and study them by detecting their effect on other matter nearby. If a black hole passes through a cloud of interstellar matter, for example, it will draw matter inward in a process known as accretion. A similar process can occur if a normal star passes close to a black hole. In this case, the black hole can tear the star apart as it pulls it toward itself. As the attracted matter accelerates and heats up, it emits x-rays that radiate into space. Recent discoveries offer some tantalizing evidence that black holes have a dramatic influence on the neighborhoods around them - emitting powerful gamma ray bursts, devouring nearby stars, and spurring the growth of new stars in some areas while stalling it in others.One Star\\'s End is a Black Hole\\'s BeginningMost black holes form from the remnants of a large star that dies in a supernova explosion. (Smaller stars become dense neutron stars, which are not massive enough to trap light.) If the total mass of the star is large enough (about three times the mass of the Sun), it can be proven theoretically that no force can keep the star from collapsing under the influence of gravity. However, as the star collapses, a strange thing occurs. As the surface of the star nears an imaginary surface called the \"event horizon,\" time on the star slows relative to the time kept by observers far away. When the surface reaches the event horizon, time stands still, and the star can collapse no more - it is a frozen collapsing object.Astronomers have identified a candidate for the smallest-known black hole. (Video)Watch the VideoEven bigger black holes can result from stellar collisions. Soon after its launch in December 2004, NASA\\'s Swift telescope observed the powerful, fleeting flashes of light known as gamma ray bursts. Chandra and NASA\\'s Hubble Space Telescope later collected data from the event\\'s \"afterglow,\" and together the observations led astronomers to conclude that the powerful explosions can result when a black hole and a neutron star collide, producing another black hole.Babies and GiantsAlthough the basic formation process is understood, one perennial mystery in the science of black holes is that they appear to exist on two radically different size scales. On the one end, there are the countless black holes that are the remnants of massive stars. Peppered throughout the Universe, these \"stellar mass\" black holes are generally 10 to 24 times as massive as the Sun. Astronomers spot them when another star draws near enough for some of the matter surrounding it to be snared by the black hole\\'s gravity, churning out x-rays in the process. Most stellar black holes, however, are very difficult to detect. Judging from the number of stars large enough to produce such black holes, however, scientists estimate that there are as many as ten million to a billion such black holes in the Milky Way alone.On the other end of the size spectrum are the giants known as \"supermassive\" black holes, which are millions, if not billions, of times as massive as the Sun. Astronomers believe that supermassive black holes lie at the center of virtually all large galaxies, even our own Milky Way. Astronomers can detect them by watching for their effects on nearby stars and gas.This chart shows the relative masses of super-dense cosmic objects.Read the full articleHistorically, astronomers have long believed that no mid-sized black holes exist.  However, recent evidence from Chandra, XMM-Newton and Hubble strengthens the case that mid-size black holes do exist. One possible mechanism for the formation of supermassive black holes involves a chain reaction of collisions of stars in compact star clusters that results in the buildup of extremely massive stars, which then collapse to form intermediate-mass black holes. The star clusters then sink to the center of the galaxy, where the intermediate-mass black holes merge to form a supermassive black hole.Discover More Topics From NASAJames Webb Space TelescopePerseverance RoverParker Solar ProbeJunoNASA explores the unknown in air and space, innovates for the benefit of humanity, and inspires the world through discovery.'"
            ],
            "application/vnd.google.colaboratory.intrinsic+json": {
              "type": "string"
            }
          },
          "metadata": {},
          "execution_count": 10
        }
      ]
    },
    {
      "cell_type": "markdown",
      "source": [
        "## 3. Chunk Text"
      ],
      "metadata": {
        "id": "t_8y84F2XWqL"
      }
    },
    {
      "cell_type": "code",
      "source": [
        "article=article.replace('.','.<eos>')\n",
        "article=article.replace('!','!<eos>')\n",
        "article=article.replace('?','?<eos>')\n",
        "sentences=article.split('<eos>')"
      ],
      "metadata": {
        "id": "VALf3cwBWZll"
      },
      "execution_count": null,
      "outputs": []
    },
    {
      "cell_type": "code",
      "source": [
        "sentences[3]"
      ],
      "metadata": {
        "colab": {
          "base_uri": "https://localhost:8080/",
          "height": 53
        },
        "id": "vDNRMi32XtPZ",
        "outputId": "d8d63955-a73b-4659-f7b1-7efc992c2c7e"
      },
      "execution_count": null,
      "outputs": [
        {
          "output_type": "execute_result",
          "data": {
            "text/plain": [
              "' In recent years, NASA instruments have painted a new picture of these strange objects that are, to many, the most fascinating objects in space.'"
            ],
            "application/vnd.google.colaboratory.intrinsic+json": {
              "type": "string"
            }
          },
          "metadata": {},
          "execution_count": 12
        }
      ]
    },
    {
      "cell_type": "code",
      "source": [
        "max_chunk=300\n",
        "current_chunk=0\n",
        "chunks=[]\n",
        "\n",
        "for sentence in sentences:\n",
        "  if len(chunks)==current_chunk+1:\n",
        "    if len(chunks[current_chunk])+len(sentence.split(' '))<=max_chunk:\n",
        "      chunks[current_chunk].extend(sentence.split(' '))\n",
        "    else:\n",
        "      current_chunk +=1\n",
        "      chunks.append(sentence.split(' '))\n",
        "  else:\n",
        "    print(current_chunk)\n",
        "    chunks.append(sentence.split(' '))\n",
        "\n"
      ],
      "metadata": {
        "colab": {
          "base_uri": "https://localhost:8080/"
        },
        "id": "UJwBQMlyX-Bp",
        "outputId": "6b91a189-8797-4f6a-8ce3-ee822b7ee756"
      },
      "execution_count": null,
      "outputs": [
        {
          "output_type": "stream",
          "name": "stdout",
          "text": [
            "0\n"
          ]
        }
      ]
    },
    {
      "cell_type": "code",
      "source": [
        "chunks[0]"
      ],
      "metadata": {
        "colab": {
          "base_uri": "https://localhost:8080/"
        },
        "id": "ab5CNmeIk3W8",
        "outputId": "0efddc92-c7fa-49b9-e473-40f9248dbc3b"
      },
      "execution_count": null,
      "outputs": [
        {
          "output_type": "execute_result",
          "data": {
            "text/plain": [
              "['Black',\n",
              " \"HolesDon't\",\n",
              " 'let',\n",
              " 'the',\n",
              " 'name',\n",
              " 'fool',\n",
              " 'you:',\n",
              " 'a',\n",
              " 'black',\n",
              " 'hole',\n",
              " 'is',\n",
              " 'anything',\n",
              " 'but',\n",
              " 'empty',\n",
              " 'space.',\n",
              " '',\n",
              " 'Rather,',\n",
              " 'it',\n",
              " 'is',\n",
              " 'a',\n",
              " 'great',\n",
              " 'amount',\n",
              " 'of',\n",
              " 'matter',\n",
              " 'packed',\n",
              " 'into',\n",
              " 'a',\n",
              " 'very',\n",
              " 'small',\n",
              " 'area',\n",
              " '-',\n",
              " 'think',\n",
              " 'of',\n",
              " 'a',\n",
              " 'star',\n",
              " 'ten',\n",
              " 'times',\n",
              " 'more',\n",
              " 'massive',\n",
              " 'than',\n",
              " 'the',\n",
              " 'Sun',\n",
              " 'squeezed',\n",
              " 'into',\n",
              " 'a',\n",
              " 'sphere',\n",
              " 'approximately',\n",
              " 'the',\n",
              " 'diameter',\n",
              " 'of',\n",
              " 'New',\n",
              " 'York',\n",
              " 'City.',\n",
              " '',\n",
              " 'The',\n",
              " 'result',\n",
              " 'is',\n",
              " 'a',\n",
              " 'gravitational',\n",
              " 'field',\n",
              " 'so',\n",
              " 'strong',\n",
              " 'that',\n",
              " 'nothing,',\n",
              " 'not',\n",
              " 'even',\n",
              " 'light,',\n",
              " 'can',\n",
              " 'escape.',\n",
              " '',\n",
              " 'In',\n",
              " 'recent',\n",
              " 'years,',\n",
              " 'NASA',\n",
              " 'instruments',\n",
              " 'have',\n",
              " 'painted',\n",
              " 'a',\n",
              " 'new',\n",
              " 'picture',\n",
              " 'of',\n",
              " 'these',\n",
              " 'strange',\n",
              " 'objects',\n",
              " 'that',\n",
              " 'are,',\n",
              " 'to',\n",
              " 'many,',\n",
              " 'the',\n",
              " 'most',\n",
              " 'fascinating',\n",
              " 'objects',\n",
              " 'in',\n",
              " 'space.',\n",
              " 'Intense',\n",
              " 'X-ray',\n",
              " 'flares',\n",
              " 'thought',\n",
              " 'to',\n",
              " 'be',\n",
              " 'caused',\n",
              " 'by',\n",
              " 'a',\n",
              " 'black',\n",
              " 'hole',\n",
              " 'devouring',\n",
              " 'a',\n",
              " 'star.',\n",
              " '',\n",
              " '(Video)Watch',\n",
              " 'the',\n",
              " 'VideoThe',\n",
              " 'idea',\n",
              " 'of',\n",
              " 'an',\n",
              " 'object',\n",
              " 'in',\n",
              " 'space',\n",
              " 'so',\n",
              " 'massive',\n",
              " 'and',\n",
              " 'dense',\n",
              " 'that',\n",
              " 'light',\n",
              " 'could',\n",
              " 'not',\n",
              " 'escape',\n",
              " 'it',\n",
              " 'has',\n",
              " 'been',\n",
              " 'around',\n",
              " 'for',\n",
              " 'centuries.',\n",
              " '',\n",
              " 'Most',\n",
              " 'famously,',\n",
              " 'black',\n",
              " 'holes',\n",
              " 'were',\n",
              " 'predicted',\n",
              " 'by',\n",
              " \"Einstein's\",\n",
              " 'theory',\n",
              " 'of',\n",
              " 'general',\n",
              " 'relativity,',\n",
              " 'which',\n",
              " 'showed',\n",
              " 'that',\n",
              " 'when',\n",
              " 'a',\n",
              " 'massive',\n",
              " 'star',\n",
              " 'dies,',\n",
              " 'it',\n",
              " 'leaves',\n",
              " 'behind',\n",
              " 'a',\n",
              " 'small,',\n",
              " 'dense',\n",
              " 'remnant',\n",
              " 'core.',\n",
              " '',\n",
              " 'If',\n",
              " 'the',\n",
              " \"core's\",\n",
              " 'mass',\n",
              " 'is',\n",
              " 'more',\n",
              " 'than',\n",
              " 'about',\n",
              " 'three',\n",
              " 'times',\n",
              " 'the',\n",
              " 'mass',\n",
              " 'of',\n",
              " 'the',\n",
              " 'Sun,',\n",
              " 'the',\n",
              " 'equations',\n",
              " 'showed,',\n",
              " 'the',\n",
              " 'force',\n",
              " 'of',\n",
              " 'gravity',\n",
              " 'overwhelms',\n",
              " 'all',\n",
              " 'other',\n",
              " 'forces',\n",
              " 'and',\n",
              " 'produces',\n",
              " 'a',\n",
              " 'black',\n",
              " 'hole.',\n",
              " 'A',\n",
              " 'video',\n",
              " 'about',\n",
              " 'black',\n",
              " 'holes.',\n",
              " 'Watch',\n",
              " 'the',\n",
              " 'videoScientists',\n",
              " \"can't\",\n",
              " 'directly',\n",
              " 'observe',\n",
              " 'black',\n",
              " 'holes',\n",
              " 'with',\n",
              " 'telescopes',\n",
              " 'that',\n",
              " 'detect',\n",
              " 'x-rays,',\n",
              " 'light,',\n",
              " 'or',\n",
              " 'other',\n",
              " 'forms',\n",
              " 'of',\n",
              " 'electromagnetic',\n",
              " 'radiation.',\n",
              " '',\n",
              " 'We',\n",
              " 'can,',\n",
              " 'however,',\n",
              " 'infer',\n",
              " 'the',\n",
              " 'presence',\n",
              " 'of',\n",
              " 'black',\n",
              " 'holes',\n",
              " 'and',\n",
              " 'study',\n",
              " 'them',\n",
              " 'by',\n",
              " 'detecting',\n",
              " 'their',\n",
              " 'effect',\n",
              " 'on',\n",
              " 'other',\n",
              " 'matter',\n",
              " 'nearby.',\n",
              " '',\n",
              " 'If',\n",
              " 'a',\n",
              " 'black',\n",
              " 'hole',\n",
              " 'passes',\n",
              " 'through',\n",
              " 'a',\n",
              " 'cloud',\n",
              " 'of',\n",
              " 'interstellar',\n",
              " 'matter,',\n",
              " 'for',\n",
              " 'example,',\n",
              " 'it',\n",
              " 'will',\n",
              " 'draw',\n",
              " 'matter',\n",
              " 'inward',\n",
              " 'in',\n",
              " 'a',\n",
              " 'process',\n",
              " 'known',\n",
              " 'as',\n",
              " 'accretion.',\n",
              " '',\n",
              " 'A',\n",
              " 'similar',\n",
              " 'process',\n",
              " 'can',\n",
              " 'occur',\n",
              " 'if',\n",
              " 'a',\n",
              " 'normal',\n",
              " 'star',\n",
              " 'passes',\n",
              " 'close',\n",
              " 'to',\n",
              " 'a',\n",
              " 'black',\n",
              " 'hole.',\n",
              " '',\n",
              " 'In',\n",
              " 'this',\n",
              " 'case,',\n",
              " 'the',\n",
              " 'black',\n",
              " 'hole',\n",
              " 'can',\n",
              " 'tear',\n",
              " 'the',\n",
              " 'star',\n",
              " 'apart',\n",
              " 'as',\n",
              " 'it',\n",
              " 'pulls',\n",
              " 'it',\n",
              " 'toward',\n",
              " 'itself.']"
            ]
          },
          "metadata": {},
          "execution_count": 21
        }
      ]
    },
    {
      "cell_type": "code",
      "source": [
        "for chunk_id in range(len(chunks)):\n",
        "  chunks[chunk_id]=' '.join(chunks[chunk_id])"
      ],
      "metadata": {
        "id": "XUXHilFZlnwI"
      },
      "execution_count": null,
      "outputs": []
    },
    {
      "cell_type": "code",
      "source": [
        "chunks[3]"
      ],
      "metadata": {
        "colab": {
          "base_uri": "https://localhost:8080/",
          "height": 87
        },
        "id": "V2jJCuUamLM0",
        "outputId": "694dc74d-6b91-4e63-c5ed-02a03bdb85da"
      },
      "execution_count": null,
      "outputs": [
        {
          "output_type": "execute_result",
          "data": {
            "text/plain": [
              "' The star clusters then sink to the center of the galaxy, where the intermediate-mass black holes merge to form a supermassive black hole. Discover More Topics From NASAJames Webb Space TelescopePerseverance RoverParker Solar ProbeJunoNASA explores the unknown in air and space, innovates for the benefit of humanity, and inspires the world through discovery. '"
            ],
            "application/vnd.google.colaboratory.intrinsic+json": {
              "type": "string"
            }
          },
          "metadata": {},
          "execution_count": 24
        }
      ]
    },
    {
      "cell_type": "code",
      "source": [
        "len(chunks[1].split(' '))"
      ],
      "metadata": {
        "colab": {
          "base_uri": "https://localhost:8080/"
        },
        "id": "NBpurZihmPlS",
        "outputId": "cd4cb3a1-6e53-4317-b1a4-0b24018f8dc1"
      },
      "execution_count": null,
      "outputs": [
        {
          "output_type": "execute_result",
          "data": {
            "text/plain": [
              "286"
            ]
          },
          "metadata": {},
          "execution_count": 25
        }
      ]
    },
    {
      "cell_type": "markdown",
      "source": [
        "## 4.Summarize the text"
      ],
      "metadata": {
        "id": "JU9-Z-CEnI5L"
      }
    },
    {
      "cell_type": "code",
      "source": [
        "res=summurizer(chunks,  do_sample=False)"
      ],
      "metadata": {
        "colab": {
          "base_uri": "https://localhost:8080/"
        },
        "id": "rkGWHMTdmzJg",
        "outputId": "b09ab4f1-2fec-4a01-d7e3-dc3a84e16d32"
      },
      "execution_count": null,
      "outputs": [
        {
          "output_type": "stream",
          "name": "stderr",
          "text": [
            "Your max_length is set to 142, but your input_length is only 75. Since this is a summarization task, where outputs shorter than the input are typically wanted, you might consider decreasing max_length manually, e.g. summarizer('...', max_length=37)\n"
          ]
        }
      ]
    },
    {
      "cell_type": "code",
      "source": [
        "res"
      ],
      "metadata": {
        "colab": {
          "base_uri": "https://localhost:8080/"
        },
        "id": "_LXtXr4MnnKT",
        "outputId": "b3ddfa2f-7e5c-4344-b255-63e729c7d185"
      },
      "execution_count": null,
      "outputs": [
        {
          "output_type": "execute_result",
          "data": {
            "text/plain": [
              "[{'summary_text': ' A black hole is a great amount of matter packed into a very small area - think of a star ten times more massive than the Sun squeezed into a sphere approximately the diameter of New York City . The result is a gravitational field so strong that nothing, not even light, can escape . In recent years, NASA instruments have painted a new picture of these strange objects .'},\n",
              " {'summary_text': ' Most black holes form from the remnants of a large star that dies in a supernova explosion . As the surface of the star nears an imaginary surface called the \"event horizon,\" time on the star slows relative to the time kept by observers . When the surface reaches the event horizon, time stands still, and the star can collapse no more .'},\n",
              " {'summary_text': \" Astronomers spot black holes when another star draws near enough for some of the matter surrounding it to be snared by the black hole's gravity, churning out x-rays in the process . Most stellar black holes, however, are very difficult to detect . One possible mechanism for the formation of supermassive black holes involves a chain reaction of collisions of stars in compact star clusters .\"},\n",
              " {'summary_text': ' Star clusters sink to the center of the galaxy, where the intermediate-mass black holes merge to form a supermassive black hole . The star clusters then sink into the center, where they merge into a super massive black hole in the galaxy . NASA explores the unknown in air and space, innovates for the benefit of humanity .'}]"
            ]
          },
          "metadata": {},
          "execution_count": 28
        }
      ]
    },
    {
      "cell_type": "code",
      "source": [
        "' '.join([summ['summary_text'] for summ in res])"
      ],
      "metadata": {
        "colab": {
          "base_uri": "https://localhost:8080/",
          "height": 209
        },
        "id": "qus5QNdroH6p",
        "outputId": "b05a5953-ed12-4461-b9fc-d37b1eed27e5"
      },
      "execution_count": null,
      "outputs": [
        {
          "output_type": "execute_result",
          "data": {
            "text/plain": [
              "' A black hole is a great amount of matter packed into a very small area - think of a star ten times more massive than the Sun squeezed into a sphere approximately the diameter of New York City . The result is a gravitational field so strong that nothing, not even light, can escape . In recent years, NASA instruments have painted a new picture of these strange objects .  Most black holes form from the remnants of a large star that dies in a supernova explosion . As the surface of the star nears an imaginary surface called the \"event horizon,\" time on the star slows relative to the time kept by observers . When the surface reaches the event horizon, time stands still, and the star can collapse no more .  Astronomers spot black holes when another star draws near enough for some of the matter surrounding it to be snared by the black hole\\'s gravity, churning out x-rays in the process . Most stellar black holes, however, are very difficult to detect . One possible mechanism for the formation of supermassive black holes involves a chain reaction of collisions of stars in compact star clusters .  Star clusters sink to the center of the galaxy, where the intermediate-mass black holes merge to form a supermassive black hole . The star clusters then sink into the center, where they merge into a super massive black hole in the galaxy . NASA explores the unknown in air and space, innovates for the benefit of humanity .'"
            ],
            "application/vnd.google.colaboratory.intrinsic+json": {
              "type": "string"
            }
          },
          "metadata": {},
          "execution_count": 29
        }
      ]
    },
    {
      "cell_type": "markdown",
      "source": [
        "## 5.ouput to text file"
      ],
      "metadata": {
        "id": "dg9mmBaxpESL"
      }
    },
    {
      "cell_type": "code",
      "source": [
        "text=' '.join([summ['summary_text'] for summ in res])"
      ],
      "metadata": {
        "id": "e2Ych4YbosTg"
      },
      "execution_count": null,
      "outputs": []
    },
    {
      "cell_type": "code",
      "source": [
        "with open('blogsummary.txt','w') as f:\n",
        "  f.write(text)"
      ],
      "metadata": {
        "id": "SHVdQ3b-piIE"
      },
      "execution_count": null,
      "outputs": []
    },
    {
      "cell_type": "code",
      "source": [],
      "metadata": {
        "id": "6uTk2H1Kp1WQ"
      },
      "execution_count": null,
      "outputs": []
    }
  ]
}